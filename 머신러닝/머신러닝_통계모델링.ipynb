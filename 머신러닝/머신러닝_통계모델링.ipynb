{
 "cells": [
  {
   "cell_type": "code",
   "execution_count": 1,
   "source": [
    "import numpy as np\r\n",
    "from scipy import stats # numpy에 최빈값 함수가 없어 mode함수를 이용해 최빈값 구함\r\n",
    "\r\n",
    "np.random.seed(0)\r\n",
    "\r\n",
    "data = np.random.randint(0, 100, 10000)\r\n",
    "\r\n",
    "mean = np.mean(data); print(f'평균값 : {mean.round(2)}')\r\n",
    "median = np.median(data); print(f'중앙값 : {median}')\r\n",
    "mode = stats.mode(data); print(f'최빈값 : {mode.mode[0]}, {mode.count[0]}')\r\n",
    "# modeResult 타입은 mode와 count로 구성되어있음, "
   ],
   "outputs": [
    {
     "output_type": "stream",
     "name": "stdout",
     "text": [
      "평균값 : 49.17\n",
      "중앙값 : 49.0\n",
      "최빈값 : 3, 125\n"
     ]
    }
   ],
   "metadata": {}
  },
  {
   "cell_type": "code",
   "execution_count": 2,
   "source": [
    "mode"
   ],
   "outputs": [
    {
     "output_type": "execute_result",
     "data": {
      "text/plain": [
       "ModeResult(mode=array([3]), count=array([125]))"
      ]
     },
     "metadata": {},
     "execution_count": 2
    }
   ],
   "metadata": {}
  },
  {
   "cell_type": "code",
   "execution_count": 3,
   "source": [
    "import numpy as np\r\n",
    "from statistics import variance, stdev  # variance : 분산, stdev : 표준편차\r\n",
    "\r\n",
    "np.random.seed(0)\r\n",
    "\r\n",
    "points = np.random.randint(0, 100, 20)\r\n",
    "\r\n",
    "var = variance(points);\r\n",
    "print(f'분산 : {var}')\r\n",
    "std = stdev(points)\r\n",
    "print(f'표준편차 : {np.round(std, 2)}')\r\n",
    "range = np.max(points) - np.min(points)\r\n",
    "print(f'범위 : {range}')\r\n",
    "\r\n",
    "print('사분위수 :')\r\n",
    "\r\n",
    "for val in [0, 25, 50, 75, 100]:\r\n",
    "    quantile = np.percentile(points, val)\r\n",
    "    print(f\"{val}% => {quantile}\")\r\n",
    "\r\n",
    "q1, q3 = np.percentile(points, [25, 75])\r\n",
    "print(f\"IQR : {q3 - q1}\")\r\n"
   ],
   "outputs": [
    {
     "output_type": "stream",
     "name": "stdout",
     "text": [
      "분산 : 662\n",
      "표준편차 : 25.73\n",
      "범위 : 79\n",
      "사분위수 :\n",
      "0% => 9.0\n",
      "25% => 42.75\n",
      "50% => 64.5\n",
      "75% => 84.0\n",
      "100% => 88.0\n",
      "IQR : 41.25\n"
     ]
    }
   ],
   "metadata": {}
  },
  {
   "cell_type": "code",
   "execution_count": 4,
   "source": [
    "import numpy as np\r\n",
    "from scipy import stats # numpy에 최빈값 함수가 없어 mode함수를 이용해 최빈값 구함\r\n",
    "\r\n",
    "x_bar , mu , sigma , n = 196, 200, 5.3, 20\r\n",
    "\r\n",
    "t_sample = (x_bar - mu) / (sigma / np.sqrt(float(n)))\r\n",
    "print(f'검정통계량 : {np.round(t_sample, 2)}')\r\n",
    "\r\n",
    "alpha = 0.05\r\n",
    "t_alpha = stats.t.ppf(alpha, n-1)\r\n",
    "print(f't-table로부터의 임계값: {np.round(t_alpha, 3)}')\r\n",
    "\r\n",
    "p_val = stats.t.sf(np.abs(t_sample), n-1)\r\n",
    "print(f\"t-table의 아래쪽 꼬리 p 값: {np.round(p_val, 4)}\")"
   ],
   "outputs": [
    {
     "output_type": "stream",
     "name": "stdout",
     "text": [
      "검정통계량 : -3.38\n",
      "t-table로부터의 임계값: -1.729\n",
      "t-table의 아래쪽 꼬리 p 값: 0.0016\n"
     ]
    }
   ],
   "metadata": {}
  },
  {
   "cell_type": "code",
   "execution_count": 5,
   "source": [
    "import numpy as np\r\n",
    "from scipy import stats\r\n",
    "\r\n",
    "x, mu, s = 75, 56, 13.6\r\n",
    "\r\n",
    "z = (x - mu) / s\r\n",
    "print(f\"z-score:{np.round(z,2)}\")\r\n",
    "\r\n",
    "p_val = 1- stats.norm.cdf(z)\r\n",
    "print(f'학생이{x}점 이상 받을 확률: {np.round(p_val*100, 2)}%')"
   ],
   "outputs": [
    {
     "output_type": "stream",
     "name": "stdout",
     "text": [
      "z-score:1.4\n",
      "학생이75점 이상 받을 확률: 8.12%\n"
     ]
    }
   ],
   "metadata": {}
  },
  {
   "cell_type": "code",
   "execution_count": 9,
   "source": [
    "import numpy as np\r\n",
    "import pandas as pd\r\n",
    "from scipy import stats\r\n",
    "\r\n",
    "np.random.seed(0)\r\n",
    "\r\n",
    "smoke = ['안함', '가끔', '매일', '심함']\r\n",
    "exercise = ['안함', '가끔', '매일']\r\n",
    "\r\n",
    "data = {\"smoke\" : np.random.choice(smoke, size= 500),\r\n",
    "        \"exercise\" : np.random.choice(exercise, size=500)}\r\n",
    "\r\n",
    "df = pd.DataFrame(data)\r\n",
    "df.head()"
   ],
   "outputs": [
    {
     "output_type": "execute_result",
     "data": {
      "text/html": [
       "<div>\n",
       "<style scoped>\n",
       "    .dataframe tbody tr th:only-of-type {\n",
       "        vertical-align: middle;\n",
       "    }\n",
       "\n",
       "    .dataframe tbody tr th {\n",
       "        vertical-align: top;\n",
       "    }\n",
       "\n",
       "    .dataframe thead th {\n",
       "        text-align: right;\n",
       "    }\n",
       "</style>\n",
       "<table border=\"1\" class=\"dataframe\">\n",
       "  <thead>\n",
       "    <tr style=\"text-align: right;\">\n",
       "      <th></th>\n",
       "      <th>smoke</th>\n",
       "      <th>exercise</th>\n",
       "    </tr>\n",
       "  </thead>\n",
       "  <tbody>\n",
       "    <tr>\n",
       "      <th>0</th>\n",
       "      <td>안함</td>\n",
       "      <td>안함</td>\n",
       "    </tr>\n",
       "    <tr>\n",
       "      <th>1</th>\n",
       "      <td>심함</td>\n",
       "      <td>안함</td>\n",
       "    </tr>\n",
       "    <tr>\n",
       "      <th>2</th>\n",
       "      <td>가끔</td>\n",
       "      <td>매일</td>\n",
       "    </tr>\n",
       "    <tr>\n",
       "      <th>3</th>\n",
       "      <td>안함</td>\n",
       "      <td>가끔</td>\n",
       "    </tr>\n",
       "    <tr>\n",
       "      <th>4</th>\n",
       "      <td>심함</td>\n",
       "      <td>가끔</td>\n",
       "    </tr>\n",
       "  </tbody>\n",
       "</table>\n",
       "</div>"
      ],
      "text/plain": [
       "  smoke exercise\n",
       "0    안함       안함\n",
       "1    심함       안함\n",
       "2    가끔       매일\n",
       "3    안함       가끔\n",
       "4    심함       가끔"
      ]
     },
     "metadata": {},
     "execution_count": 9
    }
   ],
   "metadata": {}
  },
  {
   "cell_type": "code",
   "execution_count": 10,
   "source": [
    "xtab = pd.crosstab(df.smoke, df.exercise)\r\n",
    "xtab"
   ],
   "outputs": [
    {
     "output_type": "execute_result",
     "data": {
      "text/html": [
       "<div>\n",
       "<style scoped>\n",
       "    .dataframe tbody tr th:only-of-type {\n",
       "        vertical-align: middle;\n",
       "    }\n",
       "\n",
       "    .dataframe tbody tr th {\n",
       "        vertical-align: top;\n",
       "    }\n",
       "\n",
       "    .dataframe thead th {\n",
       "        text-align: right;\n",
       "    }\n",
       "</style>\n",
       "<table border=\"1\" class=\"dataframe\">\n",
       "  <thead>\n",
       "    <tr style=\"text-align: right;\">\n",
       "      <th>exercise</th>\n",
       "      <th>가끔</th>\n",
       "      <th>매일</th>\n",
       "      <th>안함</th>\n",
       "    </tr>\n",
       "    <tr>\n",
       "      <th>smoke</th>\n",
       "      <th></th>\n",
       "      <th></th>\n",
       "      <th></th>\n",
       "    </tr>\n",
       "  </thead>\n",
       "  <tbody>\n",
       "    <tr>\n",
       "      <th>가끔</th>\n",
       "      <td>38</td>\n",
       "      <td>39</td>\n",
       "      <td>45</td>\n",
       "    </tr>\n",
       "    <tr>\n",
       "      <th>매일</th>\n",
       "      <td>34</td>\n",
       "      <td>44</td>\n",
       "      <td>33</td>\n",
       "    </tr>\n",
       "    <tr>\n",
       "      <th>심함</th>\n",
       "      <td>45</td>\n",
       "      <td>44</td>\n",
       "      <td>51</td>\n",
       "    </tr>\n",
       "    <tr>\n",
       "      <th>안함</th>\n",
       "      <td>47</td>\n",
       "      <td>41</td>\n",
       "      <td>39</td>\n",
       "    </tr>\n",
       "  </tbody>\n",
       "</table>\n",
       "</div>"
      ],
      "text/plain": [
       "exercise  가끔  매일  안함\n",
       "smoke               \n",
       "가끔        38  39  45\n",
       "매일        34  44  33\n",
       "심함        45  44  51\n",
       "안함        47  41  39"
      ]
     },
     "metadata": {},
     "execution_count": 10
    }
   ],
   "metadata": {}
  },
  {
   "cell_type": "code",
   "execution_count": 11,
   "source": [
    "contg = stats.chi2_contingency(observed=xtab)\r\n",
    "p_val = np.round(contg[1], 3)\r\n",
    "print(f\"P-값: {p_val}\")"
   ],
   "outputs": [
    {
     "output_type": "stream",
     "name": "stdout",
     "text": [
      "P-값: 0.668\n"
     ]
    }
   ],
   "metadata": {}
  },
  {
   "cell_type": "code",
   "execution_count": 12,
   "source": [
    "import numpy as np\r\n",
    "import pandas as pd\r\n",
    "from scipy import stats\r\n",
    "\r\n",
    "np.random.seed(0)\r\n",
    "\r\n",
    "data = (np.random.rand(30).round(2) * 10).reshape(-1, 3)\r\n",
    "df = pd.DataFrame(data=data, columns=['A', 'B', 'C'])\r\n",
    "df"
   ],
   "outputs": [
    {
     "output_type": "execute_result",
     "data": {
      "text/html": [
       "<div>\n",
       "<style scoped>\n",
       "    .dataframe tbody tr th:only-of-type {\n",
       "        vertical-align: middle;\n",
       "    }\n",
       "\n",
       "    .dataframe tbody tr th {\n",
       "        vertical-align: top;\n",
       "    }\n",
       "\n",
       "    .dataframe thead th {\n",
       "        text-align: right;\n",
       "    }\n",
       "</style>\n",
       "<table border=\"1\" class=\"dataframe\">\n",
       "  <thead>\n",
       "    <tr style=\"text-align: right;\">\n",
       "      <th></th>\n",
       "      <th>A</th>\n",
       "      <th>B</th>\n",
       "      <th>C</th>\n",
       "    </tr>\n",
       "  </thead>\n",
       "  <tbody>\n",
       "    <tr>\n",
       "      <th>0</th>\n",
       "      <td>5.5</td>\n",
       "      <td>7.2</td>\n",
       "      <td>6.0</td>\n",
       "    </tr>\n",
       "    <tr>\n",
       "      <th>1</th>\n",
       "      <td>5.4</td>\n",
       "      <td>4.2</td>\n",
       "      <td>6.5</td>\n",
       "    </tr>\n",
       "    <tr>\n",
       "      <th>2</th>\n",
       "      <td>4.4</td>\n",
       "      <td>8.9</td>\n",
       "      <td>9.6</td>\n",
       "    </tr>\n",
       "    <tr>\n",
       "      <th>3</th>\n",
       "      <td>3.8</td>\n",
       "      <td>7.9</td>\n",
       "      <td>5.3</td>\n",
       "    </tr>\n",
       "    <tr>\n",
       "      <th>4</th>\n",
       "      <td>5.7</td>\n",
       "      <td>9.3</td>\n",
       "      <td>0.7</td>\n",
       "    </tr>\n",
       "    <tr>\n",
       "      <th>5</th>\n",
       "      <td>0.9</td>\n",
       "      <td>0.2</td>\n",
       "      <td>8.3</td>\n",
       "    </tr>\n",
       "    <tr>\n",
       "      <th>6</th>\n",
       "      <td>7.8</td>\n",
       "      <td>8.7</td>\n",
       "      <td>9.8</td>\n",
       "    </tr>\n",
       "    <tr>\n",
       "      <th>7</th>\n",
       "      <td>8.0</td>\n",
       "      <td>4.6</td>\n",
       "      <td>7.8</td>\n",
       "    </tr>\n",
       "    <tr>\n",
       "      <th>8</th>\n",
       "      <td>1.2</td>\n",
       "      <td>6.4</td>\n",
       "      <td>1.4</td>\n",
       "    </tr>\n",
       "    <tr>\n",
       "      <th>9</th>\n",
       "      <td>9.4</td>\n",
       "      <td>5.2</td>\n",
       "      <td>4.1</td>\n",
       "    </tr>\n",
       "  </tbody>\n",
       "</table>\n",
       "</div>"
      ],
      "text/plain": [
       "     A    B    C\n",
       "0  5.5  7.2  6.0\n",
       "1  5.4  4.2  6.5\n",
       "2  4.4  8.9  9.6\n",
       "3  3.8  7.9  5.3\n",
       "4  5.7  9.3  0.7\n",
       "5  0.9  0.2  8.3\n",
       "6  7.8  8.7  9.8\n",
       "7  8.0  4.6  7.8\n",
       "8  1.2  6.4  1.4\n",
       "9  9.4  5.2  4.1"
      ]
     },
     "metadata": {},
     "execution_count": 12
    }
   ],
   "metadata": {}
  },
  {
   "cell_type": "code",
   "execution_count": null,
   "source": [],
   "outputs": [],
   "metadata": {}
  }
 ],
 "metadata": {
  "orig_nbformat": 4,
  "language_info": {
   "name": "python",
   "version": "3.8.11",
   "mimetype": "text/x-python",
   "codemirror_mode": {
    "name": "ipython",
    "version": 3
   },
   "pygments_lexer": "ipython3",
   "nbconvert_exporter": "python",
   "file_extension": ".py"
  },
  "kernelspec": {
   "name": "python3",
   "display_name": "Python 3.8.11 64-bit ('base': conda)"
  },
  "interpreter": {
   "hash": "b3ba2566441a7c06988d0923437866b63cedc61552a5af99d1f4fb67d367b25f"
  }
 },
 "nbformat": 4,
 "nbformat_minor": 2
}