{
 "cells": [
  {
   "cell_type": "code",
   "execution_count": 1,
   "source": [
    "# 온라인 광고 클릭 예측을 위한 데이터 준비"
   ],
   "outputs": [],
   "metadata": {}
  },
  {
   "cell_type": "code",
   "execution_count": 3,
   "source": [
    "import pandas as pd\r\n",
    "import numpy as np"
   ],
   "outputs": [],
   "metadata": {}
  },
  {
   "cell_type": "code",
   "execution_count": 4,
   "source": [
    "train_df = pd.read_csv('D:/Workspace/연습폴더/실습데이터_파이썬 머신러닝/train.csv', nrows=100000)\r\n",
    "unused_columns, label_column = ['id', 'hour', 'device_id', 'device_ip'], 'click'\r\n",
    "# 미사용 컬럼, 레이블 컬럼 구분\r\n",
    "train_df = train_df.drop(unused_columns, axis=1)\r\n",
    "# 미사용 컬럼 삭제\r\n",
    "X_dict_train = list(train_df.drop(label_column, axis=1).T.to_dict().values())\r\n",
    "# 특징행렬 만들기, label을 없애고, df를 전치해 딕셔너리로 만들어 valeus만 추출\r\n",
    "y_train = train_df[label_column]"
   ],
   "outputs": [],
   "metadata": {}
  },
  {
   "cell_type": "code",
   "execution_count": 5,
   "source": [
    "test_df = pd.read_csv('D:/Workspace/연습폴더/실습데이터_파이썬 머신러닝/train.csv', \r\n",
    "                        header=0, skiprows=(1,100000), nrows=100000)\r\n",
    "                        #헤더 첫번째 라인, 스킵 1부터 10만까지 train이므로 스킵하고 10만개를 가져옴\r\n",
    "\r\n",
    "test_df = test_df.drop(unused_columns, axis=1)\r\n",
    "# 미사용 컬럼 삭제\r\n",
    "X_dict_test = list(test_df.drop(label_column, axis=1).T.to_dict().values())\r\n",
    "y_test = test_df[label_column]"
   ],
   "outputs": [],
   "metadata": {}
  },
  {
   "cell_type": "code",
   "execution_count": 8,
   "source": [
    "# 원 핫 인코딩 벡터 변환\r\n",
    "from sklearn.feature_extraction import DictVectorizer\r\n",
    "# 수치형은 트리기반 모델 가능하지만\r\n",
    "# 범주형 데이터는 변환이 필요함\r\n",
    "vectorize = DictVectorizer(sparse=True) #sparse=True 희소행렬로 만들어줌, 안하면 컴퓨터 꺼질수 있음(메모리에 문제)\r\n",
    "X_train = vectorize.fit_transform(X_dict_train)\r\n",
    "X_test = vectorize.transform(X_dict_test)\r\n"
   ],
   "outputs": [],
   "metadata": {}
  },
  {
   "cell_type": "code",
   "execution_count": 10,
   "source": [
    "# 그리드 서치를 이용한 로지스틱 회귀 모델학습\r\n",
    "# LogisticRegresiion은 이진분류기, 대규모 데이터를 다룰 때 매우 유용"
   ],
   "outputs": [],
   "metadata": {}
  },
  {
   "cell_type": "code",
   "execution_count": 17,
   "source": [
    "from sklearn.linear_model import LogisticRegression\r\n",
    "\r\n",
    "clf = LogisticRegression()\r\n",
    "# 매개변수 C= C의 값이 커지면 규제가 느슨해짐(오버피팅), 0에 가까워 지면 규제가 강해짐\r\n",
    "# penalty= l1(패널티 0이 됨), l2(패널티 0에 가까워 짐) 규제가 있음 오버피팅 방지를 위함.\r\n",
    "clf.fit(X_train, y_train)"
   ],
   "outputs": [
    {
     "output_type": "execute_result",
     "data": {
      "text/plain": [
       "LogisticRegression()"
      ]
     },
     "metadata": {},
     "execution_count": 17
    }
   ],
   "metadata": {}
  },
  {
   "cell_type": "code",
   "execution_count": 35,
   "source": [
    "from sklearn.model_selection import GridSearchCV\r\n",
    "\r\n",
    "parameters = {'C': [0.01, 0.1, 1, 10, 100], 'penalty': [\"l1\", \"l2\"]}\r\n",
    "grid_search = GridSearchCV(clf, parameters, n_jobs=-1, cv=3, scoring='roc_auc')\r\n",
    "grid_search.fit(X_train, y_train)"
   ],
   "outputs": [
    {
     "output_type": "stream",
     "name": "stderr",
     "text": [
      "C:\\ProgramData\\Anaconda3\\lib\\site-packages\\sklearn\\model_selection\\_search.py:922: UserWarning: One or more of the test scores are non-finite: [       nan 0.6358266         nan 0.6390418         nan 0.63370653\n",
      "        nan 0.63778526        nan 0.63773112]\n",
      "  warnings.warn(\n"
     ]
    },
    {
     "output_type": "execute_result",
     "data": {
      "text/plain": [
       "GridSearchCV(cv=3, estimator=LogisticRegression(), n_jobs=-1,\n",
       "             param_grid={'C': [0.01, 0.1, 1, 10, 100], 'penalty': ['l1', 'l2']},\n",
       "             scoring='roc_auc')"
      ]
     },
     "metadata": {},
     "execution_count": 35
    }
   ],
   "metadata": {}
  },
  {
   "cell_type": "code",
   "execution_count": 47,
   "source": [
    "grid_search.best_params_"
   ],
   "outputs": [
    {
     "output_type": "execute_result",
     "data": {
      "text/plain": [
       "{'C': 0.1, 'penalty': 'l2'}"
      ]
     },
     "metadata": {},
     "execution_count": 47
    }
   ],
   "metadata": {}
  },
  {
   "cell_type": "code",
   "execution_count": 48,
   "source": [
    "# 로지스틱 회귀모델의 성능 측정 : 정ghkr도, 혼동행렬, ROC의 AUC"
   ],
   "outputs": [],
   "metadata": {}
  },
  {
   "cell_type": "code",
   "execution_count": 49,
   "source": [
    "clf_best = grid_search.estimator\r\n",
    "# 예측기를 받기"
   ],
   "outputs": [],
   "metadata": {}
  },
  {
   "cell_type": "code",
   "execution_count": 50,
   "source": [
    "y_pred = clf_best.predict(X_test)\r\n",
    "y_pred"
   ],
   "outputs": [
    {
     "output_type": "execute_result",
     "data": {
      "text/plain": [
       "array([0, 0, 0, ..., 0, 0, 0], dtype=int64)"
      ]
     },
     "metadata": {},
     "execution_count": 50
    }
   ],
   "metadata": {}
  },
  {
   "cell_type": "code",
   "execution_count": 40,
   "source": [
    "np.unique(y_pred, return_counts=True)\r\n",
    "# 음성 예측, 양성 예측 "
   ],
   "outputs": [
    {
     "output_type": "execute_result",
     "data": {
      "text/plain": [
       "(array([0, 1], dtype=int64), array([98494,  1506], dtype=int64))"
      ]
     },
     "metadata": {},
     "execution_count": 40
    }
   ],
   "metadata": {}
  },
  {
   "cell_type": "code",
   "execution_count": 41,
   "source": [
    "from sklearn.metrics import accuracy_score\r\n",
    "accuracy_score(y_test, y_pred)\r\n",
    "# 정확도 측정, 실측값(y_test), 예측값(y_pred) 순으로 작성"
   ],
   "outputs": [
    {
     "output_type": "execute_result",
     "data": {
      "text/plain": [
       "0.82372"
      ]
     },
     "metadata": {},
     "execution_count": 41
    }
   ],
   "metadata": {}
  },
  {
   "cell_type": "code",
   "execution_count": 42,
   "source": [
    "from sklearn.metrics import confusion_matrix\r\n",
    "confusion_matrix(y_test, y_pred)"
   ],
   "outputs": [
    {
     "output_type": "execute_result",
     "data": {
      "text/plain": [
       "array([[81688,   822],\n",
       "       [16806,   684]], dtype=int64)"
      ]
     },
     "metadata": {},
     "execution_count": 42
    }
   ],
   "metadata": {}
  },
  {
   "cell_type": "code",
   "execution_count": 43,
   "source": [
    "from sklearn.metrics import roc_auc_score, roc_curve\r\n",
    "y_pred_proba = clf_best.predict_proba(X_test)[:, 1]\r\n",
    "y_pred_proba\r\n",
    "# 로지스틱 회귀는 확률 기반이므로 predit이아닌 predict_proba 사용"
   ],
   "outputs": [
    {
     "output_type": "execute_result",
     "data": {
      "text/plain": [
       "array([0.15272233, 0.1527198 , 0.15269777, ..., 0.18102594, 0.1792849 ,\n",
       "       0.10459085])"
      ]
     },
     "metadata": {},
     "execution_count": 43
    }
   ],
   "metadata": {}
  },
  {
   "cell_type": "code",
   "execution_count": 44,
   "source": [
    "import matplotlib.pyplot as plt\r\n",
    "%matplotlib inline"
   ],
   "outputs": [],
   "metadata": {}
  },
  {
   "cell_type": "code",
   "execution_count": 45,
   "source": [
    "fpr, tpr, _ = roc_curve(y_test, y_pred_proba)\r\n",
    "auc = roc_auc_score(y_test, y_pred_proba)\r\n",
    "plt.plot(fpr, tpr, \"r-\", label='LogisticRegression')\r\n",
    "        #x, y, color, 범례\r\n",
    "plt.plot([0,1], [0,1], \"b--\", label='random guess')\r\n",
    "        #x, y 의 점선\r\n",
    "plt.xlabel(\"false positive rate\")\r\n",
    "plt.ylabel(\"true psitive rate\")\r\n",
    "plt.title(\"AUC={0:.2f}\".format(auc))\r\n",
    "plt.legend(loc='lower right');"
   ],
   "outputs": [
    {
     "output_type": "display_data",
     "data": {
      "image/png": "[encoded data removed]",
      "text/plain": [
       "<Figure size 432x288 with 1 Axes>"
      ]
     },
     "metadata": {
      "needs_background": "light"
     }
    }
   ],
   "metadata": {}
  },
  {
   "cell_type": "code",
   "execution_count": 32,
   "source": [
    "# 분류기로서의 성능을 auc지표로 설명 가능"
   ],
   "outputs": [],
   "metadata": {}
  },
  {
   "cell_type": "code",
   "execution_count": null,
   "source": [],
   "outputs": [],
   "metadata": {}
  }
 ],
 "metadata": {
  "orig_nbformat": 4,
  "language_info": {
   "name": "python",
   "version": "3.8.11",
   "mimetype": "text/x-python",
   "codemirror_mode": {
    "name": "ipython",
    "version": 3
   },
   "pygments_lexer": "ipython3",
   "nbconvert_exporter": "python",
   "file_extension": ".py"
  },
  "kernelspec": {
   "name": "python3",
   "display_name": "Python 3.8.11 64-bit ('base': conda)"
  },
  "interpreter": {
   "hash": "b3ba2566441a7c06988d0923437866b63cedc61552a5af99d1f4fb67d367b25f"
  }
 },
 "nbformat": 4,
 "nbformat_minor": 2
}