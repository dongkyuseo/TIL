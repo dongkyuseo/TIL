{
 "cells": [
  {
   "cell_type": "markdown",
   "source": [
    "# 와인 품질 예측 모델 만들기 2\r\n",
    "\r\n",
    "1. 선형 회귀 모델 적용하는 방법살펴보기\r\n",
    "2. 리지 회귀 모델의 특징 이해, 모델적용 방법 살펴보기\r\n",
    "3. 라쏘 회귀모델의 특징 이해, 모델 적용방법 살펴보기\r\n",
    "\r\n"
   ],
   "metadata": {}
  },
  {
   "cell_type": "code",
   "execution_count": 1,
   "source": [
    "import pandas as pd\r\n",
    "import numpy as np"
   ],
   "outputs": [],
   "metadata": {}
  },
  {
   "cell_type": "code",
   "execution_count": 2,
   "source": [
    "redwine = pd.read_csv('https://archive.ics.uci.edu/ml/machine-learning-databases/wine-quality/winequality-red.csv', sep=';', header=0)\r\n",
    "redwine[\"type\"] = 'red'\r\n",
    "\r\n",
    "whitewine = pd.read_csv('https://archive.ics.uci.edu/ml/machine-learning-databases/wine-quality/winequality-white.csv', sep=';', header=0)\r\n",
    "whitewine[\"type\"] = 'white'\r\n",
    "\r\n",
    "wine = redwine.append(whitewine)\r\n",
    "\r\n",
    "wine.columns = wine.columns.str.replace(\" \", \"_\")\r\n",
    "wine.head()"
   ],
   "outputs": [
    {
     "output_type": "execute_result",
     "data": {
      "text/html": [
       "<div>\n",
       "<style scoped>\n",
       "    .dataframe tbody tr th:only-of-type {\n",
       "        vertical-align: middle;\n",
       "    }\n",
       "\n",
       "    .dataframe tbody tr th {\n",
       "        vertical-align: top;\n",
       "    }\n",
       "\n",
       "    .dataframe thead th {\n",
       "        text-align: right;\n",
       "    }\n",
       "</style>\n",
       "<table border=\"1\" class=\"dataframe\">\n",
       "  <thead>\n",
       "    <tr style=\"text-align: right;\">\n",
       "      <th></th>\n",
       "      <th>fixed_acidity</th>\n",
       "      <th>volatile_acidity</th>\n",
       "      <th>citric_acid</th>\n",
       "      <th>residual_sugar</th>\n",
       "      <th>chlorides</th>\n",
       "      <th>free_sulfur_dioxide</th>\n",
       "      <th>total_sulfur_dioxide</th>\n",
       "      <th>density</th>\n",
       "      <th>pH</th>\n",
       "      <th>sulphates</th>\n",
       "      <th>alcohol</th>\n",
       "      <th>quality</th>\n",
       "      <th>type</th>\n",
       "    </tr>\n",
       "  </thead>\n",
       "  <tbody>\n",
       "    <tr>\n",
       "      <th>0</th>\n",
       "      <td>7.4</td>\n",
       "      <td>0.70</td>\n",
       "      <td>0.00</td>\n",
       "      <td>1.9</td>\n",
       "      <td>0.076</td>\n",
       "      <td>11.0</td>\n",
       "      <td>34.0</td>\n",
       "      <td>0.9978</td>\n",
       "      <td>3.51</td>\n",
       "      <td>0.56</td>\n",
       "      <td>9.4</td>\n",
       "      <td>5</td>\n",
       "      <td>red</td>\n",
       "    </tr>\n",
       "    <tr>\n",
       "      <th>1</th>\n",
       "      <td>7.8</td>\n",
       "      <td>0.88</td>\n",
       "      <td>0.00</td>\n",
       "      <td>2.6</td>\n",
       "      <td>0.098</td>\n",
       "      <td>25.0</td>\n",
       "      <td>67.0</td>\n",
       "      <td>0.9968</td>\n",
       "      <td>3.20</td>\n",
       "      <td>0.68</td>\n",
       "      <td>9.8</td>\n",
       "      <td>5</td>\n",
       "      <td>red</td>\n",
       "    </tr>\n",
       "    <tr>\n",
       "      <th>2</th>\n",
       "      <td>7.8</td>\n",
       "      <td>0.76</td>\n",
       "      <td>0.04</td>\n",
       "      <td>2.3</td>\n",
       "      <td>0.092</td>\n",
       "      <td>15.0</td>\n",
       "      <td>54.0</td>\n",
       "      <td>0.9970</td>\n",
       "      <td>3.26</td>\n",
       "      <td>0.65</td>\n",
       "      <td>9.8</td>\n",
       "      <td>5</td>\n",
       "      <td>red</td>\n",
       "    </tr>\n",
       "    <tr>\n",
       "      <th>3</th>\n",
       "      <td>11.2</td>\n",
       "      <td>0.28</td>\n",
       "      <td>0.56</td>\n",
       "      <td>1.9</td>\n",
       "      <td>0.075</td>\n",
       "      <td>17.0</td>\n",
       "      <td>60.0</td>\n",
       "      <td>0.9980</td>\n",
       "      <td>3.16</td>\n",
       "      <td>0.58</td>\n",
       "      <td>9.8</td>\n",
       "      <td>6</td>\n",
       "      <td>red</td>\n",
       "    </tr>\n",
       "    <tr>\n",
       "      <th>4</th>\n",
       "      <td>7.4</td>\n",
       "      <td>0.70</td>\n",
       "      <td>0.00</td>\n",
       "      <td>1.9</td>\n",
       "      <td>0.076</td>\n",
       "      <td>11.0</td>\n",
       "      <td>34.0</td>\n",
       "      <td>0.9978</td>\n",
       "      <td>3.51</td>\n",
       "      <td>0.56</td>\n",
       "      <td>9.4</td>\n",
       "      <td>5</td>\n",
       "      <td>red</td>\n",
       "    </tr>\n",
       "  </tbody>\n",
       "</table>\n",
       "</div>"
      ],
      "text/plain": [
       "   fixed_acidity  volatile_acidity  citric_acid  residual_sugar  chlorides  \\\n",
       "0            7.4              0.70         0.00             1.9      0.076   \n",
       "1            7.8              0.88         0.00             2.6      0.098   \n",
       "2            7.8              0.76         0.04             2.3      0.092   \n",
       "3           11.2              0.28         0.56             1.9      0.075   \n",
       "4            7.4              0.70         0.00             1.9      0.076   \n",
       "\n",
       "   free_sulfur_dioxide  total_sulfur_dioxide  density    pH  sulphates  \\\n",
       "0                 11.0                  34.0   0.9978  3.51       0.56   \n",
       "1                 25.0                  67.0   0.9968  3.20       0.68   \n",
       "2                 15.0                  54.0   0.9970  3.26       0.65   \n",
       "3                 17.0                  60.0   0.9980  3.16       0.58   \n",
       "4                 11.0                  34.0   0.9978  3.51       0.56   \n",
       "\n",
       "   alcohol  quality type  \n",
       "0      9.4        5  red  \n",
       "1      9.8        5  red  \n",
       "2      9.8        5  red  \n",
       "3      9.8        6  red  \n",
       "4      9.4        5  red  "
      ]
     },
     "metadata": {},
     "execution_count": 2
    }
   ],
   "metadata": {}
  },
  {
   "cell_type": "markdown",
   "source": [
    "## 선형 회귀 모델 적용\r\n",
    "- 모델 클래스와 모델 파라미터 선택"
   ],
   "metadata": {}
  },
  {
   "cell_type": "code",
   "execution_count": 3,
   "source": [
    "from sklearn.linear_model import LinearRegression"
   ],
   "outputs": [],
   "metadata": {}
  },
  {
   "cell_type": "code",
   "execution_count": 4,
   "source": [
    "model = LinearRegression(fit_intercept=True)\r\n",
    "model"
   ],
   "outputs": [
    {
     "output_type": "execute_result",
     "data": {
      "text/plain": [
       "LinearRegression()"
      ]
     },
     "metadata": {},
     "execution_count": 4
    }
   ],
   "metadata": {}
  },
  {
   "cell_type": "code",
   "execution_count": 5,
   "source": [
    "# 특징 행렬(입력)과 대상 벡터(정답)의 추출\r\n",
    "X = wine.drop(['type', 'quality'], axis=1)\r\n",
    "# 데이터프레임 wine의 type과 quality를 제외한 X 특징 행렬 생성\r\n",
    "X.shape\r\n",
    "# 훈련 데이터 크기 6797, 11개 열로 X는 m x n 형태를 띔"
   ],
   "outputs": [
    {
     "output_type": "execute_result",
     "data": {
      "text/plain": [
       "(6497, 11)"
      ]
     },
     "metadata": {},
     "execution_count": 5
    }
   ],
   "metadata": {}
  },
  {
   "cell_type": "code",
   "execution_count": 6,
   "source": [
    "y = wine.quality\r\n",
    "# 시리즈 형태\r\n",
    "y.shape\r\n",
    "\r\n",
    "# DataFrame과 Series 모두 넘파이 기반으로 scikit-learn api를 사용하기 위해 \r\n",
    "# DataFrame 객체에서 특징 행렬과 특징 벡터 추출"
   ],
   "outputs": [
    {
     "output_type": "execute_result",
     "data": {
      "text/plain": [
       "(6497,)"
      ]
     },
     "metadata": {},
     "execution_count": 6
    }
   ],
   "metadata": {}
  },
  {
   "cell_type": "code",
   "execution_count": 7,
   "source": [
    "from sklearn.model_selection import train_test_split\r\n",
    "#X 특징행렬(대문자:2차원), y 대상벡터(소문자: 1차원)를 각각 훈련용 테스트용 으로 나눔\r\n",
    "X_train, X_test, y_train, y_test = train_test_split(X, y, random_state=1) \r\n",
    "                                    #test_size= 테스트크기를 정할수 있음. deafalt값은 0.25\r\n",
    "X_train.shape, X_test.shape, y_train.shape, y_test.shape"
   ],
   "outputs": [
    {
     "output_type": "execute_result",
     "data": {
      "text/plain": [
       "((4872, 11), (1625, 11), (4872,), (1625,))"
      ]
     },
     "metadata": {},
     "execution_count": 7
    }
   ],
   "metadata": {}
  },
  {
   "cell_type": "code",
   "execution_count": 8,
   "source": [
    "model.fit(X_train, y_train)\r\n",
    "# 훈련용 데이터 훈련"
   ],
   "outputs": [
    {
     "output_type": "execute_result",
     "data": {
      "text/plain": [
       "LinearRegression()"
      ]
     },
     "metadata": {},
     "execution_count": 8
    }
   ],
   "metadata": {}
  },
  {
   "cell_type": "markdown",
   "source": [
    "> 파라미터 :학습과정에서 자동 설정되는 매개변수<br>\r\n",
    "> 하이퍼파라미터 : 개발자가 모델을 제어하기 위해 사용하는 값"
   ],
   "metadata": {}
  },
  {
   "cell_type": "code",
   "execution_count": 9,
   "source": [
    "model.coef_\r\n",
    "# 다중선형 회귀, .coef_ 11개의 변수(계수) 확인가능"
   ],
   "outputs": [
    {
     "output_type": "execute_result",
     "data": {
      "text/plain": [
       "array([ 5.55618691e-02, -1.29945358e+00, -1.08205046e-01,  4.52070539e-02,\n",
       "       -3.95901596e-01,  5.76479819e-03, -2.47760359e-03, -5.30023471e+01,\n",
       "        3.50283862e-01,  7.49149475e-01,  2.78530060e-01])"
      ]
     },
     "metadata": {},
     "execution_count": 9
    }
   ],
   "metadata": {}
  },
  {
   "cell_type": "code",
   "execution_count": 10,
   "source": [
    "# intercept_ : 상수항 값\r\n",
    "model.intercept_"
   ],
   "outputs": [
    {
     "output_type": "execute_result",
     "data": {
      "text/plain": [
       "54.058003854665216"
      ]
     },
     "metadata": {},
     "execution_count": 10
    }
   ],
   "metadata": {}
  },
  {
   "cell_type": "code",
   "execution_count": 11,
   "source": [
    "# 모델을 새로운 데이터에 적용\r\n",
    "newdata = np.array([6.3, 0.3, 0.34, 1.6, 0.049, 14, 132, 0.994, 3.3, 0.49, 9.5])"
   ],
   "outputs": [],
   "metadata": {}
  },
  {
   "cell_type": "code",
   "execution_count": 12,
   "source": [
    "model.predict(np.reshape(newdata, (1, 11))) # 2차원 배열구조를 전달하기 위해 reshape으로 1행 11열 구조를 만듬\r\n",
    "# 예측값을 얻음"
   ],
   "outputs": [
    {
     "output_type": "execute_result",
     "data": {
      "text/plain": [
       "array([5.27273597])"
      ]
     },
     "metadata": {},
     "execution_count": 12
    }
   ],
   "metadata": {}
  },
  {
   "cell_type": "code",
   "execution_count": 13,
   "source": [
    "y_pred = model.predict(X_test)\r\n",
    "y_pred.shape"
   ],
   "outputs": [
    {
     "output_type": "execute_result",
     "data": {
      "text/plain": [
       "(1625,)"
      ]
     },
     "metadata": {},
     "execution_count": 13
    }
   ],
   "metadata": {}
  },
  {
   "cell_type": "markdown",
   "source": [
    "## 모델의 성능 측정\r\n",
    "\r\n",
    "- 회귀 모델의 예측 능력 평가 지표 : \r\n",
    "> 평균 제곱근 오차 RMSE(Root Mean Square Error)\r\n",
    "- 평균 제곱근 오차는 분산의 제곱근, 즉 표준 오차가 됨\r\n",
    "\r\n",
    "> 성능 지표는 변수(특징)이 많아지면 값이 커지는 문제가 있음\r\n",
    "- 성능 지표의 문제를 개선한 평균 제곱근 오차 사용\r\n",
    "> RMSE(예측값)\r\n",
    "- 0에 가까울수록 예측도가 높아짐"
   ],
   "metadata": {}
  },
  {
   "cell_type": "code",
   "execution_count": 14,
   "source": [
    "def rmse(y_real, y_pred):\r\n",
    "    return np.sqrt(np.mean((y_real - y_pred)** 2))"
   ],
   "outputs": [],
   "metadata": {}
  },
  {
   "cell_type": "code",
   "execution_count": 15,
   "source": [
    "np.round(rmse(y_test, y_pred), 2)"
   ],
   "outputs": [
    {
     "output_type": "execute_result",
     "data": {
      "text/plain": [
       "0.73"
      ]
     },
     "metadata": {},
     "execution_count": 15
    }
   ],
   "metadata": {}
  },
  {
   "cell_type": "code",
   "execution_count": 16,
   "source": [
    "from sklearn.metrics import mean_squared_error\r\n",
    "# mean_squared_error 이 위 함수와 같은 역할을 함\r\n",
    "np.round(np.sqrt(mean_squared_error(y_test, y_pred)), 2)"
   ],
   "outputs": [
    {
     "output_type": "execute_result",
     "data": {
      "text/plain": [
       "0.73"
      ]
     },
     "metadata": {},
     "execution_count": 16
    }
   ],
   "metadata": {}
  },
  {
   "cell_type": "code",
   "execution_count": 17,
   "source": [
    "# 규제가 있는 선형 회귀 모델\r\n",
    "\r\n",
    "from sklearn.model_selection import train_test_split\r\n",
    "\r\n",
    "X = wine.drop([\"type\", \"quality\"], axis=1)\r\n",
    "y = wine.quality\r\n",
    "\r\n",
    "X_train, X_test, y_train, y_test = train_test_split(X, y, random_state=1)"
   ],
   "outputs": [],
   "metadata": {}
  },
  {
   "cell_type": "code",
   "execution_count": 18,
   "source": [
    "from sklearn.linear_model import LinearRegression\r\n",
    "\r\n",
    "model = LinearRegression()\r\n",
    "model.fit(X_train, y_train)\r\n",
    "y_pred = model.predict(X_test)\r\n",
    "np.round(np.sqrt(mean_squared_error(y_test, y_pred)), 3)"
   ],
   "outputs": [
    {
     "output_type": "execute_result",
     "data": {
      "text/plain": [
       "0.725"
      ]
     },
     "metadata": {},
     "execution_count": 18
    }
   ],
   "metadata": {}
  },
  {
   "cell_type": "code",
   "execution_count": 19,
   "source": [
    "# 규제가 있는 선형회귀 모델\r\n",
    "# 리지\r\n",
    "from sklearn.linear_model import Ridge\r\n",
    "\r\n",
    "model = Ridge(alpha=0.05) # 알파가 규제값\r\n",
    "model.fit(X_train, y_train)\r\n",
    "y_pred = model.predict(X_test)\r\n",
    "np.round(np.sqrt(mean_squared_error(y_test, y_pred)), 3)"
   ],
   "outputs": [
    {
     "output_type": "execute_result",
     "data": {
      "text/plain": [
       "0.727"
      ]
     },
     "metadata": {},
     "execution_count": 19
    }
   ],
   "metadata": {}
  },
  {
   "cell_type": "code",
   "execution_count": 20,
   "source": [
    "# 규제가 있는 선형회귀 모델\r\n",
    "# 라쏘\r\n",
    "from sklearn.linear_model import Lasso\r\n",
    "\r\n",
    "model = Lasso(alpha=0.05) # 알파가 규제값\r\n",
    "model.fit(X_train, y_train)\r\n",
    "y_pred = model.predict(X_test)\r\n",
    "np.round(np.sqrt(mean_squared_error(y_test, y_pred)), 3)"
   ],
   "outputs": [
    {
     "output_type": "execute_result",
     "data": {
      "text/plain": [
       "0.761"
      ]
     },
     "metadata": {},
     "execution_count": 20
    }
   ],
   "metadata": {}
  },
  {
   "cell_type": "markdown",
   "source": [
    "## 규제가있는 선형 회귀 모델의 필요성\r\n",
    "\r\n",
    "1. 과분산 모델(모델복잡도가 높음:차수가 높아짐)에 대해 모델을 규제(차수를 감소시킴)하면 오버피팅을 감소시킬 수 있음\r\n",
    "2. 규제란 오버피팅된 파라미터 값에 대해 페널티를 부여하는 것\r\n",
    "3. 페널티를 추가하게 되면 규제가 없는 회귀모델보다 계수의 절대값이 작아지게 되는 원리를 이용해 오버피팅을 방지할 수 있음\r\n",
    "4. 페널티를 가한다는 것은 편향을 높인다는 것을 의미하며, 규제가 없는 모델보다 훈련 데이터와 적합도가 떨어지지만, 전체적인 결과는 좋아짐\r\n",
    "5. 오버피팅된 모델은 지나친 노이즈(이상치 까지)를 반영할 수 있으므로 모델을 단순화하여 좀 더 일반화된 모델로 만들 필요가 있음\r\n",
    "\r\n",
    "> 규제를 두어 모델을 단순화 할 수 있는 선형 회귀 모델이 필요함"
   ],
   "metadata": {}
  },
  {
   "cell_type": "code",
   "execution_count": 33,
   "source": [
    "from sklearn.linear_model import Ridge\r\n",
    "import matplotlib.pyplot as plt\r\n",
    "%matplotlib inline\r\n",
    "\r\n",
    "model_name = 'ridge'\r\n",
    "alpha = 0.05\r\n",
    "fig = plt.figure(figsize=(6,3))\r\n",
    "ax = fig.add_subplot(111)\r\n",
    "ridge = Ridge(alpha=alpha)\r\n",
    "ridge.fit(X_train, y_train)\r\n",
    "y_pred = ridge.predict(X_test)\r\n",
    "rmse = np.round(np.sqrt(mean_squared_error(y_test, y_pred)),3)\r\n",
    "coef = pd.Series(data=ridge.coef_, index=X_train.columns).sort_values()\r\n",
    "ax.bar(coef.index, coef.values)\r\n",
    "ax.set_xticklabels(coef.index, rotation = 90)\r\n",
    "ax.set_title(f'{model_name}: alpha = {alpha}, rmnse = {rmse}')"
   ],
   "outputs": [
    {
     "output_type": "stream",
     "name": "stderr",
     "text": [
      "<ipython-input-33-5222c5b6d99c>:15: UserWarning: FixedFormatter should only be used together with FixedLocator\n",
      "  ax.set_xticklabels(coef.index, rotation = 90)\n"
     ]
    },
    {
     "output_type": "execute_result",
     "data": {
      "text/plain": [
       "Text(0.5, 1.0, 'ridge: alpha = 0.05, rmnse = 0.727')"
      ]
     },
     "metadata": {},
     "execution_count": 33
    },
    {
     "output_type": "display_data",
     "data": {
      "image/png": "[encoded data removed]",
      "text/plain": [
       "<Figure size 432x216 with 1 Axes>"
      ]
     },
     "metadata": {
      "needs_background": "light"
     }
    }
   ],
   "metadata": {}
  },
  {
   "cell_type": "code",
   "execution_count": 41,
   "source": [
    "\r\n",
    "alpha = 100\r\n",
    "fig = plt.figure(figsize=(6,3))\r\n",
    "ax = fig.add_subplot(111)\r\n",
    "ridge = Ridge(alpha=alpha)\r\n",
    "ridge.fit(X_train, y_train)\r\n",
    "coef = pd.Series(ridge.coef_, index=X_train.columns).sort_values()\r\n",
    "ax.bar(coef.index, coef.values)\r\n",
    "ax.set_xticklabels(coef.index, rotation = 90)\r\n",
    "ax.set_title(f'{model_name}: alpha = {alpha}, rmnse = {rmse}')"
   ],
   "outputs": [
    {
     "output_type": "stream",
     "name": "stderr",
     "text": [
      "<ipython-input-41-79ce50c20b27>:8: UserWarning: FixedFormatter should only be used together with FixedLocator\n",
      "  ax.set_xticklabels(coef.index, rotation = 90)\n"
     ]
    },
    {
     "output_type": "execute_result",
     "data": {
      "text/plain": [
       "Text(0.5, 1.0, 'ridge: alpha = 100, rmnse = 0.727')"
      ]
     },
     "metadata": {},
     "execution_count": 41
    },
    {
     "output_type": "display_data",
     "data": {
      "image/png": "[encoded data removed]",
      "text/plain": [
       "<Figure size 432x216 with 1 Axes>"
      ]
     },
     "metadata": {
      "needs_background": "light"
     }
    }
   ],
   "metadata": {}
  },
  {
   "cell_type": "code",
   "execution_count": 54,
   "source": [
    "# 라쏘 회귀모델\r\n",
    "\r\n",
    "from sklearn.linear_model import Lasso\r\n",
    "\r\n",
    "\r\n",
    "model_name = 'Lasso'\r\n",
    "alpha = 2 # 2가넘어가니 값이 다 사라짐\r\n",
    "fig = plt.figure(figsize=(6,3))\r\n",
    "ax = fig.add_subplot(111)\r\n",
    "lasso = Lasso(alpha=alpha)\r\n",
    "lasso.fit(X_train, y_train)\r\n",
    "y_pred = ridge.predict(X_test)\r\n",
    "rmse = np.round(np.sqrt(mean_squared_error(y_test, y_pred)),3)\r\n",
    "coef = pd.Series(data=lasso.coef_, index=X_train.columns).sort_values()\r\n",
    "ax.bar(coef.index, coef.values)\r\n",
    "ax.set_xticklabels(coef.index, rotation = 90)\r\n",
    "ax.set_title(f'{model_name}: alpha = {alpha}, rmnse = {rmse}');"
   ],
   "outputs": [
    {
     "output_type": "stream",
     "name": "stderr",
     "text": [
      "<ipython-input-54-f0ddadf68c66>:16: UserWarning: FixedFormatter should only be used together with FixedLocator\n",
      "  ax.set_xticklabels(coef.index, rotation = 90)\n"
     ]
    },
    {
     "output_type": "display_data",
     "data": {
      "image/png": "[encoded data removed]",
      "text/plain": [
       "<Figure size 432x216 with 1 Axes>"
      ]
     },
     "metadata": {
      "needs_background": "light"
     }
    }
   ],
   "metadata": {}
  },
  {
   "cell_type": "code",
   "execution_count": null,
   "source": [],
   "outputs": [],
   "metadata": {}
  }
 ],
 "metadata": {
  "orig_nbformat": 4,
  "language_info": {
   "name": "python",
   "version": "3.8.11",
   "mimetype": "text/x-python",
   "codemirror_mode": {
    "name": "ipython",
    "version": 3
   },
   "pygments_lexer": "ipython3",
   "nbconvert_exporter": "python",
   "file_extension": ".py"
  },
  "kernelspec": {
   "name": "python3",
   "display_name": "Python 3.8.11 64-bit ('base': conda)"
  },
  "interpreter": {
   "hash": "b3ba2566441a7c06988d0923437866b63cedc61552a5af99d1f4fb67d367b25f"
  }
 },
 "nbformat": 4,
 "nbformat_minor": 2
}