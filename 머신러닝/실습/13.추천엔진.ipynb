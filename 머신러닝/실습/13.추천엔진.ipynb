{
 "cells": [
  {
   "cell_type": "markdown",
   "source": [
    "# 협업 필터링을 이용한 영화 추천 엔진\r\n",
    "- MovieLens 100k  Data set (10만개)\r\n",
    "- 1682개의 영화에 대한 943명의 사용자 평가\r\n",
    "\r\n",
    "- [데이터자료](https://files.grouplens.org/datasets/movielens/) ml-100k.zip"
   ],
   "metadata": {}
  },
  {
   "cell_type": "code",
   "execution_count": 1,
   "source": [
    "import pandas as pd\r\n",
    "import numpy as np"
   ],
   "outputs": [],
   "metadata": {}
  },
  {
   "cell_type": "code",
   "execution_count": 8,
   "source": [
    "df = pd.read_csv(\"D:/개인공부_머신러닝/ml-100k/u.data\", sep='\\t', header=None)\r\n",
    "df.columns = [\"user_id\", \"item_id\", \"rating\", \"timestamp\"]\r\n",
    "df.head()"
   ],
   "outputs": [
    {
     "output_type": "execute_result",
     "data": {
      "text/html": [
       "<div>\n",
       "<style scoped>\n",
       "    .dataframe tbody tr th:only-of-type {\n",
       "        vertical-align: middle;\n",
       "    }\n",
       "\n",
       "    .dataframe tbody tr th {\n",
       "        vertical-align: top;\n",
       "    }\n",
       "\n",
       "    .dataframe thead th {\n",
       "        text-align: right;\n",
       "    }\n",
       "</style>\n",
       "<table border=\"1\" class=\"dataframe\">\n",
       "  <thead>\n",
       "    <tr style=\"text-align: right;\">\n",
       "      <th></th>\n",
       "      <th>user_id</th>\n",
       "      <th>item_id</th>\n",
       "      <th>rating</th>\n",
       "      <th>timestamp</th>\n",
       "    </tr>\n",
       "  </thead>\n",
       "  <tbody>\n",
       "    <tr>\n",
       "      <th>0</th>\n",
       "      <td>196</td>\n",
       "      <td>242</td>\n",
       "      <td>3</td>\n",
       "      <td>881250949</td>\n",
       "    </tr>\n",
       "    <tr>\n",
       "      <th>1</th>\n",
       "      <td>186</td>\n",
       "      <td>302</td>\n",
       "      <td>3</td>\n",
       "      <td>891717742</td>\n",
       "    </tr>\n",
       "    <tr>\n",
       "      <th>2</th>\n",
       "      <td>22</td>\n",
       "      <td>377</td>\n",
       "      <td>1</td>\n",
       "      <td>878887116</td>\n",
       "    </tr>\n",
       "    <tr>\n",
       "      <th>3</th>\n",
       "      <td>244</td>\n",
       "      <td>51</td>\n",
       "      <td>2</td>\n",
       "      <td>880606923</td>\n",
       "    </tr>\n",
       "    <tr>\n",
       "      <th>4</th>\n",
       "      <td>166</td>\n",
       "      <td>346</td>\n",
       "      <td>1</td>\n",
       "      <td>886397596</td>\n",
       "    </tr>\n",
       "  </tbody>\n",
       "</table>\n",
       "</div>"
      ],
      "text/plain": [
       "   user_id  item_id  rating  timestamp\n",
       "0      196      242       3  881250949\n",
       "1      186      302       3  891717742\n",
       "2       22      377       1  878887116\n",
       "3      244       51       2  880606923\n",
       "4      166      346       1  886397596"
      ]
     },
     "metadata": {},
     "execution_count": 8
    }
   ],
   "metadata": {}
  },
  {
   "cell_type": "code",
   "execution_count": 9,
   "source": [
    "df.groupby(['rating'])[['user_id']].count()\r\n",
    "# 1점부터 5점까지 점수 확인"
   ],
   "outputs": [
    {
     "output_type": "execute_result",
     "data": {
      "text/html": [
       "<div>\n",
       "<style scoped>\n",
       "    .dataframe tbody tr th:only-of-type {\n",
       "        vertical-align: middle;\n",
       "    }\n",
       "\n",
       "    .dataframe tbody tr th {\n",
       "        vertical-align: top;\n",
       "    }\n",
       "\n",
       "    .dataframe thead th {\n",
       "        text-align: right;\n",
       "    }\n",
       "</style>\n",
       "<table border=\"1\" class=\"dataframe\">\n",
       "  <thead>\n",
       "    <tr style=\"text-align: right;\">\n",
       "      <th></th>\n",
       "      <th>user_id</th>\n",
       "    </tr>\n",
       "    <tr>\n",
       "      <th>rating</th>\n",
       "      <th></th>\n",
       "    </tr>\n",
       "  </thead>\n",
       "  <tbody>\n",
       "    <tr>\n",
       "      <th>1</th>\n",
       "      <td>6110</td>\n",
       "    </tr>\n",
       "    <tr>\n",
       "      <th>2</th>\n",
       "      <td>11370</td>\n",
       "    </tr>\n",
       "    <tr>\n",
       "      <th>3</th>\n",
       "      <td>27145</td>\n",
       "    </tr>\n",
       "    <tr>\n",
       "      <th>4</th>\n",
       "      <td>34174</td>\n",
       "    </tr>\n",
       "    <tr>\n",
       "      <th>5</th>\n",
       "      <td>21201</td>\n",
       "    </tr>\n",
       "  </tbody>\n",
       "</table>\n",
       "</div>"
      ],
      "text/plain": [
       "        user_id\n",
       "rating         \n",
       "1          6110\n",
       "2         11370\n",
       "3         27145\n",
       "4         34174\n",
       "5         21201"
      ]
     },
     "metadata": {},
     "execution_count": 9
    }
   ],
   "metadata": {}
  },
  {
   "cell_type": "code",
   "execution_count": 10,
   "source": [
    "df.groupby(['item_id'])[['user_id']].count().head()\r\n",
    "# 영화들에 대한 평가 갯수 확인 가능"
   ],
   "outputs": [
    {
     "output_type": "execute_result",
     "data": {
      "text/html": [
       "<div>\n",
       "<style scoped>\n",
       "    .dataframe tbody tr th:only-of-type {\n",
       "        vertical-align: middle;\n",
       "    }\n",
       "\n",
       "    .dataframe tbody tr th {\n",
       "        vertical-align: top;\n",
       "    }\n",
       "\n",
       "    .dataframe thead th {\n",
       "        text-align: right;\n",
       "    }\n",
       "</style>\n",
       "<table border=\"1\" class=\"dataframe\">\n",
       "  <thead>\n",
       "    <tr style=\"text-align: right;\">\n",
       "      <th></th>\n",
       "      <th>user_id</th>\n",
       "    </tr>\n",
       "    <tr>\n",
       "      <th>item_id</th>\n",
       "      <th></th>\n",
       "    </tr>\n",
       "  </thead>\n",
       "  <tbody>\n",
       "    <tr>\n",
       "      <th>1</th>\n",
       "      <td>452</td>\n",
       "    </tr>\n",
       "    <tr>\n",
       "      <th>2</th>\n",
       "      <td>131</td>\n",
       "    </tr>\n",
       "    <tr>\n",
       "      <th>3</th>\n",
       "      <td>90</td>\n",
       "    </tr>\n",
       "    <tr>\n",
       "      <th>4</th>\n",
       "      <td>209</td>\n",
       "    </tr>\n",
       "    <tr>\n",
       "      <th>5</th>\n",
       "      <td>86</td>\n",
       "    </tr>\n",
       "  </tbody>\n",
       "</table>\n",
       "</div>"
      ],
      "text/plain": [
       "         user_id\n",
       "item_id         \n",
       "1            452\n",
       "2            131\n",
       "3             90\n",
       "4            209\n",
       "5             86"
      ]
     },
     "metadata": {},
     "execution_count": 10
    }
   ],
   "metadata": {}
  },
  {
   "cell_type": "code",
   "execution_count": 11,
   "source": [
    "#평가 행렬(ratings)의 생성\r\n",
    "\r\n",
    "n_users = df.user_id.unique().shape[0]\r\n",
    "n_users\r\n",
    "# 실제 유저들의 숫자"
   ],
   "outputs": [
    {
     "output_type": "execute_result",
     "data": {
      "text/plain": [
       "943"
      ]
     },
     "metadata": {},
     "execution_count": 11
    }
   ],
   "metadata": {}
  },
  {
   "cell_type": "code",
   "execution_count": 12,
   "source": [
    "n_items = df.item_id.unique().shape[0]\r\n",
    "n_items\r\n",
    "# 아이템의 숫자(영화)"
   ],
   "outputs": [
    {
     "output_type": "execute_result",
     "data": {
      "text/plain": [
       "1682"
      ]
     },
     "metadata": {},
     "execution_count": 12
    }
   ],
   "metadata": {}
  },
  {
   "cell_type": "code",
   "execution_count": 13,
   "source": [
    "ratings = np.zeros((n_users, n_items))\r\n",
    "# np.zeors로 0으로 채워진 행렬을 만드는데, nuser, nitems의 갯수와 맞춤\r\n",
    "ratings.shape\r\n",
    "# 사용자와 영화수 맞는지 확인, 해당 위치에 추후 평점을 value로 넣을 예정(spars matrix역할)"
   ],
   "outputs": [
    {
     "output_type": "execute_result",
     "data": {
      "text/plain": [
       "(943, 1682)"
      ]
     },
     "metadata": {},
     "execution_count": 13
    }
   ],
   "metadata": {}
  },
  {
   "cell_type": "code",
   "execution_count": 14,
   "source": [
    "for row in df.itertuples():\r\n",
    "    ratings[row[1]-1, row[2]-1] = row[3]\r\n",
    "    #      [사용자, 영화] = 평점 -1을 하는 이유는 인덱스 이기 때문\r\n",
    "\r\n",
    "type(ratings)"
   ],
   "outputs": [
    {
     "output_type": "execute_result",
     "data": {
      "text/plain": [
       "numpy.ndarray"
      ]
     },
     "metadata": {},
     "execution_count": 14
    }
   ],
   "metadata": {}
  },
  {
   "cell_type": "code",
   "execution_count": 15,
   "source": [
    "ratings.shape"
   ],
   "outputs": [
    {
     "output_type": "execute_result",
     "data": {
      "text/plain": [
       "(943, 1682)"
      ]
     },
     "metadata": {},
     "execution_count": 15
    }
   ],
   "metadata": {}
  },
  {
   "cell_type": "code",
   "execution_count": 16,
   "source": [
    "ratings\r\n",
    "# 각 사용자별 영화의 평점을 열로 저장, 추후 정확한 표현을 위해 sparse matrix 형태로 구현"
   ],
   "outputs": [
    {
     "output_type": "execute_result",
     "data": {
      "text/plain": [
       "array([[5., 3., 4., ..., 0., 0., 0.],\n",
       "       [4., 0., 0., ..., 0., 0., 0.],\n",
       "       [0., 0., 0., ..., 0., 0., 0.],\n",
       "       ...,\n",
       "       [5., 0., 0., ..., 0., 0., 0.],\n",
       "       [0., 0., 0., ..., 0., 0., 0.],\n",
       "       [0., 5., 0., ..., 0., 0., 0.]])"
      ]
     },
     "metadata": {},
     "execution_count": 16
    }
   ],
   "metadata": {}
  },
  {
   "cell_type": "code",
   "execution_count": 18,
   "source": [
    "# 훈련 데이터 테스트 데이터 분리\r\n",
    "from sklearn.model_selection import train_test_split\r\n",
    "\r\n",
    "ratings_train, ratings_test = train_test_split(ratings, test_size=0.33, random_state=42)\r\n",
    "ratings_train.shape, ratings_test.shape\r\n",
    "# 사용자별 분리됨 영화평가한 정보가"
   ],
   "outputs": [
    {
     "output_type": "execute_result",
     "data": {
      "text/plain": [
       "((631, 1682), (312, 1682))"
      ]
     },
     "metadata": {},
     "execution_count": 18
    }
   ],
   "metadata": {}
  },
  {
   "cell_type": "code",
   "execution_count": 68,
   "source": [
    "# 사용자간 유사도 행렬 생성\r\n",
    "from sklearn.metrics.pairwise import cosine_distances #코사인 유사도 cosine_simillarity 간단하게 계산해줌 distances에서 1뺀것과 같음\r\n",
    "\r\n",
    "cosine_distances(ratings_train)\r\n",
    "# 각사용자의 영화별 선호도 점수를 유사도점수로 변환함"
   ],
   "outputs": [
    {
     "output_type": "execute_result",
     "data": {
      "text/plain": [
       "array([[0.        , 0.63524236, 0.55753769, ..., 0.97989359, 0.66892071,\n",
       "        0.74361482],\n",
       "       [0.63524236, 0.        , 0.57364745, ..., 0.93305581, 0.72660686,\n",
       "        0.77662732],\n",
       "       [0.55753769, 0.57364745, 0.        , ..., 0.93324244, 0.74575627,\n",
       "        0.77679874],\n",
       "       ...,\n",
       "       [0.97989359, 0.93305581, 0.93324244, ..., 0.        , 0.95146572,\n",
       "        0.94857492],\n",
       "       [0.66892071, 0.72660686, 0.74575627, ..., 0.95146572, 0.        ,\n",
       "        0.8801978 ],\n",
       "       [0.74361482, 0.77662732, 0.77679874, ..., 0.94857492, 0.8801978 ,\n",
       "        0.        ]])"
      ]
     },
     "metadata": {},
     "execution_count": 68
    }
   ],
   "metadata": {}
  },
  {
   "cell_type": "code",
   "execution_count": 69,
   "source": [
    "# 사용자간 유사도 행렬 생성\r\n",
    "from sklearn.metrics.pairwise import cosine_similarity \r\n",
    "\r\n",
    "cosine_similarity(ratings_train)\r\n",
    "# 각사용자의 영화별 선호도 점수를 유사도점수로 변환함"
   ],
   "outputs": [
    {
     "output_type": "execute_result",
     "data": {
      "text/plain": [
       "array([[1.        , 0.36475764, 0.44246231, ..., 0.02010641, 0.33107929,\n",
       "        0.25638518],\n",
       "       [0.36475764, 1.        , 0.42635255, ..., 0.06694419, 0.27339314,\n",
       "        0.22337268],\n",
       "       [0.44246231, 0.42635255, 1.        , ..., 0.06675756, 0.25424373,\n",
       "        0.22320126],\n",
       "       ...,\n",
       "       [0.02010641, 0.06694419, 0.06675756, ..., 1.        , 0.04853428,\n",
       "        0.05142508],\n",
       "       [0.33107929, 0.27339314, 0.25424373, ..., 0.04853428, 1.        ,\n",
       "        0.1198022 ],\n",
       "       [0.25638518, 0.22337268, 0.22320126, ..., 0.05142508, 0.1198022 ,\n",
       "        1.        ]])"
      ]
     },
     "metadata": {},
     "execution_count": 69
    }
   ],
   "metadata": {}
  },
  {
   "cell_type": "code",
   "execution_count": 23,
   "source": [
    "cosine_distances(ratings_train).shape"
   ],
   "outputs": [
    {
     "output_type": "execute_result",
     "data": {
      "text/plain": [
       "(631, 631)"
      ]
     },
     "metadata": {},
     "execution_count": 23
    }
   ],
   "metadata": {}
  },
  {
   "cell_type": "code",
   "execution_count": 20,
   "source": [
    "distances = 1 - cosine_distances(ratings_train)\r\n",
    "distances"
   ],
   "outputs": [
    {
     "output_type": "execute_result",
     "data": {
      "text/plain": [
       "array([[1.        , 0.36475764, 0.44246231, ..., 0.02010641, 0.33107929,\n",
       "        0.25638518],\n",
       "       [0.36475764, 1.        , 0.42635255, ..., 0.06694419, 0.27339314,\n",
       "        0.22337268],\n",
       "       [0.44246231, 0.42635255, 1.        , ..., 0.06675756, 0.25424373,\n",
       "        0.22320126],\n",
       "       ...,\n",
       "       [0.02010641, 0.06694419, 0.06675756, ..., 1.        , 0.04853428,\n",
       "        0.05142508],\n",
       "       [0.33107929, 0.27339314, 0.25424373, ..., 0.04853428, 1.        ,\n",
       "        0.1198022 ],\n",
       "       [0.25638518, 0.22337268, 0.22320126, ..., 0.05142508, 0.1198022 ,\n",
       "        1.        ]])"
      ]
     },
     "metadata": {},
     "execution_count": 20
    }
   ],
   "metadata": {}
  },
  {
   "cell_type": "code",
   "execution_count": 21,
   "source": [
    "distances.shape"
   ],
   "outputs": [
    {
     "output_type": "execute_result",
     "data": {
      "text/plain": [
       "(631, 631)"
      ]
     },
     "metadata": {},
     "execution_count": 21
    }
   ],
   "metadata": {}
  },
  {
   "cell_type": "code",
   "execution_count": 24,
   "source": [
    "# 평가 예측 및 모델의 성능 측정\r\n",
    "user_pred = distances.dot(ratings_train) / np.array([np.abs(distances).sum(axis=1)]).T\r\n",
    "# 사용자 유사도 예측  #np.dot 함수에 train 값 631X631 (631X1682)/ 음수가 있을수 있어 절대값(abs)으로 유사도관련된 합을 열별로 만듬, 크기를 맞추기 위해 전치행렬로 바꿔줌(.T)"
   ],
   "outputs": [],
   "metadata": {}
  },
  {
   "cell_type": "code",
   "execution_count": 25,
   "source": [
    "from sklearn.metrics import mean_squared_error"
   ],
   "outputs": [],
   "metadata": {}
  },
  {
   "cell_type": "code",
   "execution_count": 28,
   "source": [
    "def get_mse(pred, actual):\r\n",
    "    pred = pred[actual.nonzero()].flatten()\r\n",
    "    # 0이 있을수 있어 0을 제외하고 1차원으로 만듬\r\n",
    "    actual = actual[actual.nonzero()].flatten()\r\n",
    "    # 0이 있을수 있어 0을 제외하고 1차원으로 만듬\r\n",
    "    return mean_squared_error(pred, actual)\r\n",
    "    # 그정보를 mean_squred_error에 넣으면 mse값을 얻음"
   ],
   "outputs": [],
   "metadata": {}
  },
  {
   "cell_type": "code",
   "execution_count": 29,
   "source": [
    "np.sqrt(get_mse(user_pred, ratings_train))\r\n",
    "# mse값을 루트 싀우면 RMSE값이 만들어짐"
   ],
   "outputs": [
    {
     "output_type": "execute_result",
     "data": {
      "text/plain": [
       "2.8075245308903365"
      ]
     },
     "metadata": {},
     "execution_count": 29
    }
   ],
   "metadata": {}
  },
  {
   "cell_type": "code",
   "execution_count": 30,
   "source": [
    "np.sqrt(get_mse(user_pred, ratings_test))\r\n",
    "# mse값을 루트 싀우면 RMSE값이 만들어짐"
   ],
   "outputs": [
    {
     "output_type": "execute_result",
     "data": {
      "text/plain": [
       "2.9870546415652575"
      ]
     },
     "metadata": {},
     "execution_count": 30
    }
   ],
   "metadata": {}
  },
  {
   "cell_type": "code",
   "execution_count": null,
   "source": [
    "# 가장 비슷한 사용자를 찾는데 시간이 오래걸리는 단점을 가짐"
   ],
   "outputs": [],
   "metadata": {}
  },
  {
   "cell_type": "code",
   "execution_count": 32,
   "source": [
    "# 가장 비슷한 n명을 찾는 비지도 방식의 이웃 검색(KNN 과 비슷하나 지도방식임)\r\n",
    "from sklearn.neighbors import NearestNeighbors\r\n",
    "# 비지도 방식 클래스 NearestNeighbors\r\n",
    "\r\n",
    "k = 5\r\n",
    "# 가장비슷한 5개를 찾겠다는 설정\r\n",
    "neigh = NearestNeighbors(n_neighbors=k, metric='cosine')\r\n",
    "                        # 코사인 유사도로 비슷한걸 찾겟다고 설정, 유사도 계산은 코사인으로"
   ],
   "outputs": [],
   "metadata": {}
  },
  {
   "cell_type": "code",
   "execution_count": 33,
   "source": [
    "neigh.fit(ratings_train)\r\n",
    "# 훈련데이터 적합"
   ],
   "outputs": [
    {
     "output_type": "execute_result",
     "data": {
      "text/plain": [
       "NearestNeighbors(metric='cosine')"
      ]
     },
     "metadata": {},
     "execution_count": 33
    }
   ],
   "metadata": {}
  },
  {
   "cell_type": "code",
   "execution_count": 35,
   "source": [
    "top_k_distances, top_k_users = neigh.kneighbors(ratings_train, return_distance=True)\r\n",
    "# 거리, 유저 =           # kneighbors가 이제 가장 비슷한 5명을 찾아주고 distance(거리)를 반환해줌"
   ],
   "outputs": [],
   "metadata": {}
  },
  {
   "cell_type": "code",
   "execution_count": 36,
   "source": [
    "top_k_distances.shape, top_k_users.shape"
   ],
   "outputs": [
    {
     "output_type": "execute_result",
     "data": {
      "text/plain": [
       "((631, 5), (631, 5))"
      ]
     },
     "metadata": {},
     "execution_count": 36
    }
   ],
   "metadata": {}
  },
  {
   "cell_type": "code",
   "execution_count": 37,
   "source": [
    "top_k_users\r\n",
    "# 631 명에 해당하는 비슷한 사용자 생성됨"
   ],
   "outputs": [
    {
     "output_type": "execute_result",
     "data": {
      "text/plain": [
       "array([[  0, 589, 155,  33, 364],\n",
       "       [  1, 483, 339, 172, 188],\n",
       "       [  2, 382, 560, 350, 155],\n",
       "       ...,\n",
       "       [628, 258, 242, 229, 494],\n",
       "       [629, 378, 155, 589, 591],\n",
       "       [630, 495, 201, 417, 603]], dtype=int64)"
      ]
     },
     "metadata": {},
     "execution_count": 37
    }
   ],
   "metadata": {}
  },
  {
   "cell_type": "code",
   "execution_count": 38,
   "source": [
    "top_k_distances\r\n",
    "# 사용자별 유사도"
   ],
   "outputs": [
    {
     "output_type": "execute_result",
     "data": {
      "text/plain": [
       "array([[0.        , 0.38230161, 0.39990633, 0.40834169, 0.4100445 ],\n",
       "       [0.        , 0.4625691 , 0.50677921, 0.50811827, 0.50882566],\n",
       "       [0.        , 0.46538829, 0.48267976, 0.49176259, 0.49265099],\n",
       "       ...,\n",
       "       [0.        , 0.5764934 , 0.59340849, 0.64699606, 0.66472075],\n",
       "       [0.        , 0.60496802, 0.6115226 , 0.62054374, 0.6229481 ],\n",
       "       [0.        , 0.56320216, 0.60221688, 0.60314589, 0.6400121 ]])"
      ]
     },
     "metadata": {},
     "execution_count": 38
    }
   ],
   "metadata": {}
  },
  {
   "cell_type": "code",
   "execution_count": 39,
   "source": [
    "ratings_train.shape"
   ],
   "outputs": [
    {
     "output_type": "execute_result",
     "data": {
      "text/plain": [
       "(631, 1682)"
      ]
     },
     "metadata": {},
     "execution_count": 39
    }
   ],
   "metadata": {}
  },
  {
   "cell_type": "code",
   "execution_count": 41,
   "source": [
    "# 선택된 n명의 사용자들의 평가 가중치 합을 사용한 예측 및 모델의 성능 측정\r\n",
    "user_pred_k = np.zeros(ratings_train.shape)\r\n",
    "# 유사도점수의 크기(631x1682)만큼 0으로 채운 빈 변수를 만들어둠\r\n",
    "\r\n",
    "for i in range(ratings_train.shape[0]):\r\n",
    "    # 유저의 수 만큼 반복함(631)\r\n",
    "    user_pred_k[i, :] = top_k_distances[i].T.dot(ratings_train[top_k_users][i]) / \\\r\n",
    "    # 예측값은 행, 전체를 바꿈 = 뒤에잇는 값(ratings_train[top_k_users][i])과 크기가 안맞아 전치로 돌림\r\n",
    "        np.array([np.abs(top_k_distances[i].T).sum(axis=0)]).T"
   ],
   "outputs": [],
   "metadata": {}
  },
  {
   "cell_type": "code",
   "execution_count": 42,
   "source": [
    "user_pred_k.shape"
   ],
   "outputs": [
    {
     "output_type": "execute_result",
     "data": {
      "text/plain": [
       "(631, 1682)"
      ]
     },
     "metadata": {},
     "execution_count": 42
    }
   ],
   "metadata": {}
  },
  {
   "cell_type": "code",
   "execution_count": 43,
   "source": [
    "user_pred_k"
   ],
   "outputs": [
    {
     "output_type": "execute_result",
     "data": {
      "text/plain": [
       "array([[4.25618269, 2.49082621, 0.71654943, ..., 0.        , 0.        ,\n",
       "        0.        ],\n",
       "       [3.74418756, 0.        , 2.48873124, ..., 0.        , 0.        ,\n",
       "        0.        ],\n",
       "       [3.22293592, 2.98635211, 2.47648118, ..., 0.        , 0.        ,\n",
       "        0.        ],\n",
       "       ...,\n",
       "       [1.07143091, 0.        , 0.        , ..., 0.        , 0.        ,\n",
       "        0.        ],\n",
       "       [3.73945823, 2.48622549, 1.76969702, ..., 0.        , 0.        ,\n",
       "        0.        ],\n",
       "       [1.95357502, 0.        , 0.        , ..., 0.        , 0.        ,\n",
       "        0.        ]])"
      ]
     },
     "metadata": {},
     "execution_count": 43
    }
   ],
   "metadata": {}
  },
  {
   "cell_type": "code",
   "execution_count": 44,
   "source": [
    "np.sqrt(get_mse(user_pred_k, ratings_train))"
   ],
   "outputs": [
    {
     "output_type": "execute_result",
     "data": {
      "text/plain": [
       "2.0922014531938316"
      ]
     },
     "metadata": {},
     "execution_count": 44
    }
   ],
   "metadata": {}
  },
  {
   "cell_type": "code",
   "execution_count": 45,
   "source": [
    "np.sqrt(get_mse(user_pred_k, ratings_test))"
   ],
   "outputs": [
    {
     "output_type": "execute_result",
     "data": {
      "text/plain": [
       "3.054698791142718"
      ]
     },
     "metadata": {},
     "execution_count": 45
    }
   ],
   "metadata": {}
  },
  {
   "cell_type": "code",
   "execution_count": null,
   "source": [
    "# 가장 비슷한 5명의 사용자끼리만 비교하도록 개선한 모델"
   ],
   "outputs": [],
   "metadata": {}
  },
  {
   "cell_type": "code",
   "execution_count": 46,
   "source": [
    "# 영화의 수를 k로 사용해 영화간 유사도 행렬 계산\r\n",
    "k = ratings_train.shape[1]\r\n",
    "# 영화의 수 k 1682개\r\n",
    "neigh = NearestNeighbors(n_neighbors=k, metric=\"cosine\")\r\n",
    "                        # 영화의갯수, 유사도계산 cosine 으로 영화간 유사도 구함"
   ],
   "outputs": [],
   "metadata": {}
  },
  {
   "cell_type": "code",
   "execution_count": 47,
   "source": [
    "neigh.fit(ratings_train.T)\r\n",
    "# ratings 는 631 x 1682 므로 T로 전치시켜 크기를 맞춰줌"
   ],
   "outputs": [
    {
     "output_type": "execute_result",
     "data": {
      "text/plain": [
       "NearestNeighbors(metric='cosine', n_neighbors=1682)"
      ]
     },
     "metadata": {},
     "execution_count": 47
    }
   ],
   "metadata": {}
  },
  {
   "cell_type": "code",
   "execution_count": 49,
   "source": [
    "item_distances, _ = neigh.kneighbors(ratings_train.T, return_distance=True)\r\n",
    "# 거리 = 유사도 영화간 유사도 행렬을 구해줌"
   ],
   "outputs": [],
   "metadata": {}
  },
  {
   "cell_type": "code",
   "execution_count": 50,
   "source": [
    "item_distances"
   ],
   "outputs": [
    {
     "output_type": "execute_result",
     "data": {
      "text/plain": [
       "array([[0.        , 0.28112785, 0.30634744, ..., 1.        , 1.        ,\n",
       "        1.        ],\n",
       "       [0.        , 0.34340416, 0.36248159, ..., 1.        , 1.        ,\n",
       "        1.        ],\n",
       "       [0.        , 0.53423537, 0.54586079, ..., 1.        , 1.        ,\n",
       "        1.        ],\n",
       "       ...,\n",
       "       [1.        , 1.        , 1.        , ..., 1.        , 1.        ,\n",
       "        1.        ],\n",
       "       [0.        , 0.        , 0.4452998 , ..., 1.        , 1.        ,\n",
       "        1.        ],\n",
       "       [0.        , 0.0513167 , 0.50763404, ..., 1.        , 1.        ,\n",
       "        1.        ]])"
      ]
     },
     "metadata": {},
     "execution_count": 50
    }
   ],
   "metadata": {}
  },
  {
   "cell_type": "code",
   "execution_count": 51,
   "source": [
    "item_distances.shape\r\n",
    "# 영화와 관련된 행렬 생성 확인"
   ],
   "outputs": [
    {
     "output_type": "execute_result",
     "data": {
      "text/plain": [
       "(1682, 1682)"
      ]
     },
     "metadata": {},
     "execution_count": 51
    }
   ],
   "metadata": {}
  },
  {
   "cell_type": "code",
   "execution_count": 52,
   "source": [
    "item_pred = ratings_train.dot(item_distances) / np.array([np.abs(item_distances).sum(axis=1)])"
   ],
   "outputs": [],
   "metadata": {}
  },
  {
   "cell_type": "code",
   "execution_count": 53,
   "source": [
    "item_pred.shape"
   ],
   "outputs": [
    {
     "output_type": "execute_result",
     "data": {
      "text/plain": [
       "(631, 1682)"
      ]
     },
     "metadata": {},
     "execution_count": 53
    }
   ],
   "metadata": {}
  },
  {
   "cell_type": "code",
   "execution_count": 54,
   "source": [
    "item_pred"
   ],
   "outputs": [
    {
     "output_type": "execute_result",
     "data": {
      "text/plain": [
       "array([[7.42145170e-17, 2.68346602e-01, 2.73377633e-01, ...,\n",
       "        5.76694411e-01, 5.91031787e-01, 5.89962397e-01],\n",
       "       [5.42522608e-17, 1.70392459e-01, 1.73586594e-01, ...,\n",
       "        3.31747919e-01, 3.39995605e-01, 3.39380431e-01],\n",
       "       [6.92239530e-17, 3.27208145e-01, 3.32466794e-01, ...,\n",
       "        6.26634958e-01, 6.42213921e-01, 6.41051924e-01],\n",
       "       ...,\n",
       "       [9.98112810e-18, 6.34129164e-02, 6.25449872e-02, ...,\n",
       "        1.02259215e-01, 1.04801513e-01, 1.04611889e-01],\n",
       "       [3.78316952e-17, 1.66859982e-01, 1.67810294e-01, ...,\n",
       "        3.23424495e-01, 3.31465250e-01, 3.30865509e-01],\n",
       "       [1.86743687e-17, 2.53346239e-02, 2.63412738e-02, ...,\n",
       "        6.24256837e-02, 6.39776677e-02, 6.38619090e-02]])"
      ]
     },
     "metadata": {},
     "execution_count": 54
    }
   ],
   "metadata": {}
  },
  {
   "cell_type": "code",
   "execution_count": 56,
   "source": [
    "np.sqrt(get_mse(item_pred, ratings_train))"
   ],
   "outputs": [
    {
     "output_type": "execute_result",
     "data": {
      "text/plain": [
       "3.3784093354963565"
      ]
     },
     "metadata": {},
     "execution_count": 56
    }
   ],
   "metadata": {}
  },
  {
   "cell_type": "code",
   "execution_count": 57,
   "source": [
    "np.sqrt(get_mse(item_pred, ratings_test))"
   ],
   "outputs": [
    {
     "output_type": "execute_result",
     "data": {
      "text/plain": [
       "3.5098535318342443"
      ]
     },
     "metadata": {},
     "execution_count": 57
    }
   ],
   "metadata": {}
  },
  {
   "cell_type": "code",
   "execution_count": null,
   "source": [],
   "outputs": [],
   "metadata": {}
  }
 ],
 "metadata": {
  "orig_nbformat": 4,
  "language_info": {
   "name": "python",
   "version": "3.8.11",
   "mimetype": "text/x-python",
   "codemirror_mode": {
    "name": "ipython",
    "version": 3
   },
   "pygments_lexer": "ipython3",
   "nbconvert_exporter": "python",
   "file_extension": ".py"
  },
  "kernelspec": {
   "name": "python3",
   "display_name": "Python 3.8.11 64-bit ('base': conda)"
  },
  "interpreter": {
   "hash": "b3ba2566441a7c06988d0923437866b63cedc61552a5af99d1f4fb67d367b25f"
  }
 },
 "nbformat": 4,
 "nbformat_minor": 2
}