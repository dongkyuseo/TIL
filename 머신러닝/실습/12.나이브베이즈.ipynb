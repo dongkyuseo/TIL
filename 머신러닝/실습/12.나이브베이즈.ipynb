{
 "cells": [
  {
   "cell_type": "markdown",
   "source": [
    "# 나이브베이즈 스팸메일 구분\r\n",
    "- Enron 이메일 데이터 개요\r\n",
    "- 3672개의 정상 메일, 1500개의 스팸메일로 구성\r\n",
    "- ham : 정상메일이 담긴 폴더\r\n",
    "- spam : 스팸 메일이 담긴 폴더"
   ],
   "metadata": {}
  },
  {
   "cell_type": "code",
   "execution_count": 1,
   "source": [
    "import numpy as np\r\n",
    "import pandas as pd\r\n",
    "import matplotlib.pyplot as plt\r\n",
    "%matplotlib inline\r\n",
    "\r\n",
    "import glob\r\n",
    "import os"
   ],
   "outputs": [],
   "metadata": {}
  },
  {
   "cell_type": "code",
   "execution_count": 2,
   "source": [
    "emails, labels = [], []\r\n",
    "\r\n",
    "paths = [\"D:/Workspace/연습폴더/실습데이터_파이썬 머신러닝/enron1/spam/\", \"D:/Workspace/연습폴더/실습데이터_파이썬 머신러닝/enron1/ham/\"]\r\n",
    "\r\n",
    "for path in paths:\r\n",
    "    for filename in glob.glob(os.path.join(path, '*.txt')):\r\n",
    "        with open(filename, 'r', encoding=\"ISO-8859-1\") as file:\r\n",
    "            emails.append(file.read())\r\n",
    "            if path.endswith(\"spam/\"):\r\n",
    "                labels.append(1)\r\n",
    "            else:\r\n",
    "                labels.append(0)\r\n",
    "\r\n",
    "print(np.unique(labels, return_counts=True))"
   ],
   "outputs": [
    {
     "output_type": "stream",
     "name": "stdout",
     "text": [
      "(array([0, 1]), array([3672, 1500], dtype=int64))\n"
     ]
    }
   ],
   "metadata": {}
  },
  {
   "cell_type": "code",
   "execution_count": 3,
   "source": [
    "# 숫자 구두점 사람이름 제거\r\n",
    "import nltk\r\n",
    "nltk.download('names')\r\n",
    "# 이름과 관련된\r\n",
    "nltk.download('wordnet')\r\n",
    "# 워드넷 파일 다운"
   ],
   "outputs": [
    {
     "output_type": "stream",
     "name": "stderr",
     "text": [
      "[nltk_data] Downloading package names to\n",
      "[nltk_data]     C:\\Users\\DQ\\AppData\\Roaming\\nltk_data...\n",
      "[nltk_data]   Package names is already up-to-date!\n",
      "[nltk_data] Downloading package wordnet to\n",
      "[nltk_data]     C:\\Users\\DQ\\AppData\\Roaming\\nltk_data...\n",
      "[nltk_data]   Package wordnet is already up-to-date!\n"
     ]
    },
    {
     "output_type": "execute_result",
     "data": {
      "text/plain": [
       "True"
      ]
     },
     "metadata": {},
     "execution_count": 3
    }
   ],
   "metadata": {}
  },
  {
   "cell_type": "code",
   "execution_count": 4,
   "source": [
    "from nltk.corpus import names\r\n",
    "# corpus(말뭉치)중 이름\r\n",
    "from nltk.stem import WordNetLemmatizer\r\n",
    "# stem(어근) 중 단어 분류기 - 불용어처리"
   ],
   "outputs": [],
   "metadata": {}
  },
  {
   "cell_type": "code",
   "execution_count": 5,
   "source": [
    "all_names = set(names.words())\r\n",
    "lemmatizer = WordNetLemmatizer()"
   ],
   "outputs": [],
   "metadata": {}
  },
  {
   "cell_type": "code",
   "execution_count": 6,
   "source": [
    "cleaned_emails = []\r\n",
    "for email in emails:\r\n",
    "    cleaned_emails.append(' '.join([lemmatizer.lemmatize(word.lower())\r\n",
    "    # 리스트컴프레션 하여 원소로 사용해 join이 이루어짐, lemmatizer: 단어가 동사 품사라는 사실을 확인가능\r\n",
    "                                    for word in email.split()\r\n",
    "                                    # 0 email.을 분리해 검사함\r\n",
    "                                    if word.isalpha()\r\n",
    "                                    # 2 is alpha 알파벳인지 검사\r\n",
    "                                    and word not in all_names]))\r\n",
    "                                    # 1 그워드가 네임스에 들어가지않으면\r\n",
    "cleaned_emails[0]"
   ],
   "outputs": [
    {
     "output_type": "execute_result",
     "data": {
      "text/plain": [
       "'dobmeos with hgh my energy level ha gone up stukm introducing doctor formulated hgh human growth hormone also called hgh is referred to in medical science a the master hormone it is very plentiful when we are young but near the age of twenty one our body begin to produce le of it by the time we are forty nearly everyone is deficient in hgh and at eighty our production ha normally diminished at least advantage of hgh increased muscle strength loss in body fat increased bone density lower blood pressure quickens wound healing reduces cellulite improved vision wrinkle disappearance increased skin thickness texture increased energy level improved sleep and emotional stability improved memory and mental alertness increased sexual potency resistance to common illness strengthened heart muscle controlled cholesterol controlled mood swing new hair growth and color restore read more at this website unsubscribe'"
      ]
     },
     "metadata": {},
     "execution_count": 6
    }
   ],
   "metadata": {}
  },
  {
   "cell_type": "code",
   "execution_count": 7,
   "source": [
    "# 불용어 제거와 단어의 출현 빈도 특징을 추출\r\n",
    "from sklearn.feature_extraction.text import CountVectorizer\r\n",
    "# CountVectorizer : 단어 출현 빈도와 관련돼 있는 작업을 수행해주는 변환기\r\n",
    "vectorizer = CountVectorizer(stop_words='english', max_features=500)\r\n",
    "term_docs = vectorizer.fit_transform(cleaned_emails)\r\n",
    "print(term_docs[0])"
   ],
   "outputs": [
    {
     "output_type": "stream",
     "name": "stdout",
     "text": [
      "  (0, 125)\t2\n",
      "  (0, 178)\t2\n",
      "  (0, 47)\t1\n",
      "  (0, 497)\t1\n",
      "  (0, 231)\t1\n",
      "  (0, 445)\t1\n",
      "  (0, 345)\t1\n",
      "  (0, 250)\t1\n",
      "  (0, 424)\t1\n",
      "  (0, 285)\t1\n",
      "  (0, 69)\t1\n",
      "  (0, 357)\t1\n",
      "  (0, 481)\t1\n"
     ]
    }
   ],
   "metadata": {}
  },
  {
   "cell_type": "code",
   "execution_count": 8,
   "source": [
    "term_docs\r\n",
    "# spars matrix형태 희소행렬"
   ],
   "outputs": [
    {
     "output_type": "execute_result",
     "data": {
      "text/plain": [
       "<5172x500 sparse matrix of type '<class 'numpy.int64'>'\n",
       "\twith 113999 stored elements in Compressed Sparse Row format>"
      ]
     },
     "metadata": {},
     "execution_count": 8
    }
   ],
   "metadata": {}
  },
  {
   "cell_type": "code",
   "execution_count": 9,
   "source": [
    "term_docs.toarray()"
   ],
   "outputs": [
    {
     "output_type": "execute_result",
     "data": {
      "text/plain": [
       "array([[0, 0, 0, ..., 1, 0, 0],\n",
       "       [0, 0, 0, ..., 0, 0, 0],\n",
       "       [1, 0, 0, ..., 0, 0, 0],\n",
       "       ...,\n",
       "       [0, 0, 0, ..., 0, 0, 0],\n",
       "       [3, 0, 0, ..., 0, 0, 0],\n",
       "       [2, 0, 0, ..., 0, 0, 0]], dtype=int64)"
      ]
     },
     "metadata": {},
     "execution_count": 9
    }
   ],
   "metadata": {}
  },
  {
   "cell_type": "code",
   "execution_count": 10,
   "source": [
    "feature_names = vectorizer.get_feature_names()\r\n",
    "# 500개의 컬럼의 이름 변수에 저장\r\n",
    "\r\n",
    "feature_names[481], feature_names[357], feature_names[125], feature_names[:5]"
   ],
   "outputs": [
    {
     "output_type": "execute_result",
     "data": {
      "text/plain": [
       "('website',\n",
       " 'read',\n",
       " 'energy',\n",
       " ['able', 'access', 'account', 'accounting', 'act'])"
      ]
     },
     "metadata": {},
     "execution_count": 10
    }
   ],
   "metadata": {}
  },
  {
   "cell_type": "code",
   "execution_count": 11,
   "source": [
    "len(feature_names)"
   ],
   "outputs": [
    {
     "output_type": "execute_result",
     "data": {
      "text/plain": [
       "500"
      ]
     },
     "metadata": {},
     "execution_count": 11
    }
   ],
   "metadata": {}
  },
  {
   "cell_type": "code",
   "execution_count": 12,
   "source": [
    "# 훈련데이터와 테스트 데이터의 분리 및 변환\r\n",
    "from sklearn.model_selection import train_test_split\r\n",
    "X_train, X_test, y_train, y_test = train_test_split(cleaned_emails, labels, test_size=0.3, random_state=35)"
   ],
   "outputs": [],
   "metadata": {}
  },
  {
   "cell_type": "code",
   "execution_count": 13,
   "source": [
    "len(X_train), len(X_test), len(y_train), len(y_test)"
   ],
   "outputs": [
    {
     "output_type": "execute_result",
     "data": {
      "text/plain": [
       "(3620, 1552, 3620, 1552)"
      ]
     },
     "metadata": {},
     "execution_count": 13
    }
   ],
   "metadata": {}
  },
  {
   "cell_type": "code",
   "execution_count": 14,
   "source": [
    "term_docs_train = vectorizer.fit_transform(X_train)\r\n",
    "term_docs_test = vectorizer.transform(X_test)"
   ],
   "outputs": [],
   "metadata": {}
  },
  {
   "cell_type": "code",
   "execution_count": 15,
   "source": [
    "# 모델의 성능 측정 : 정확도, AUC\r\n",
    "\r\n",
    "from sklearn.naive_bayes import MultinomialNB\r\n",
    "naive_bayes = MultinomialNB(alpha=1, fit_prior=True)\r\n",
    "                            # 스무딩파라메터 1, 사소한확률 적용\r\n",
    "naive_bayes.fit(term_docs_train, y_train)"
   ],
   "outputs": [
    {
     "output_type": "execute_result",
     "data": {
      "text/plain": [
       "MultinomialNB(alpha=1)"
      ]
     },
     "metadata": {},
     "execution_count": 15
    }
   ],
   "metadata": {}
  },
  {
   "cell_type": "code",
   "execution_count": 16,
   "source": [
    "y_pred = naive_bayes.predict(term_docs_test)\r\n",
    "y_pred[:5]"
   ],
   "outputs": [
    {
     "output_type": "execute_result",
     "data": {
      "text/plain": [
       "array([0, 0, 0, 1, 0])"
      ]
     },
     "metadata": {},
     "execution_count": 16
    }
   ],
   "metadata": {}
  },
  {
   "cell_type": "code",
   "execution_count": 17,
   "source": [
    "np.unique(y_pred, return_counts=True)\r\n",
    "# y_pred 빈도 결과 출력"
   ],
   "outputs": [
    {
     "output_type": "execute_result",
     "data": {
      "text/plain": [
       "(array([0, 1]), array([1060,  492], dtype=int64))"
      ]
     },
     "metadata": {},
     "execution_count": 17
    }
   ],
   "metadata": {}
  },
  {
   "cell_type": "code",
   "execution_count": 18,
   "source": [
    "naive_bayes.score(term_docs_test, y_test)"
   ],
   "outputs": [
    {
     "output_type": "execute_result",
     "data": {
      "text/plain": [
       "0.9117268041237113"
      ]
     },
     "metadata": {},
     "execution_count": 18
    }
   ],
   "metadata": {}
  },
  {
   "cell_type": "code",
   "execution_count": 19,
   "source": [
    "y_pred_proba = naive_bayes.predict_proba(term_docs_test)\r\n",
    "# 스팸분류 0이면 햄 1이면 스팸\r\n",
    "y_pred_proba[:5]"
   ],
   "outputs": [
    {
     "output_type": "execute_result",
     "data": {
      "text/plain": [
       "array([[1.00000000e+000, 6.08798181e-313],\n",
       "       [9.27911745e-001, 7.20882550e-002],\n",
       "       [1.00000000e+000, 1.37875622e-037],\n",
       "       [2.55081896e-013, 1.00000000e+000],\n",
       "       [1.00000000e+000, 0.00000000e+000]])"
      ]
     },
     "metadata": {},
     "execution_count": 19
    }
   ],
   "metadata": {}
  },
  {
   "cell_type": "code",
   "execution_count": 20,
   "source": [
    "from sklearn.metrics import roc_auc_score, roc_curve"
   ],
   "outputs": [],
   "metadata": {}
  },
  {
   "cell_type": "code",
   "execution_count": 21,
   "source": [
    "fpr, tpr, _ = roc_curve(y_test, y_pred_proba[:, 1])# y_test, 스팸을 선택할 확률만 가져옴\r\n",
    "auc = roc_auc_score(y_test, y_pred_proba[:,1])\r\n",
    "plt.plot(fpr, tpr, \"r-\", label='MultinomialNB')\r\n",
    "        #x, y, color, 범례\r\n",
    "plt.plot([0,1], [0,1], \"b--\", label='random guess')\r\n",
    "        #x, y 의 점선\r\n",
    "plt.xlabel(\"false positive rate\")\r\n",
    "plt.ylabel(\"true psitive rate\")\r\n",
    "plt.title(\"ROC Curve: AUC={0:.2f}\".format(auc))\r\n",
    "plt.legend(loc='lower right');"
   ],
   "outputs": [
    {
     "output_type": "display_data",
     "data": {
      "image/png": "[encoded data removed]",
      "text/plain": [
       "<Figure size 432x288 with 1 Axes>"
      ]
     },
     "metadata": {
      "needs_background": "light"
     }
    }
   ],
   "metadata": {}
  },
  {
   "cell_type": "code",
   "execution_count": 22,
   "source": [
    "# 나이브 베이즈는 범주형데이터 에서 강력한 성능을 보여줌"
   ],
   "outputs": [],
   "metadata": {}
  },
  {
   "cell_type": "code",
   "execution_count": 23,
   "source": [
    "# 모델의 성능 개선\r\n",
    "from sklearn.model_selection import GridSearchCV"
   ],
   "outputs": [],
   "metadata": {}
  },
  {
   "cell_type": "code",
   "execution_count": 24,
   "source": [
    "parameters = {\r\n",
    "    \"alpha\": [0.5, 1.0, 1.5, 2.0],\r\n",
    "    \"fit_prior\" : [True, False]\r\n",
    "}"
   ],
   "outputs": [],
   "metadata": {}
  },
  {
   "cell_type": "code",
   "execution_count": 25,
   "source": [
    "grid_search = GridSearchCV(naive_bayes, parameters, n_jobs=-1, cv=10, scoring=\"roc_auc\")\r\n",
    "                                                            # 교차검증 10겹, "
   ],
   "outputs": [],
   "metadata": {}
  },
  {
   "cell_type": "code",
   "execution_count": 26,
   "source": [
    "grid_search.fit(term_docs_train, y_train)"
   ],
   "outputs": [
    {
     "output_type": "execute_result",
     "data": {
      "text/plain": [
       "GridSearchCV(cv=10, estimator=MultinomialNB(alpha=1), n_jobs=-1,\n",
       "             param_grid={'alpha': [0.5, 1.0, 1.5, 2.0],\n",
       "                         'fit_prior': [True, False]},\n",
       "             scoring='roc_auc')"
      ]
     },
     "metadata": {},
     "execution_count": 26
    }
   ],
   "metadata": {}
  },
  {
   "cell_type": "code",
   "execution_count": 27,
   "source": [
    "grid_search.best_params_"
   ],
   "outputs": [
    {
     "output_type": "execute_result",
     "data": {
      "text/plain": [
       "{'alpha': 0.5, 'fit_prior': True}"
      ]
     },
     "metadata": {},
     "execution_count": 27
    }
   ],
   "metadata": {}
  },
  {
   "cell_type": "code",
   "execution_count": 28,
   "source": [
    "naive_bayes_best = grid_search.best_estimator_"
   ],
   "outputs": [],
   "metadata": {}
  },
  {
   "cell_type": "code",
   "execution_count": 29,
   "source": [
    "y_pred = naive_bayes_best.predict(term_docs_test)\r\n",
    "y_pred"
   ],
   "outputs": [
    {
     "output_type": "execute_result",
     "data": {
      "text/plain": [
       "array([0, 0, 0, ..., 0, 0, 1])"
      ]
     },
     "metadata": {},
     "execution_count": 29
    }
   ],
   "metadata": {}
  },
  {
   "cell_type": "code",
   "execution_count": 30,
   "source": [
    "naive_bayes_best.score(term_docs_test, y_pred)"
   ],
   "outputs": [
    {
     "output_type": "execute_result",
     "data": {
      "text/plain": [
       "1.0"
      ]
     },
     "metadata": {},
     "execution_count": 30
    }
   ],
   "metadata": {}
  },
  {
   "cell_type": "code",
   "execution_count": 31,
   "source": [
    "y_pred_proba = naive_bayes_best.predict_proba(term_docs_test)\r\n",
    "y_pred_proba[:5]"
   ],
   "outputs": [
    {
     "output_type": "execute_result",
     "data": {
      "text/plain": [
       "array([[1.00000000e+00, 0.00000000e+00],\n",
       "       [9.33961024e-01, 6.60389764e-02],\n",
       "       [1.00000000e+00, 2.47667385e-39],\n",
       "       [3.08978789e-14, 1.00000000e+00],\n",
       "       [1.00000000e+00, 0.00000000e+00]])"
      ]
     },
     "metadata": {},
     "execution_count": 31
    }
   ],
   "metadata": {}
  },
  {
   "cell_type": "code",
   "execution_count": 32,
   "source": [
    "fpr, tpr, _ = roc_curve(y_test, y_pred_proba[:, 1])# y_test, 스팸을 선택할 확률만 가져옴\r\n",
    "auc = roc_auc_score(y_test, y_pred_proba[:,1])\r\n",
    "plt.plot(fpr, tpr, \"r-\", label='MultinomialNB')\r\n",
    "        #x, y, color, 범례\r\n",
    "plt.plot([0,1], [0,1], \"b--\", label='random guess')\r\n",
    "        #x, y 의 점선\r\n",
    "plt.xlabel(\"false positive rate\")\r\n",
    "plt.ylabel(\"true psitive rate\")\r\n",
    "plt.title(\"ROC Curve: AUC={0:.2f}\".format(auc))\r\n",
    "plt.legend(loc='lower right');"
   ],
   "outputs": [
    {
     "output_type": "display_data",
     "data": {
      "image/png": "[encoded data removed]",
      "text/plain": [
       "<Figure size 432x288 with 1 Axes>"
      ]
     },
     "metadata": {
      "needs_background": "light"
     }
    }
   ],
   "metadata": {}
  },
  {
   "cell_type": "code",
   "execution_count": null,
   "source": [],
   "outputs": [],
   "metadata": {}
  }
 ],
 "metadata": {
  "orig_nbformat": 4,
  "language_info": {
   "name": "python",
   "version": "3.8.11",
   "mimetype": "text/x-python",
   "codemirror_mode": {
    "name": "ipython",
    "version": 3
   },
   "pygments_lexer": "ipython3",
   "nbconvert_exporter": "python",
   "file_extension": ".py"
  },
  "kernelspec": {
   "name": "python3",
   "display_name": "Python 3.8.11 64-bit ('base': conda)"
  },
  "interpreter": {
   "hash": "b3ba2566441a7c06988d0923437866b63cedc61552a5af99d1f4fb67d367b25f"
  }
 },
 "nbformat": 4,
 "nbformat_minor": 2
}