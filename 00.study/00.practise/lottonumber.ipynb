{
 "cells": [
  {
   "cell_type": "code",
   "execution_count": 23,
   "source": [
    "import random\r\n",
    "\r\n",
    "lotto_number = []\r\n",
    "\r\n",
    "while True:\r\n",
    "    x = random.randint(1, 46)\r\n",
    "    if x not in lotto_number:\r\n",
    "        lotto_number.append(x)\r\n",
    "    if len(lotto_number) == 6:\r\n",
    "        break\r\n",
    "\r\n",
    "print(sorted(lotto_number))"
   ],
   "outputs": [
    {
     "output_type": "stream",
     "name": "stdout",
     "text": [
      "[4, 13, 15, 28, 32, 39]\n"
     ]
    }
   ],
   "metadata": {}
  }
 ],
 "metadata": {
  "orig_nbformat": 4,
  "language_info": {
   "name": "python",
   "version": "3.8.10",
   "mimetype": "text/x-python",
   "codemirror_mode": {
    "name": "ipython",
    "version": 3
   },
   "pygments_lexer": "ipython3",
   "nbconvert_exporter": "python",
   "file_extension": ".py"
  },
  "kernelspec": {
   "name": "python3",
   "display_name": "Python 3.8.10 64-bit ('base': conda)"
  },
  "interpreter": {
   "hash": "20e1214a8bdb2e2c2b34d6c87bb951f9c9d2bc9eb3a38bf18f3ccb00b0b17c39"
  }
 },
 "nbformat": 4,
 "nbformat_minor": 2
}