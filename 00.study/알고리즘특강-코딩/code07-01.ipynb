{
 "cells": [
  {
   "cell_type": "code",
   "execution_count": 2,
   "source": [
    "# 전역 변수부\r\n",
    "SIZE = 5\r\n",
    "queue = [None for _ in range(SIZE)]\r\n",
    "front = rear = -1"
   ],
   "outputs": [],
   "metadata": {}
  },
  {
   "cell_type": "code",
   "execution_count": 3,
   "source": [
    "\r\n",
    "rear +=1\r\n",
    "queue[rear] = '화사'\r\n",
    "\r\n",
    "rear +=1\r\n",
    "queue[rear] = '솔라'\r\n",
    "\r\n",
    "rear +=1\r\n",
    "queue[rear] = '문별'\r\n",
    "\r\n",
    "print('<--', queue, '<--')"
   ],
   "outputs": [
    {
     "output_type": "stream",
     "name": "stdout",
     "text": [
      "<-- ['화사', '솔라', '문별', None, None] <--\n"
     ]
    }
   ],
   "metadata": {}
  },
  {
   "cell_type": "code",
   "execution_count": 4,
   "source": [
    "\r\n",
    "front += 1\r\n",
    "data = queue[front]\r\n",
    "queue[front] = None\r\n",
    "print('입장 손님:', data)"
   ],
   "outputs": [
    {
     "output_type": "stream",
     "name": "stdout",
     "text": [
      "입장 손님: 화사\n"
     ]
    }
   ],
   "metadata": {}
  },
  {
   "cell_type": "code",
   "execution_count": 5,
   "source": [
    "front += 1\r\n",
    "data = queue[front]\r\n",
    "queue[front] = None\r\n",
    "print('입장 손님:', data)\r\n",
    "front += 1\r\n",
    "data = queue[front]\r\n",
    "queue[front] = None\r\n",
    "print('입장 손님:', data)\r\n",
    "print(queue)"
   ],
   "outputs": [
    {
     "output_type": "stream",
     "name": "stdout",
     "text": [
      "입장 손님: 솔라\n",
      "입장 손님: 문별\n",
      "[None, None, None, None, None]\n"
     ]
    }
   ],
   "metadata": {}
  },
  {
   "cell_type": "code",
   "execution_count": 6,
   "source": [
    "front, rear"
   ],
   "outputs": [
    {
     "output_type": "execute_result",
     "data": {
      "text/plain": [
       "(2, 2)"
      ]
     },
     "metadata": {},
     "execution_count": 6
    }
   ],
   "metadata": {}
  },
  {
   "cell_type": "code",
   "execution_count": null,
   "source": [],
   "outputs": [],
   "metadata": {}
  }
 ],
 "metadata": {
  "orig_nbformat": 4,
  "language_info": {
   "name": "python",
   "version": "3.8.11",
   "mimetype": "text/x-python",
   "codemirror_mode": {
    "name": "ipython",
    "version": 3
   },
   "pygments_lexer": "ipython3",
   "nbconvert_exporter": "python",
   "file_extension": ".py"
  },
  "kernelspec": {
   "name": "python3",
   "display_name": "Python 3.8.8 64-bit ('base': conda)"
  },
  "interpreter": {
   "hash": "b3ba2566441a7c06988d0923437866b63cedc61552a5af99d1f4fb67d367b25f"
  }
 },
 "nbformat": 4,
 "nbformat_minor": 2
}