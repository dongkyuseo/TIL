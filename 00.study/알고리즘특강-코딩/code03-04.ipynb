{
 "cells": [
  {
   "cell_type": "markdown",
   "source": [
    "# 함수 선언부"
   ],
   "metadata": {}
  },
  {
   "cell_type": "code",
   "execution_count": 19,
   "source": [
    "def add_data(friend):\r\n",
    "    katok.append(None)\r\n",
    "    kLen = len(katok)\r\n",
    "    katok[kLen-1] = friend"
   ],
   "outputs": [],
   "metadata": {}
  },
  {
   "cell_type": "code",
   "execution_count": 20,
   "source": [
    "def insert_data(positon, friend) : # 삽입 함수\r\n",
    "    katok.append(None)\r\n",
    "    kLen = len(katok)\r\n",
    "\r\n",
    "    for i in range(kLen-1, positon, -1):\r\n",
    "        katok[i] = katok[i-1]\r\n",
    "        katok[i-1] = None\r\n",
    "\r\n",
    "    katok[positon] = friend"
   ],
   "outputs": [],
   "metadata": {}
  },
  {
   "cell_type": "code",
   "execution_count": 21,
   "source": [
    "def delete_data(position):\r\n",
    "    kLen = len(katok)\r\n",
    "    katok[position] = None\r\n",
    "\r\n",
    "    for i in range(position+1, kLen):\r\n",
    "        katok[i-1] = katok[i]\r\n",
    "        katok[i] = None\r\n",
    "        \r\n",
    "    del (katok[kLen-1])"
   ],
   "outputs": [],
   "metadata": {}
  },
  {
   "cell_type": "markdown",
   "source": [
    "# 전역 변수부"
   ],
   "metadata": {}
  },
  {
   "cell_type": "code",
   "execution_count": 29,
   "source": [
    "katok = []\r\n",
    "select = -1 # 1.추가, 2.삽입, 3.삭제, 4.종료\r\n"
   ],
   "outputs": [],
   "metadata": {}
  },
  {
   "cell_type": "markdown",
   "source": [
    "# 메인코드부"
   ],
   "metadata": {}
  },
  {
   "cell_type": "code",
   "execution_count": null,
   "source": [
    "while (select != 4):\r\n",
    "    select = int(input('1.추가, 2.삽입, 3.삭제, 4.종료-->'))\r\n",
    "\r\n",
    "    if select == 1:\r\n",
    "        friend = input('추가할 데이터-->')\r\n",
    "        add_data(friend)\r\n",
    "        print(katok)\r\n",
    "\r\n",
    "    elif select == 2:\r\n",
    "        position = int(input('삽입할 위치-->'))\r\n",
    "        friend = input('추가할 데이터-->')\r\n",
    "        insert_data(position, friend)\r\n",
    "        print(katok)\r\n",
    "\r\n",
    "    elif select == 3:\r\n",
    "        position = int(input('삭제할 위치-->'))\r\n",
    "        delete_data(position)\r\n",
    "        print(katok)\r\n",
    "\r\n",
    "    elif select == 4:\r\n",
    "        print(katok)\r\n",
    "        exit # break\r\n",
    "\r\n",
    "    else:\r\n",
    "        print('다시확인')\r\n",
    "        continue"
   ],
   "outputs": [],
   "metadata": {}
  },
  {
   "cell_type": "code",
   "execution_count": 33,
   "source": [
    "while (select != 4):\r\n",
    "    select = int(input('1.추가, 2.삽입, 3.삭제, 4.종료-->'))\r\n",
    "    if select == 1 or 2 or 3 or 4:\r\n",
    "        \r\n",
    "        if select == 1:\r\n",
    "            friend = input('추가할 데이터-->')\r\n",
    "            add_data(friend)\r\n",
    "            print(katok)\r\n",
    "\r\n",
    "        elif select == 2:\r\n",
    "            position = int(input('삽입할 위치-->'))\r\n",
    "            if position <= len(katok):\r\n",
    "                friend = input('추가할 데이터-->')\r\n",
    "                insert_data(position, friend)\r\n",
    "                print(katok)\r\n",
    "            else:\r\n",
    "                print('다시확인')\r\n",
    "                continue\r\n",
    "        \r\n",
    "        elif select == 3:\r\n",
    "            if position <= len(katok):\r\n",
    "                position = int(input('삭제할 위치-->'))\r\n",
    "                delete_data(position)\r\n",
    "                print(katok)\r\n",
    "            else:\r\n",
    "                print('다시확인')\r\n",
    "                continue\r\n",
    "\r\n",
    "        elif select == 4:\r\n",
    "            print(katok)\r\n",
    "            exit # break\r\n",
    "\r\n",
    "        else:\r\n",
    "            print('다시확인')\r\n",
    "            continue\r\n",
    "    else:\r\n",
    "        print('다시확인')\r\n",
    "        continue"
   ],
   "outputs": [
    {
     "output_type": "stream",
     "name": "stdout",
     "text": [
      "['다현', '정연', '쯔위']\n",
      "['다현', '정연', '쯔위']\n"
     ]
    }
   ],
   "metadata": {}
  },
  {
   "cell_type": "code",
   "execution_count": null,
   "source": [],
   "outputs": [],
   "metadata": {}
  }
 ],
 "metadata": {
  "orig_nbformat": 4,
  "language_info": {
   "name": "python",
   "version": "3.8.10",
   "mimetype": "text/x-python",
   "codemirror_mode": {
    "name": "ipython",
    "version": 3
   },
   "pygments_lexer": "ipython3",
   "nbconvert_exporter": "python",
   "file_extension": ".py"
  },
  "kernelspec": {
   "name": "python3",
   "display_name": "Python 3.8.10 64-bit ('base': conda)"
  },
  "interpreter": {
   "hash": "20e1214a8bdb2e2c2b34d6c87bb951f9c9d2bc9eb3a38bf18f3ccb00b0b17c39"
  }
 },
 "nbformat": 4,
 "nbformat_minor": 2
}