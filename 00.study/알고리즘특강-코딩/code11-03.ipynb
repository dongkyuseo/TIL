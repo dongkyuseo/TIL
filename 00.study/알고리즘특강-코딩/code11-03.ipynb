{
 "cells": [
  {
   "cell_type": "markdown",
   "source": [
    "# 개선된 선택 정렬"
   ],
   "metadata": {}
  },
  {
   "cell_type": "code",
   "execution_count": 14,
   "source": [
    "# 함수 선언부\r\n",
    "def selectionSort(ary):\r\n",
    "    n = len(ary)\r\n",
    "    for i in range(0, n-1):\r\n",
    "        minIndex = i\r\n",
    "        for k in range(i+1, n):\r\n",
    "            if ary[minIndex] > ary[k]:\r\n",
    "                minIndex = k\r\n",
    "        ary[i], ary[minIndex] = ary[minIndex], ary[i]\r\n",
    "    return ary        "
   ],
   "outputs": [],
   "metadata": {}
  },
  {
   "cell_type": "code",
   "execution_count": 15,
   "source": [
    "# 전역 변수\r\n",
    "import random\r\n",
    "dataAry = [random.randint(33,190) for _ in range(20)]"
   ],
   "outputs": [],
   "metadata": {}
  },
  {
   "cell_type": "code",
   "execution_count": 16,
   "source": [
    "# 메인 메인코드부\r\n",
    "print('정렬 전 -->', dataAry)\r\n",
    "\r\n",
    "dataAry = selectionSort(dataAry)\r\n",
    "    \r\n",
    "print('정렬 후 -->', dataAry)\r\n"
   ],
   "outputs": [
    {
     "output_type": "stream",
     "name": "stdout",
     "text": [
      "정렬 전 --> [85, 33, 86, 95, 133, 156, 134, 47, 142, 162, 113, 80, 107, 127, 152, 42, 153, 88, 77, 182]\n",
      "정렬 후 --> [33, 42, 47, 77, 80, 85, 86, 88, 95, 107, 113, 127, 133, 134, 142, 152, 153, 156, 162, 182]\n"
     ]
    }
   ],
   "metadata": {}
  },
  {
   "cell_type": "code",
   "execution_count": null,
   "source": [],
   "outputs": [],
   "metadata": {}
  }
 ],
 "metadata": {
  "orig_nbformat": 4,
  "language_info": {
   "name": "python",
   "version": "3.8.11",
   "mimetype": "text/x-python",
   "codemirror_mode": {
    "name": "ipython",
    "version": 3
   },
   "pygments_lexer": "ipython3",
   "nbconvert_exporter": "python",
   "file_extension": ".py"
  },
  "kernelspec": {
   "name": "python3",
   "display_name": "Python 3.8.8 64-bit ('base': conda)"
  },
  "interpreter": {
   "hash": "b3ba2566441a7c06988d0923437866b63cedc61552a5af99d1f4fb67d367b25f"
  }
 },
 "nbformat": 4,
 "nbformat_minor": 2
}