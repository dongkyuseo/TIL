{
 "cells": [
  {
   "cell_type": "code",
   "execution_count": 1,
   "source": [
    "# 함수\r\n",
    "class TreeNode() :\r\n",
    "    def __init__(self) :\r\n",
    "        self.left = None\r\n",
    "        self.data = None\r\n",
    "        self.right = None"
   ],
   "outputs": [],
   "metadata": {}
  },
  {
   "cell_type": "code",
   "execution_count": 2,
   "source": [
    "# 전역변수\r\n",
    "memory = []\r\n",
    "root = None\r\n",
    "nameAry = ['블랙핑크', '레드벨벳', '마마무', '에이핑크', '걸스데이', '트와이스']"
   ],
   "outputs": [],
   "metadata": {}
  },
  {
   "cell_type": "code",
   "execution_count": 3,
   "source": [
    "# 메인\r\n",
    "# 첫번째 데이터를 만들고 루트로 지정\r\n",
    "node = TreeNode()\r\n",
    "node.data = nameAry[0]\r\n",
    "root = node\r\n",
    "memory.append(node)"
   ],
   "outputs": [],
   "metadata": {}
  },
  {
   "cell_type": "code",
   "execution_count": 11,
   "source": [
    "# 이후 이진 탐색 트리 이용\r\n",
    "for name in nameAry[1:] :\r\n",
    "    node = TreeNode()\r\n",
    "    node.data = name\r\n",
    "    current = root\r\n",
    "    while True: # 이진탐색은 자리를 언제 잡을지 몰라 무한반복 해야 함, 한글은 가나다 순\r\n",
    "        if name < current.data :\r\n",
    "            if current.left == None :\r\n",
    "                current.left = node\r\n",
    "                break\r\n",
    "            current = current.left\r\n",
    "        else:\r\n",
    "            if current.right == None :\r\n",
    "                current.right = node\r\n",
    "                break\r\n",
    "            current = current.right\r\n",
    "\r\n",
    "    memory.append(node)\r\n",
    "\r\n",
    "print('이진 탐색 트리 구성 완료!')\r\n"
   ],
   "outputs": [
    {
     "output_type": "stream",
     "name": "stdout",
     "text": [
      "이진 탐색 트리 구성 완료!\n"
     ]
    }
   ],
   "metadata": {}
  },
  {
   "cell_type": "code",
   "execution_count": 12,
   "source": [
    "findData = '마마무'\r\n",
    "current = root\r\n",
    "\r\n",
    "while True :\r\n",
    "    if current.data == findData:\r\n",
    "        print(findData, '찾았음!')\r\n",
    "        break\r\n",
    "    elif findData < current.data :\r\n",
    "        if current.left == None :\r\n",
    "            print(findData, '없음!')\r\n",
    "            break\r\n",
    "        current = current.left\r\n",
    "    else :\r\n",
    "        if current.right == None :\r\n",
    "            print(findData, '없음!')\r\n",
    "            break\r\n",
    "        current = current.right\r\n",
    "\r\n"
   ],
   "outputs": [
    {
     "output_type": "stream",
     "name": "stdout",
     "text": [
      "마마무 찾았음!\n"
     ]
    }
   ],
   "metadata": {}
  },
  {
   "cell_type": "code",
   "execution_count": null,
   "source": [],
   "outputs": [],
   "metadata": {}
  }
 ],
 "metadata": {
  "orig_nbformat": 4,
  "language_info": {
   "name": "python",
   "version": "3.8.11",
   "mimetype": "text/x-python",
   "codemirror_mode": {
    "name": "ipython",
    "version": 3
   },
   "pygments_lexer": "ipython3",
   "nbconvert_exporter": "python",
   "file_extension": ".py"
  },
  "kernelspec": {
   "name": "python3",
   "display_name": "Python 3.8.8 64-bit ('base': conda)"
  },
  "interpreter": {
   "hash": "b3ba2566441a7c06988d0923437866b63cedc61552a5af99d1f4fb67d367b25f"
  }
 },
 "nbformat": 4,
 "nbformat_minor": 2
}