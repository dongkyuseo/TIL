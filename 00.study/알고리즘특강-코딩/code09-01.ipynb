{
 "cells": [
  {
   "cell_type": "markdown",
   "source": [
    "# 무방향 그래프 만들기"
   ],
   "metadata": {}
  },
  {
   "cell_type": "code",
   "execution_count": 8,
   "source": [
    "# 함수\r\n",
    "class Graph():\r\n",
    "    def __init__(self, size) :\r\n",
    "        self.SIZE = size\r\n",
    "        self.graph = [[ 0 for _ in range(size)] for _ in range(size)]"
   ],
   "outputs": [],
   "metadata": {}
  },
  {
   "cell_type": "code",
   "execution_count": 9,
   "source": [
    "# 전역 변수\r\n",
    "G1 = None\r\n",
    "A, B, C, D = 0, 1, 2, 3"
   ],
   "outputs": [],
   "metadata": {}
  },
  {
   "cell_type": "code",
   "execution_count": 10,
   "source": [
    "# 메인 코드\r\n",
    "G1 = Graph(4)"
   ],
   "outputs": [],
   "metadata": {}
  },
  {
   "cell_type": "code",
   "execution_count": 15,
   "source": [
    "G1.graph[A][B] = 1\r\n",
    "G1.graph[A][C] = 1\r\n",
    "G1.graph[A][D] = 1\r\n",
    "\r\n",
    "G1.graph[B][A] = 1\r\n",
    "G1.graph[B][C] = 1\r\n",
    "\r\n",
    "G1.graph[C][A] = 1\r\n",
    "G1.graph[C][B] = 1\r\n",
    "G1.graph[C][D] = 1\r\n",
    "\r\n",
    "G1.graph[D][A] = 1\r\n",
    "G1.graph[D][C] = 1"
   ],
   "outputs": [],
   "metadata": {}
  },
  {
   "cell_type": "code",
   "execution_count": 18,
   "source": [
    "for row in range(4):\r\n",
    "    for col in range(4):\r\n",
    "        print(G1.graph[row][col], end=' ')\r\n",
    "    print()"
   ],
   "outputs": [
    {
     "output_type": "stream",
     "name": "stdout",
     "text": [
      "0 1 1 1 \n",
      "1 0 1 0 \n",
      "1 1 0 1 \n",
      "1 0 1 0 \n"
     ]
    }
   ],
   "metadata": {}
  },
  {
   "cell_type": "code",
   "execution_count": null,
   "source": [],
   "outputs": [],
   "metadata": {}
  }
 ],
 "metadata": {
  "orig_nbformat": 4,
  "language_info": {
   "name": "python",
   "version": "3.8.11",
   "mimetype": "text/x-python",
   "codemirror_mode": {
    "name": "ipython",
    "version": 3
   },
   "pygments_lexer": "ipython3",
   "nbconvert_exporter": "python",
   "file_extension": ".py"
  },
  "kernelspec": {
   "name": "python3",
   "display_name": "Python 3.8.8 64-bit ('base': conda)"
  },
  "interpreter": {
   "hash": "b3ba2566441a7c06988d0923437866b63cedc61552a5af99d1f4fb67d367b25f"
  }
 },
 "nbformat": 4,
 "nbformat_minor": 2
}