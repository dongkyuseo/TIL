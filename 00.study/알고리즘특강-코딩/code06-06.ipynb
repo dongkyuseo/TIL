{
 "cells": [
  {
   "cell_type": "code",
   "execution_count": 82,
   "source": [
    "## 함수 선언부\r\n",
    "def isStackFull():\r\n",
    "    global SIZE, stack, top\r\n",
    "    if top == SIZE-1:\r\n",
    "        return True\r\n",
    "    else:\r\n",
    "        return False\r\n",
    "\r\n",
    "def push(data) :\r\n",
    "    global SIZE, stack, top\r\n",
    "    if isStackFull():\r\n",
    "        print('스택이 꽉찼음')\r\n",
    "        return\r\n",
    "\r\n",
    "    else:\r\n",
    "        top += 1\r\n",
    "        stack[top] = data\r\n",
    "\r\n",
    "def isStackEmpty() :\r\n",
    "    if top == -1:\r\n",
    "        return True\r\n",
    "    else:\r\n",
    "        return False\r\n",
    "\r\n",
    "def pop():\r\n",
    "    global SIZE, stack, top\r\n",
    "    if isStackEmpty():\r\n",
    "        print('스택이 비어있음')\r\n",
    "        return None\r\n",
    "\r\n",
    "    else:\r\n",
    "        data = stack[top]\r\n",
    "        stack[top] = None\r\n",
    "        top -= 1\r\n",
    "        return data"
   ],
   "outputs": [],
   "metadata": {}
  },
  {
   "cell_type": "code",
   "execution_count": 83,
   "source": [
    "## 전역 변수부\r\n",
    "SIZE = 5\r\n",
    "stack = [None for _ in range(SIZE)]\r\n",
    "top = -1"
   ],
   "outputs": [],
   "metadata": {}
  },
  {
   "cell_type": "code",
   "execution_count": 77,
   "source": [
    "## 메인 코드부\r\n",
    "push('커피1')\r\n",
    "push('커피2')\r\n",
    "push('커피3')\r\n",
    "push('커피4')\r\n",
    "push('커피5')\r\n",
    "push('커피6')\r\n",
    "print(stack)"
   ],
   "outputs": [
    {
     "output_type": "stream",
     "name": "stdout",
     "text": [
      "스택이 꽉찼음\n",
      "['커피1', '커피2', '커피3', '커피4', '커피5']\n"
     ]
    }
   ],
   "metadata": {}
  },
  {
   "cell_type": "code",
   "execution_count": 84,
   "source": [
    "push('커피1')\r\n",
    "push('커피2')\r\n",
    "print(stack)"
   ],
   "outputs": [
    {
     "output_type": "stream",
     "name": "stdout",
     "text": [
      "['커피1', '커피2', None, None, None]\n"
     ]
    }
   ],
   "metadata": {}
  },
  {
   "cell_type": "code",
   "execution_count": 85,
   "source": [
    "pop()\r\n",
    "print(stack)\r\n",
    "pop()\r\n",
    "print(stack)\r\n",
    "pop()\r\n",
    "print(stack)\r\n",
    "pop()\r\n",
    "print(stack)\r\n",
    "pop()\r\n",
    "print(stack)"
   ],
   "outputs": [
    {
     "output_type": "stream",
     "name": "stdout",
     "text": [
      "['커피1', None, None, None, None]\n",
      "[None, None, None, None, None]\n",
      "스택이 비어있음\n",
      "[None, None, None, None, None]\n",
      "스택이 비어있음\n",
      "[None, None, None, None, None]\n",
      "스택이 비어있음\n",
      "[None, None, None, None, None]\n"
     ]
    }
   ],
   "metadata": {}
  },
  {
   "cell_type": "code",
   "execution_count": null,
   "source": [],
   "outputs": [],
   "metadata": {}
  }
 ],
 "metadata": {
  "orig_nbformat": 4,
  "language_info": {
   "name": "python",
   "version": "3.8.10",
   "mimetype": "text/x-python",
   "codemirror_mode": {
    "name": "ipython",
    "version": 3
   },
   "pygments_lexer": "ipython3",
   "nbconvert_exporter": "python",
   "file_extension": ".py"
  },
  "kernelspec": {
   "name": "python3",
   "display_name": "Python 3.8.10 64-bit ('base': conda)"
  },
  "interpreter": {
   "hash": "20e1214a8bdb2e2c2b34d6c87bb951f9c9d2bc9eb3a38bf18f3ccb00b0b17c39"
  }
 },
 "nbformat": 4,
 "nbformat_minor": 2
}