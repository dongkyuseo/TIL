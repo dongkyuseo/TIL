{
 "cells": [
  {
   "cell_type": "markdown",
   "source": [
    "# 이진트리"
   ],
   "metadata": {}
  },
  {
   "cell_type": "code",
   "execution_count": 1,
   "source": [
    "class TreeNode():\r\n",
    "    def __init__(self):\r\n",
    "        self.left : None\r\n",
    "        self.data : None\r\n",
    "        self.right : None"
   ],
   "outputs": [],
   "metadata": {}
  },
  {
   "cell_type": "code",
   "execution_count": 2,
   "source": [
    "node1 = TreeNode()\r\n",
    "node1.data = '화사'\r\n",
    "\r\n",
    "node2 = TreeNode()\r\n",
    "node2.data = '솔라'\r\n",
    "node1.left = node2\r\n",
    "\r\n",
    "node3 = TreeNode()\r\n",
    "node3.data = '문별'\r\n",
    "node1.right = node3\r\n",
    "\r\n",
    "node4 = TreeNode()\r\n",
    "node4.data = '휘인'\r\n",
    "node2.left = node4\r\n",
    "\r\n",
    "node5 = TreeNode()\r\n",
    "node5.data = '쯔위'\r\n",
    "node2.right = node5\r\n",
    "\r\n",
    "node6 = TreeNode()\r\n",
    "node6.data = '선미'\r\n",
    "node3.left = node6"
   ],
   "outputs": [],
   "metadata": {}
  },
  {
   "cell_type": "code",
   "execution_count": 7,
   "source": [
    "print(node1.data, end= ' ')\r\n",
    "print()\r\n",
    "print(node1.left.data, node1.right.data, end= ' ')\r\n",
    "print()\r\n",
    "print(node1.left.left.data, node1.left.right.data, end= ' ')"
   ],
   "outputs": [
    {
     "output_type": "stream",
     "name": "stdout",
     "text": [
      "화사 \n",
      "솔라 문별 \n",
      "휘인 쯔위 "
     ]
    }
   ],
   "metadata": {}
  },
  {
   "cell_type": "code",
   "execution_count": null,
   "source": [],
   "outputs": [],
   "metadata": {}
  }
 ],
 "metadata": {
  "orig_nbformat": 4,
  "language_info": {
   "name": "python",
   "version": "3.8.11",
   "mimetype": "text/x-python",
   "codemirror_mode": {
    "name": "ipython",
    "version": 3
   },
   "pygments_lexer": "ipython3",
   "nbconvert_exporter": "python",
   "file_extension": ".py"
  },
  "kernelspec": {
   "name": "python3",
   "display_name": "Python 3.8.8 64-bit ('base': conda)"
  },
  "interpreter": {
   "hash": "b3ba2566441a7c06988d0923437866b63cedc61552a5af99d1f4fb67d367b25f"
  }
 },
 "nbformat": 4,
 "nbformat_minor": 2
}