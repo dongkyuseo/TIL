{
 "cells": [
  {
   "cell_type": "markdown",
   "source": [
    "# 정렬 알고리즘 - 선택 정렬"
   ],
   "metadata": {}
  },
  {
   "cell_type": "code",
   "execution_count": 4,
   "source": [
    "def findminIndex(ary):\r\n",
    "    minIndex = 0\r\n",
    "    for i in range(1, len(ary)):\r\n",
    "        if ary[minIndex] > ary[i]:\r\n",
    "            minIndex = i\r\n",
    "            \r\n",
    "    return minIndex\r\n",
    "\r\n",
    "\r\n"
   ],
   "outputs": [],
   "metadata": {}
  },
  {
   "cell_type": "code",
   "execution_count": 5,
   "source": [
    "testAry = [55, 88, 33, 77]\r\n",
    "minPos = findminIndex(testAry)\r\n",
    "print('최솟값 -->', testAry[minPos])"
   ],
   "outputs": [
    {
     "output_type": "stream",
     "name": "stdout",
     "text": [
      "최솟값 --> 33\n"
     ]
    }
   ],
   "metadata": {}
  },
  {
   "cell_type": "code",
   "execution_count": null,
   "source": [],
   "outputs": [],
   "metadata": {}
  }
 ],
 "metadata": {
  "orig_nbformat": 4,
  "language_info": {
   "name": "python",
   "version": "3.8.11",
   "mimetype": "text/x-python",
   "codemirror_mode": {
    "name": "ipython",
    "version": 3
   },
   "pygments_lexer": "ipython3",
   "nbconvert_exporter": "python",
   "file_extension": ".py"
  },
  "kernelspec": {
   "name": "python3",
   "display_name": "Python 3.8.8 64-bit ('base': conda)"
  },
  "interpreter": {
   "hash": "b3ba2566441a7c06988d0923437866b63cedc61552a5af99d1f4fb67d367b25f"
  }
 },
 "nbformat": 4,
 "nbformat_minor": 2
}