{
  "nbformat": 4,
  "nbformat_minor": 0,
  "metadata": {
    "colab": {
      "name": "코딩테스트_기초_파이썬.ipynb",
      "provenance": [],
      "collapsed_sections": []
    },
    "kernelspec": {
      "name": "python3",
      "display_name": "Python 3"
    },
    "language_info": {
      "name": "python"
    }
  },
  "cells": [
    {
      "cell_type": "markdown",
      "source": [
        "## [참고 영상](https://www.youtube.com/watch?v=m-9pAwq1o3w)\n",
        "\n",
        "# 복잡도(Complexity)\n",
        "\n",
        "- 복잡도는 알고리즘의 성능을 나타내는 척도\n",
        "  - 시간 복잡도 : 특정한 크기의 입력에 대하여 알고리즘의 수행 시간 분석\n",
        "  - 공간 복잡도 : 특정한 크기의 입력에 대하여 알고리즘의 메모리 사용량 분석\n",
        "- 동일한 기능을 수행하는 알고리즘이 있다면, 일반적으로 복잡도가 낮을수록 좋은 알고리즘\n",
        "\n",
        "## 빅오 표기법(Big-O Notation)\n",
        "\n",
        "- 가장 빠르게 증가하는 항만을 고려하는 표기법\n",
        "  - 함수의 상한만을 나타냄\n",
        "\n",
        "# 요구사항에 따라 적절한 알고리즘 설꼐하기\n",
        "- 문제에서 가장 먼저 확인해야 하는 내용은 시간제한\n",
        "- 시간제한이 1초인 문제를 만났을 때, 일반적인 기준은 아래와 같음\n",
        " 1. n의 범위가 500인 경우 : 시간 복잡도가 O(N³)인 알고리즘을 설계시 가능\n",
        " 2. n의 범위가 2,000인 경우 : 시간 복잡도가 o(N²)인 알고리즘을 설계시 가능\n",
        " 3. n의 범위가 100,000인 경우 : 시간 복잡도가 o(NlogN)인 알고리즘을 설계시 가능\n",
        " 4. n의 범위가 10,000,000인 경우 : 시간 복잡도가 o(N)인 알고리즘을 설계시 가능\n"
      ],
      "metadata": {
        "id": "Qar6wRP9-NY-"
      }
    },
    {
      "cell_type": "markdown",
      "source": [
        "# 자료형\n",
        "- 모든 프로그래밍은 결국 데이터를 다루는 행위\n",
        "  - 자료형에 대한 이해는 프로그래밍의 길에 있어서 첫걸음\n",
        "- 파이썬의 자료형으로는 정수형, 실수형, 복소수형, 문자열, 리스트, 튜플, 사전등 이 있음\n",
        "  - 파이썬의 자료형은 필수적으로 알아 두어야 함\n",
        "\n",
        "## 정수형\n",
        "- 정수형(interger)은 정수를 다루는 자료형\n",
        "  - 양의 정수, 음의 정수, 0이 포함\n",
        "- 코딩테스트에서 출제되는 많은 문제들은 정수형을 주로 다룸\n",
        "\n",
        "## 실수형\n",
        "- 실수형(Real Number)은 소수점 아래의 데이터를 포함하는 수 자료형\n",
        " - 파이썬에서는 변수에 소수점을 붙인 수를 대입하면 실수형 변수로 처리\n",
        " - 소수부가 0이거나, 정수부가 0인 소수는 0을 생략하고 작성 가능\n",
        "\n",
        "## 지수 표현 방식\n",
        "- 파이썬에서는 e나 E를 이용한 지수 표현 방식을 이용할 수 있음\n",
        "  - e나 E 다음에 오는 수는 10의 지수부를 의미함\n",
        "  - 예를 들어 1e9라고 입력하면, 10의 9제곱(1,000,000,000)이 됨\n",
        "> 유효숫자e지수 = 유효숫자 * 10지수승\n",
        "- 지수 표현 방식은 임의의 큰 수를 표현하기 위해 자주 사용\n",
        "- 최단 경로 알고리즘에서는 도달할 수 없는 노드에 대하여 최단 거리를 무한(INF)로 설정하곤 함\n",
        "- 이때 가능한 최댓값이 10억 미만이라면 무한(INF)의 값으로 1e9를 사용할 수 있음"
      ],
      "metadata": {
        "id": "wn1EtuxvCc82"
      }
    },
    {
      "cell_type": "markdown",
      "source": [
        "# 리스트 자료형\n",
        "- 여러 개의 데이터를 연속적으로 담아 처리하기 위해 사용하는 자료형\n",
        "\n",
        "## 리스트의 인덱싱과 슬라이싱\n",
        "- 리스트에서 연속적인 위치를 갖는 원소들을 가져와야 할 때는 슬라이싱(Slicing)을 이용함\n",
        "  - 대괄호 안에 콜론(:)을 넣어서 시작 인덱스와 끝 인덱스를 설정할 수 있습니다\n",
        "  - 끝인덱스는 실제 인덱스보다 1을 더 큰 숫자로 설정해야 함\n",
        "\n",
        "## 리스트 컴프리헨션\n",
        "- 리스트를 초기화하는 방법 중 하나\n",
        "  - 대괄호 안에 조건문과 반복문을 적용하여 리스트를 초기화 할 수 있음"
      ],
      "metadata": {
        "id": "QNdmLVuTG2DH"
      }
    },
    {
      "cell_type": "code",
      "execution_count": 1,
      "metadata": {
        "colab": {
          "base_uri": "https://localhost:8080/"
        },
        "id": "Um6ZVn4y6eo3",
        "outputId": "59f9b468-5067-4f83-8102-aae9d59c4767"
      },
      "outputs": [
        {
          "output_type": "stream",
          "name": "stdout",
          "text": [
            "[0, 1, 2, 3, 4, 5, 6, 7, 8, 9]\n"
          ]
        }
      ],
      "source": [
        "# 반복문을 이용한 리스트 만들기\n",
        "a = [i for i in range(10)]\n",
        "print(a)"
      ]
    },
    {
      "cell_type": "code",
      "source": [
        "# 코드 1 리스트 컴프리헨션\n",
        "# 0부터 19까지의 수 중에서 홀수만 포함하는 리스트\n",
        "a = [i for i in range(20) if i % 2 == 1]\n",
        "print(a)"
      ],
      "metadata": {
        "colab": {
          "base_uri": "https://localhost:8080/"
        },
        "id": "FXWhpW0pIl3V",
        "outputId": "a39d607c-7848-48ba-b564-c08bdc25c93a"
      },
      "execution_count": 2,
      "outputs": [
        {
          "output_type": "stream",
          "name": "stdout",
          "text": [
            "[1, 3, 5, 7, 9, 11, 13, 15, 17, 19]\n"
          ]
        }
      ]
    },
    {
      "cell_type": "code",
      "source": [
        "# 코드 2 일반적인 코드\n",
        "\n",
        "a = []\n",
        "for i in range(20):\n",
        "  if i % 2 == 1:\n",
        "    a.append(i)\n",
        "print(a)"
      ],
      "metadata": {
        "colab": {
          "base_uri": "https://localhost:8080/"
        },
        "id": "mNOdmThNI2et",
        "outputId": "0c358e91-106c-457a-d6b4-5fe8ba44832d"
      },
      "execution_count": 3,
      "outputs": [
        {
          "output_type": "stream",
          "name": "stdout",
          "text": [
            "[1, 3, 5, 7, 9, 11, 13, 15, 17, 19]\n"
          ]
        }
      ]
    },
    {
      "cell_type": "markdown",
      "source": [
        "## 리스트 관련 기타 메서드\n",
        "\n",
        "- append() : 리스트에 원소 하나 삽입\n",
        "- sort() :  오름차순 정렬\n",
        "- sort(reverse = True) : 내림차순 정렬\n",
        "- reverse() : 리스트의 원소의 순서를 모두 뒤집어 놓음\n",
        "- insert(삽입할 인덱스, 삽입할 값) : 특정 인덱스에 원소를 삽입\n",
        "- count() : 리스트에서 특정값의 개수를 셀 때 사용\n",
        "- remove() : 특정한 값을 갖는 원소를 제거하는데 사용, 값이 여러개면 하나만 제거"
      ],
      "metadata": {
        "id": "prgsFjScLJ0Y"
      }
    },
    {
      "cell_type": "code",
      "source": [
        "a = [1, 4, 3]\n",
        "print(\"기본 리스트:\", a)"
      ],
      "metadata": {
        "colab": {
          "base_uri": "https://localhost:8080/"
        },
        "id": "BP7vhjKYJBdp",
        "outputId": "b2470274-40ea-42f9-cc98-1e09120955d8"
      },
      "execution_count": 4,
      "outputs": [
        {
          "output_type": "stream",
          "name": "stdout",
          "text": [
            "기본 리스트: [1, 4, 3]\n"
          ]
        }
      ]
    },
    {
      "cell_type": "code",
      "source": [
        "# 리스트에 원소 삽입\n",
        "a.append(2)\n",
        "print(\"삽입:\", a)"
      ],
      "metadata": {
        "colab": {
          "base_uri": "https://localhost:8080/"
        },
        "id": "ycpzpvCOL0Sf",
        "outputId": "038f09a0-b570-43df-ec09-2999638415f0"
      },
      "execution_count": 5,
      "outputs": [
        {
          "output_type": "stream",
          "name": "stdout",
          "text": [
            "삽입: [1, 4, 3, 2]\n"
          ]
        }
      ]
    },
    {
      "cell_type": "code",
      "source": [
        "# 오름차순 정렬\n",
        "a.sort()\n",
        "print(\"오름차순\", a)"
      ],
      "metadata": {
        "colab": {
          "base_uri": "https://localhost:8080/"
        },
        "id": "RaGZb6seL4KG",
        "outputId": "ac0501ce-b508-4306-8add-4f16bdb64bd2"
      },
      "execution_count": 6,
      "outputs": [
        {
          "output_type": "stream",
          "name": "stdout",
          "text": [
            "오름차순 [1, 2, 3, 4]\n"
          ]
        }
      ]
    },
    {
      "cell_type": "code",
      "source": [
        "# 내림차순 정렬\n",
        "a.sort(reverse = True)\n",
        "print(\"내림차순\", a)"
      ],
      "metadata": {
        "colab": {
          "base_uri": "https://localhost:8080/"
        },
        "id": "_gdQCyI0L74J",
        "outputId": "4bca1708-e969-4462-e525-613b9567eb85"
      },
      "execution_count": 7,
      "outputs": [
        {
          "output_type": "stream",
          "name": "stdout",
          "text": [
            "내림차순 [4, 3, 2, 1]\n"
          ]
        }
      ]
    },
    {
      "cell_type": "code",
      "source": [
        "# 리스트 원소 뒤집기\n",
        "a.reverse()\n",
        "print(\"원소 뒤집기 : \", a)"
      ],
      "metadata": {
        "colab": {
          "base_uri": "https://localhost:8080/"
        },
        "id": "6G4FRYKPMBJx",
        "outputId": "ec1d2e60-f172-48c2-b9b5-aa99a2937717"
      },
      "execution_count": 8,
      "outputs": [
        {
          "output_type": "stream",
          "name": "stdout",
          "text": [
            "원소 뒤집기 :  [1, 2, 3, 4]\n"
          ]
        }
      ]
    },
    {
      "cell_type": "code",
      "source": [
        "# 특정 인덱스에 데이터 추가\n",
        "a.insert(2, 3)\n",
        "print(\"인덱스 2에 3 추가:\", a)"
      ],
      "metadata": {
        "colab": {
          "base_uri": "https://localhost:8080/"
        },
        "id": "tpMRdHkGMHq8",
        "outputId": "357247f8-aeb2-4071-cb39-7163812669db"
      },
      "execution_count": 9,
      "outputs": [
        {
          "output_type": "stream",
          "name": "stdout",
          "text": [
            "인덱스 2에 3 추가: [1, 2, 3, 3, 4]\n"
          ]
        }
      ]
    },
    {
      "cell_type": "code",
      "source": [
        "# 특정 값인 데이터 개수 세기\n",
        "print(\"값이 3인 데이터 개수:\", a.count(3))"
      ],
      "metadata": {
        "colab": {
          "base_uri": "https://localhost:8080/"
        },
        "id": "Xr0b5gktMOzU",
        "outputId": "bbf38ef1-ad38-4a7f-fe9f-86b8cf97b5fe"
      },
      "execution_count": 10,
      "outputs": [
        {
          "output_type": "stream",
          "name": "stdout",
          "text": [
            "값이 3인 데이터 개수: 2\n"
          ]
        }
      ]
    },
    {
      "cell_type": "code",
      "source": [
        "# 특정 값 데이터 삭제\n",
        "a.remove(1)\n",
        "print(\"값이 1인 데이터 삭제 : \", a)"
      ],
      "metadata": {
        "colab": {
          "base_uri": "https://localhost:8080/"
        },
        "id": "bGcLevKmMVoQ",
        "outputId": "463365e1-5dc5-4d06-ae94-be2dad3727c9"
      },
      "execution_count": 11,
      "outputs": [
        {
          "output_type": "stream",
          "name": "stdout",
          "text": [
            "값이 1인 데이터 삭제 :  [2, 3, 3, 4]\n"
          ]
        }
      ]
    },
    {
      "cell_type": "code",
      "source": [
        "# 특정 값을 가지는 원소를 모두 제거하기\n",
        "a = [1, 2, 3, 4, 5, 5, 5]\n",
        "remove_set = {3, 5} # 집합 자료형에 제거할 원소 설정\n",
        "\n",
        "# remove_list 에 포함되지 않은 값만을 저장\n",
        "\n",
        "result = [i for i in a if i not in remove_set]\n",
        "print(result)"
      ],
      "metadata": {
        "colab": {
          "base_uri": "https://localhost:8080/"
        },
        "id": "6bGwgXqnMaTw",
        "outputId": "33a72877-e5c5-4565-cf8b-e7c0717cd275"
      },
      "execution_count": 14,
      "outputs": [
        {
          "output_type": "stream",
          "name": "stdout",
          "text": [
            "[1, 2, 4]\n"
          ]
        }
      ]
    },
    {
      "cell_type": "markdown",
      "source": [
        "## 문자열 자료형\n",
        "- 문자열 변수를 초기화 할때는 큰 따옴표(\")나 작은 따옴표(')를 이용합니다.\n",
        "- 문자열 안에 큰 따옴표나 작은따옴표가 포함되어야 하는 경우가 있음\n",
        " - 전체 문자열을 큰 따옴표로 구성시 내부적으로 작은 따옴표 포함 가능\n",
        " - 전체 문자열을 작은따옴표로 구성시 내부적으로 큰 따옴표 포함 가능\n",
        " - 혹은 백슬래시(\\)를 사용하면 큰 따옴표나 작은 따옴표를 원하는 만큼 포함 가능\n",
        "\n",
        "## 문자열 연산\n",
        "- 문자열 변수에 덧샘(+)을 이용하면 문자열이 더해져서 연결(concatenate)됨\n",
        "- 문자열 변수를 특정한 양의 정수와 곱할경우 문자열이 그 값만큼 여러번 더해짐\n",
        "- 문자열에 대해서도 마찬가지로 인덱싱과 슬라이싱을 이용 가능\n",
        "  - 다만 문자열은 특정 인덱스의 값을 변경할 수는 없음(Immutable)\n",
        "\n",
        "## 튜플 자료형\n",
        "- 튜플은 리스트와 유사하지만 문법적 차이가 있음\n",
        "  - 튜플은 한번선언된 값을 변경할 수 없음\n",
        "  - 리스트는 대괄호([ ])를 이용하지만 튜플은 소괄호(( ))를 이용함\n",
        "- 튜플은 리스트에 비해 상대적으로 공간 효율적임\n",
        "\n",
        "## 튜플을 사용하면 좋은 경우\n",
        "- 서로 다른 성질의 데이터를 묶어서 관리해야 할 때\n",
        "  - 최단 경로 알고리즘에서(비용, 노드번호)의 형태로 튜플 자료형을 자주 사용\n",
        "- 데이터의 나열을 해싱(Hashing)의 키값으로 사용할때\n",
        "  - 튜플은 변경이 불가능하므로 리스트와 다르게 키 값으로 사용될 수 있음\n",
        "- 리스트보다 메모리를 효율적으로 사용해야 할 때"
      ],
      "metadata": {
        "id": "QGWJX3RANLsa"
      }
    },
    {
      "cell_type": "markdown",
      "source": [
        "## 사전 자료형\n",
        "- 사전 자료형은 키(Key)와 값(Value)의 쌍을 데이터로 가지는 자료형\n",
        "  - 앞서 다루었던 리스트나 튜플이 값을 순차적으로 저장하는 것과는 대비됨\n",
        "- 사전 자료형은 키와 값의 쌍을 데이터로 가지며, 원하는 '변경 불가능한(Immutable) 자료형' 을 키로 사용함\n",
        "- 파이썬의 사전 자료형은 해시 테이블(Hash Table)을 이용하므로 데이터의 수정에 있어서 O(1)의 시간에 처리할 수 있음\n",
        "\n",
        "## 사전 자료형 관련 메서드\n",
        "- 사전자료형에서는 키와 값을 별도로 뽑아내기 위한 메서드를 지원함\n",
        "  - keys() : 키 데이터만 뽑아서 리스트로 이용\n",
        "  - values() : 값 데이터만 뽑아서 리스트로 이용\n",
        "\n",
        "## 집합 자료형\n",
        "- 집합의 특징\n",
        "  - 중복을 허용하지 않음\n",
        "  - 순서가 없음\n",
        "- 지합은 리스트 혹은 문자열을 이용해서 초기화할 수 잇음\n",
        "  - 이때 set() 함수를 사용\n",
        "- 혹은 중괄호({})안에 각 원소를 콤마(,)를 기준으로 구분하여 삽입함으로써 초기화 할 수 있슴\n",
        "- 데이터의 조회 및 수정에 있어서 O(1)의 시간에 처리할 수 있음\n",
        "\n",
        "## 집합 자료형의 연산\n",
        "- 기본적인 집합 연산으로는 합집합, 교집합, 차집합 연산 등이 있음\n",
        "  - 합집합 : 집합 A에 속하거나 B에 속하는 원소로 이루어진 집합 (A|B)\n",
        "  - 교집합 : 집합 A에도 속하고 B에도 속하는 원소로 이루어진 집합 (A&B)\n",
        "  - 차집합 : 집합 A의 원소중 B에 속하지 않는 원소로 이루어진 집합 (A-B)\n",
        "\n",
        "## 집합 자료형 관련 함수\n",
        "- data.add(원소) : 원소추가\n",
        "- data.update([원소, 원소]) : 원소 여러개 추가\n",
        "- data.remove(원소) : 특정 값 원소 삭제\n",
        "\n",
        "## 사전 자료형과 집합 자료형의 특징\n",
        "- 리스트나 튜플은 순서가 있기 때문에 인덱싱을 통해 자료형의 값을 얻을 수 있음\n",
        "- 사전 자료형과 집합 자료형은 순서가 없기 때문에 인덱싱으로 값을 얻을 수 없음\n",
        "  - 사전의 키 혹은 집합의 원소를 이용해 O(1)의 시간 복잡도로 조회함"
      ],
      "metadata": {
        "id": "Cs_iddXyTpoh"
      }
    },
    {
      "cell_type": "markdown",
      "source": [
        "## 조건문\n",
        "- 조건문은 프로그램의 흐름을 제어하는 문법\n",
        "- 조건문을 이용해 조건에 따라 프로그램의 로직을 설정할 수 있음\n",
        "\n",
        "## 들여쓰기\n",
        "- 파이썬에서는 코드의 블록(Block)을 들여쓰기(Indent)로 지정함\n",
        "- 탭을 사용하는 쪽과 공백 문자를 여러번 사용하는 쪽으로 두 진영이 있습니다.\n",
        "  - 이에 대한 논쟁은 지금까지도 활발합니다.\n",
        "- 파이썬 스타일 가이드라인에서는 4개의 공백문자를 사용하는 것이 표준\n",
        "\n",
        "## 조건문의 기본 형태\n",
        "- 조건문의 기본적인 형태는 if ~ elif ~ else 임\n",
        "  - 조건문을 사용할 때 elif 혹은 else 부분은 경우에 따라 사용하지 않아도 됨\n"
      ],
      "metadata": {
        "id": "XPOBCBzMZe0l"
      }
    },
    {
      "cell_type": "markdown",
      "source": [
        "## 반복문\n",
        "- 특정한 소스코드를 반복적으로 실행하고자 할 때 사용하는 문법\n",
        "- 파이썬에서는 while과 for 어떤것을 사용해도 무관함\n",
        "  - 단 코딩 테스트에서는 for문이 더 간결한 경우가 많음\n"
      ],
      "metadata": {
        "id": "OIIAtbbrl3GQ"
      }
    },
    {
      "cell_type": "markdown",
      "source": [
        "## 함수(Function)\n",
        "- 함수란 특정한 작업을 하나의 단위로 묶어 놓은 것\n",
        "- 함수를 사용하면 불필요한 소스코드의 반복을 줄일 수 있음\n",
        "\n",
        "## 함수의 종류\n",
        "- 내장함수 : 파이썬이 기본적으로 제공하는 함수\n",
        "- 사용자 정의 함수 : 개발자가 직접 정의하여 사용할 수 있는 함수\n",
        "\n",
        "## 함수 정의하기\n",
        "- 프로그램에는 똑같은 코드가 반복적으로 사용되어야 할 때가 많음\n",
        "- 함수를 사용하면 소스코드의 길이를 줄일 수 있음\n",
        "  - 매개변수 : 함수 내부에서 사용할 변수\n",
        "  - 반환 값 : 함수에서 처리 된 결과를 반환\n",
        "\n",
        "## 람다 표현식\n",
        "- 람다 표현식을 이용하면 함수를 간단하게 작성할 수 있음\n",
        "  - 특정 기능을 수행하는 함수를 한줄에 작성할 수 있음\n",
        "\n"
      ],
      "metadata": {
        "id": "v0pKSqd5n5pc"
      }
    },
    {
      "cell_type": "code",
      "source": [
        "array = [('홍길동', 50), ('이순신', 32), ('아무개', 74)]\n",
        "array"
      ],
      "metadata": {
        "colab": {
          "base_uri": "https://localhost:8080/"
        },
        "id": "wzXrT2YCc7Gz",
        "outputId": "5905ecc5-e4c1-40e9-a027-240cbc95e258"
      },
      "execution_count": 18,
      "outputs": [
        {
          "output_type": "execute_result",
          "data": {
            "text/plain": [
              "[('홍길동', 50), ('이순신', 32), ('아무개', 74)]"
            ]
          },
          "metadata": {},
          "execution_count": 18
        }
      ]
    },
    {
      "cell_type": "code",
      "source": [
        "print(sorted(array, key=lambda x: x[1]))"
      ],
      "metadata": {
        "colab": {
          "base_uri": "https://localhost:8080/"
        },
        "id": "-yLsG_Tmqkdh",
        "outputId": "76a3d500-d051-4d9e-eb2c-e02573decea3"
      },
      "execution_count": 20,
      "outputs": [
        {
          "output_type": "stream",
          "name": "stdout",
          "text": [
            "[('이순신', 32), ('홍길동', 50), ('아무개', 74)]\n"
          ]
        }
      ]
    },
    {
      "cell_type": "markdown",
      "source": [
        "## 실전에서 유용한 표준 라이브러리\n",
        "\n",
        "- 내장 함수 : 기본 입출력 함수부터 정렬함수까지 기본적인 함수를 제공\n",
        "  - 파이썬 프로그램을 작성할 때 없어서는 안되는 필수적인 기능\n",
        "  - sum() 더하기\n",
        "  - min() 최소값\n",
        "  - max() 최대값\n",
        "  - eval() str로 이루어진 식을 실행함\n",
        "  - sorted() 각 요소를 오름차순으로 정렬, 내림차순은 , reverse = True\n",
        "\n",
        "\n",
        "- itertolls :  파이썬에서 반복되는 형태의 데이터를 처리하기 위한 유용한 기능\n",
        "  - 순열과 조합라이브러리는 코딩 테스트에서 자주 사용됨\n",
        "  - 순열이란 서로 다른 n개에서 서로 다른 r개를 선택하여 일렬로 나열하는 것\n",
        "  - 조합이란 서로 다른 n개에서 순서에 상관 없이 서로 다른 r개를 선택하는 것\n",
        "\n",
        "- heapq : 힙 자료구조를 제공\n",
        "  - 일반적으로 우선수위 큐 기능을 구현하기 위해 사용\n",
        "- bisect : 이진 탐색(Binary Search) 기능을 제공\n",
        "- collections : 덱(deque), 카운터(Counter)등의 유용한 자료구조를 포함\n",
        "- math : 필수적인 수학적 기능을 제공함\n",
        "  - 팩토리얼, 제곱근, 최대공약수(GCD), 삼각함수 관련 함수부터 파이(pi)와 같은 상수를 포함함\n",
        "\n"
      ],
      "metadata": {
        "id": "rjqXj-sqq-Sx"
      }
    },
    {
      "cell_type": "code",
      "source": [
        "# 순열 함수\n",
        "from itertools import permutations\n",
        "data = ['a', 'b', 'c']\n",
        "\n",
        "result = list(permutations(data, 3))\n",
        "print(result)"
      ],
      "metadata": {
        "colab": {
          "base_uri": "https://localhost:8080/"
        },
        "id": "__Ik5JKdqpCb",
        "outputId": "e47432f7-7d85-4205-8bdc-ab7963beca8a"
      },
      "execution_count": 23,
      "outputs": [
        {
          "output_type": "stream",
          "name": "stdout",
          "text": [
            "[('a', 'b', 'c'), ('a', 'c', 'b'), ('b', 'a', 'c'), ('b', 'c', 'a'), ('c', 'a', 'b'), ('c', 'b', 'a')]\n"
          ]
        }
      ]
    },
    {
      "cell_type": "code",
      "source": [
        "# 조합 함수\n",
        "from itertools import combinations\n",
        "data = ['a', 'b', 'c']\n",
        "\n",
        "result = list(combinations(data, 2))\n",
        "print(result)"
      ],
      "metadata": {
        "colab": {
          "base_uri": "https://localhost:8080/"
        },
        "id": "zXj2u0eFuSiB",
        "outputId": "f4bf78bd-1d89-4c62-9fdf-0c2bbf48837c"
      },
      "execution_count": 24,
      "outputs": [
        {
          "output_type": "stream",
          "name": "stdout",
          "text": [
            "[('a', 'b'), ('a', 'c'), ('b', 'c')]\n"
          ]
        }
      ]
    },
    {
      "cell_type": "code",
      "source": [
        "# 중복 순열과 중복 조합\n",
        "\n",
        "# 중복 순열\n",
        "from itertools import product\n",
        "\n",
        "data = ['a', 'b', 'c']\n",
        "\n",
        "result = list(product(data, repeat=2))\n",
        "print(result)"
      ],
      "metadata": {
        "colab": {
          "base_uri": "https://localhost:8080/"
        },
        "id": "y1n7Nr6SudTo",
        "outputId": "9dbe9171-d45e-4bac-a4ee-8be35ec28882"
      },
      "execution_count": 25,
      "outputs": [
        {
          "output_type": "stream",
          "name": "stdout",
          "text": [
            "[('a', 'a'), ('a', 'b'), ('a', 'c'), ('b', 'a'), ('b', 'b'), ('b', 'c'), ('c', 'a'), ('c', 'b'), ('c', 'c')]\n"
          ]
        }
      ]
    },
    {
      "cell_type": "code",
      "source": [
        "# 중복 조합\n",
        "from itertools import combinations_with_replacement as cwr\n",
        "\n",
        "data = ['a', 'b', 'c']\n",
        "\n",
        "result = list(cwr(data, 2))\n",
        "print(result)"
      ],
      "metadata": {
        "colab": {
          "base_uri": "https://localhost:8080/"
        },
        "id": "yqyRze-buuM5",
        "outputId": "6865146a-534a-4af8-b77c-aa60827aa0b3"
      },
      "execution_count": 26,
      "outputs": [
        {
          "output_type": "stream",
          "name": "stdout",
          "text": [
            "[('a', 'a'), ('a', 'b'), ('a', 'c'), ('b', 'b'), ('b', 'c'), ('c', 'c')]\n"
          ]
        }
      ]
    },
    {
      "cell_type": "code",
      "source": [
        "# Counter는 등장 횟수를 세는 기능을 제공함\n",
        "# 리스트와 같은 반복 가능한 객체가 주어졌을 때 내부의 원소가 몇번씩 등장했는지 알려줌\n",
        "\n",
        "from collections import Counter\n",
        "counter = Counter(['red', 'blue', 'red', 'green', 'blue', 'blue'])\n",
        "\n",
        "print(counter['blue'])\n",
        "print(counter['green'])\n",
        "print(dict(counter))"
      ],
      "metadata": {
        "colab": {
          "base_uri": "https://localhost:8080/"
        },
        "id": "X3cjBiAtu58o",
        "outputId": "78798f35-0c7d-47b7-ab46-16f171309052"
      },
      "execution_count": 28,
      "outputs": [
        {
          "output_type": "stream",
          "name": "stdout",
          "text": [
            "3\n",
            "1\n",
            "{'red': 2, 'blue': 3, 'green': 1}\n"
          ]
        }
      ]
    },
    {
      "cell_type": "code",
      "source": [
        "# 최대 공약수와 최소 공배수\n",
        "# 최대 공약수는 math 라이브러리의 gcd() 함수를 이용할 수 있음\n",
        "\n",
        "import math\n",
        "\n",
        "# 최소 공배수(LCM)를 구하는 함수\n",
        "def lcm(a, b):\n",
        "  return a*b // math.gcd(a,b)\n",
        "\n",
        "a= 21\n",
        "b= 14\n",
        "\n",
        "print(math.gcd(a, b)) # 최대 공약수 (GCD) 계산\n",
        "print(lcm(a, b)) # 최소 공배수(LCM) 계산"
      ],
      "metadata": {
        "colab": {
          "base_uri": "https://localhost:8080/"
        },
        "id": "VtyNmmRavW8-",
        "outputId": "cf21105c-1f20-46f4-aaf2-b1ccf84ec27b"
      },
      "execution_count": 30,
      "outputs": [
        {
          "output_type": "stream",
          "name": "stdout",
          "text": [
            "7\n",
            "42\n"
          ]
        }
      ]
    },
    {
      "cell_type": "code",
      "source": [
        ""
      ],
      "metadata": {
        "id": "1A36C6miv2-V"
      },
      "execution_count": null,
      "outputs": []
    }
  ]
}