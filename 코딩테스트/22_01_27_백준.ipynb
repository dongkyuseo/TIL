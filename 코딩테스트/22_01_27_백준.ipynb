{
  "nbformat": 4,
  "nbformat_minor": 0,
  "metadata": {
    "colab": {
      "name": "22.01.27_백준.ipynb",
      "provenance": [],
      "collapsed_sections": []
    },
    "kernelspec": {
      "name": "python3",
      "display_name": "Python 3"
    },
    "language_info": {
      "name": "python"
    }
  },
  "cells": [
    {
      "cell_type": "markdown",
      "source": [
        "# 15650\n",
        "\n",
        "## 문제\n",
        "자연수 N과 M이 주어졌을 때, 아래 조건을 만족하는 길이가 M인 수열을 모두 구하는 프로그램을 작성하시오.\n",
        "\n",
        "- 1부터 N까지 자연수 중에서 중복 없이 M개를 고른 수열\n",
        "- 고른 수열은 오름차순이어야 한다.\n",
        "\n",
        "## 입력\n",
        "첫째 줄에 자연수 N과 M이 주어진다. (1 ≤ M ≤ N ≤ 8)\n",
        "\n",
        "## 출력\n",
        "한 줄에 하나씩 문제의 조건을 만족하는 수열을 출력한다. 중복되는 수열을 여러 번 출력하면 안되며, 각 수열은 공백으로 구분해서 출력해야 한다.\n",
        "\n",
        "수열은 사전 순으로 증가하는 순서로 출력해야 한다."
      ],
      "metadata": {
        "id": "wKK4WBt4xyUz"
      }
    },
    {
      "cell_type": "code",
      "execution_count": 14,
      "metadata": {
        "colab": {
          "base_uri": "https://localhost:8080/"
        },
        "id": "sty9IJYwvSRs",
        "outputId": "49cf7999-2b56-4205-aeae-0b5a7e392030"
      },
      "outputs": [
        {
          "output_type": "stream",
          "name": "stdout",
          "text": [
            "4 2\n",
            "1 2\n",
            "1 3\n",
            "1 4\n",
            "2 3\n",
            "2 4\n",
            "3 2\n",
            "3 4\n",
            "4 2\n",
            "4 3\n"
          ]
        }
      ],
      "source": [
        "n, m = map(int, input().split())\n",
        "\n",
        "s = []\n",
        "\n",
        "def f(cnt):\n",
        "  if len(s) == m:\n",
        "    print(' '.join(map(str, s)))\n",
        "    return\n",
        "\n",
        "  for i in range(cnt, n + 1):\n",
        "    if i not in s:\n",
        "      s.append(i)\n",
        "      f(i+1)\n",
        "      s.pop()\n",
        "\n",
        "f(1)"
      ]
    },
    {
      "cell_type": "markdown",
      "source": [
        "# 15651\n",
        "\n",
        "## 문제\n",
        "자연수 N과 M이 주어졌을 때, 아래 조건을 만족하는 길이가 M인 수열을 모두 구하는 프로그램을 작성하시오.\n",
        "\n",
        "- 1부터 N까지 자연수 중에서 M개를 고른 수열\n",
        "- 같은 수를 여러 번 골라도 된다.\n",
        "\n",
        "## 입력\n",
        "첫째 줄에 자연수 N과 M이 주어진다. (1 ≤ M ≤ N ≤ 7)\n",
        "\n",
        "## 출력\n",
        "한 줄에 하나씩 문제의 조건을 만족하는 수열을 출력한다. 중복되는 수열을 여러 번 출력하면 안되며, 각 수열은 공백으로 구분해서 출력해야 한다.\n",
        "\n",
        "수열은 사전 순으로 증가하는 순서로 출력해야 한다."
      ],
      "metadata": {
        "id": "SbCmPpk95aOk"
      }
    },
    {
      "cell_type": "code",
      "source": [
        "n, m = map(int, input().split())\n",
        "\n",
        "s = []\n",
        "\n",
        "def f():\n",
        "  if len(s) == m:\n",
        "    print(' '.join(map(str, s)))\n",
        "    return\n",
        "\n",
        "  for i in range(1, n + 1):\n",
        "    s.append(i)\n",
        "    f()\n",
        "    s.pop()\n",
        "\n",
        "f()"
      ],
      "metadata": {
        "colab": {
          "base_uri": "https://localhost:8080/"
        },
        "id": "HFBHqkAD5EdW",
        "outputId": "f42803cd-bac8-480e-a961-3f3319dabeed"
      },
      "execution_count": 18,
      "outputs": [
        {
          "output_type": "stream",
          "name": "stdout",
          "text": [
            "4 2\n",
            "1 1\n",
            "1 2\n",
            "1 3\n",
            "1 4\n",
            "2 1\n",
            "2 2\n",
            "2 3\n",
            "2 4\n",
            "3 1\n",
            "3 2\n",
            "3 3\n",
            "3 4\n",
            "4 1\n",
            "4 2\n",
            "4 3\n",
            "4 4\n"
          ]
        }
      ]
    },
    {
      "cell_type": "markdown",
      "source": [
        "# 15652\n",
        "\n",
        "## 문제\n",
        "자연수 N과 M이 주어졌을 때, 아래 조건을 만족하는 길이가 M인 수열을 모두 구하는 프로그램을 작성하시오.\n",
        "\n",
        "- 1부터 N까지 자연수 중에서 M개를 고른 수열\n",
        "- 같은 수를 여러 번 골라도 된다.\n",
        "- 고른 수열은 비내림차순이어야 한다.\n",
        "  - 길이가 K인 수열 A가 A1 ≤ A2 ≤ ... ≤ AK-1 ≤ AK를 만족하면, 비내림차순이라고 한다.\n",
        "\n",
        "## 입력\n",
        "첫째 줄에 자연수 N과 M이 주어진다. (1 ≤ M ≤ N ≤ 8)\n",
        "\n",
        "## 출력\n",
        "한 줄에 하나씩 문제의 조건을 만족하는 수열을 출력한다. 중복되는 수열을 여러 번 출력하면 안되며, 각 수열은 공백으로 구분해서 출력해야 한다.\n",
        "\n",
        "수열은 사전 순으로 증가하는 순서로 출력해야 한다."
      ],
      "metadata": {
        "id": "erfRTMLo7Ary"
      }
    },
    {
      "cell_type": "code",
      "source": [
        "n, m = map(int, input().split())\n",
        "\n",
        "s = []\n",
        "\n",
        "def f(cnt):\n",
        "  if len(s) == m:\n",
        "    print(' '.join(map(str, s)))\n",
        "    return\n",
        "\n",
        "  for i in range(cnt, n + 1):\n",
        "    s.append(i)\n",
        "    f(i)\n",
        "    s.pop()\n",
        "\n",
        "f(1)"
      ],
      "metadata": {
        "colab": {
          "base_uri": "https://localhost:8080/"
        },
        "id": "0LWH1GPo600c",
        "outputId": "a58c14eb-099e-4f13-9536-4c3a93f89f8f"
      },
      "execution_count": 23,
      "outputs": [
        {
          "output_type": "stream",
          "name": "stdout",
          "text": [
            "3 3\n",
            "1 1 1\n",
            "1 1 2\n",
            "1 1 3\n",
            "1 2 2\n",
            "1 2 3\n",
            "1 3 3\n",
            "2 2 2\n",
            "2 2 3\n",
            "2 3 3\n",
            "3 3 3\n"
          ]
        }
      ]
    },
    {
      "cell_type": "code",
      "source": [
        ""
      ],
      "metadata": {
        "id": "sY7J6yax7XYT"
      },
      "execution_count": null,
      "outputs": []
    }
  ]
}