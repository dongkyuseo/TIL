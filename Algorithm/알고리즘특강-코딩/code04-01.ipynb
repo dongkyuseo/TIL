{
 "cells": [
  {
   "cell_type": "code",
   "execution_count": 1,
   "source": [
    "class Node():\r\n",
    "    def __init__(self):\r\n",
    "        self.data = None\r\n",
    "        self.link = None"
   ],
   "outputs": [],
   "metadata": {}
  },
  {
   "cell_type": "code",
   "execution_count": 2,
   "source": [
    "node1 =Node()\r\n",
    "node1.data = '다현'\r\n",
    "\r\n",
    "node2 =Node()\r\n",
    "node2.data = '정연'\r\n",
    "node1.link = node2\r\n",
    "\r\n",
    "node3 =Node()\r\n",
    "node3.data = '쯔위'\r\n",
    "node2.link = node3\r\n",
    "\r\n",
    "node4 =Node()\r\n",
    "node4.data = '사나'\r\n",
    "node3.link = node4\r\n",
    "\r\n",
    "node5 =Node()\r\n",
    "node5.data = '지효'\r\n",
    "node4.link = node5\r\n",
    "\r\n",
    "print(node1.data, end=' ')\r\n",
    "print(node1.link.data, end=' ')\r\n",
    "print(node1.link.link.data, end=' ')\r\n",
    "print(node1.link.link.link.data, end=' ')\r\n",
    "print(node1.link.link.link.link.data, end=' ')"
   ],
   "outputs": [
    {
     "output_type": "stream",
     "name": "stdout",
     "text": [
      "다현 정연 쯔위 사나 지효 "
     ]
    }
   ],
   "metadata": {}
  },
  {
   "cell_type": "code",
   "execution_count": 3,
   "source": [
    "current = node1\r\n",
    "print(current.data, end=' ')\r\n",
    "while (current.link != None):\r\n",
    "    current = current.link\r\n",
    "    print(current.data, end=' ')"
   ],
   "outputs": [
    {
     "output_type": "stream",
     "name": "stdout",
     "text": [
      "다현 정연 쯔위 사나 지효 "
     ]
    }
   ],
   "metadata": {}
  },
  {
   "cell_type": "code",
   "execution_count": null,
   "source": [],
   "outputs": [],
   "metadata": {}
  }
 ],
 "metadata": {
  "orig_nbformat": 4,
  "language_info": {
   "name": "python",
   "version": "3.8.10",
   "mimetype": "text/x-python",
   "codemirror_mode": {
    "name": "ipython",
    "version": 3
   },
   "pygments_lexer": "ipython3",
   "nbconvert_exporter": "python",
   "file_extension": ".py"
  },
  "kernelspec": {
   "name": "python3",
   "display_name": "Python 3.8.10 64-bit ('base': conda)"
  },
  "interpreter": {
   "hash": "20e1214a8bdb2e2c2b34d6c87bb951f9c9d2bc9eb3a38bf18f3ccb00b0b17c39"
  }
 },
 "nbformat": 4,
 "nbformat_minor": 2
}