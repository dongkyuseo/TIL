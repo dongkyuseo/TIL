{
 "cells": [
  {
   "cell_type": "code",
   "execution_count": 1,
   "source": [
    "## 선택정렬하라\r\n",
    "## -100 부터 100 까지 숫자 랜덤하게 30개\r\n",
    "## 내림차순으로 정렬하기"
   ],
   "outputs": [],
   "metadata": {}
  },
  {
   "cell_type": "code",
   "execution_count": 28,
   "source": [
    "# 함수\r\n",
    "def selectionSort(ary):\r\n",
    "    n = len(ary)\r\n",
    "    for i in range(0, n-1):\r\n",
    "        maxIndex = i\r\n",
    "        for k in range(i+1, n):\r\n",
    "            if ary[maxIndex] < ary[k]:\r\n",
    "                maxIndex = k\r\n",
    "        ary[i], ary[maxIndex] = ary[maxIndex], ary[i]\r\n",
    "    return ary\r\n",
    "\r\n",
    "\r\n",
    "\r\n"
   ],
   "outputs": [],
   "metadata": {}
  },
  {
   "cell_type": "code",
   "execution_count": 29,
   "source": [
    "# 전역변수\r\n",
    "import random\r\n",
    "\r\n",
    "dataAry = [random.randint(-100,100) for _ in range(30)]"
   ],
   "outputs": [],
   "metadata": {}
  },
  {
   "cell_type": "code",
   "execution_count": 30,
   "source": [
    "# 메인 메인코드부\r\n",
    "print('정렬 전 -->', dataAry)\r\n",
    "\r\n",
    "dataAry = selectionSort(dataAry)\r\n",
    "    \r\n",
    "print('정렬 후 -->', dataAry)\r\n"
   ],
   "outputs": [
    {
     "output_type": "stream",
     "name": "stdout",
     "text": [
      "정렬 전 --> [48, -80, 72, 31, 27, -42, 2, 28, -5, -93, 48, -52, -77, -26, 83, 95, 3, -86, 30, 7, -57, -60, -68, 28, 27, 86, -12, -98, 27, 64]\n",
      "정렬 후 --> [95, 86, 83, 72, 64, 48, 48, 31, 30, 28, 28, 27, 27, 27, 7, 3, 2, -5, -12, -26, -42, -52, -57, -60, -68, -77, -80, -86, -93, -98]\n"
     ]
    }
   ],
   "metadata": {}
  },
  {
   "cell_type": "code",
   "execution_count": null,
   "source": [],
   "outputs": [],
   "metadata": {}
  }
 ],
 "metadata": {
  "orig_nbformat": 4,
  "language_info": {
   "name": "python",
   "version": "3.8.11",
   "mimetype": "text/x-python",
   "codemirror_mode": {
    "name": "ipython",
    "version": 3
   },
   "pygments_lexer": "ipython3",
   "nbconvert_exporter": "python",
   "file_extension": ".py"
  },
  "kernelspec": {
   "name": "python3",
   "display_name": "Python 3.8.8 64-bit ('base': conda)"
  },
  "interpreter": {
   "hash": "b3ba2566441a7c06988d0923437866b63cedc61552a5af99d1f4fb67d367b25f"
  }
 },
 "nbformat": 4,
 "nbformat_minor": 2
}