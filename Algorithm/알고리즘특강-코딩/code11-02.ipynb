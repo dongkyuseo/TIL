{
 "cells": [
  {
   "cell_type": "markdown",
   "source": [
    "# 선택정렬 코드"
   ],
   "metadata": {}
  },
  {
   "cell_type": "code",
   "execution_count": 22,
   "source": [
    "import random\r\n",
    "# 함수 선언부\r\n",
    "def findminIndex(ary):\r\n",
    "    minIndex = 0\r\n",
    "    for i in range(1, len(ary)):\r\n",
    "        if ary[minIndex] > ary[i]:\r\n",
    "            minIndex = i\r\n",
    "            \r\n",
    "    return minIndex\r\n",
    "\r\n"
   ],
   "outputs": [],
   "metadata": {}
  },
  {
   "cell_type": "code",
   "execution_count": 25,
   "source": [
    "# 전역 변수\r\n",
    "before = [random.randint(33,190) for _ in range(20)]\r\n",
    "after = []"
   ],
   "outputs": [],
   "metadata": {}
  },
  {
   "cell_type": "code",
   "execution_count": 26,
   "source": [
    "# 메인 메인코드부\r\n",
    "print('정렬 전 -->', before)\r\n",
    "\r\n",
    "for i in range(len(before)):\r\n",
    "    minPos = findminIndex(before)\r\n",
    "    after.append(before[minPos])\r\n",
    "    del before[minPos]\r\n",
    "    \r\n",
    "print('정렬 후 -->', after)\r\n",
    "\r\n"
   ],
   "outputs": [
    {
     "output_type": "stream",
     "name": "stdout",
     "text": [
      "정렬 전 --> [36, 127, 123, 58, 34, 82, 115, 94, 100, 55, 136, 179, 124, 62, 157, 33, 37, 100, 110, 121]\n",
      "정렬 후 --> [33, 34, 36, 37, 55, 58, 62, 82, 94, 100, 100, 110, 115, 121, 123, 124, 127, 136, 157, 179]\n"
     ]
    }
   ],
   "metadata": {}
  },
  {
   "cell_type": "code",
   "execution_count": null,
   "source": [
    "for i in range(len(before)):\r\n",
    "    minPos = findminIndex(before)\r\n",
    "    after.append(before[minPos])\r\n",
    "    del before[minPos]\r\n",
    "    "
   ],
   "outputs": [],
   "metadata": {}
  }
 ],
 "metadata": {
  "orig_nbformat": 4,
  "language_info": {
   "name": "python",
   "version": "3.8.11",
   "mimetype": "text/x-python",
   "codemirror_mode": {
    "name": "ipython",
    "version": 3
   },
   "pygments_lexer": "ipython3",
   "nbconvert_exporter": "python",
   "file_extension": ".py"
  },
  "kernelspec": {
   "name": "python3",
   "display_name": "Python 3.8.8 64-bit ('base': conda)"
  },
  "interpreter": {
   "hash": "b3ba2566441a7c06988d0923437866b63cedc61552a5af99d1f4fb67d367b25f"
  }
 },
 "nbformat": 4,
 "nbformat_minor": 2
}