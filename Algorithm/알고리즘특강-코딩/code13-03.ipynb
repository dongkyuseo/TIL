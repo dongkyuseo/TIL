{
 "cells": [
  {
   "cell_type": "code",
   "execution_count": 20,
   "source": [
    "# 함수 선언\r\n",
    "def binarySearch(ary, fdata):\r\n",
    "    pos = -1\r\n",
    "    start = 0\r\n",
    "    end = len(ary) - 1\r\n",
    "    \r\n",
    "    while (start <= end):\r\n",
    "        mid = (start+end) //2\r\n",
    "        if fdata == ary[mid]:\r\n",
    "            return mid\r\n",
    "        elif fdata > ary[mid]:\r\n",
    "            start = mid+1\r\n",
    "        else:\r\n",
    "            end = mid-1\r\n",
    "\r\n",
    "        \r\n",
    "    return pos"
   ],
   "outputs": [],
   "metadata": {}
  },
  {
   "cell_type": "code",
   "execution_count": 21,
   "source": [
    "# 변수\r\n",
    "import random\r\n",
    "dataAry = [50, 60, 105, 120, 150, 160, 162, 168, 177, 188]\r\n",
    "findData = 160"
   ],
   "outputs": [],
   "metadata": {}
  },
  {
   "cell_type": "code",
   "execution_count": 22,
   "source": [
    "#코드\r\n",
    "print('배열 -->', dataAry)\r\n",
    "\r\n",
    "position = binarySearch(dataAry, findData)\r\n",
    "if position == -1:\r\n",
    "    print('못찾음')\r\n",
    "else:\r\n",
    "    print(findData, '는', position, '위치에 있음')\r\n"
   ],
   "outputs": [
    {
     "output_type": "stream",
     "name": "stdout",
     "text": [
      "배열 --> [50, 60, 105, 120, 150, 160, 162, 168, 177, 188]\n",
      "160 는 5 위치에 있음\n"
     ]
    }
   ],
   "metadata": {}
  }
 ],
 "metadata": {
  "orig_nbformat": 4,
  "language_info": {
   "name": "python",
   "version": "3.8.11",
   "mimetype": "text/x-python",
   "codemirror_mode": {
    "name": "ipython",
    "version": 3
   },
   "pygments_lexer": "ipython3",
   "nbconvert_exporter": "python",
   "file_extension": ".py"
  },
  "kernelspec": {
   "name": "python3",
   "display_name": "Python 3.8.8 64-bit ('base': conda)"
  },
  "interpreter": {
   "hash": "b3ba2566441a7c06988d0923437866b63cedc61552a5af99d1f4fb67d367b25f"
  }
 },
 "nbformat": 4,
 "nbformat_minor": 2
}