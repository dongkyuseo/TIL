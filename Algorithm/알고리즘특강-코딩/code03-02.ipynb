{
 "cells": [
  {
   "cell_type": "code",
   "execution_count": 4,
   "source": [
    "katok = ['다현', '정연', '쯔위', '사나', '지효']\r\n",
    "print(katok)"
   ],
   "outputs": [
    {
     "output_type": "stream",
     "name": "stdout",
     "text": [
      "['다현', '정연', '쯔위', '사나', '지효']\n"
     ]
    }
   ],
   "metadata": {}
  },
  {
   "cell_type": "code",
   "execution_count": 3,
   "source": [
    "def insert_data(positon, friend) : # 삽입 함수\r\n",
    "    katok.append(None)\r\n",
    "    kLen = len(katok)\r\n",
    "\r\n",
    "    for i in range(kLen-1, positon, -1):\r\n",
    "        katok[i] = katok[i-1]\r\n",
    "        katok[i-1] = None\r\n",
    "\r\n",
    "    katok[positon] = friend"
   ],
   "outputs": [],
   "metadata": {}
  },
  {
   "cell_type": "code",
   "execution_count": 5,
   "source": [
    "insert_data(2, '솔라')\r\n",
    "print(katok)"
   ],
   "outputs": [
    {
     "output_type": "stream",
     "name": "stdout",
     "text": [
      "['다현', '정연', '솔라', '쯔위', '사나', '지효']\n"
     ]
    }
   ],
   "metadata": {}
  },
  {
   "cell_type": "code",
   "execution_count": 6,
   "source": [
    "insert_data(6, '문별')\r\n",
    "print(katok)"
   ],
   "outputs": [
    {
     "output_type": "stream",
     "name": "stdout",
     "text": [
      "['다현', '정연', '솔라', '쯔위', '사나', '지효', '문별']\n"
     ]
    }
   ],
   "metadata": {}
  }
 ],
 "metadata": {
  "orig_nbformat": 4,
  "language_info": {
   "name": "python",
   "version": "3.8.10",
   "mimetype": "text/x-python",
   "codemirror_mode": {
    "name": "ipython",
    "version": 3
   },
   "pygments_lexer": "ipython3",
   "nbconvert_exporter": "python",
   "file_extension": ".py"
  },
  "kernelspec": {
   "name": "python3",
   "display_name": "Python 3.8.10 64-bit ('base': conda)"
  },
  "interpreter": {
   "hash": "20e1214a8bdb2e2c2b34d6c87bb951f9c9d2bc9eb3a38bf18f3ccb00b0b17c39"
  }
 },
 "nbformat": 4,
 "nbformat_minor": 2
}