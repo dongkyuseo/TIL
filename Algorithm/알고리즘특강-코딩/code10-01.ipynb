{
 "cells": [
  {
   "cell_type": "markdown",
   "source": [
    "# 재귀 호출"
   ],
   "metadata": {}
  },
  {
   "cell_type": "code",
   "execution_count": 18,
   "source": [
    "# 함수\r\n",
    "def openBox():\r\n",
    "    global count\r\n",
    "    print('상자열기')\r\n",
    "    count -= 1\r\n",
    "    if count == 0:\r\n",
    "        print('**선물 넣기 **')\r\n",
    "        return\r\n",
    "\r\n",
    "    openBox() # 호출할때마다 함수가 새로 열린다고 생각!\r\n",
    "    print('~~ 상자 닫기')"
   ],
   "outputs": [],
   "metadata": {}
  },
  {
   "cell_type": "code",
   "execution_count": 19,
   "source": [
    "# 전역\r\n",
    "count = 5"
   ],
   "outputs": [],
   "metadata": {}
  },
  {
   "cell_type": "code",
   "execution_count": 20,
   "source": [
    "# 메인\r\n",
    "\r\n",
    "openBox()"
   ],
   "outputs": [
    {
     "output_type": "stream",
     "name": "stdout",
     "text": [
      "상자열기\n",
      "상자열기\n",
      "상자열기\n",
      "상자열기\n",
      "상자열기\n",
      "**선물 넣기 **\n",
      "~~ 상자 닫기\n",
      "~~ 상자 닫기\n",
      "~~ 상자 닫기\n",
      "~~ 상자 닫기\n"
     ]
    }
   ],
   "metadata": {}
  },
  {
   "cell_type": "code",
   "execution_count": null,
   "source": [],
   "outputs": [],
   "metadata": {}
  }
 ],
 "metadata": {
  "orig_nbformat": 4,
  "language_info": {
   "name": "python",
   "version": "3.8.11",
   "mimetype": "text/x-python",
   "codemirror_mode": {
    "name": "ipython",
    "version": 3
   },
   "pygments_lexer": "ipython3",
   "nbconvert_exporter": "python",
   "file_extension": ".py"
  },
  "kernelspec": {
   "name": "python3",
   "display_name": "Python 3.8.8 64-bit ('base': conda)"
  },
  "interpreter": {
   "hash": "b3ba2566441a7c06988d0923437866b63cedc61552a5af99d1f4fb67d367b25f"
  }
 },
 "nbformat": 4,
 "nbformat_minor": 2
}