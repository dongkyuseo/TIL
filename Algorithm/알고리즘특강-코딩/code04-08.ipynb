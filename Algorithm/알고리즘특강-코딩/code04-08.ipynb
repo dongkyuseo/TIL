{
 "cells": [
  {
   "cell_type": "code",
   "execution_count": 82,
   "source": [
    "## 함수 선언부\r\n",
    "class Node():\r\n",
    "    def __init__(self):\r\n",
    "        self.data = None\r\n",
    "        self.link = None\r\n",
    "\r\n",
    "def printNodes(start):\r\n",
    "    current = start\r\n",
    "    print(current.data, end=' ')\r\n",
    "    while (current.link != None):\r\n",
    "        current = current.link\r\n",
    "        print(current.data, end=' ')\r\n",
    "    print()\r\n",
    "\r\n",
    "def insertNode(findData, insertData) :\r\n",
    "    global memory, head, current, pre\r\n",
    "    if head.data == findData : # 첫 노드 앞 삽입\r\n",
    "        node = Node()\r\n",
    "        node.data = insertData\r\n",
    "        node.link = head\r\n",
    "        head = node\r\n",
    "        memory.append(node)\r\n",
    "        return\r\n",
    "    current = head\r\n",
    "    while current.link != None:\r\n",
    "        pre = current\r\n",
    "        current = current.link\r\n",
    "        if current.data == findData:    # 중간에 삽입\r\n",
    "            node = Node()\r\n",
    "            node.data = insertData\r\n",
    "            node.link = current\r\n",
    "            pre.link = node\r\n",
    "            memory.append(node)\r\n",
    "            return\r\n",
    "    node = Node() # 마지막 노드에 삽입\r\n",
    "    node.data = insertData\r\n",
    "    current.link = node\r\n",
    "    memory.append(node)\r\n",
    "    return\r\n",
    "\r\n",
    "def deleteNode(deleteData) :\r\n",
    "    global memory, head, current, pre\r\n",
    "    if head.data == deleteData :\r\n",
    "        current = head\r\n",
    "        head = head.link\r\n",
    "        del(current)\r\n",
    "        return\r\n",
    "    current  = head\r\n",
    "    while current.link != None :\r\n",
    "        pre = current\r\n",
    "        current = current.link\r\n",
    "        if current.data == deleteData :\r\n",
    "            pre.link = current.link\r\n",
    "            del(current)\r\n",
    "            return\r\n",
    "\r\n",
    "def findNode(findData) :\r\n",
    "\tglobal memory, head, current, pre\r\n",
    "\tcurrent = head\r\n",
    "\tif current.data == findData :\r\n",
    "\t\treturn current\r\n",
    "\twhile current.link != None :\r\n",
    "\t\tcurrent = current.link\r\n",
    "\t\tif current.data == findData :\r\n",
    "\t\t\treturn current\r\n",
    "\treturn Node()\t# 빈 노드 반환"
   ],
   "outputs": [],
   "metadata": {}
  },
  {
   "cell_type": "code",
   "execution_count": 83,
   "source": [
    "## 전역 변수부\r\n",
    "memory = [] #  노드를 저장할 공간\r\n",
    "head, current, pre = None, None, None\r\n",
    "dataArray = ['다현', '정연', '쯔위', '사나', '지효']\r\n"
   ],
   "outputs": [],
   "metadata": {}
  },
  {
   "cell_type": "code",
   "execution_count": 84,
   "source": [
    "## 메인 코드부\r\n",
    "\r\n",
    "node = Node()   # 첫번째 노드\r\n",
    "node.data = dataArray[0]\r\n",
    "head = node\r\n",
    "memory.append(node)\r\n",
    "\r\n",
    "for data in dataArray[1:] : # ['정연', '쯔위', '사나', '지효']\r\n",
    "    pre = node\r\n",
    "    node = Node()\r\n",
    "    node.data = data\r\n",
    "    pre.link = node\r\n",
    "    memory.append(node)\r\n",
    "printNodes(head)\r\n",
    "\r\n",
    "\r\n"
   ],
   "outputs": [
    {
     "output_type": "stream",
     "name": "stdout",
     "text": [
      "다현 정연 쯔위 사나 지효 \n"
     ]
    }
   ],
   "metadata": {}
  },
  {
   "cell_type": "code",
   "execution_count": 85,
   "source": [
    "insertNode('다현', '화사')\r\n",
    "printNodes(head)\r\n",
    "insertNode('사나', '솔라')\r\n",
    "printNodes(head)\r\n",
    "insertNode('재남', '문별')\r\n",
    "printNodes(head)\r\n"
   ],
   "outputs": [
    {
     "output_type": "stream",
     "name": "stdout",
     "text": [
      "화사 다현 정연 쯔위 사나 지효 \n",
      "화사 다현 정연 쯔위 솔라 사나 지효 \n",
      "화사 다현 정연 쯔위 솔라 사나 지효 문별 \n"
     ]
    }
   ],
   "metadata": {}
  },
  {
   "cell_type": "code",
   "execution_count": 86,
   "source": [
    "deleteNode('화사')\r\n",
    "printNodes(head)"
   ],
   "outputs": [
    {
     "output_type": "stream",
     "name": "stdout",
     "text": [
      "다현 정연 쯔위 솔라 사나 지효 문별 \n"
     ]
    }
   ],
   "metadata": {}
  },
  {
   "cell_type": "code",
   "execution_count": 87,
   "source": [
    "deleteNode('쯔위')\r\n",
    "printNodes(head)"
   ],
   "outputs": [
    {
     "output_type": "stream",
     "name": "stdout",
     "text": [
      "다현 정연 솔라 사나 지효 문별 \n"
     ]
    }
   ],
   "metadata": {}
  },
  {
   "cell_type": "code",
   "execution_count": 88,
   "source": [
    "fNode = findNode('다현')\r\n",
    "print(fNode.data)"
   ],
   "outputs": [
    {
     "output_type": "stream",
     "name": "stdout",
     "text": [
      "다현\n"
     ]
    }
   ],
   "metadata": {}
  },
  {
   "cell_type": "code",
   "execution_count": 89,
   "source": [
    "fNode = findNode('정연')\r\n",
    "print(fNode.data)"
   ],
   "outputs": [
    {
     "output_type": "stream",
     "name": "stdout",
     "text": [
      "정연\n"
     ]
    }
   ],
   "metadata": {}
  },
  {
   "cell_type": "code",
   "execution_count": 90,
   "source": [
    "fNode = findNode('재남')\r\n",
    "print(fNode.data)"
   ],
   "outputs": [
    {
     "output_type": "stream",
     "name": "stdout",
     "text": [
      "None\n"
     ]
    }
   ],
   "metadata": {}
  },
  {
   "cell_type": "code",
   "execution_count": 91,
   "source": [
    "fNode = findNode('문별')\r\n",
    "print(fNode.data)"
   ],
   "outputs": [
    {
     "output_type": "stream",
     "name": "stdout",
     "text": [
      "문별\n"
     ]
    }
   ],
   "metadata": {}
  },
  {
   "cell_type": "code",
   "execution_count": null,
   "source": [],
   "outputs": [],
   "metadata": {}
  }
 ],
 "metadata": {
  "orig_nbformat": 4,
  "language_info": {
   "name": "python",
   "version": "3.8.10",
   "mimetype": "text/x-python",
   "codemirror_mode": {
    "name": "ipython",
    "version": 3
   },
   "pygments_lexer": "ipython3",
   "nbconvert_exporter": "python",
   "file_extension": ".py"
  },
  "kernelspec": {
   "name": "python3",
   "display_name": "Python 3.8.10 64-bit ('base': conda)"
  },
  "interpreter": {
   "hash": "20e1214a8bdb2e2c2b34d6c87bb951f9c9d2bc9eb3a38bf18f3ccb00b0b17c39"
  }
 },
 "nbformat": 4,
 "nbformat_minor": 2
}