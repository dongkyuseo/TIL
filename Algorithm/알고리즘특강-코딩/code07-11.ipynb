{
 "cells": [
  {
   "cell_type": "code",
   "execution_count": 2,
   "source": [
    "# 함수 선언부\r\n",
    "def isQueueFull():\r\n",
    "    global SIZE, queue, front, rear\r\n",
    "    if (rear+1) % SIZE == front:\r\n",
    "        return True\r\n",
    "    else:\r\n",
    "        return False   \r\n",
    "\r\n",
    "def isQueueEmpty():\r\n",
    "    global SIZE, queue, front, rear\r\n",
    "    if rear == front:\r\n",
    "        return True\r\n",
    "    else:\r\n",
    "        return False   \r\n",
    "\r\n",
    "def enQueue(data):\r\n",
    "    global SIZE, queue, front, rear\r\n",
    "    if isQueueFull():\r\n",
    "        print('큐가 꽉 찼습니다.')\r\n",
    "        return True\r\n",
    "    rear = (rear + 1) % SIZE\r\n",
    "    queue[rear] = data\r\n",
    "    \r\n",
    "def deQueue():\r\n",
    "    global SIZE, queue, front, rear\r\n",
    "    if isQueueEmpty():\r\n",
    "        print('큐가 텅 비었습니다.')\r\n",
    "        return None\r\n",
    "    front = (front + 1) % SIZE\r\n",
    "    data = queue[front]\r\n",
    "    queue[front] = None\r\n",
    "    \r\n",
    "    return print(data)\r\n"
   ],
   "outputs": [],
   "metadata": {}
  },
  {
   "cell_type": "code",
   "execution_count": 1,
   "source": [
    "# 전역 변수부\r\n",
    "SIZE = 5\r\n",
    "queue = [None for _ in range(SIZE)]\r\n",
    "front = rear = 0"
   ],
   "outputs": [],
   "metadata": {}
  },
  {
   "cell_type": "code",
   "execution_count": 12,
   "source": [
    "# 메인 코드부\r\n",
    "enQueue('화사')\r\n",
    "\r\n",
    "enQueue('솔라')\r\n",
    "\r\n",
    "enQueue('문별')\r\n",
    "\r\n",
    "enQueue('휘인')\r\n",
    "\r\n",
    "enQueue('재남')\r\n",
    "\r\n",
    "\r\n",
    "print('<--', queue, '<--')"
   ],
   "outputs": [
    {
     "output_type": "stream",
     "name": "stdout",
     "text": [
      "큐가 꽉 찼습니다.\n",
      "<-- ['휘인', None, '화사', '솔라', '문별'] <--\n"
     ]
    }
   ],
   "metadata": {}
  },
  {
   "cell_type": "code",
   "execution_count": 13,
   "source": [
    "data = deQueue()\r\n",
    "print('디큐:', data)\r\n",
    "print('<--', queue, '<--')\r\n",
    "data = deQueue()\r\n",
    "print('디큐:', data)\r\n",
    "print('<--', queue, '<--')\r\n",
    "data = deQueue()\r\n",
    "print('디큐:', data)\r\n",
    "print('<--', queue, '<--')\r\n",
    "data = deQueue()\r\n",
    "print('디큐:', data)\r\n",
    "print('<--', queue, '<--')\r\n",
    "data = deQueue()\r\n",
    "print('디큐:', data)\r\n",
    "print('<--', queue, '<--')"
   ],
   "outputs": [
    {
     "output_type": "stream",
     "name": "stdout",
     "text": [
      "화사\n",
      "디큐: None\n",
      "<-- ['휘인', None, None, '솔라', '문별'] <--\n",
      "솔라\n",
      "디큐: None\n",
      "<-- ['휘인', None, None, None, '문별'] <--\n",
      "문별\n",
      "디큐: None\n",
      "<-- ['휘인', None, None, None, None] <--\n",
      "휘인\n",
      "디큐: None\n",
      "<-- [None, None, None, None, None] <--\n",
      "큐가 텅 비었습니다.\n",
      "디큐: None\n",
      "<-- [None, None, None, None, None] <--\n"
     ]
    }
   ],
   "metadata": {}
  },
  {
   "cell_type": "code",
   "execution_count": 19,
   "source": [
    "enQueue('재남')\r\n",
    "print('<--', queue, '<--')\r\n",
    "enQueue('강쥐')\r\n",
    "print('<--', queue, '<--')\r\n",
    "enQueue('냥이')\r\n",
    "print('<--', queue, '<--')"
   ],
   "outputs": [
    {
     "output_type": "stream",
     "name": "stdout",
     "text": [
      "<-- ['재남', None, '재남', '강쥐', '냥이'] <--\n",
      "큐가 꽉 찼습니다.\n",
      "<-- ['재남', None, '재남', '강쥐', '냥이'] <--\n",
      "큐가 꽉 찼습니다.\n",
      "<-- ['재남', None, '재남', '강쥐', '냥이'] <--\n"
     ]
    }
   ],
   "metadata": {}
  },
  {
   "cell_type": "code",
   "execution_count": 21,
   "source": [
    "data = deQueue()\r\n",
    "print('디큐:', data)\r\n",
    "print('<--', queue, '<--')\r\n",
    "data = deQueue()\r\n",
    "print('디큐:', data)\r\n",
    "print('<--', queue, '<--')\r\n",
    "data = deQueue()\r\n",
    "print('디큐:', data)\r\n",
    "print('<--', queue, '<--')"
   ],
   "outputs": [
    {
     "output_type": "stream",
     "name": "stdout",
     "text": [
      "재남\n",
      "디큐: None\n",
      "<-- [None, None, None, None, None] <--\n",
      "큐가 텅 비었습니다.\n",
      "디큐: None\n",
      "<-- [None, None, None, None, None] <--\n",
      "큐가 텅 비었습니다.\n",
      "디큐: None\n",
      "<-- [None, None, None, None, None] <--\n"
     ]
    }
   ],
   "metadata": {}
  },
  {
   "cell_type": "code",
   "execution_count": null,
   "source": [],
   "outputs": [],
   "metadata": {}
  }
 ],
 "metadata": {
  "orig_nbformat": 4,
  "language_info": {
   "name": "python",
   "version": "3.8.11",
   "mimetype": "text/x-python",
   "codemirror_mode": {
    "name": "ipython",
    "version": 3
   },
   "pygments_lexer": "ipython3",
   "nbconvert_exporter": "python",
   "file_extension": ".py"
  },
  "kernelspec": {
   "name": "python3",
   "display_name": "Python 3.8.8 64-bit ('base': conda)"
  },
  "interpreter": {
   "hash": "b3ba2566441a7c06988d0923437866b63cedc61552a5af99d1f4fb67d367b25f"
  }
 },
 "nbformat": 4,
 "nbformat_minor": 2
}