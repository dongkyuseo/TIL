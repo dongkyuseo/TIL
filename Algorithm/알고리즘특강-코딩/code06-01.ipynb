{
 "cells": [
  {
   "cell_type": "code",
   "execution_count": 6,
   "source": [
    "# 스택 초기화\r\n",
    "stack = [None, None, None, None, None]\r\n",
    "top = -1\r\n",
    "\r\n",
    "# push\r\n",
    "top += 1\r\n",
    "stack[top] = '커피'\r\n",
    "\r\n",
    "top += 1\r\n",
    "stack[top] = '녹차'\r\n",
    "\r\n",
    "top += 1\r\n",
    "stack[top] = '꿀물'\r\n",
    "\r\n"
   ],
   "outputs": [],
   "metadata": {}
  },
  {
   "cell_type": "code",
   "execution_count": 7,
   "source": [
    "print(stack)"
   ],
   "outputs": [
    {
     "output_type": "stream",
     "name": "stdout",
     "text": [
      "['커피', '녹차', '꿀물', None, None]\n"
     ]
    }
   ],
   "metadata": {}
  },
  {
   "cell_type": "code",
   "execution_count": 8,
   "source": [
    "# pop\r\n",
    "data = stack[top]\r\n",
    "stack[top] = None\r\n",
    "top -= 1\r\n",
    "print('pop -->', data)\r\n",
    "data = stack[top]\r\n",
    "stack[top] = None\r\n",
    "top -= 1\r\n",
    "print('pop -->', data)\r\n",
    "data = stack[top]\r\n",
    "stack[top] = None\r\n",
    "top -= 1\r\n",
    "print('pop -->', data)\r\n",
    "\r\n"
   ],
   "outputs": [
    {
     "output_type": "stream",
     "name": "stdout",
     "text": [
      "pop --> 꿀물\n",
      "pop --> 녹차\n",
      "pop --> 커피\n"
     ]
    }
   ],
   "metadata": {}
  },
  {
   "cell_type": "code",
   "execution_count": 9,
   "source": [
    "print(stack)"
   ],
   "outputs": [
    {
     "output_type": "stream",
     "name": "stdout",
     "text": [
      "[None, None, None, None, None]\n"
     ]
    }
   ],
   "metadata": {}
  },
  {
   "cell_type": "code",
   "execution_count": null,
   "source": [],
   "outputs": [],
   "metadata": {}
  }
 ],
 "metadata": {
  "orig_nbformat": 4,
  "language_info": {
   "name": "python",
   "version": "3.8.10",
   "mimetype": "text/x-python",
   "codemirror_mode": {
    "name": "ipython",
    "version": 3
   },
   "pygments_lexer": "ipython3",
   "nbconvert_exporter": "python",
   "file_extension": ".py"
  },
  "kernelspec": {
   "name": "python3",
   "display_name": "Python 3.8.10 64-bit ('base': conda)"
  },
  "interpreter": {
   "hash": "20e1214a8bdb2e2c2b34d6c87bb951f9c9d2bc9eb3a38bf18f3ccb00b0b17c39"
  }
 },
 "nbformat": 4,
 "nbformat_minor": 2
}