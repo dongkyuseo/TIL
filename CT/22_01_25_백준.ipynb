{
  "nbformat": 4,
  "nbformat_minor": 0,
  "metadata": {
    "colab": {
      "name": "22.01.25_백준.ipynb",
      "provenance": [],
      "collapsed_sections": []
    },
    "kernelspec": {
      "name": "python3",
      "display_name": "Python 3"
    },
    "language_info": {
      "name": "python"
    }
  },
  "cells": [
    {
      "cell_type": "markdown",
      "source": [
        "# 2108\n",
        "\n",
        "## 문제\n",
        "수를 처리하는 것은 통계학에서 상당히 중요한 일이다. 통계학에서 N개의 수를 대표하는 기본 통계값에는 다음과 같은 것들이 있다. 단, N은 홀수라고 가정하자.\n",
        "\n",
        "- 산술평균 : N개의 수들의 합을 N으로 나눈 값\n",
        "- 중앙값 : N개의 수들을 증가하는 순서로 나열했을 경우 그 중앙에 위치하는 값\n",
        "- 최빈값 : N개의 수들 중 가장 많이 나타나는 값\n",
        "- 범위 : N개의 수들 중 최댓값과 최솟값의 차이\n",
        "\n",
        "> N개의 수가 주어졌을 때, 네 가지 기본 통계값을 구하는 프로그램을 작성하시오.\n",
        "\n",
        "##입력\n",
        "첫째 줄에 수의 개수 N(1 ≤ N ≤ 500,000)이 주어진다. 단, N은 홀수이다. 그 다음 N개의 줄에는 정수들이 주어진다. 입력되는 정수의 절댓값은 4,000을 넘지 않는다.\n",
        "\n",
        "##출력\n",
        "첫째 줄에는 산술평균을 출력한다. 소수점 이하 첫째 자리에서 반올림한 값을 출력한다.\n",
        "\n",
        "둘째 줄에는 중앙값을 출력한다.\n",
        "\n",
        "셋째 줄에는 최빈값을 출력한다. 여러 개 있을 때에는 최빈값 중 두 번째로 작은 값을 출력한다.\n",
        "\n",
        "넷째 줄에는 범위를 출력한다."
      ],
      "metadata": {
        "id": "POSHhY6uNHbP"
      }
    },
    {
      "cell_type": "code",
      "source": [
        "from collections import Counter\n",
        "n = int(input())\n",
        "nums = []\n",
        "for i in range(n):\n",
        "    nums.append(int(input()))\n",
        "nums.sort()\n",
        "nums_s = Counter(nums).most_common()\n",
        "print(round(sum(nums) / n))\n",
        "print(nums[n // 2])\n",
        "if len(nums_s) > 1:\n",
        "    if nums_s[0][1] == nums_s[1][1]:\n",
        "        print(nums_s[1][0])\n",
        "    else:\n",
        "        print(nums_s[0][0])\n",
        "else:\n",
        "    print(nums_s[0][0])\n",
        "print(nums[-1] - nums[0])"
      ],
      "metadata": {
        "colab": {
          "base_uri": "https://localhost:8080/"
        },
        "id": "TwOUW0bbTV5L",
        "outputId": "a83b5ac1-c39d-4bfa-9210-45bb7deefae1"
      },
      "execution_count": 4,
      "outputs": [
        {
          "output_type": "stream",
          "name": "stdout",
          "text": [
            "5\n",
            "-1\n",
            "-2\n",
            "-3\n",
            "-1\n",
            "-2\n",
            "-2\n",
            "-2\n",
            "-1\n",
            "2\n"
          ]
        }
      ]
    },
    {
      "cell_type": "code",
      "execution_count": null,
      "metadata": {
        "id": "BXOTJ5hYNC0R"
      },
      "outputs": [],
      "source": [
        "import sys\n",
        "from collections import Counter\n",
        "n = int(sys.stdin.readline())\n",
        "nums = []\n",
        "for i in range(n):\n",
        "    nums.append(int(sys.stdin.readline()))\n",
        "nums.sort()\n",
        "nums_s = Counter(nums).most_common()\n",
        "print(round(sum(nums) / n))\n",
        "print(nums[n // 2])\n",
        "if len(nums_s) > 1:\n",
        "    if nums_s[0][1] == nums_s[1][1]:\n",
        "        print(nums_s[1][0])\n",
        "    else:\n",
        "        print(nums_s[0][0])\n",
        "else:\n",
        "    print(nums_s[0][0])\n",
        "print(nums[-1] - nums[0])"
      ]
    },
    {
      "cell_type": "code",
      "source": [
        ""
      ],
      "metadata": {
        "id": "qxYh26kPT2G3"
      },
      "execution_count": null,
      "outputs": []
    },
    {
      "cell_type": "markdown",
      "source": [
        "# 1427\n",
        "\n",
        "## 문제\n",
        "배열을 정렬하는 것은 쉽다. 수가 주어지면, 그 수의 각 자리수를 내림차순으로 정렬해보자.\n",
        "\n",
        "- 입력<br>\n",
        "첫째 줄에 정렬하려고 하는 수 N이 주어진다. N은 1,000,000,000보다 작거나 같은 자연수이다.\n",
        "\n",
        "- 출력<br>\n",
        "첫째 줄에 자리수를 내림차순으로 정렬한 수를 출력한다."
      ],
      "metadata": {
        "id": "gZbuyigcTexw"
      }
    },
    {
      "cell_type": "code",
      "source": [
        "n = input()\n",
        "x = list(n)\n",
        "x = list(map(int, x))\n",
        "x = sorted(x, reverse=True)\n",
        "for i in x:\n",
        "  print(i, end='')"
      ],
      "metadata": {
        "colab": {
          "base_uri": "https://localhost:8080/"
        },
        "id": "uGCUf0PpSZIJ",
        "outputId": "279e692b-f19b-42db-f309-71f5aa568e84"
      },
      "execution_count": 18,
      "outputs": [
        {
          "output_type": "stream",
          "name": "stdout",
          "text": [
            "2143\n",
            "4321"
          ]
        }
      ]
    },
    {
      "cell_type": "markdown",
      "source": [
        "# 11650\n",
        "##문제\n",
        "2차원 평면 위의 점 N개가 주어진다. 좌표를 x좌표가 증가하는 순으로, x좌표가 같으면 y좌표가 증가하는 순서로 정렬한 다음 출력하는 프로그램을 작성하시오.\n",
        "\n",
        "##입력\n",
        "첫째 줄에 점의 개수 N (1 ≤ N ≤ 100,000)이 주어진다. 둘째 줄부터 N개의 줄에는 i번점의 위치 xi와 yi가 주어진다. (-100,000 ≤ xi, yi ≤ 100,000) 좌표는 항상 정수이고, 위치가 같은 두 점은 없다.\n",
        "\n",
        "##출력\n",
        "첫째 줄부터 N개의 줄에 점을 정렬한 결과를 출력한다."
      ],
      "metadata": {
        "id": "O6INksyzgtbW"
      }
    },
    {
      "cell_type": "code",
      "source": [
        "n = int(input())\n",
        "n_list = []\n",
        "for _ in range(n):\n",
        "  x, y = map(int, input().split())\n",
        "  n_list.append([x, y])\n",
        "n_list.sort()\n",
        "for i in range(len(n_list)):\n",
        "  print(n_list[i][0], end=' ')\n",
        "  print(n_list[i][1])"
      ],
      "metadata": {
        "colab": {
          "base_uri": "https://localhost:8080/"
        },
        "id": "7Tc-gPx4gxTU",
        "outputId": "7225a46f-5ccc-44e7-fbae-53b08d55f8ae"
      },
      "execution_count": 27,
      "outputs": [
        {
          "name": "stdout",
          "output_type": "stream",
          "text": [
            "5\n",
            "3 4\n",
            "1 1\n",
            "1 -1\n",
            "2 2\n",
            "3 3\n"
          ]
        }
      ]
    },
    {
      "cell_type": "code",
      "source": [
        "import sys\n",
        "n = int(input())\n",
        "n_list = []\n",
        "for _ in range(n):\n",
        "  x, y = map(int, sys.stdin.readline().split())\n",
        "  n_list.append([x, y])\n",
        "n_list.sort()\n",
        "for i in range(len(n_list)):\n",
        "  print(n_list[i][0], end=' ')\n",
        "  print(n_list[i][1])"
      ],
      "metadata": {
        "id": "wlNXogi-mJk9"
      },
      "execution_count": null,
      "outputs": []
    },
    {
      "cell_type": "markdown",
      "source": [
        "# 11651\n",
        "\n",
        "## 문제\n",
        "2차원 평면 위의 점 N개가 주어진다. 좌표를 y좌표가 증가하는 순으로, y좌표가 같으면 x좌표가 증가하는 순서로 정렬한 다음 출력하는 프로그램을 작성하시오.\n",
        "\n",
        "## 입력\n",
        "첫째 줄에 점의 개수 N (1 ≤ N ≤ 100,000)이 주어진다. 둘째 줄부터 N개의 줄에는 i번점의 위치 xi와 yi가 주어진다. (-100,000 ≤ xi, yi ≤ 100,000) 좌표는 항상 정수이고, 위치가 같은 두 점은 없다.\n",
        "\n",
        "## 출력\n",
        "첫째 줄부터 N개의 줄에 점을 정렬한 결과를 출력한다."
      ],
      "metadata": {
        "id": "_44-NjhIm0-x"
      }
    },
    {
      "cell_type": "code",
      "source": [
        "n = int(input())\n",
        "n_list = []\n",
        "for _ in range(n):\n",
        "  x, y = map(int, input().split())\n",
        "  n_list.append([y, x])\n",
        "n_list.sort()\n",
        "for i in range(len(n_list)):\n",
        "  print(n_list[i][1], end=' ')\n",
        "  print(n_list[i][0])"
      ],
      "metadata": {
        "colab": {
          "base_uri": "https://localhost:8080/"
        },
        "id": "sNDL1MvKm7yq",
        "outputId": "f6f7df2d-7775-42d5-b186-2243deba8938"
      },
      "execution_count": 36,
      "outputs": [
        {
          "output_type": "stream",
          "name": "stdout",
          "text": [
            "5\n",
            "0 4\n",
            "1 2\n",
            "1 -1\n",
            "2 2\n",
            "3 3\n",
            "1 -1\n",
            "1 2\n",
            "2 2\n",
            "3 3\n",
            "0 4\n"
          ]
        }
      ]
    },
    {
      "cell_type": "code",
      "source": [
        "import sys\n",
        "n = int(input())\n",
        "n_list = []\n",
        "for _ in range(n):\n",
        "  x, y = map(int, sys.stdin.readline().split())\n",
        "  n_list.append([y, x])\n",
        "n_list.sort()\n",
        "for i in range(len(n_list)):\n",
        "  print(n_list[i][1], end=' ')\n",
        "  print(n_list[i][0])"
      ],
      "metadata": {
        "id": "qr1hiAWVpDsg"
      },
      "execution_count": null,
      "outputs": []
    },
    {
      "cell_type": "markdown",
      "source": [
        "# 1181\n",
        "\n",
        "## 문제\n",
        "알파벳 소문자로 이루어진 N개의 단어가 들어오면 아래와 같은 조건에 따라 정렬하는 프로그램을 작성하시오.\n",
        "\n",
        "- 길이가 짧은 것부터\n",
        "- 길이가 같으면 사전 순으로\n",
        "\n",
        "## 입력\n",
        "첫째 줄에 단어의 개수 N이 주어진다. (1 ≤ N ≤ 20,000) 둘째 줄부터 N개의 줄에 걸쳐 알파벳 소문자로 이루어진 단어가 한 줄에 하나씩 주어진다. 주어지는 문자열의 길이는 50을 넘지 않는다.\n",
        "\n",
        "## 출력\n",
        "조건에 따라 정렬하여 단어들을 출력한다. 단, 같은 단어가 여러 번 입력된 경우에는 한 번씩만 출력한다."
      ],
      "metadata": {
        "id": "JczPz-Iepg9v"
      }
    },
    {
      "cell_type": "code",
      "source": [
        "n = int(input())\n",
        "n_list = []\n",
        "count = []\n",
        "for _ in range(n):\n",
        "  x = input()\n",
        "  if x not in count:\n",
        "    n_list.append([len(list(x)), x])\n",
        "  count.append(x)\n",
        "n_list.sort()\n",
        "for i in range(len(n_list)):\n",
        "  print(n_list[i][1])"
      ],
      "metadata": {
        "colab": {
          "base_uri": "https://localhost:8080/"
        },
        "id": "tQbFi40EpmTC",
        "outputId": "21e05cb2-c33a-4a6e-c2bf-05437332ea01"
      },
      "execution_count": 63,
      "outputs": [
        {
          "output_type": "stream",
          "name": "stdout",
          "text": [
            "13\n",
            "but\n",
            "i\n",
            "wont\n",
            "hesitate\n",
            "no\n",
            "more\n",
            "no\n",
            "more\n",
            "it\n",
            "cannot\n",
            "wait\n",
            "im\n",
            "yours\n",
            "i\n",
            "im\n",
            "it\n",
            "no\n",
            "but\n",
            "more\n",
            "wait\n",
            "wont\n",
            "yours\n",
            "cannot\n",
            "hesitate\n"
          ]
        }
      ]
    },
    {
      "cell_type": "code",
      "source": [
        "import sys\n",
        "n = int(input())\n",
        "n_list = []\n",
        "count = []\n",
        "for _ in range(n):\n",
        "  x = sys.stdin.readline().strip()\n",
        "  if x not in count:\n",
        "    n_list.append([len(list(x)), x])\n",
        "  count.append(x)\n",
        "n_list.sort()\n",
        "for i in range(len(n_list)):\n",
        "  print(n_list[i][1])"
      ],
      "metadata": {
        "id": "vR2V-AKpsByK"
      },
      "execution_count": null,
      "outputs": []
    },
    {
      "cell_type": "markdown",
      "source": [
        "# 10814\n",
        "\n",
        "## 문제\n",
        "온라인 저지에 가입한 사람들의 나이와 이름이 가입한 순서대로 주어진다. 이때, 회원들을 나이가 증가하는 순으로, 나이가 같으면 먼저 가입한 사람이 앞에 오는 순서로 정렬하는 프로그램을 작성하시오.\n",
        "\n",
        "## 입력\n",
        "첫째 줄에 온라인 저지 회원의 수 N이 주어진다. (1 ≤ N ≤ 100,000)\n",
        "\n",
        "둘째 줄부터 N개의 줄에는 각 회원의 나이와 이름이 공백으로 구분되어 주어진다. 나이는 1보다 크거나 같으며, 200보다 작거나 같은 정수이고, 이름은 알파벳 대소문자로 이루어져 있고, 길이가 100보다 작거나 같은 문자열이다. 입력은 가입한 순서로 주어진다.\n",
        "\n",
        "## 출력\n",
        "첫째 줄부터 총 N개의 줄에 걸쳐 온라인 저지 회원을 나이 순, 나이가 같으면 가입한 순으로 한 줄에 한 명씩 나이와 이름을 공백으로 구분해 출력한다."
      ],
      "metadata": {
        "id": "VnQh_seJyCHI"
      }
    },
    {
      "cell_type": "code",
      "source": [
        "n = int(input())\n",
        "n_list = []\n",
        "for i in range(n):\n",
        "  x, y = input().split()\n",
        "  n_list.append([int(x), i, y])\n",
        "n_list.sort()\n",
        "for i in range(len(n_list)):\n",
        "  print(n_list[i][0], end=' ')\n",
        "  print(n_list[i][2])"
      ],
      "metadata": {
        "colab": {
          "base_uri": "https://localhost:8080/"
        },
        "id": "uodo6rYluASc",
        "outputId": "43619014-c29a-44aa-fbe3-421a0f624e16"
      },
      "execution_count": 65,
      "outputs": [
        {
          "output_type": "stream",
          "name": "stdout",
          "text": [
            "3\n",
            "21 Junkyu\n",
            "21 Dohyun\n",
            "20 Sunyoung\n",
            "20 Sunyoung\n",
            "21 Junkyu\n",
            "21 Dohyun\n"
          ]
        }
      ]
    },
    {
      "cell_type": "code",
      "source": [
        "import sys\n",
        "n = int(input())\n",
        "n_list = []\n",
        "for i in range(n):\n",
        "  x, y = sys.stdin.readline().split()\n",
        "  n_list.append([int(x), i, y])\n",
        "n_list.sort()\n",
        "for i in range(len(n_list)):\n",
        "  print(n_list[i][0], end=' ')\n",
        "  print(n_list[i][2])"
      ],
      "metadata": {
        "id": "KofO2bQvygls"
      },
      "execution_count": null,
      "outputs": []
    },
    {
      "cell_type": "markdown",
      "source": [
        "# 18870\n",
        "\n",
        "## 문제\n",
        "수직선 위에 N개의 좌표 X1, X2, ..., XN이 있다. 이 좌표에 좌표 압축을 적용하려고 한다.\n",
        "\n",
        "Xi를 좌표 압축한 결과 X'i의 값은 Xi > Xj를 만족하는 서로 다른 좌표의 개수와 같아야 한다.\n",
        "\n",
        "X1, X2, ..., XN에 좌표 압축을 적용한 결과 X'1, X'2, ..., X'N를 출력해보자.\n",
        "\n",
        "## 입력\n",
        "첫째 줄에 N이 주어진다.\n",
        "\n",
        "둘째 줄에는 공백 한 칸으로 구분된 X1, X2, ..., XN이 주어진다.\n",
        "\n",
        "## 출력\n",
        "첫째 줄에 X'1, X'2, ..., X'N을 공백 한 칸으로 구분해서 출력한다."
      ],
      "metadata": {
        "id": "6TP78ySGy6U3"
      }
    },
    {
      "cell_type": "code",
      "source": [
        "n = int(input())\n",
        "n_list = list(map(int, input().split()))\n",
        "n_list2 = sorted(n_list)\n",
        "for i in n_list:\n",
        "  print(n_list2.index(i), end=' ')"
      ],
      "metadata": {
        "colab": {
          "base_uri": "https://localhost:8080/"
        },
        "id": "HYsFhz3hzBJ1",
        "outputId": "3ef7069e-6d0d-42d6-f33b-a6397f51bec6"
      },
      "execution_count": 78,
      "outputs": [
        {
          "output_type": "stream",
          "name": "stdout",
          "text": [
            "5\n",
            "2 4 -10 4 -9\n",
            "2 3 0 3 1 "
          ]
        }
      ]
    },
    {
      "cell_type": "code",
      "source": [
        "import sys\n",
        "n = int(input())\n",
        "n_list = list(map(int, sys.stdin.readline().split()))\n",
        "n_list2 = sorted(n_list)\n",
        "for i in n_list:\n",
        "  print(n_list2.index(i), end=' ')"
      ],
      "metadata": {
        "id": "esqW46RE52On"
      },
      "execution_count": null,
      "outputs": []
    },
    {
      "cell_type": "code",
      "source": [
        "import sys\n",
        "n = int(sys.stdin.readline())\n",
        "n_list = list(map(int, sys.stdin.readline().split()))\n",
        "n_list2 = sorted(n_list)\n",
        "dic = {n_list2[i]:i for i in range(len(n_list2))}\n",
        "for i in n_list:\n",
        "  print(dic[i], end=' ')"
      ],
      "metadata": {
        "id": "zhGPv4rp7mCC"
      },
      "execution_count": null,
      "outputs": []
    },
    {
      "cell_type": "code",
      "source": [
        "import sys\n",
        "n = int(sys.stdin.readline())\n",
        "n_list = list(map(int, sys.stdin.readline().split()))\n",
        "n_list2 = list(sorted(set(n_list)))\n",
        "dic = {n_list2[i]:i for i in range(len(n_list2))}\n",
        "for i in n_list:\n",
        "  print(dic[i], end=' ')"
      ],
      "metadata": {
        "id": "oZjtCMsQ7xwh"
      },
      "execution_count": null,
      "outputs": []
    }
  ]
}