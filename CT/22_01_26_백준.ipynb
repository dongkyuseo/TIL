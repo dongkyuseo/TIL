{
  "nbformat": 4,
  "nbformat_minor": 0,
  "metadata": {
    "colab": {
      "name": "22.01.26_백준.ipynb",
      "provenance": [],
      "collapsed_sections": []
    },
    "kernelspec": {
      "name": "python3",
      "display_name": "Python 3"
    },
    "language_info": {
      "name": "python"
    }
  },
  "cells": [
    {
      "cell_type": "markdown",
      "source": [
        "# 15649\n",
        "\n",
        "## 문제\n",
        "자연수 N과 M이 주어졌을 때, 아래 조건을 만족하는 길이가 M인 수열을 모두 구하는 프로그램을 작성하시오.\n",
        "\n",
        "- 1부터 N까지 자연수 중에서 중복 없이 M개를 고른 수열\n",
        "\n",
        "## 입력\n",
        "첫째 줄에 자연수 N과 M이 주어진다. (1 ≤ M ≤ N ≤ 8)\n",
        "\n",
        "## 출력\n",
        "한 줄에 하나씩 문제의 조건을 만족하는 수열을 출력한다. 중복되는 수열을 여러 번 출력하면 안되며, 각 수열은 공백으로 구분해서 출력해야 한다.\n",
        "\n",
        "수열은 사전 순으로 증가하는 순서로 출력해야 한다."
      ],
      "metadata": {
        "id": "Vid06b9WiXOq"
      }
    },
    {
      "cell_type": "code",
      "source": [
        "n, m = map(int, input().split())\n",
        "\n",
        "s = []\n",
        "def f():\n",
        "  if len(s) == m:\n",
        "    print(' '.join(map(str, s)))\n",
        "    return\n",
        "\n",
        "  for i in range(1, n + 1):\n",
        "    if i in s:\n",
        "      continue\n",
        "    s.append(i)\n",
        "    f()\n",
        "    s.pop()\n",
        "\n",
        "f()"
      ],
      "metadata": {
        "colab": {
          "base_uri": "https://localhost:8080/"
        },
        "id": "Vs5IkWob1KxK",
        "outputId": "ff1e2ff8-afb2-43cc-d48d-18008e7f384f"
      },
      "execution_count": null,
      "outputs": [
        {
          "output_type": "stream",
          "name": "stdout",
          "text": [
            "4 4\n",
            "1 2 3 4\n",
            "1 2 4 3\n",
            "1 3 2 4\n",
            "1 3 4 2\n",
            "1 4 2 3\n",
            "1 4 3 2\n",
            "2 1 3 4\n",
            "2 1 4 3\n",
            "2 3 1 4\n",
            "2 3 4 1\n",
            "2 4 1 3\n",
            "2 4 3 1\n",
            "3 1 2 4\n",
            "3 1 4 2\n",
            "3 2 1 4\n",
            "3 2 4 1\n",
            "3 4 1 2\n",
            "3 4 2 1\n",
            "4 1 2 3\n",
            "4 1 3 2\n",
            "4 2 1 3\n",
            "4 2 3 1\n",
            "4 3 1 2\n",
            "4 3 2 1\n"
          ]
        }
      ]
    },
    {
      "cell_type": "code",
      "source": [
        ""
      ],
      "metadata": {
        "id": "Zzg5uPnl7dCN"
      },
      "execution_count": null,
      "outputs": []
    }
  ]
}