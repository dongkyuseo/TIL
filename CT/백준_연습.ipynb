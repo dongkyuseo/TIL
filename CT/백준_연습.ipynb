{
  "nbformat": 4,
  "nbformat_minor": 0,
  "metadata": {
    "colab": {
      "name": "백준 연습.ipynb",
      "provenance": [],
      "machine_shape": "hm"
    },
    "kernelspec": {
      "name": "python3",
      "display_name": "Python 3"
    },
    "language_info": {
      "name": "python"
    }
  },
  "cells": [
    {
      "cell_type": "code",
      "execution_count": null,
      "metadata": {
        "colab": {
          "base_uri": "https://localhost:8080/"
        },
        "id": "mVWsAeyV99VI",
        "outputId": "41ba8b96-e691-4d08-9ae7-695c86c03887"
      },
      "outputs": [
        {
          "output_type": "stream",
          "name": "stdout",
          "text": [
            "\\    /\\\n",
            " )  ( ')\n",
            "(  /  )\n",
            " \\(__)|\n",
            "\n"
          ]
        }
      ],
      "source": [
        "print(\"\"\"\\    /\\\\\\n )  ( ')\\n(  /  )\\n \\(__)|\\n\"\"\")"
      ]
    },
    {
      "cell_type": "code",
      "source": [
        "print(\"\\    /\\\\\")"
      ],
      "metadata": {
        "colab": {
          "base_uri": "https://localhost:8080/"
        },
        "id": "HubdQVhI-O92",
        "outputId": "9026a3bc-ff09-4b44-bd56-111c6cf4746e"
      },
      "execution_count": null,
      "outputs": [
        {
          "output_type": "stream",
          "name": "stdout",
          "text": [
            "\\    /\\\n"
          ]
        }
      ]
    },
    {
      "cell_type": "code",
      "source": [
        "print('''|\\_/|\n",
        "|q p|   /}\n",
        "( 0 )\"\"\"\\\\\n",
        "|\"^\"`    |\n",
        "||_/=\\\\\\__|\n",
        "''')"
      ],
      "metadata": {
        "colab": {
          "base_uri": "https://localhost:8080/"
        },
        "id": "SXSV7STJ-yo3",
        "outputId": "049e0dec-f15b-4c68-fd50-e3a5a691679a"
      },
      "execution_count": null,
      "outputs": [
        {
          "output_type": "stream",
          "name": "stdout",
          "text": [
            "|\\_/|\n",
            "|q p|   /}\n",
            "( 0 )\"\"\"\\\n",
            "|\"^\"`    |\n",
            "||_/=\\\\__|\n",
            "\n"
          ]
        }
      ]
    },
    {
      "cell_type": "code",
      "source": [
        "a,b = input().split()\n",
        "print(int(a)+int(b))\n",
        "print(int(a)-int(b))\n",
        "print(int(a)*int(b))\n",
        "print(int(a)//int(b))\n",
        "print(int(a)%int(b))"
      ],
      "metadata": {
        "colab": {
          "base_uri": "https://localhost:8080/"
        },
        "id": "zTJIpM43An5f",
        "outputId": "90c060ff-9ffb-4b83-be8e-eebbac3f02d6"
      },
      "execution_count": null,
      "outputs": [
        {
          "output_type": "stream",
          "name": "stdout",
          "text": [
            "7 3\n",
            "10\n",
            "4\n",
            "21\n",
            "2\n",
            "1\n"
          ]
        }
      ]
    },
    {
      "cell_type": "code",
      "source": [
        "A, B, C = map(int, input().split())\n",
        "print((A+B)%C)\n",
        "print(((A%C) + (B%C))%C)\n",
        "print((A*B)%C)\n",
        "print(((A%C) * (B%C))%C)"
      ],
      "metadata": {
        "colab": {
          "base_uri": "https://localhost:8080/"
        },
        "id": "RLeXJfbXBQzn",
        "outputId": "a1b8026f-49ac-425d-88cf-77dcd6ab7ae7"
      },
      "execution_count": null,
      "outputs": [
        {
          "output_type": "stream",
          "name": "stdout",
          "text": [
            "5 8 4\n",
            "1\n",
            "1\n",
            "0\n",
            "0\n"
          ]
        }
      ]
    },
    {
      "cell_type": "code",
      "source": [
        "a = input()\n",
        "b = input()\n"
      ],
      "metadata": {
        "colab": {
          "base_uri": "https://localhost:8080/"
        },
        "id": "rZsoUvf3D3OF",
        "outputId": "f9c9f166-5ab1-4a78-ffee-4c4c857a8e96"
      },
      "execution_count": null,
      "outputs": [
        {
          "name": "stdout",
          "output_type": "stream",
          "text": [
            "472\n",
            "385\n"
          ]
        }
      ]
    },
    {
      "cell_type": "code",
      "source": [
        "a = int(a)\n",
        "a"
      ],
      "metadata": {
        "colab": {
          "base_uri": "https://localhost:8080/"
        },
        "id": "4YAxLwK_GrTS",
        "outputId": "24d28264-8658-4561-c2fe-c4e4e10d490c"
      },
      "execution_count": null,
      "outputs": [
        {
          "output_type": "execute_result",
          "data": {
            "text/plain": [
              "472"
            ]
          },
          "metadata": {},
          "execution_count": 75
        }
      ]
    },
    {
      "cell_type": "code",
      "source": [
        "\n",
        "b1 = int(b[:1])\n",
        "b2 = int(b[1:2])\n",
        "b3 = int(b[2:])\n",
        "b = int(b)\n",
        "b, b1, b2, b3"
      ],
      "metadata": {
        "colab": {
          "base_uri": "https://localhost:8080/"
        },
        "id": "Zj-IP2soGxKX",
        "outputId": "9a2a9abf-43e4-415b-c40c-63b80a2689b5"
      },
      "execution_count": null,
      "outputs": [
        {
          "output_type": "execute_result",
          "data": {
            "text/plain": [
              "(385, 3, 8, 5)"
            ]
          },
          "metadata": {},
          "execution_count": 76
        }
      ]
    },
    {
      "cell_type": "code",
      "source": [
        "print(a*b3)\n",
        "print(a*b2)\n",
        "print(a*b1)\n",
        "print(a*b)"
      ],
      "metadata": {
        "colab": {
          "base_uri": "https://localhost:8080/"
        },
        "id": "TtLrYzRdGx0r",
        "outputId": "4d856ee6-30bc-4c43-e361-1c7fdf14dcab"
      },
      "execution_count": null,
      "outputs": [
        {
          "output_type": "stream",
          "name": "stdout",
          "text": [
            "2360\n",
            "3776\n",
            "1416\n",
            "181720\n"
          ]
        }
      ]
    },
    {
      "cell_type": "code",
      "source": [
        "b = int(input())"
      ],
      "metadata": {
        "colab": {
          "base_uri": "https://localhost:8080/"
        },
        "id": "BnPCjHNbG-wI",
        "outputId": "545b6ac0-fdab-4d04-de12-9b0540742598"
      },
      "execution_count": null,
      "outputs": [
        {
          "name": "stdout",
          "output_type": "stream",
          "text": [
            "385\n"
          ]
        }
      ]
    },
    {
      "cell_type": "code",
      "source": [
        "str(b)[2]"
      ],
      "metadata": {
        "colab": {
          "base_uri": "https://localhost:8080/",
          "height": 35
        },
        "id": "SxGjy3DSHohq",
        "outputId": "89e02b8e-db47-423d-fa4b-c9a4a1e6ecbd"
      },
      "execution_count": null,
      "outputs": [
        {
          "output_type": "execute_result",
          "data": {
            "application/vnd.google.colaboratory.intrinsic+json": {
              "type": "string"
            },
            "text/plain": [
              "'5'"
            ]
          },
          "metadata": {},
          "execution_count": 81
        }
      ]
    },
    {
      "cell_type": "code",
      "source": [
        "a,b = map(int, input().split())\n",
        "if a > b:\n",
        "  print('>')\n",
        "elif a < b:\n",
        "  print('<')\n",
        "elif a == b:\n",
        "  print('==')"
      ],
      "metadata": {
        "colab": {
          "base_uri": "https://localhost:8080/"
        },
        "id": "jC7sFEF5HqwE",
        "outputId": "a32c7ed9-7428-4f26-825c-bc63c57f725f"
      },
      "execution_count": null,
      "outputs": [
        {
          "output_type": "stream",
          "name": "stdout",
          "text": [
            "1 1\n",
            "=\n"
          ]
        }
      ]
    },
    {
      "cell_type": "code",
      "source": [
        "a = int(input())\n",
        "if 100>= a >= 90:\n",
        "  print('A')\n",
        "elif 89>= a >= 80:\n",
        "  print('B')\n",
        "elif 79>= a >= 70:\n",
        "  print('C')\n",
        "elif 69>= a >= 60:\n",
        "  print('D')\n",
        "else:\n",
        "  print('F')"
      ],
      "metadata": {
        "colab": {
          "base_uri": "https://localhost:8080/"
        },
        "id": "wqXp2n_aMX6w",
        "outputId": "fe35f1ae-3ab9-457b-e45d-6762babb0d2d"
      },
      "execution_count": null,
      "outputs": [
        {
          "output_type": "stream",
          "name": "stdout",
          "text": [
            "50\n",
            "F\n"
          ]
        }
      ]
    },
    {
      "cell_type": "code",
      "source": [
        "a = int(input())\n",
        "if a % 4 ==0:\n",
        "  if a % 100 != 0:\n",
        "    print(1)\n",
        "  elif a % 400 == 0:\n",
        "    print(1)\n",
        "  else:\n",
        "    print(0)\n",
        "else:\n",
        "  print(0)"
      ],
      "metadata": {
        "colab": {
          "base_uri": "https://localhost:8080/"
        },
        "id": "lz7d_i_X0ED8",
        "outputId": "3e75c2b5-f75c-4979-9105-319468f54d75"
      },
      "execution_count": null,
      "outputs": [
        {
          "output_type": "stream",
          "name": "stdout",
          "text": [
            "1990\n",
            "0\n"
          ]
        }
      ]
    },
    {
      "cell_type": "code",
      "source": [
        "a = int(input())\n",
        "b = int(input())\n",
        "if a >= 0 and b >= 0:\n",
        "  print(1)\n",
        "elif a >= 0 and b <= 0:\n",
        "  print(4)\n",
        "elif a <= 0 and b >= 0:\n",
        "  print(2)\n",
        "else:\n",
        "  print(3)"
      ],
      "metadata": {
        "colab": {
          "base_uri": "https://localhost:8080/"
        },
        "id": "GFT_FuIK0VJT",
        "outputId": "76dcfa55-b529-4d7c-e86c-c6d8b198dce0"
      },
      "execution_count": null,
      "outputs": [
        {
          "output_type": "stream",
          "name": "stdout",
          "text": [
            "-12\n",
            "-5\n",
            "3\n"
          ]
        }
      ]
    },
    {
      "cell_type": "code",
      "source": [
        "a, b = map(int, input().split())\n",
        "c = 24*60\n",
        "x = b - 45\n",
        "if a == 0 and b < 45:\n",
        "  print((c + x)//60,  (c + x)%60)\n",
        "else:\n",
        "  z = a*60 + x\n",
        "  print(z//60, z%60)\n"
      ],
      "metadata": {
        "id": "waHCQyCM1e3h",
        "colab": {
          "base_uri": "https://localhost:8080/"
        },
        "outputId": "36955ce2-a900-4971-e38d-6cf8816f4e61"
      },
      "execution_count": null,
      "outputs": [
        {
          "output_type": "stream",
          "name": "stdout",
          "text": [
            "23 40\n",
            "22 55\n"
          ]
        }
      ]
    },
    {
      "cell_type": "code",
      "source": [
        "a = int(input())\n",
        "for i in range(1,10):\n",
        "  print(f'{a} * {i} = {a*i}')"
      ],
      "metadata": {
        "colab": {
          "base_uri": "https://localhost:8080/"
        },
        "id": "FV_Sx5MXi8ur",
        "outputId": "47429120-75f7-43eb-d27f-76676c137474"
      },
      "execution_count": null,
      "outputs": [
        {
          "output_type": "stream",
          "name": "stdout",
          "text": [
            "2\n",
            "2 * 1 = 2\n",
            "2 * 2 = 4\n",
            "2 * 3 = 6\n",
            "2 * 4 = 8\n",
            "2 * 5 = 10\n",
            "2 * 6 = 12\n",
            "2 * 7 = 14\n",
            "2 * 8 = 16\n",
            "2 * 9 = 18\n"
          ]
        }
      ]
    },
    {
      "cell_type": "code",
      "source": [
        "a = int(input())\n",
        "for _ in range(a):\n",
        "  b, c = map(int, input().split())\n",
        "  print(b+c)"
      ],
      "metadata": {
        "colab": {
          "base_uri": "https://localhost:8080/"
        },
        "id": "YTYzKJyFly90",
        "outputId": "7156b5c6-fcdc-40d1-bded-7db50a660377"
      },
      "execution_count": null,
      "outputs": [
        {
          "output_type": "stream",
          "name": "stdout",
          "text": [
            "5\n",
            "1 1\n",
            "2\n",
            "2 3\n",
            "5\n",
            "3 4\n",
            "7\n",
            "9 8\n",
            "17\n",
            "5 2\n",
            "7\n"
          ]
        }
      ]
    },
    {
      "cell_type": "code",
      "source": [
        "a = int(input())\n",
        "b = 0\n",
        "for i in range(a+1):\n",
        "  b += i\n",
        "print(b)"
      ],
      "metadata": {
        "colab": {
          "base_uri": "https://localhost:8080/"
        },
        "id": "_7OcRw5Emkc6",
        "outputId": "15da249f-c822-4f16-8f2d-85100b1149b7"
      },
      "execution_count": null,
      "outputs": [
        {
          "output_type": "stream",
          "name": "stdout",
          "text": [
            "10\n",
            "55\n"
          ]
        }
      ]
    },
    {
      "cell_type": "code",
      "source": [
        "a = int(input())\n",
        "for i in range(a):\n",
        "  b, c =  map(int, input().split())\n",
        "  print(b+c)"
      ],
      "metadata": {
        "colab": {
          "base_uri": "https://localhost:8080/"
        },
        "id": "zTu9E-kEnrG1",
        "outputId": "9f8168ca-c126-4991-a240-142199882e08"
      },
      "execution_count": null,
      "outputs": [
        {
          "output_type": "stream",
          "name": "stdout",
          "text": [
            "5\n",
            "1 1\n",
            "2\n",
            "12 34\n",
            "46\n",
            "5 500\n",
            "505\n",
            "40 60\n",
            "100\n",
            "1000 1000\n",
            "2000\n"
          ]
        }
      ]
    },
    {
      "cell_type": "code",
      "source": [
        "import sys\n",
        "a = int(input())\n",
        "for i in range(a):\n",
        "  b, c =  map(int, sys.stdin.readline().split())\n",
        "  print(b+c)"
      ],
      "metadata": {
        "colab": {
          "base_uri": "https://localhost:8080/",
          "height": 248
        },
        "id": "bmaN5QUapPbi",
        "outputId": "0ca4cdb5-8a28-4c56-975c-afc002896131"
      },
      "execution_count": null,
      "outputs": [
        {
          "name": "stdout",
          "output_type": "stream",
          "text": [
            "5\n"
          ]
        },
        {
          "output_type": "error",
          "ename": "ValueError",
          "evalue": "ignored",
          "traceback": [
            "\u001b[0;31m---------------------------------------------------------------------------\u001b[0m",
            "\u001b[0;31mValueError\u001b[0m                                Traceback (most recent call last)",
            "\u001b[0;32m<ipython-input-20-ab2863fec902>\u001b[0m in \u001b[0;36m<module>\u001b[0;34m()\u001b[0m\n\u001b[1;32m      1\u001b[0m \u001b[0ma\u001b[0m \u001b[0;34m=\u001b[0m \u001b[0mint\u001b[0m\u001b[0;34m(\u001b[0m\u001b[0minput\u001b[0m\u001b[0;34m(\u001b[0m\u001b[0;34m)\u001b[0m\u001b[0;34m)\u001b[0m\u001b[0;34m\u001b[0m\u001b[0;34m\u001b[0m\u001b[0m\n\u001b[1;32m      2\u001b[0m \u001b[0;32mfor\u001b[0m \u001b[0mi\u001b[0m \u001b[0;32min\u001b[0m \u001b[0mrange\u001b[0m\u001b[0;34m(\u001b[0m\u001b[0ma\u001b[0m\u001b[0;34m)\u001b[0m\u001b[0;34m:\u001b[0m\u001b[0;34m\u001b[0m\u001b[0;34m\u001b[0m\u001b[0m\n\u001b[0;32m----> 3\u001b[0;31m   \u001b[0mb\u001b[0m\u001b[0;34m,\u001b[0m \u001b[0mc\u001b[0m \u001b[0;34m=\u001b[0m  \u001b[0mmap\u001b[0m\u001b[0;34m(\u001b[0m\u001b[0mint\u001b[0m\u001b[0;34m,\u001b[0m \u001b[0msys\u001b[0m\u001b[0;34m.\u001b[0m\u001b[0mstdin\u001b[0m\u001b[0;34m.\u001b[0m\u001b[0mreadline\u001b[0m\u001b[0;34m(\u001b[0m\u001b[0;34m)\u001b[0m\u001b[0;34m.\u001b[0m\u001b[0msplit\u001b[0m\u001b[0;34m(\u001b[0m\u001b[0;34m)\u001b[0m\u001b[0;34m)\u001b[0m\u001b[0;34m\u001b[0m\u001b[0;34m\u001b[0m\u001b[0m\n\u001b[0m\u001b[1;32m      4\u001b[0m   \u001b[0mprint\u001b[0m\u001b[0;34m(\u001b[0m\u001b[0mb\u001b[0m\u001b[0;34m+\u001b[0m\u001b[0mc\u001b[0m\u001b[0;34m)\u001b[0m\u001b[0;34m\u001b[0m\u001b[0;34m\u001b[0m\u001b[0m\n",
            "\u001b[0;31mValueError\u001b[0m: not enough values to unpack (expected 2, got 0)"
          ]
        }
      ]
    },
    {
      "cell_type": "code",
      "source": [
        "a = int(input())\n",
        "for i in range(a, 0, -1):\n",
        "  print(i)"
      ],
      "metadata": {
        "colab": {
          "base_uri": "https://localhost:8080/"
        },
        "id": "LJfhTJ1LpdiK",
        "outputId": "06db438b-de64-4714-d708-d8f4273a7200"
      },
      "execution_count": null,
      "outputs": [
        {
          "output_type": "stream",
          "name": "stdout",
          "text": [
            "6\n",
            "6\n",
            "5\n",
            "4\n",
            "3\n",
            "2\n",
            "1\n"
          ]
        }
      ]
    },
    {
      "cell_type": "code",
      "source": [
        "import sys\n",
        "a = int(input())\n",
        "for i in range(a):\n",
        "  b, c =  map(int, sys.stdin.readline().split())\n",
        "  print(f'Case #{i+1}: {b} + {c} =',b+c)"
      ],
      "metadata": {
        "colab": {
          "base_uri": "https://localhost:8080/",
          "height": 248
        },
        "id": "RZCMlgCuqRGD",
        "outputId": "13109db2-4251-4bbe-d987-22362274b69f"
      },
      "execution_count": null,
      "outputs": [
        {
          "name": "stdout",
          "output_type": "stream",
          "text": [
            "5\n"
          ]
        },
        {
          "output_type": "error",
          "ename": "ValueError",
          "evalue": "ignored",
          "traceback": [
            "\u001b[0;31m---------------------------------------------------------------------------\u001b[0m",
            "\u001b[0;31mValueError\u001b[0m                                Traceback (most recent call last)",
            "\u001b[0;32m<ipython-input-26-9a6b9f360ea5>\u001b[0m in \u001b[0;36m<module>\u001b[0;34m()\u001b[0m\n\u001b[1;32m      2\u001b[0m \u001b[0ma\u001b[0m \u001b[0;34m=\u001b[0m \u001b[0mint\u001b[0m\u001b[0;34m(\u001b[0m\u001b[0minput\u001b[0m\u001b[0;34m(\u001b[0m\u001b[0;34m)\u001b[0m\u001b[0;34m)\u001b[0m\u001b[0;34m\u001b[0m\u001b[0;34m\u001b[0m\u001b[0m\n\u001b[1;32m      3\u001b[0m \u001b[0;32mfor\u001b[0m \u001b[0mi\u001b[0m \u001b[0;32min\u001b[0m \u001b[0mrange\u001b[0m\u001b[0;34m(\u001b[0m\u001b[0ma\u001b[0m\u001b[0;34m)\u001b[0m\u001b[0;34m:\u001b[0m\u001b[0;34m\u001b[0m\u001b[0;34m\u001b[0m\u001b[0m\n\u001b[0;32m----> 4\u001b[0;31m   \u001b[0mb\u001b[0m\u001b[0;34m,\u001b[0m \u001b[0mc\u001b[0m \u001b[0;34m=\u001b[0m  \u001b[0mmap\u001b[0m\u001b[0;34m(\u001b[0m\u001b[0mint\u001b[0m\u001b[0;34m,\u001b[0m \u001b[0msys\u001b[0m\u001b[0;34m.\u001b[0m\u001b[0mstdin\u001b[0m\u001b[0;34m.\u001b[0m\u001b[0mreadline\u001b[0m\u001b[0;34m(\u001b[0m\u001b[0;34m)\u001b[0m\u001b[0;34m.\u001b[0m\u001b[0msplit\u001b[0m\u001b[0;34m(\u001b[0m\u001b[0;34m)\u001b[0m\u001b[0;34m)\u001b[0m\u001b[0;34m\u001b[0m\u001b[0;34m\u001b[0m\u001b[0m\n\u001b[0m\u001b[1;32m      5\u001b[0m   \u001b[0mprint\u001b[0m\u001b[0;34m(\u001b[0m\u001b[0;34mf'Case #{i+1}:'\u001b[0m\u001b[0;34m,\u001b[0m\u001b[0mb\u001b[0m\u001b[0;34m+\u001b[0m\u001b[0mc\u001b[0m\u001b[0;34m)\u001b[0m\u001b[0;34m\u001b[0m\u001b[0;34m\u001b[0m\u001b[0m\n",
            "\u001b[0;31mValueError\u001b[0m: not enough values to unpack (expected 2, got 0)"
          ]
        }
      ]
    },
    {
      "cell_type": "code",
      "source": [
        "a = int(input())\n",
        "for i in range(1, a+1):\n",
        "  b = '*'*i\n",
        "  print(b.rjust(a,' '))"
      ],
      "metadata": {
        "colab": {
          "base_uri": "https://localhost:8080/"
        },
        "id": "gTYOa77_rzvu",
        "outputId": "df0db4e8-360a-4007-e2d5-8f944c736360"
      },
      "execution_count": null,
      "outputs": [
        {
          "output_type": "stream",
          "name": "stdout",
          "text": [
            "6\n",
            "     *\n",
            "    **\n",
            "   ***\n",
            "  ****\n",
            " *****\n",
            "******\n"
          ]
        }
      ]
    },
    {
      "cell_type": "code",
      "source": [
        "import sys\n",
        "a, b = map(int, input().split())\n",
        "c = list(map(int, sys.stdin.readline().split()))\n",
        "for i in c:\n",
        "  if i < b:\n",
        "    print(i, end=' ')"
      ],
      "metadata": {
        "colab": {
          "base_uri": "https://localhost:8080/"
        },
        "id": "urXlHQKXvEYM",
        "outputId": "738c301c-3fa1-47fa-f9b6-70d47d584e69"
      },
      "execution_count": null,
      "outputs": [
        {
          "output_type": "stream",
          "name": "stdout",
          "text": [
            "10 5\n",
            "1 10 4 9 2 3 8 5 7 6\n",
            "1 4 2 3 "
          ]
        }
      ]
    },
    {
      "cell_type": "code",
      "source": [
        "list(c)"
      ],
      "metadata": {
        "colab": {
          "base_uri": "https://localhost:8080/"
        },
        "id": "OXU6sXmwv9dq",
        "outputId": "313a0a47-898b-443a-b60e-c37c0f3c0953"
      },
      "execution_count": null,
      "outputs": [
        {
          "output_type": "execute_result",
          "data": {
            "text/plain": [
              "[1, 10, 4, 9, 2, 3, 8, 5, 7, 6]"
            ]
          },
          "metadata": {},
          "execution_count": 42
        }
      ]
    },
    {
      "cell_type": "code",
      "source": [
        "while True:\n",
        "  try:\n",
        "    a, b = map(int, input().split())\n",
        "    print(a+b)\n",
        "  except:\n",
        "    break"
      ],
      "metadata": {
        "colab": {
          "base_uri": "https://localhost:8080/"
        },
        "id": "lpsVPuwdwChb",
        "outputId": "ece596e5-e02f-4527-ac78-30d67aa78566"
      },
      "execution_count": null,
      "outputs": [
        {
          "name": "stdout",
          "output_type": "stream",
          "text": [
            "1 1\n",
            "2\n",
            "2 3\n",
            "5\n",
            "0 0\n"
          ]
        }
      ]
    },
    {
      "cell_type": "code",
      "source": [
        "a = input()\n",
        "cnt = 0\n",
        "k = a\n",
        "while True:\n",
        "  cnt +=1\n",
        "  if len(str(k)) == 1:\n",
        "    k = int(k)\n",
        "    k = k*10 + k\n",
        "    if a == str(k):\n",
        "      print(cnt)\n",
        "      break\n",
        "  elif len(str(k)) == 2:\n",
        "    x = int(str(k)[0])\n",
        "    z = int(str(k)[1])\n",
        "    b = int(str(x + z)[-1])\n",
        "    k = z*10 + b\n",
        "    if a == str(k):\n",
        "      print(cnt)\n",
        "      break"
      ],
      "metadata": {
        "colab": {
          "base_uri": "https://localhost:8080/"
        },
        "id": "VSGIzX_64wCH",
        "outputId": "ab4bef23-bc51-47a7-be24-c63c083bd669"
      },
      "execution_count": null,
      "outputs": [
        {
          "output_type": "stream",
          "name": "stdout",
          "text": [
            "71\n",
            "12\n"
          ]
        }
      ]
    },
    {
      "cell_type": "code",
      "source": [
        "a = 26\n",
        "cnt = 0\n",
        "k = a\n",
        "k\n",
        "len(str(k))\n",
        "int(str(k)[0])"
      ],
      "metadata": {
        "colab": {
          "base_uri": "https://localhost:8080/"
        },
        "id": "z5siXKt_7QsE",
        "outputId": "5f3e844c-a598-441c-fb2d-302b2c0da26b"
      },
      "execution_count": null,
      "outputs": [
        {
          "output_type": "execute_result",
          "data": {
            "text/plain": [
              "2"
            ]
          },
          "metadata": {},
          "execution_count": 66
        }
      ]
    },
    {
      "cell_type": "code",
      "source": [
        "for i in range(4):\n",
        "  cnt +=1\n",
        "  if len(str(k)) == 2:\n",
        "    k = int(str(k)[1]\n",
        "    "
      ],
      "metadata": {
        "id": "r_NJzAZ5-Tqg"
      },
      "execution_count": null,
      "outputs": []
    },
    {
      "cell_type": "code",
      "source": [
        "import sys\n",
        "a = input()\n",
        "b = list(map(int, sys.stdin.readline().split()))\n",
        "print(min(b), max(b))"
      ],
      "metadata": {
        "colab": {
          "base_uri": "https://localhost:8080/",
          "height": 229
        },
        "id": "GU_VX0_d_9Tp",
        "outputId": "88a66ed6-2012-4c69-a23e-e23f715c10de"
      },
      "execution_count": null,
      "outputs": [
        {
          "name": "stdout",
          "output_type": "stream",
          "text": [
            "5\n"
          ]
        },
        {
          "output_type": "error",
          "ename": "ValueError",
          "evalue": "ignored",
          "traceback": [
            "\u001b[0;31m---------------------------------------------------------------------------\u001b[0m",
            "\u001b[0;31mValueError\u001b[0m                                Traceback (most recent call last)",
            "\u001b[0;32m<ipython-input-76-f5b97002407d>\u001b[0m in \u001b[0;36m<module>\u001b[0;34m()\u001b[0m\n\u001b[1;32m      2\u001b[0m \u001b[0ma\u001b[0m \u001b[0;34m=\u001b[0m \u001b[0minput\u001b[0m\u001b[0;34m(\u001b[0m\u001b[0;34m)\u001b[0m\u001b[0;34m\u001b[0m\u001b[0;34m\u001b[0m\u001b[0m\n\u001b[1;32m      3\u001b[0m \u001b[0mb\u001b[0m \u001b[0;34m=\u001b[0m \u001b[0mlist\u001b[0m\u001b[0;34m(\u001b[0m\u001b[0mmap\u001b[0m\u001b[0;34m(\u001b[0m\u001b[0mint\u001b[0m\u001b[0;34m,\u001b[0m \u001b[0msys\u001b[0m\u001b[0;34m.\u001b[0m\u001b[0mstdin\u001b[0m\u001b[0;34m.\u001b[0m\u001b[0mreadline\u001b[0m\u001b[0;34m(\u001b[0m\u001b[0;34m)\u001b[0m\u001b[0;34m.\u001b[0m\u001b[0msplit\u001b[0m\u001b[0;34m(\u001b[0m\u001b[0;34m)\u001b[0m\u001b[0;34m)\u001b[0m\u001b[0;34m)\u001b[0m\u001b[0;34m\u001b[0m\u001b[0;34m\u001b[0m\u001b[0m\n\u001b[0;32m----> 4\u001b[0;31m \u001b[0mprint\u001b[0m\u001b[0;34m(\u001b[0m\u001b[0mmin\u001b[0m\u001b[0;34m(\u001b[0m\u001b[0mb\u001b[0m\u001b[0;34m)\u001b[0m\u001b[0;34m,\u001b[0m \u001b[0mmax\u001b[0m\u001b[0;34m(\u001b[0m\u001b[0mb\u001b[0m\u001b[0;34m)\u001b[0m\u001b[0;34m)\u001b[0m\u001b[0;34m\u001b[0m\u001b[0;34m\u001b[0m\u001b[0m\n\u001b[0m",
            "\u001b[0;31mValueError\u001b[0m: min() arg is an empty sequence"
          ]
        }
      ]
    },
    {
      "cell_type": "code",
      "source": [
        "import sys\n",
        "a = input()\n",
        "b = list(map(int, input().split()))\n",
        "print(min(b), max(b))"
      ],
      "metadata": {
        "colab": {
          "base_uri": "https://localhost:8080/"
        },
        "id": "DHa-WoTaARr2",
        "outputId": "d2818fff-a0b9-4b93-9a4f-608224a9c8a3"
      },
      "execution_count": null,
      "outputs": [
        {
          "output_type": "stream",
          "name": "stdout",
          "text": [
            "5\n",
            "20 10 35 30 7\n",
            "7 35\n"
          ]
        }
      ]
    },
    {
      "cell_type": "code",
      "source": [
        "import numpy as np\n",
        "a = []\n",
        "for i in range(9):\n",
        "  b = int(input())\n",
        "  a.append(b)\n",
        "a = np.array(a)\n",
        "b = a.argmax()\n",
        "print(a[b])\n",
        "print(b+1)"
      ],
      "metadata": {
        "colab": {
          "base_uri": "https://localhost:8080/"
        },
        "id": "XPlffljnAWTF",
        "outputId": "c3ca72c5-296e-47bf-c337-03353af417dd"
      },
      "execution_count": null,
      "outputs": [
        {
          "output_type": "stream",
          "name": "stdout",
          "text": [
            "3\n",
            "29\n",
            "38\n",
            "12\n",
            "57\n",
            "74\n",
            "40\n",
            "85\n",
            "61\n",
            "85\n",
            "7\n"
          ]
        }
      ]
    },
    {
      "cell_type": "code",
      "source": [
        "import numpy as np\n",
        "a = np.array(a)\n",
        "a.argmax()"
      ],
      "metadata": {
        "colab": {
          "base_uri": "https://localhost:8080/"
        },
        "id": "uWma5WaRBomd",
        "outputId": "3cdf117d-bbac-4869-db04-1378b7f862b6"
      },
      "execution_count": null,
      "outputs": [
        {
          "output_type": "execute_result",
          "data": {
            "text/plain": [
              "5"
            ]
          },
          "metadata": {},
          "execution_count": 84
        }
      ]
    },
    {
      "cell_type": "code",
      "source": [
        "a[5]"
      ],
      "metadata": {
        "colab": {
          "base_uri": "https://localhost:8080/"
        },
        "id": "SJ9b65CgBzXN",
        "outputId": "2f5d2355-817f-4351-be6b-2520bfc07429"
      },
      "execution_count": null,
      "outputs": [
        {
          "output_type": "execute_result",
          "data": {
            "text/plain": [
              "714"
            ]
          },
          "metadata": {},
          "execution_count": 85
        }
      ]
    },
    {
      "cell_type": "code",
      "source": [
        "a = []\n",
        "for i in range(9):\n",
        "  a.append(int(input()))\n",
        "print(max(a))\n",
        "print(a.index(max(a))+1)"
      ],
      "metadata": {
        "colab": {
          "base_uri": "https://localhost:8080/"
        },
        "id": "oKJ2wt7NCRUw",
        "outputId": "ce9e7f9d-970c-495e-a8d0-adc503c4de08"
      },
      "execution_count": null,
      "outputs": [
        {
          "output_type": "stream",
          "name": "stdout",
          "text": [
            "3\n",
            "29\n",
            "38\n",
            "12\n",
            "57\n",
            "74\n",
            "40\n",
            "85\n",
            "61\n",
            "85\n",
            "8\n"
          ]
        }
      ]
    },
    {
      "cell_type": "code",
      "source": [
        "a = 10000\n",
        "a"
      ],
      "metadata": {
        "colab": {
          "base_uri": "https://localhost:8080/"
        },
        "id": "QgvtwIOGDU4p",
        "outputId": "893a56cb-e2ec-42ba-ef2a-3194e7b2a981"
      },
      "execution_count": null,
      "outputs": [
        {
          "output_type": "execute_result",
          "data": {
            "text/plain": [
              "10000"
            ]
          },
          "metadata": {},
          "execution_count": 90
        }
      ]
    },
    {
      "cell_type": "code",
      "source": [
        "str(a).count('0')"
      ],
      "metadata": {
        "colab": {
          "base_uri": "https://localhost:8080/"
        },
        "id": "rD5_-3QDEc58",
        "outputId": "71fcfd8c-afdd-464e-bdbe-bab7ac95025c"
      },
      "execution_count": null,
      "outputs": [
        {
          "output_type": "execute_result",
          "data": {
            "text/plain": [
              "4"
            ]
          },
          "metadata": {},
          "execution_count": 93
        }
      ]
    },
    {
      "cell_type": "code",
      "source": [
        "a = int(input())\n",
        "b = int(input())\n",
        "c = int(input())\n",
        "d = a*b*c\n",
        "\n",
        "for i in range(10):\n",
        "  print(str(d).count(f'{i}'))"
      ],
      "metadata": {
        "colab": {
          "base_uri": "https://localhost:8080/"
        },
        "id": "IUByLuKhEgPj",
        "outputId": "2d0616df-b5c0-479c-f7de-96a231653702"
      },
      "execution_count": null,
      "outputs": [
        {
          "output_type": "stream",
          "name": "stdout",
          "text": [
            "150\n",
            "266\n",
            "427\n",
            "3\n",
            "1\n",
            "0\n",
            "2\n",
            "0\n",
            "0\n",
            "0\n",
            "2\n",
            "0\n",
            "0\n"
          ]
        }
      ]
    },
    {
      "cell_type": "code",
      "source": [
        "a = []\n",
        "for i in range(10):\n",
        "  a.append(int(input()))\n",
        "b = []\n",
        "for i in a:\n",
        "  b.append(i % 42)\n",
        "print(len(set(b)))"
      ],
      "metadata": {
        "colab": {
          "base_uri": "https://localhost:8080/"
        },
        "id": "eKRC5Xr_E5Gh",
        "outputId": "6438b13f-9d0a-432e-d8cc-1bb9f55b10a2"
      },
      "execution_count": null,
      "outputs": [
        {
          "output_type": "stream",
          "name": "stdout",
          "text": [
            "39\n",
            "40\n",
            "41\n",
            "42\n",
            "43\n",
            "4\n",
            "82\n",
            "83\n",
            "84\n",
            "85\n",
            "6\n"
          ]
        }
      ]
    },
    {
      "cell_type": "code",
      "source": [
        "4len(set(b))"
      ],
      "metadata": {
        "colab": {
          "base_uri": "https://localhost:8080/"
        },
        "id": "iqqBEhOgHCqM",
        "outputId": "1caf2be9-cb81-49dc-f8a7-db50ce42b2c0"
      },
      "execution_count": null,
      "outputs": [
        {
          "output_type": "execute_result",
          "data": {
            "text/plain": [
              "10"
            ]
          },
          "metadata": {},
          "execution_count": 99
        }
      ]
    },
    {
      "cell_type": "code",
      "source": [
        "a = set()\n",
        "for i in range(10):\n",
        "  a.add(int(input())%42)\n",
        "print(len(a))"
      ],
      "metadata": {
        "colab": {
          "base_uri": "https://localhost:8080/"
        },
        "id": "WxhCD0NpHF5f",
        "outputId": "28c91167-649e-464b-d980-5a24a93f5f0d"
      },
      "execution_count": null,
      "outputs": [
        {
          "output_type": "stream",
          "name": "stdout",
          "text": [
            "39\n",
            "40\n",
            "41\n",
            "42\n",
            "43\n",
            "4\n",
            "82\n",
            "83\n",
            "84\n",
            "85\n",
            "{0, 1, 4, 39, 40, 41}\n"
          ]
        }
      ]
    },
    {
      "cell_type": "code",
      "source": [
        "a = int(input())\n",
        "b = list(map(int, input().split()))\n"
      ],
      "metadata": {
        "colab": {
          "base_uri": "https://localhost:8080/",
          "height": 248
        },
        "id": "YJu7BGEvIdCK",
        "outputId": "cdf89434-0669-4c77-d215-e46903a1e334"
      },
      "execution_count": null,
      "outputs": [
        {
          "name": "stdout",
          "output_type": "stream",
          "text": [
            "3\n",
            "40 80 60\n"
          ]
        },
        {
          "output_type": "error",
          "ename": "AttributeError",
          "evalue": "ignored",
          "traceback": [
            "\u001b[0;31m---------------------------------------------------------------------------\u001b[0m",
            "\u001b[0;31mAttributeError\u001b[0m                            Traceback (most recent call last)",
            "\u001b[0;32m<ipython-input-107-7726f640d4f0>\u001b[0m in \u001b[0;36m<module>\u001b[0;34m()\u001b[0m\n\u001b[1;32m      1\u001b[0m \u001b[0ma\u001b[0m \u001b[0;34m=\u001b[0m \u001b[0minput\u001b[0m\u001b[0;34m(\u001b[0m\u001b[0;34m)\u001b[0m\u001b[0;34m\u001b[0m\u001b[0;34m\u001b[0m\u001b[0m\n\u001b[1;32m      2\u001b[0m \u001b[0mb\u001b[0m \u001b[0;34m=\u001b[0m \u001b[0mlist\u001b[0m\u001b[0;34m(\u001b[0m\u001b[0mmap\u001b[0m\u001b[0;34m(\u001b[0m\u001b[0mint\u001b[0m\u001b[0;34m,\u001b[0m \u001b[0minput\u001b[0m\u001b[0;34m(\u001b[0m\u001b[0;34m)\u001b[0m\u001b[0;34m.\u001b[0m\u001b[0msplit\u001b[0m\u001b[0;34m(\u001b[0m\u001b[0;34m)\u001b[0m\u001b[0;34m)\u001b[0m\u001b[0;34m)\u001b[0m\u001b[0;34m\u001b[0m\u001b[0;34m\u001b[0m\u001b[0m\n\u001b[0;32m----> 3\u001b[0;31m \u001b[0mb\u001b[0m\u001b[0;34m.\u001b[0m\u001b[0mmax\u001b[0m\u001b[0;34m(\u001b[0m\u001b[0;34m)\u001b[0m\u001b[0;34m\u001b[0m\u001b[0;34m\u001b[0m\u001b[0m\n\u001b[0m",
            "\u001b[0;31mAttributeError\u001b[0m: 'list' object has no attribute 'max'"
          ]
        }
      ]
    },
    {
      "cell_type": "code",
      "source": [
        "z = 0\n",
        "for i in b:\n",
        "  z += i / max(b) * 100\n",
        "print(z/3)"
      ],
      "metadata": {
        "colab": {
          "base_uri": "https://localhost:8080/"
        },
        "id": "50BkqCkXJFtR",
        "outputId": "8ddffc78-65b1-42ad-8813-52a78e6623d0"
      },
      "execution_count": null,
      "outputs": [
        {
          "output_type": "stream",
          "name": "stdout",
          "text": [
            "75.0\n"
          ]
        }
      ]
    },
    {
      "cell_type": "code",
      "source": [
        "a = int(input())\n",
        "b = list(map(int, input().split()))\n",
        "z = 0\n",
        "for i in b:\n",
        "  z += i / max(b) * 100\n",
        "print(z/a)"
      ],
      "metadata": {
        "colab": {
          "base_uri": "https://localhost:8080/"
        },
        "id": "UGikfeMeJP0l",
        "outputId": "e7af27cb-1dad-4a1c-a704-d2a740d25bf5"
      },
      "execution_count": null,
      "outputs": [
        {
          "output_type": "stream",
          "name": "stdout",
          "text": [
            "3\n",
            "10 20 30\n",
            "66.66666666666667\n"
          ]
        }
      ]
    },
    {
      "cell_type": "code",
      "source": [
        "a = int(input())\n",
        "for i in range(a):\n",
        "  cnt = 0\n",
        "  result = 0\n",
        "  b = input()\n",
        "  for i in range(len(b)):\n",
        "    if b[i] == 'O':\n",
        "      cnt += 1\n",
        "      result += cnt\n",
        "    elif b[i] == 'X':\n",
        "      cnt = 0\n",
        "  print(result)\n"
      ],
      "metadata": {
        "colab": {
          "base_uri": "https://localhost:8080/"
        },
        "id": "y8vSZTUWJnI0",
        "outputId": "9c6735bd-b980-4b2d-ba96-858d69c414c1"
      },
      "execution_count": null,
      "outputs": [
        {
          "output_type": "stream",
          "name": "stdout",
          "text": [
            "5\n",
            "OOXXOXXOOO\n",
            "10\n",
            "OOXXOOXXOO\n",
            "9\n",
            "OXOXOXOXOXOXOX\n",
            "7\n",
            "OOOOOOOOOO\n",
            "55\n",
            "OOOOXOOOOXOOOOX\n",
            "30\n"
          ]
        }
      ]
    },
    {
      "cell_type": "code",
      "source": [
        "a = int(input())\n",
        "for i in range(a):\n",
        "  b = list(map(int, input().split()))\n",
        "  mean = sum(b[1:])/b[0]\n",
        "  cnt = 0\n",
        "  for i in b:\n",
        "    if i > mean:\n",
        "      cnt +=1\n",
        "  print(f'{round((cnt/b[0])*100, 3)}%')"
      ],
      "metadata": {
        "colab": {
          "base_uri": "https://localhost:8080/"
        },
        "id": "A8sdI_J0LRDB",
        "outputId": "f386771f-3dbe-4bef-eba3-eb459368ea19"
      },
      "execution_count": null,
      "outputs": [
        {
          "output_type": "stream",
          "name": "stdout",
          "text": [
            "5\n",
            "5 50 50 70 80 100\n",
            "40.0%\n",
            "7 100 95 90 80 70 60 50\n",
            "57.143%\n",
            "3 70 90 80\n",
            "33.333%\n",
            "3 70 90 81\n",
            "66.667%\n",
            "9 100 99 98 97 96 95 94 93 91\n",
            "55.556%\n"
          ]
        }
      ]
    },
    {
      "cell_type": "code",
      "source": [
        "b = list(map(int, input().split()))\n",
        "mean = sum(b)/len(b)"
      ],
      "metadata": {
        "colab": {
          "base_uri": "https://localhost:8080/"
        },
        "id": "ylsJurcJO3gO",
        "outputId": "c1533f21-2600-4d2d-d8fe-c2cc089a1c16"
      },
      "execution_count": null,
      "outputs": [
        {
          "name": "stdout",
          "output_type": "stream",
          "text": [
            "100 95 90 80 70 60 50\n"
          ]
        }
      ]
    },
    {
      "cell_type": "code",
      "source": [
        "cnt = 0\n",
        "for i in b:\n",
        "  if i > mean:\n",
        "    cnt+=1\n",
        "print(f'{round(cnt/len(b)*100, 3)}%')"
      ],
      "metadata": {
        "colab": {
          "base_uri": "https://localhost:8080/"
        },
        "id": "3Luhg3r3O4lT",
        "outputId": "ed097bbf-4162-4982-9dae-47bc4da34e9b"
      },
      "execution_count": null,
      "outputs": [
        {
          "output_type": "stream",
          "name": "stdout",
          "text": [
            "57.143%\n"
          ]
        }
      ]
    },
    {
      "cell_type": "code",
      "source": [
        "a = int(input())\n",
        "for i in range(a):\n",
        "  b = list(map(int, input().split()))\n",
        "  mean = sum(b[1:])/b[0]\n",
        "  cnt = 0\n",
        "  for i in b[1:]:\n",
        "    if i > mean:\n",
        "      cnt +=1\n",
        "  print('%.3f' %(cnt/b[0]*100)+'%')"
      ],
      "metadata": {
        "colab": {
          "base_uri": "https://localhost:8080/",
          "height": 565
        },
        "id": "4ClWkHHgPb1I",
        "outputId": "91f6373a-1715-4f8b-a799-ac52f7d25365"
      },
      "execution_count": null,
      "outputs": [
        {
          "output_type": "error",
          "ename": "KeyboardInterrupt",
          "evalue": "ignored",
          "traceback": [
            "\u001b[0;31m---------------------------------------------------------------------------\u001b[0m",
            "\u001b[0;31mKeyboardInterrupt\u001b[0m                         Traceback (most recent call last)",
            "\u001b[0;32m/usr/local/lib/python3.7/dist-packages/ipykernel/kernelbase.py\u001b[0m in \u001b[0;36m_input_request\u001b[0;34m(self, prompt, ident, parent, password)\u001b[0m\n\u001b[1;32m    728\u001b[0m             \u001b[0;32mtry\u001b[0m\u001b[0;34m:\u001b[0m\u001b[0;34m\u001b[0m\u001b[0;34m\u001b[0m\u001b[0m\n\u001b[0;32m--> 729\u001b[0;31m                 \u001b[0mident\u001b[0m\u001b[0;34m,\u001b[0m \u001b[0mreply\u001b[0m \u001b[0;34m=\u001b[0m \u001b[0mself\u001b[0m\u001b[0;34m.\u001b[0m\u001b[0msession\u001b[0m\u001b[0;34m.\u001b[0m\u001b[0mrecv\u001b[0m\u001b[0;34m(\u001b[0m\u001b[0mself\u001b[0m\u001b[0;34m.\u001b[0m\u001b[0mstdin_socket\u001b[0m\u001b[0;34m,\u001b[0m \u001b[0;36m0\u001b[0m\u001b[0;34m)\u001b[0m\u001b[0;34m\u001b[0m\u001b[0;34m\u001b[0m\u001b[0m\n\u001b[0m\u001b[1;32m    730\u001b[0m             \u001b[0;32mexcept\u001b[0m \u001b[0mException\u001b[0m\u001b[0;34m:\u001b[0m\u001b[0;34m\u001b[0m\u001b[0;34m\u001b[0m\u001b[0m\n",
            "\u001b[0;32m/usr/local/lib/python3.7/dist-packages/jupyter_client/session.py\u001b[0m in \u001b[0;36mrecv\u001b[0;34m(self, socket, mode, content, copy)\u001b[0m\n\u001b[1;32m    802\u001b[0m         \u001b[0;32mtry\u001b[0m\u001b[0;34m:\u001b[0m\u001b[0;34m\u001b[0m\u001b[0;34m\u001b[0m\u001b[0m\n\u001b[0;32m--> 803\u001b[0;31m             \u001b[0mmsg_list\u001b[0m \u001b[0;34m=\u001b[0m \u001b[0msocket\u001b[0m\u001b[0;34m.\u001b[0m\u001b[0mrecv_multipart\u001b[0m\u001b[0;34m(\u001b[0m\u001b[0mmode\u001b[0m\u001b[0;34m,\u001b[0m \u001b[0mcopy\u001b[0m\u001b[0;34m=\u001b[0m\u001b[0mcopy\u001b[0m\u001b[0;34m)\u001b[0m\u001b[0;34m\u001b[0m\u001b[0;34m\u001b[0m\u001b[0m\n\u001b[0m\u001b[1;32m    804\u001b[0m         \u001b[0;32mexcept\u001b[0m \u001b[0mzmq\u001b[0m\u001b[0;34m.\u001b[0m\u001b[0mZMQError\u001b[0m \u001b[0;32mas\u001b[0m \u001b[0me\u001b[0m\u001b[0;34m:\u001b[0m\u001b[0;34m\u001b[0m\u001b[0;34m\u001b[0m\u001b[0m\n",
            "\u001b[0;32m/usr/local/lib/python3.7/dist-packages/zmq/sugar/socket.py\u001b[0m in \u001b[0;36mrecv_multipart\u001b[0;34m(self, flags, copy, track)\u001b[0m\n\u001b[1;32m    624\u001b[0m         \"\"\"\n\u001b[0;32m--> 625\u001b[0;31m         \u001b[0mparts\u001b[0m \u001b[0;34m=\u001b[0m \u001b[0;34m[\u001b[0m\u001b[0mself\u001b[0m\u001b[0;34m.\u001b[0m\u001b[0mrecv\u001b[0m\u001b[0;34m(\u001b[0m\u001b[0mflags\u001b[0m\u001b[0;34m,\u001b[0m \u001b[0mcopy\u001b[0m\u001b[0;34m=\u001b[0m\u001b[0mcopy\u001b[0m\u001b[0;34m,\u001b[0m \u001b[0mtrack\u001b[0m\u001b[0;34m=\u001b[0m\u001b[0mtrack\u001b[0m\u001b[0;34m)\u001b[0m\u001b[0;34m]\u001b[0m\u001b[0;34m\u001b[0m\u001b[0;34m\u001b[0m\u001b[0m\n\u001b[0m\u001b[1;32m    626\u001b[0m         \u001b[0;31m# have first part already, only loop while more to receive\u001b[0m\u001b[0;34m\u001b[0m\u001b[0;34m\u001b[0m\u001b[0;34m\u001b[0m\u001b[0m\n",
            "\u001b[0;32mzmq/backend/cython/socket.pyx\u001b[0m in \u001b[0;36mzmq.backend.cython.socket.Socket.recv\u001b[0;34m()\u001b[0m\n",
            "\u001b[0;32mzmq/backend/cython/socket.pyx\u001b[0m in \u001b[0;36mzmq.backend.cython.socket.Socket.recv\u001b[0;34m()\u001b[0m\n",
            "\u001b[0;32mzmq/backend/cython/socket.pyx\u001b[0m in \u001b[0;36mzmq.backend.cython.socket._recv_copy\u001b[0;34m()\u001b[0m\n",
            "\u001b[0;32m/usr/local/lib/python3.7/dist-packages/zmq/backend/cython/checkrc.pxd\u001b[0m in \u001b[0;36mzmq.backend.cython.checkrc._check_rc\u001b[0;34m()\u001b[0m\n",
            "\u001b[0;31mKeyboardInterrupt\u001b[0m: ",
            "\nDuring handling of the above exception, another exception occurred:\n",
            "\u001b[0;31mKeyboardInterrupt\u001b[0m                         Traceback (most recent call last)",
            "\u001b[0;32m<ipython-input-149-09ca35b73657>\u001b[0m in \u001b[0;36m<module>\u001b[0;34m()\u001b[0m\n\u001b[0;32m----> 1\u001b[0;31m \u001b[0ma\u001b[0m \u001b[0;34m=\u001b[0m \u001b[0mint\u001b[0m\u001b[0;34m(\u001b[0m\u001b[0minput\u001b[0m\u001b[0;34m(\u001b[0m\u001b[0;34m)\u001b[0m\u001b[0;34m)\u001b[0m\u001b[0;34m\u001b[0m\u001b[0;34m\u001b[0m\u001b[0m\n\u001b[0m\u001b[1;32m      2\u001b[0m \u001b[0;32mfor\u001b[0m \u001b[0mi\u001b[0m \u001b[0;32min\u001b[0m \u001b[0mrange\u001b[0m\u001b[0;34m(\u001b[0m\u001b[0ma\u001b[0m\u001b[0;34m)\u001b[0m\u001b[0;34m:\u001b[0m\u001b[0;34m\u001b[0m\u001b[0;34m\u001b[0m\u001b[0m\n\u001b[1;32m      3\u001b[0m   \u001b[0mb\u001b[0m \u001b[0;34m=\u001b[0m \u001b[0mlist\u001b[0m\u001b[0;34m(\u001b[0m\u001b[0mmap\u001b[0m\u001b[0;34m(\u001b[0m\u001b[0mint\u001b[0m\u001b[0;34m,\u001b[0m \u001b[0minput\u001b[0m\u001b[0;34m(\u001b[0m\u001b[0;34m)\u001b[0m\u001b[0;34m.\u001b[0m\u001b[0msplit\u001b[0m\u001b[0;34m(\u001b[0m\u001b[0;34m)\u001b[0m\u001b[0;34m)\u001b[0m\u001b[0;34m)\u001b[0m\u001b[0;34m\u001b[0m\u001b[0;34m\u001b[0m\u001b[0m\n\u001b[1;32m      4\u001b[0m   \u001b[0mmean\u001b[0m \u001b[0;34m=\u001b[0m \u001b[0msum\u001b[0m\u001b[0;34m(\u001b[0m\u001b[0mb\u001b[0m\u001b[0;34m[\u001b[0m\u001b[0;36m1\u001b[0m\u001b[0;34m:\u001b[0m\u001b[0;34m]\u001b[0m\u001b[0;34m)\u001b[0m\u001b[0;34m/\u001b[0m\u001b[0mb\u001b[0m\u001b[0;34m[\u001b[0m\u001b[0;36m0\u001b[0m\u001b[0;34m]\u001b[0m\u001b[0;34m\u001b[0m\u001b[0;34m\u001b[0m\u001b[0m\n\u001b[1;32m      5\u001b[0m   \u001b[0mcnt\u001b[0m \u001b[0;34m=\u001b[0m \u001b[0;36m0\u001b[0m\u001b[0;34m\u001b[0m\u001b[0;34m\u001b[0m\u001b[0m\n",
            "\u001b[0;32m/usr/local/lib/python3.7/dist-packages/ipykernel/kernelbase.py\u001b[0m in \u001b[0;36mraw_input\u001b[0;34m(self, prompt)\u001b[0m\n\u001b[1;32m    702\u001b[0m             \u001b[0mself\u001b[0m\u001b[0;34m.\u001b[0m\u001b[0m_parent_ident\u001b[0m\u001b[0;34m,\u001b[0m\u001b[0;34m\u001b[0m\u001b[0;34m\u001b[0m\u001b[0m\n\u001b[1;32m    703\u001b[0m             \u001b[0mself\u001b[0m\u001b[0;34m.\u001b[0m\u001b[0m_parent_header\u001b[0m\u001b[0;34m,\u001b[0m\u001b[0;34m\u001b[0m\u001b[0;34m\u001b[0m\u001b[0m\n\u001b[0;32m--> 704\u001b[0;31m             \u001b[0mpassword\u001b[0m\u001b[0;34m=\u001b[0m\u001b[0;32mFalse\u001b[0m\u001b[0;34m,\u001b[0m\u001b[0;34m\u001b[0m\u001b[0;34m\u001b[0m\u001b[0m\n\u001b[0m\u001b[1;32m    705\u001b[0m         )\n\u001b[1;32m    706\u001b[0m \u001b[0;34m\u001b[0m\u001b[0m\n",
            "\u001b[0;32m/usr/local/lib/python3.7/dist-packages/ipykernel/kernelbase.py\u001b[0m in \u001b[0;36m_input_request\u001b[0;34m(self, prompt, ident, parent, password)\u001b[0m\n\u001b[1;32m    732\u001b[0m             \u001b[0;32mexcept\u001b[0m \u001b[0mKeyboardInterrupt\u001b[0m\u001b[0;34m:\u001b[0m\u001b[0;34m\u001b[0m\u001b[0;34m\u001b[0m\u001b[0m\n\u001b[1;32m    733\u001b[0m                 \u001b[0;31m# re-raise KeyboardInterrupt, to truncate traceback\u001b[0m\u001b[0;34m\u001b[0m\u001b[0;34m\u001b[0m\u001b[0;34m\u001b[0m\u001b[0m\n\u001b[0;32m--> 734\u001b[0;31m                 \u001b[0;32mraise\u001b[0m \u001b[0mKeyboardInterrupt\u001b[0m\u001b[0;34m\u001b[0m\u001b[0;34m\u001b[0m\u001b[0m\n\u001b[0m\u001b[1;32m    735\u001b[0m             \u001b[0;32melse\u001b[0m\u001b[0;34m:\u001b[0m\u001b[0;34m\u001b[0m\u001b[0;34m\u001b[0m\u001b[0m\n\u001b[1;32m    736\u001b[0m                 \u001b[0;32mbreak\u001b[0m\u001b[0;34m\u001b[0m\u001b[0;34m\u001b[0m\u001b[0m\n",
            "\u001b[0;31mKeyboardInterrupt\u001b[0m: "
          ]
        }
      ]
    },
    {
      "cell_type": "code",
      "source": [
        "def solve(a):\n",
        "    ans = 0\n",
        "    ans = sum(a)\n",
        "    return ans\n"
      ],
      "metadata": {
        "id": "iCkypQz2SFEL"
      },
      "execution_count": null,
      "outputs": []
    },
    {
      "cell_type": "code",
      "source": [
        "a = [1,2,3,4,5]"
      ],
      "metadata": {
        "id": "7sxEivATClok"
      },
      "execution_count": null,
      "outputs": []
    },
    {
      "cell_type": "code",
      "source": [
        "solve(a)"
      ],
      "metadata": {
        "colab": {
          "base_uri": "https://localhost:8080/"
        },
        "id": "ajy5v02ECnr7",
        "outputId": "cce462e6-a0d3-4fbc-9b58-8f6e20ef8db5"
      },
      "execution_count": null,
      "outputs": [
        {
          "output_type": "execute_result",
          "data": {
            "text/plain": [
              "15"
            ]
          },
          "metadata": {},
          "execution_count": 5
        }
      ]
    },
    {
      "cell_type": "code",
      "source": [
        "a = set(range(1, 10001))\n",
        "b = set()\n",
        "\n",
        "for i in range(1,10001):\n",
        "  for j in str(i):\n",
        "    i += int(j)\n",
        "  b.add(i)\n",
        "c = sorted(a - b)\n",
        "for i in c:\n",
        "  print(i)"
      ],
      "metadata": {
        "colab": {
          "base_uri": "https://localhost:8080/"
        },
        "id": "YyzE8Ht5CoS8",
        "outputId": "54377346-2b34-469e-c185-c88bf8e70776"
      },
      "execution_count": null,
      "outputs": [
        {
          "output_type": "stream",
          "name": "stdout",
          "text": [
            "1\n",
            "3\n",
            "5\n",
            "7\n",
            "9\n",
            "20\n",
            "31\n",
            "42\n",
            "53\n",
            "64\n",
            "75\n",
            "86\n",
            "97\n",
            "108\n",
            "110\n",
            "121\n",
            "132\n",
            "143\n",
            "154\n",
            "165\n",
            "176\n",
            "187\n",
            "198\n",
            "209\n",
            "211\n",
            "222\n",
            "233\n",
            "244\n",
            "255\n",
            "266\n",
            "277\n",
            "288\n",
            "299\n",
            "310\n",
            "312\n",
            "323\n",
            "334\n",
            "345\n",
            "356\n",
            "367\n",
            "378\n",
            "389\n",
            "400\n",
            "411\n",
            "413\n",
            "424\n",
            "435\n",
            "446\n",
            "457\n",
            "468\n",
            "479\n",
            "490\n",
            "501\n",
            "512\n",
            "514\n",
            "525\n",
            "536\n",
            "547\n",
            "558\n",
            "569\n",
            "580\n",
            "591\n",
            "602\n",
            "613\n",
            "615\n",
            "626\n",
            "637\n",
            "648\n",
            "659\n",
            "670\n",
            "681\n",
            "692\n",
            "703\n",
            "714\n",
            "716\n",
            "727\n",
            "738\n",
            "749\n",
            "760\n",
            "771\n",
            "782\n",
            "793\n",
            "804\n",
            "815\n",
            "817\n",
            "828\n",
            "839\n",
            "850\n",
            "861\n",
            "872\n",
            "883\n",
            "894\n",
            "905\n",
            "916\n",
            "918\n",
            "929\n",
            "940\n",
            "951\n",
            "962\n",
            "973\n",
            "984\n",
            "995\n",
            "1006\n",
            "1021\n",
            "1032\n",
            "1043\n",
            "1054\n",
            "1065\n",
            "1076\n",
            "1087\n",
            "1098\n",
            "1109\n",
            "1111\n",
            "1122\n",
            "1133\n",
            "1144\n",
            "1155\n",
            "1166\n",
            "1177\n",
            "1188\n",
            "1199\n",
            "1210\n",
            "1212\n",
            "1223\n",
            "1234\n",
            "1245\n",
            "1256\n",
            "1267\n",
            "1278\n",
            "1289\n",
            "1300\n",
            "1311\n",
            "1313\n",
            "1324\n",
            "1335\n",
            "1346\n",
            "1357\n",
            "1368\n",
            "1379\n",
            "1390\n",
            "1401\n",
            "1412\n",
            "1414\n",
            "1425\n",
            "1436\n",
            "1447\n",
            "1458\n",
            "1469\n",
            "1480\n",
            "1491\n",
            "1502\n",
            "1513\n",
            "1515\n",
            "1526\n",
            "1537\n",
            "1548\n",
            "1559\n",
            "1570\n",
            "1581\n",
            "1592\n",
            "1603\n",
            "1614\n",
            "1616\n",
            "1627\n",
            "1638\n",
            "1649\n",
            "1660\n",
            "1671\n",
            "1682\n",
            "1693\n",
            "1704\n",
            "1715\n",
            "1717\n",
            "1728\n",
            "1739\n",
            "1750\n",
            "1761\n",
            "1772\n",
            "1783\n",
            "1794\n",
            "1805\n",
            "1816\n",
            "1818\n",
            "1829\n",
            "1840\n",
            "1851\n",
            "1862\n",
            "1873\n",
            "1884\n",
            "1895\n",
            "1906\n",
            "1917\n",
            "1919\n",
            "1930\n",
            "1941\n",
            "1952\n",
            "1963\n",
            "1974\n",
            "1985\n",
            "1996\n",
            "2007\n",
            "2022\n",
            "2033\n",
            "2044\n",
            "2055\n",
            "2066\n",
            "2077\n",
            "2088\n",
            "2099\n",
            "2110\n",
            "2112\n",
            "2123\n",
            "2134\n",
            "2145\n",
            "2156\n",
            "2167\n",
            "2178\n",
            "2189\n",
            "2200\n",
            "2211\n",
            "2213\n",
            "2224\n",
            "2235\n",
            "2246\n",
            "2257\n",
            "2268\n",
            "2279\n",
            "2290\n",
            "2301\n",
            "2312\n",
            "2314\n",
            "2325\n",
            "2336\n",
            "2347\n",
            "2358\n",
            "2369\n",
            "2380\n",
            "2391\n",
            "2402\n",
            "2413\n",
            "2415\n",
            "2426\n",
            "2437\n",
            "2448\n",
            "2459\n",
            "2470\n",
            "2481\n",
            "2492\n",
            "2503\n",
            "2514\n",
            "2516\n",
            "2527\n",
            "2538\n",
            "2549\n",
            "2560\n",
            "2571\n",
            "2582\n",
            "2593\n",
            "2604\n",
            "2615\n",
            "2617\n",
            "2628\n",
            "2639\n",
            "2650\n",
            "2661\n",
            "2672\n",
            "2683\n",
            "2694\n",
            "2705\n",
            "2716\n",
            "2718\n",
            "2729\n",
            "2740\n",
            "2751\n",
            "2762\n",
            "2773\n",
            "2784\n",
            "2795\n",
            "2806\n",
            "2817\n",
            "2819\n",
            "2830\n",
            "2841\n",
            "2852\n",
            "2863\n",
            "2874\n",
            "2885\n",
            "2896\n",
            "2907\n",
            "2918\n",
            "2920\n",
            "2931\n",
            "2942\n",
            "2953\n",
            "2964\n",
            "2975\n",
            "2986\n",
            "2997\n",
            "3008\n",
            "3023\n",
            "3034\n",
            "3045\n",
            "3056\n",
            "3067\n",
            "3078\n",
            "3089\n",
            "3100\n",
            "3111\n",
            "3113\n",
            "3124\n",
            "3135\n",
            "3146\n",
            "3157\n",
            "3168\n",
            "3179\n",
            "3190\n",
            "3201\n",
            "3212\n",
            "3214\n",
            "3225\n",
            "3236\n",
            "3247\n",
            "3258\n",
            "3269\n",
            "3280\n",
            "3291\n",
            "3302\n",
            "3313\n",
            "3315\n",
            "3326\n",
            "3337\n",
            "3348\n",
            "3359\n",
            "3370\n",
            "3381\n",
            "3392\n",
            "3403\n",
            "3414\n",
            "3416\n",
            "3427\n",
            "3438\n",
            "3449\n",
            "3460\n",
            "3471\n",
            "3482\n",
            "3493\n",
            "3504\n",
            "3515\n",
            "3517\n",
            "3528\n",
            "3539\n",
            "3550\n",
            "3561\n",
            "3572\n",
            "3583\n",
            "3594\n",
            "3605\n",
            "3616\n",
            "3618\n",
            "3629\n",
            "3640\n",
            "3651\n",
            "3662\n",
            "3673\n",
            "3684\n",
            "3695\n",
            "3706\n",
            "3717\n",
            "3719\n",
            "3730\n",
            "3741\n",
            "3752\n",
            "3763\n",
            "3774\n",
            "3785\n",
            "3796\n",
            "3807\n",
            "3818\n",
            "3820\n",
            "3831\n",
            "3842\n",
            "3853\n",
            "3864\n",
            "3875\n",
            "3886\n",
            "3897\n",
            "3908\n",
            "3919\n",
            "3921\n",
            "3932\n",
            "3943\n",
            "3954\n",
            "3965\n",
            "3976\n",
            "3987\n",
            "3998\n",
            "4009\n",
            "4024\n",
            "4035\n",
            "4046\n",
            "4057\n",
            "4068\n",
            "4079\n",
            "4090\n",
            "4101\n",
            "4112\n",
            "4114\n",
            "4125\n",
            "4136\n",
            "4147\n",
            "4158\n",
            "4169\n",
            "4180\n",
            "4191\n",
            "4202\n",
            "4213\n",
            "4215\n",
            "4226\n",
            "4237\n",
            "4248\n",
            "4259\n",
            "4270\n",
            "4281\n",
            "4292\n",
            "4303\n",
            "4314\n",
            "4316\n",
            "4327\n",
            "4338\n",
            "4349\n",
            "4360\n",
            "4371\n",
            "4382\n",
            "4393\n",
            "4404\n",
            "4415\n",
            "4417\n",
            "4428\n",
            "4439\n",
            "4450\n",
            "4461\n",
            "4472\n",
            "4483\n",
            "4494\n",
            "4505\n",
            "4516\n",
            "4518\n",
            "4529\n",
            "4540\n",
            "4551\n",
            "4562\n",
            "4573\n",
            "4584\n",
            "4595\n",
            "4606\n",
            "4617\n",
            "4619\n",
            "4630\n",
            "4641\n",
            "4652\n",
            "4663\n",
            "4674\n",
            "4685\n",
            "4696\n",
            "4707\n",
            "4718\n",
            "4720\n",
            "4731\n",
            "4742\n",
            "4753\n",
            "4764\n",
            "4775\n",
            "4786\n",
            "4797\n",
            "4808\n",
            "4819\n",
            "4821\n",
            "4832\n",
            "4843\n",
            "4854\n",
            "4865\n",
            "4876\n",
            "4887\n",
            "4898\n",
            "4909\n",
            "4920\n",
            "4922\n",
            "4933\n",
            "4944\n",
            "4955\n",
            "4966\n",
            "4977\n",
            "4988\n",
            "4999\n",
            "5010\n",
            "5025\n",
            "5036\n",
            "5047\n",
            "5058\n",
            "5069\n",
            "5080\n",
            "5091\n",
            "5102\n",
            "5113\n",
            "5115\n",
            "5126\n",
            "5137\n",
            "5148\n",
            "5159\n",
            "5170\n",
            "5181\n",
            "5192\n",
            "5203\n",
            "5214\n",
            "5216\n",
            "5227\n",
            "5238\n",
            "5249\n",
            "5260\n",
            "5271\n",
            "5282\n",
            "5293\n",
            "5304\n",
            "5315\n",
            "5317\n",
            "5328\n",
            "5339\n",
            "5350\n",
            "5361\n",
            "5372\n",
            "5383\n",
            "5394\n",
            "5405\n",
            "5416\n",
            "5418\n",
            "5429\n",
            "5440\n",
            "5451\n",
            "5462\n",
            "5473\n",
            "5484\n",
            "5495\n",
            "5506\n",
            "5517\n",
            "5519\n",
            "5530\n",
            "5541\n",
            "5552\n",
            "5563\n",
            "5574\n",
            "5585\n",
            "5596\n",
            "5607\n",
            "5618\n",
            "5620\n",
            "5631\n",
            "5642\n",
            "5653\n",
            "5664\n",
            "5675\n",
            "5686\n",
            "5697\n",
            "5708\n",
            "5719\n",
            "5721\n",
            "5732\n",
            "5743\n",
            "5754\n",
            "5765\n",
            "5776\n",
            "5787\n",
            "5798\n",
            "5809\n",
            "5820\n",
            "5822\n",
            "5833\n",
            "5844\n",
            "5855\n",
            "5866\n",
            "5877\n",
            "5888\n",
            "5899\n",
            "5910\n",
            "5921\n",
            "5923\n",
            "5934\n",
            "5945\n",
            "5956\n",
            "5967\n",
            "5978\n",
            "5989\n",
            "6000\n",
            "6011\n",
            "6026\n",
            "6037\n",
            "6048\n",
            "6059\n",
            "6070\n",
            "6081\n",
            "6092\n",
            "6103\n",
            "6114\n",
            "6116\n",
            "6127\n",
            "6138\n",
            "6149\n",
            "6160\n",
            "6171\n",
            "6182\n",
            "6193\n",
            "6204\n",
            "6215\n",
            "6217\n",
            "6228\n",
            "6239\n",
            "6250\n",
            "6261\n",
            "6272\n",
            "6283\n",
            "6294\n",
            "6305\n",
            "6316\n",
            "6318\n",
            "6329\n",
            "6340\n",
            "6351\n",
            "6362\n",
            "6373\n",
            "6384\n",
            "6395\n",
            "6406\n",
            "6417\n",
            "6419\n",
            "6430\n",
            "6441\n",
            "6452\n",
            "6463\n",
            "6474\n",
            "6485\n",
            "6496\n",
            "6507\n",
            "6518\n",
            "6520\n",
            "6531\n",
            "6542\n",
            "6553\n",
            "6564\n",
            "6575\n",
            "6586\n",
            "6597\n",
            "6608\n",
            "6619\n",
            "6621\n",
            "6632\n",
            "6643\n",
            "6654\n",
            "6665\n",
            "6676\n",
            "6687\n",
            "6698\n",
            "6709\n",
            "6720\n",
            "6722\n",
            "6733\n",
            "6744\n",
            "6755\n",
            "6766\n",
            "6777\n",
            "6788\n",
            "6799\n",
            "6810\n",
            "6821\n",
            "6823\n",
            "6834\n",
            "6845\n",
            "6856\n",
            "6867\n",
            "6878\n",
            "6889\n",
            "6900\n",
            "6911\n",
            "6922\n",
            "6924\n",
            "6935\n",
            "6946\n",
            "6957\n",
            "6968\n",
            "6979\n",
            "6990\n",
            "7001\n",
            "7012\n",
            "7027\n",
            "7038\n",
            "7049\n",
            "7060\n",
            "7071\n",
            "7082\n",
            "7093\n",
            "7104\n",
            "7115\n",
            "7117\n",
            "7128\n",
            "7139\n",
            "7150\n",
            "7161\n",
            "7172\n",
            "7183\n",
            "7194\n",
            "7205\n",
            "7216\n",
            "7218\n",
            "7229\n",
            "7240\n",
            "7251\n",
            "7262\n",
            "7273\n",
            "7284\n",
            "7295\n",
            "7306\n",
            "7317\n",
            "7319\n",
            "7330\n",
            "7341\n",
            "7352\n",
            "7363\n",
            "7374\n",
            "7385\n",
            "7396\n",
            "7407\n",
            "7418\n",
            "7420\n",
            "7431\n",
            "7442\n",
            "7453\n",
            "7464\n",
            "7475\n",
            "7486\n",
            "7497\n",
            "7508\n",
            "7519\n",
            "7521\n",
            "7532\n",
            "7543\n",
            "7554\n",
            "7565\n",
            "7576\n",
            "7587\n",
            "7598\n",
            "7609\n",
            "7620\n",
            "7622\n",
            "7633\n",
            "7644\n",
            "7655\n",
            "7666\n",
            "7677\n",
            "7688\n",
            "7699\n",
            "7710\n",
            "7721\n",
            "7723\n",
            "7734\n",
            "7745\n",
            "7756\n",
            "7767\n",
            "7778\n",
            "7789\n",
            "7800\n",
            "7811\n",
            "7822\n",
            "7824\n",
            "7835\n",
            "7846\n",
            "7857\n",
            "7868\n",
            "7879\n",
            "7890\n",
            "7901\n",
            "7912\n",
            "7923\n",
            "7925\n",
            "7936\n",
            "7947\n",
            "7958\n",
            "7969\n",
            "7980\n",
            "7991\n",
            "8002\n",
            "8013\n",
            "8028\n",
            "8039\n",
            "8050\n",
            "8061\n",
            "8072\n",
            "8083\n",
            "8094\n",
            "8105\n",
            "8116\n",
            "8118\n",
            "8129\n",
            "8140\n",
            "8151\n",
            "8162\n",
            "8173\n",
            "8184\n",
            "8195\n",
            "8206\n",
            "8217\n",
            "8219\n",
            "8230\n",
            "8241\n",
            "8252\n",
            "8263\n",
            "8274\n",
            "8285\n",
            "8296\n",
            "8307\n",
            "8318\n",
            "8320\n",
            "8331\n",
            "8342\n",
            "8353\n",
            "8364\n",
            "8375\n",
            "8386\n",
            "8397\n",
            "8408\n",
            "8419\n",
            "8421\n",
            "8432\n",
            "8443\n",
            "8454\n",
            "8465\n",
            "8476\n",
            "8487\n",
            "8498\n",
            "8509\n",
            "8520\n",
            "8522\n",
            "8533\n",
            "8544\n",
            "8555\n",
            "8566\n",
            "8577\n",
            "8588\n",
            "8599\n",
            "8610\n",
            "8621\n",
            "8623\n",
            "8634\n",
            "8645\n",
            "8656\n",
            "8667\n",
            "8678\n",
            "8689\n",
            "8700\n",
            "8711\n",
            "8722\n",
            "8724\n",
            "8735\n",
            "8746\n",
            "8757\n",
            "8768\n",
            "8779\n",
            "8790\n",
            "8801\n",
            "8812\n",
            "8823\n",
            "8825\n",
            "8836\n",
            "8847\n",
            "8858\n",
            "8869\n",
            "8880\n",
            "8891\n",
            "8902\n",
            "8913\n",
            "8924\n",
            "8926\n",
            "8937\n",
            "8948\n",
            "8959\n",
            "8970\n",
            "8981\n",
            "8992\n",
            "9003\n",
            "9014\n",
            "9029\n",
            "9040\n",
            "9051\n",
            "9062\n",
            "9073\n",
            "9084\n",
            "9095\n",
            "9106\n",
            "9117\n",
            "9119\n",
            "9130\n",
            "9141\n",
            "9152\n",
            "9163\n",
            "9174\n",
            "9185\n",
            "9196\n",
            "9207\n",
            "9218\n",
            "9220\n",
            "9231\n",
            "9242\n",
            "9253\n",
            "9264\n",
            "9275\n",
            "9286\n",
            "9297\n",
            "9308\n",
            "9319\n",
            "9321\n",
            "9332\n",
            "9343\n",
            "9354\n",
            "9365\n",
            "9376\n",
            "9387\n",
            "9398\n",
            "9409\n",
            "9420\n",
            "9422\n",
            "9433\n",
            "9444\n",
            "9455\n",
            "9466\n",
            "9477\n",
            "9488\n",
            "9499\n",
            "9510\n",
            "9521\n",
            "9523\n",
            "9534\n",
            "9545\n",
            "9556\n",
            "9567\n",
            "9578\n",
            "9589\n",
            "9600\n",
            "9611\n",
            "9622\n",
            "9624\n",
            "9635\n",
            "9646\n",
            "9657\n",
            "9668\n",
            "9679\n",
            "9690\n",
            "9701\n",
            "9712\n",
            "9723\n",
            "9725\n",
            "9736\n",
            "9747\n",
            "9758\n",
            "9769\n",
            "9780\n",
            "9791\n",
            "9802\n",
            "9813\n",
            "9824\n",
            "9826\n",
            "9837\n",
            "9848\n",
            "9859\n",
            "9870\n",
            "9881\n",
            "9892\n",
            "9903\n",
            "9914\n",
            "9925\n",
            "9927\n",
            "9938\n",
            "9949\n",
            "9960\n",
            "9971\n",
            "9982\n",
            "9993\n"
          ]
        }
      ]
    },
    {
      "cell_type": "code",
      "source": [
        "num = int(input())\n",
        "hansu = 0\n",
        "for i in range(1, num+1):\n",
        "    num_list = list(map(int, str(i)))\n",
        "    if i < 100:\n",
        "        hansu += 1  # 100보다 작으면 모두 한수\n",
        "    elif num_list[0]-num_list[1] == num_list[1]-num_list[2]:\n",
        "        hansu += 1  # x의 각 자리가 등차수열이면 한수\n",
        "print(hansu)"
      ],
      "metadata": {
        "colab": {
          "base_uri": "https://localhost:8080/"
        },
        "id": "TlRC6jLnG2ne",
        "outputId": "1d175b29-ec35-4834-f700-2195b6404188"
      },
      "execution_count": null,
      "outputs": [
        {
          "output_type": "stream",
          "name": "stdout",
          "text": [
            "110\n",
            "99\n"
          ]
        }
      ]
    },
    {
      "cell_type": "code",
      "source": [
        "a = input()\n",
        "print(ord(a))"
      ],
      "metadata": {
        "colab": {
          "base_uri": "https://localhost:8080/"
        },
        "id": "jp0xyQk5LiVX",
        "outputId": "15f03b10-a8ea-4521-8a2e-7eec133c1971"
      },
      "execution_count": null,
      "outputs": [
        {
          "output_type": "execute_result",
          "data": {
            "text/plain": [
              "65"
            ]
          },
          "metadata": {},
          "execution_count": 19
        }
      ]
    },
    {
      "cell_type": "code",
      "source": [
        "a = '54321111'"
      ],
      "metadata": {
        "id": "0OQh44g7O6YC"
      },
      "execution_count": null,
      "outputs": []
    },
    {
      "cell_type": "code",
      "source": [
        "a.count('1')"
      ],
      "metadata": {
        "colab": {
          "base_uri": "https://localhost:8080/"
        },
        "id": "pr9U4BM0Rv2A",
        "outputId": "0e4408b5-340b-4b2c-e85c-2de60d6ee36d"
      },
      "execution_count": null,
      "outputs": [
        {
          "output_type": "execute_result",
          "data": {
            "text/plain": [
              "4"
            ]
          },
          "metadata": {},
          "execution_count": 26
        }
      ]
    },
    {
      "cell_type": "code",
      "source": [
        "z = input()\n",
        "a = input()\n",
        "cnt = 0\n",
        "for i in range(1,10):\n",
        "  c = a.count(f'{i}')\n",
        "  cnt += i*c\n",
        "print(cnt)"
      ],
      "metadata": {
        "colab": {
          "base_uri": "https://localhost:8080/"
        },
        "id": "QhbhDWF3RxeS",
        "outputId": "b1f66eac-1483-49fa-eb78-21b052fe1175"
      },
      "execution_count": null,
      "outputs": [
        {
          "output_type": "stream",
          "name": "stdout",
          "text": [
            "25\n",
            "7000000000000000000\n",
            "7\n"
          ]
        }
      ]
    },
    {
      "cell_type": "code",
      "source": [
        "a = \"baekjoon\""
      ],
      "metadata": {
        "id": "FPfxDF8KSPPh"
      },
      "execution_count": null,
      "outputs": []
    },
    {
      "cell_type": "code",
      "source": [
        "import string\n",
        "a = input()\n",
        "\n",
        "for i in string.ascii_lowercase:\n",
        "  try:\n",
        "    print(a.index(f'{i}'), end=' ')\n",
        "  except:\n",
        "    print(-1, end=' ')"
      ],
      "metadata": {
        "colab": {
          "base_uri": "https://localhost:8080/"
        },
        "id": "nTLWx4A5S5vP",
        "outputId": "20c3fac1-4bc3-4309-daa9-cbe78bf00642"
      },
      "execution_count": null,
      "outputs": [
        {
          "output_type": "stream",
          "name": "stdout",
          "text": [
            "baekjoon\n",
            "1 0 -1 -1 2 -1 -1 -1 -1 4 3 -1 -1 7 5 -1 -1 -1 -1 -1 -1 -1 -1 -1 -1 -1 "
          ]
        }
      ]
    },
    {
      "cell_type": "code",
      "source": [
        "import string\n",
        "for i in string.ascii_lowercase:\n",
        "  print(i)"
      ],
      "metadata": {
        "colab": {
          "base_uri": "https://localhost:8080/"
        },
        "id": "0lZLQViiS-Dp",
        "outputId": "e717e6db-9d17-4389-f407-f1016a416daf"
      },
      "execution_count": null,
      "outputs": [
        {
          "output_type": "stream",
          "name": "stdout",
          "text": [
            "a\n",
            "b\n",
            "c\n",
            "d\n",
            "e\n",
            "f\n",
            "g\n",
            "h\n",
            "i\n",
            "j\n",
            "k\n",
            "l\n",
            "m\n",
            "n\n",
            "o\n",
            "p\n",
            "q\n",
            "r\n",
            "s\n",
            "t\n",
            "u\n",
            "v\n",
            "w\n",
            "x\n",
            "y\n",
            "z\n"
          ]
        }
      ]
    },
    {
      "cell_type": "code",
      "source": [
        "a = int(input())\n",
        "for i in range(a):\n",
        "  b, c = input().split()\n",
        "  for i in c:\n",
        "    print(i*int(b), end='')\n",
        "  print()\n"
      ],
      "metadata": {
        "colab": {
          "base_uri": "https://localhost:8080/"
        },
        "id": "u_DVmkFyTaW-",
        "outputId": "eb356d14-5f56-4ab9-bd7e-4e5be959ed31"
      },
      "execution_count": null,
      "outputs": [
        {
          "output_type": "stream",
          "name": "stdout",
          "text": [
            "2\n",
            "3 abc\n",
            "aaabbbccc\n",
            "5 htp\n",
            "hhhhhtttttppppp\n"
          ]
        }
      ]
    },
    {
      "cell_type": "code",
      "source": [
        "import sys\n",
        "a = input()\n",
        "a = a.upper()\n",
        "b = set(a)\n",
        "z = {}\n",
        "for i in b:\n",
        "  c = a.count(i)\n",
        "  z[f'{i}'] = c\n",
        "k = sorted(z.values())\n",
        "try:\n",
        "  if k[-1] == k[-2]:\n",
        "    print('?')\n",
        "  else:\n",
        "    for key, value in z.items():\n",
        "      if k[-1] == value:\n",
        "        print(key)\n",
        "except:\n",
        "  print(a)"
      ],
      "metadata": {
        "colab": {
          "base_uri": "https://localhost:8080/"
        },
        "id": "4YXvAlKparSD",
        "outputId": "d5ebeb17-c98b-4e30-d626-663efed288d8"
      },
      "execution_count": null,
      "outputs": [
        {
          "output_type": "stream",
          "name": "stdout",
          "text": [
            "\n",
            "\n"
          ]
        }
      ]
    },
    {
      "cell_type": "code",
      "source": [
        "z"
      ],
      "metadata": {
        "colab": {
          "base_uri": "https://localhost:8080/"
        },
        "id": "Lowxz3d6V33H",
        "outputId": "c5bcde88-83a6-45a6-f8cc-d158fbfd3cca"
      },
      "execution_count": null,
      "outputs": [
        {
          "output_type": "execute_result",
          "data": {
            "text/plain": [
              "{'A': 1, 'B': 1, 'C': 2}"
            ]
          },
          "metadata": {},
          "execution_count": 65
        }
      ]
    },
    {
      "cell_type": "code",
      "source": [
        "sorted(z.values())"
      ],
      "metadata": {
        "colab": {
          "base_uri": "https://localhost:8080/"
        },
        "id": "3QqtC2OvV6im",
        "outputId": "042a13ea-760e-4e22-dc40-12f3e20a15cc"
      },
      "execution_count": null,
      "outputs": [
        {
          "output_type": "execute_result",
          "data": {
            "text/plain": [
              "[1, 1, 2]"
            ]
          },
          "metadata": {},
          "execution_count": 70
        }
      ]
    },
    {
      "cell_type": "code",
      "source": [
        "z.keys()"
      ],
      "metadata": {
        "colab": {
          "base_uri": "https://localhost:8080/"
        },
        "id": "bdwhwTwGYJbQ",
        "outputId": "2454c7c6-6894-4e83-916d-d945ceaf732b"
      },
      "execution_count": null,
      "outputs": [
        {
          "output_type": "execute_result",
          "data": {
            "text/plain": [
              "dict_keys(['B', 'C', 'A'])"
            ]
          },
          "metadata": {},
          "execution_count": 66
        }
      ]
    },
    {
      "cell_type": "code",
      "source": [
        "z.values(2)"
      ],
      "metadata": {
        "colab": {
          "base_uri": "https://localhost:8080/",
          "height": 166
        },
        "id": "LnNBj82SYwHm",
        "outputId": "c1020a71-27f5-4316-a9ea-1737757344ca"
      },
      "execution_count": null,
      "outputs": [
        {
          "output_type": "error",
          "ename": "TypeError",
          "evalue": "ignored",
          "traceback": [
            "\u001b[0;31m---------------------------------------------------------------------------\u001b[0m",
            "\u001b[0;31mTypeError\u001b[0m                                 Traceback (most recent call last)",
            "\u001b[0;32m<ipython-input-71-0e506e2188c0>\u001b[0m in \u001b[0;36m<module>\u001b[0;34m()\u001b[0m\n\u001b[0;32m----> 1\u001b[0;31m \u001b[0mz\u001b[0m\u001b[0;34m.\u001b[0m\u001b[0mvalues\u001b[0m\u001b[0;34m(\u001b[0m\u001b[0;36m2\u001b[0m\u001b[0;34m)\u001b[0m\u001b[0;34m\u001b[0m\u001b[0;34m\u001b[0m\u001b[0m\n\u001b[0m",
            "\u001b[0;31mTypeError\u001b[0m: values() takes no arguments (1 given)"
          ]
        }
      ]
    },
    {
      "cell_type": "code",
      "source": [
        "a = input().split()\n",
        "print(len(a))"
      ],
      "metadata": {
        "colab": {
          "base_uri": "https://localhost:8080/"
        },
        "id": "jPeG9KtNZBJB",
        "outputId": "ce7a1a9c-ed95-4b70-cfa7-8cb7ac32ba1e"
      },
      "execution_count": null,
      "outputs": [
        {
          "output_type": "stream",
          "name": "stdout",
          "text": [
            " The first character is a blank\n",
            "6\n"
          ]
        }
      ]
    },
    {
      "cell_type": "code",
      "source": [
        "a, b = input().split()\n",
        "a = int(a[2]+a[1]+a[0])\n",
        "b = int(b[2]+b[1]+b[0])\n",
        "if a > b:\n",
        "  print(a)\n",
        "else:\n",
        "  print(b)"
      ],
      "metadata": {
        "colab": {
          "base_uri": "https://localhost:8080/"
        },
        "id": "tcDcGTywdtrm",
        "outputId": "0a2bb441-5c25-426f-ff3b-f8047553ed7a"
      },
      "execution_count": null,
      "outputs": [
        {
          "output_type": "stream",
          "name": "stdout",
          "text": [
            "839 237\n",
            "938\n"
          ]
        }
      ]
    },
    {
      "cell_type": "code",
      "source": [
        "a = input()\n",
        "b = 0\n",
        "for i in a:\n",
        "  if i in 'ABC':\n",
        "    b += 3\n",
        "  elif i in 'DEF':\n",
        "    b += 4\n",
        "  elif i in 'GHI':\n",
        "    b += 5\n",
        "  elif i in 'JKL':\n",
        "    b += 6\n",
        "  elif i in 'MNO':\n",
        "    b += 7\n",
        "  elif i in 'PQRS':\n",
        "    b += 8\n",
        "  elif i in 'TUV':\n",
        "    b += 9\n",
        "  elif i in 'WXYZ':\n",
        "    b += 10\n",
        "print(b)"
      ],
      "metadata": {
        "colab": {
          "base_uri": "https://localhost:8080/"
        },
        "id": "HIkvDbmygD3O",
        "outputId": "854e7e43-24ce-447a-b066-1c5595ec16dc"
      },
      "execution_count": null,
      "outputs": [
        {
          "output_type": "stream",
          "name": "stdout",
          "text": [
            "WA\n",
            "13\n"
          ]
        }
      ]
    },
    {
      "cell_type": "code",
      "source": [
        "if 'a' in 'abc':\n",
        "  print(a)"
      ],
      "metadata": {
        "colab": {
          "base_uri": "https://localhost:8080/"
        },
        "id": "H9m-RscTqs5x",
        "outputId": "1c1feb50-3c3e-4462-cf6a-a2b89168eeaf"
      },
      "execution_count": null,
      "outputs": [
        {
          "output_type": "stream",
          "name": "stdout",
          "text": [
            "938\n"
          ]
        }
      ]
    },
    {
      "cell_type": "code",
      "source": [
        "t = ['c=', 'c-', 'd-', 'lj', 'nj', 's=', 'z=', 'dz=']\n",
        "a = input()\n",
        "b = len(a)\n",
        "for i in t:\n",
        "  cnt=0\n",
        "  if i in a:\n",
        "    cnt = a.count(i)\n",
        "    b -=cnt*1\n",
        "print(b)  "
      ],
      "metadata": {
        "colab": {
          "base_uri": "https://localhost:8080/"
        },
        "id": "qxmqEQ_GqviK",
        "outputId": "bb96cfdb-684e-4980-cd13-724b2ae58b6b"
      },
      "execution_count": null,
      "outputs": [
        {
          "output_type": "stream",
          "name": "stdout",
          "text": [
            "ddz=z=\n",
            "3\n"
          ]
        }
      ]
    },
    {
      "cell_type": "code",
      "source": [
        "a"
      ],
      "metadata": {
        "colab": {
          "base_uri": "https://localhost:8080/",
          "height": 35
        },
        "id": "woHGZ-MDuTGW",
        "outputId": "a4d229cc-3485-49c3-d482-bb84893f5154"
      },
      "execution_count": null,
      "outputs": [
        {
          "output_type": "execute_result",
          "data": {
            "application/vnd.google.colaboratory.intrinsic+json": {
              "type": "string"
            },
            "text/plain": [
              "'ljes=njak'"
            ]
          },
          "metadata": {},
          "execution_count": 119
        }
      ]
    },
    {
      "cell_type": "code",
      "source": [
        "x = int(input())\n",
        "z = x\n",
        "\n",
        "for i in range(x):\n",
        "  a = input()\n",
        "  for k in range(len(a)-1):\n",
        "    if a[k] == a[k+1]:\n",
        "      pass\n",
        "    elif a[k] in a[k+1:]:\n",
        "      z -=1\n",
        "      break\n",
        "    \n",
        "print(z)"
      ],
      "metadata": {
        "id": "7Cyev2ZxwRuM",
        "colab": {
          "base_uri": "https://localhost:8080/"
        },
        "outputId": "6b0f8b09-d501-40b5-cc70-1664ccce5aa7"
      },
      "execution_count": null,
      "outputs": [
        {
          "output_type": "stream",
          "name": "stdout",
          "text": [
            "3\n",
            "happy\n",
            "new\n",
            "year\n",
            "3\n"
          ]
        }
      ]
    },
    {
      "cell_type": "code",
      "source": [
        "a[0] == a[1]"
      ],
      "metadata": {
        "colab": {
          "base_uri": "https://localhost:8080/"
        },
        "id": "vIBFuYHRYmi1",
        "outputId": "f72b3bf8-c41f-4b67-8b18-e42a540a024e"
      },
      "execution_count": null,
      "outputs": [
        {
          "output_type": "execute_result",
          "data": {
            "text/plain": [
              "False"
            ]
          },
          "metadata": {},
          "execution_count": 4
        }
      ]
    },
    {
      "cell_type": "code",
      "source": [
        "a, b, c = map(int, input().split())\n",
        "if b>=c:\n",
        "  print(-1)\n",
        "else:\n",
        "  print(int(a/(c-b)+1))\n",
        "\n",
        "\n"
      ],
      "metadata": {
        "colab": {
          "base_uri": "https://localhost:8080/"
        },
        "id": "-5QGugYiYyXB",
        "outputId": "f339ef42-f5fe-42c9-eb7b-e7fe24e9ed69"
      },
      "execution_count": null,
      "outputs": [
        {
          "output_type": "stream",
          "name": "stdout",
          "text": [
            "2100000000 9 10\n",
            "2100000001\n"
          ]
        }
      ]
    },
    {
      "cell_type": "code",
      "source": [
        "a = int(input())\n",
        "b = 1\n",
        "cnt = 1\n",
        "while a > b:\n",
        "  b += 6*cnt\n",
        "  cnt +=1\n",
        "print(cnt)"
      ],
      "metadata": {
        "colab": {
          "base_uri": "https://localhost:8080/"
        },
        "id": "xKT5OAsAdUvA",
        "outputId": "1a809f35-e441-4368-e33b-acea31074802"
      },
      "execution_count": null,
      "outputs": [
        {
          "output_type": "stream",
          "name": "stdout",
          "text": [
            "58\n",
            "5\n"
          ]
        }
      ]
    },
    {
      "cell_type": "code",
      "source": [
        "x = int(input())\n",
        "for i in range(x):\n",
        "  "
      ],
      "metadata": {
        "id": "uKGlatzPhk5q"
      },
      "execution_count": null,
      "outputs": []
    },
    {
      "cell_type": "code",
      "source": [
        "x = int(input())\n",
        "line = 1\n",
        "\n",
        "while True:\n",
        "  if x > line:\n",
        "    x -=line\n",
        "    line +=1\n",
        "    pass\n",
        "  else:\n",
        "    if line % 2 ==0:\n",
        "      a = 1\n",
        "      b = line\n",
        "      if x == 1:\n",
        "        print(f'{a}/{b}')\n",
        "        break\n",
        "      else:\n",
        "        print(f'{a+(x-1)}/{b-(x-1)}')\n",
        "        break\n",
        "    else:\n",
        "      a = line\n",
        "      b = 1\n",
        "      if x == 1:\n",
        "        print(f'{a}/{b}')\n",
        "        break\n",
        "      else:\n",
        "        print(f'{a-(x-1)}/{b+(x-1)}')\n",
        "        break"
      ],
      "metadata": {
        "colab": {
          "base_uri": "https://localhost:8080/"
        },
        "id": "2CBEBnOuronb",
        "outputId": "579f8eff-af73-40fc-bc46-3d077a7a055e"
      },
      "execution_count": null,
      "outputs": [
        {
          "output_type": "stream",
          "name": "stdout",
          "text": [
            "16\n",
            "1/6\n"
          ]
        }
      ]
    },
    {
      "cell_type": "code",
      "source": [
        "5"
      ],
      "metadata": {
        "id": "WkqmqFm0uwve"
      },
      "execution_count": null,
      "outputs": []
    },
    {
      "cell_type": "code",
      "source": [
        "a, b, v = map(int, input().split())\n",
        "c = 0\n",
        "cnt = 0\n",
        "while True:\n",
        "  c += a\n",
        "  cnt +=1\n",
        "  if v > c:\n",
        "    c -=b\n",
        "    pass\n",
        "  else:\n",
        "    print(cnt)\n",
        "    break\n"
      ],
      "metadata": {
        "id": "772F8uRixlOH"
      },
      "execution_count": null,
      "outputs": []
    },
    {
      "cell_type": "code",
      "source": [
        "import math\n",
        "a, b, v = map(int, input().split())\n",
        "c = 0\n",
        "cnt = 0\n",
        "while True:\n",
        "  c += a\n",
        "  cnt +=1\n",
        "  if v < c:\n",
        "    print(cnt)\n",
        "    break\n",
        "  else:\n",
        "    z = v - a\n",
        "    print(math.ceil((z/(a-b))+1))\n",
        "    break\n"
      ],
      "metadata": {
        "colab": {
          "base_uri": "https://localhost:8080/"
        },
        "id": "A-xZc54Sye4q",
        "outputId": "ce20fc84-3aac-4052-ff66-393d4d5fa596"
      },
      "execution_count": null,
      "outputs": [
        {
          "output_type": "stream",
          "name": "stdout",
          "text": [
            "100 99 1000000000\n",
            "999999901\n"
          ]
        }
      ]
    },
    {
      "cell_type": "code",
      "source": [
        "from typing import no_type_check\n",
        "x = int(input())\n",
        "for _ in range(x):\n",
        "  h, w, n = map(int, input().split())\n",
        "  f = h%n\n",
        "  ho"
      ],
      "metadata": {
        "colab": {
          "base_uri": "https://localhost:8080/"
        },
        "id": "_EDwUkWpz4L9",
        "outputId": "0174afc3-6a7b-4f0a-eabb-95c9b29310a9"
      },
      "execution_count": null,
      "outputs": [
        {
          "output_type": "stream",
          "name": "stdout",
          "text": [
            "1\n",
            "6 10 599\n",
            "5100\n"
          ]
        }
      ]
    },
    {
      "cell_type": "code",
      "source": [
        "16len(str(12)+str(23))"
      ],
      "metadata": {
        "colab": {
          "base_uri": "https://localhost:8080/"
        },
        "id": "fkb7l5sm1-AJ",
        "outputId": "e3723f04-58ba-4777-ec8e-fe4ba2cf6c7b"
      },
      "execution_count": null,
      "outputs": [
        {
          "output_type": "execute_result",
          "data": {
            "text/plain": [
              "4"
            ]
          },
          "metadata": {},
          "execution_count": 76
        }
      ]
    },
    {
      "cell_type": "code",
      "source": [
        "6%600"
      ],
      "metadata": {
        "colab": {
          "base_uri": "https://localhost:8080/"
        },
        "id": "Z-J9vPy52iY4",
        "outputId": "8ac75536-3cfc-4188-b1b8-99f9ed3d6d61"
      },
      "execution_count": null,
      "outputs": [
        {
          "output_type": "execute_result",
          "data": {
            "text/plain": [
              "6"
            ]
          },
          "metadata": {},
          "execution_count": 88
        }
      ]
    },
    {
      "cell_type": "code",
      "source": [
        "10//600+1"
      ],
      "metadata": {
        "colab": {
          "base_uri": "https://localhost:8080/"
        },
        "id": "8AUzOhZs7HUo",
        "outputId": "e73fab6b-d4e3-41ba-d3b4-af151527bf5b"
      },
      "execution_count": null,
      "outputs": [
        {
          "output_type": "execute_result",
          "data": {
            "text/plain": [
              "1"
            ]
          },
          "metadata": {},
          "execution_count": 93
        }
      ]
    },
    {
      "cell_type": "code",
      "source": [
        "10%6"
      ],
      "metadata": {
        "colab": {
          "base_uri": "https://localhost:8080/"
        },
        "id": "QPKh95ec7lt1",
        "outputId": "ed8c8a52-3d78-4d5d-eb60-67ce0550e66b"
      },
      "execution_count": null,
      "outputs": [
        {
          "output_type": "execute_result",
          "data": {
            "text/plain": [
              "4"
            ]
          },
          "metadata": {},
          "execution_count": 98
        }
      ]
    },
    {
      "cell_type": "code",
      "source": [
        ""
      ],
      "metadata": {
        "id": "bj-MdDL88RJi"
      },
      "execution_count": null,
      "outputs": []
    }
  ]
}