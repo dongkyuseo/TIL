{
  "nbformat": 4,
  "nbformat_minor": 0,
  "metadata": {
    "colab": {
      "name": "01_백준_단계별로풀어보기.ipynb",
      "provenance": [],
      "collapsed_sections": []
    },
    "kernelspec": {
      "name": "python3",
      "display_name": "Python 3"
    },
    "language_info": {
      "name": "python"
    }
  },
  "cells": [
    {
      "cell_type": "markdown",
      "source": [
        "# 10250번"
      ],
      "metadata": {
        "id": "eNMGmHq06SkD"
      }
    },
    {
      "cell_type": "code",
      "execution_count": null,
      "metadata": {
        "colab": {
          "base_uri": "https://localhost:8080/"
        },
        "id": "5-d3Y1Rm6MMF",
        "outputId": "399939ba-8946-4da4-b557-0201f0139dba"
      },
      "outputs": [
        {
          "output_type": "stream",
          "name": "stdout",
          "text": [
            "2\n",
            "6 10 12\n",
            "602\n",
            "6 12 10\n",
            "402\n"
          ]
        }
      ],
      "source": [
        "a = int(input())\n",
        "\n",
        "for _ in range(a):\n",
        "  b, c, d = map(int, input().split())\n",
        "  z = d // b\n",
        "  if d%b == 0:\n",
        "    print(f'{b*100+z}')\n",
        "  else:\n",
        "    print(f'{(d % b)*100+z+1}')"
      ]
    },
    {
      "cell_type": "markdown",
      "source": [
        "# 2775번"
      ],
      "metadata": {
        "id": "3rHRpmpWX-un"
      }
    },
    {
      "cell_type": "code",
      "source": [
        "a = int(input())\n",
        "for _ in range(a):\n",
        "  k = int(input())\n",
        "  n = int(input())\n",
        "  r = list(range(1, n+1))\n",
        "  for _ in range(k):\n",
        "    for i in range(1, n):\n",
        "      r[i] += r[i-1]\n",
        "  print(r[-1])"
      ],
      "metadata": {
        "colab": {
          "base_uri": "https://localhost:8080/"
        },
        "id": "yAU-h5Tk9vkO",
        "outputId": "20c555a2-8a81-4173-b0be-d2e34c8405e0"
      },
      "execution_count": null,
      "outputs": [
        {
          "output_type": "stream",
          "name": "stdout",
          "text": [
            "1\n",
            "3\n",
            "6\n",
            "126\n"
          ]
        }
      ]
    },
    {
      "cell_type": "code",
      "source": [
        "sum(list(range(1,3+1)))"
      ],
      "metadata": {
        "colab": {
          "base_uri": "https://localhost:8080/"
        },
        "id": "nR6KcpWIbGyh",
        "outputId": "84cb028c-60cb-4d5d-95b1-3498788f5fa6"
      },
      "execution_count": null,
      "outputs": [
        {
          "output_type": "execute_result",
          "data": {
            "text/plain": [
              "6"
            ]
          },
          "metadata": {},
          "execution_count": 19
        }
      ]
    },
    {
      "cell_type": "code",
      "source": [
        "list(range(1,15))"
      ],
      "metadata": {
        "colab": {
          "base_uri": "https://localhost:8080/"
        },
        "id": "strTOPIQbIlI",
        "outputId": "c0537ae9-e3c1-4cc8-988a-fa71535cda9b"
      },
      "execution_count": null,
      "outputs": [
        {
          "output_type": "execute_result",
          "data": {
            "text/plain": [
              "[1, 2, 3, 4, 5, 6, 7, 8, 9, 10, 11, 12, 13, 14]"
            ]
          },
          "metadata": {},
          "execution_count": 23
        }
      ]
    },
    {
      "cell_type": "code",
      "source": [
        "r"
      ],
      "metadata": {
        "colab": {
          "base_uri": "https://localhost:8080/"
        },
        "id": "8jVAUgEugHgl",
        "outputId": "5438899f-c6d1-4153-89fc-f7ea025b7952"
      },
      "execution_count": null,
      "outputs": [
        {
          "output_type": "execute_result",
          "data": {
            "text/plain": [
              "[1, 3, 3]"
            ]
          },
          "metadata": {},
          "execution_count": 26
        }
      ]
    },
    {
      "cell_type": "markdown",
      "source": [
        "# 2839번"
      ],
      "metadata": {
        "id": "vKS3pCGVpKX-"
      }
    },
    {
      "cell_type": "code",
      "source": [
        "n = int(input())\n",
        "z = n\n",
        "cnt = 0\n",
        "if n % 5 == 0:\n",
        "  print(n/5)\n",
        "elif n % 3 == 0:\n",
        "  while True:\n",
        "    cnt += 1\n",
        "    z -= 3\n",
        "    if z % 5 == 0:\n",
        "      print(z // 5 + cnt)\n",
        "      break\n",
        "    elif z < 0:\n",
        "      print(n//3)\n",
        "      break\n",
        "else:\n",
        "  if n == 4:\n",
        "    print(-1)\n",
        "  elif k == 1 or 4:\n",
        "    k = n % 5 \n",
        "    print((n//5)-1 + (((n%5)+5) // 3))\n",
        "  else:\n",
        "    print(-1)"
      ],
      "metadata": {
        "colab": {
          "base_uri": "https://localhost:8080/"
        },
        "id": "Ego1mzjfnfv5",
        "outputId": "eeeb3249-d18a-45ce-a904-b33eeab3155a"
      },
      "execution_count": null,
      "outputs": [
        {
          "output_type": "stream",
          "name": "stdout",
          "text": [
            "11\n",
            "3\n"
          ]
        }
      ]
    },
    {
      "cell_type": "code",
      "source": [
        "print((11//5)-1 + (((11%5)+5) // 3))"
      ],
      "metadata": {
        "colab": {
          "base_uri": "https://localhost:8080/"
        },
        "id": "HyKJt8mntb70",
        "outputId": "be77c9d4-584e-4143-d05b-0ca33e93088c"
      },
      "execution_count": null,
      "outputs": [
        {
          "output_type": "stream",
          "name": "stdout",
          "text": [
            "3\n"
          ]
        }
      ]
    },
    {
      "cell_type": "code",
      "source": [
        "((11%5)+5)//3"
      ],
      "metadata": {
        "colab": {
          "base_uri": "https://localhost:8080/"
        },
        "id": "6aW7NXcpvwAX",
        "outputId": "2fd40b43-1e4a-4614-cbb0-c0d07040c493"
      },
      "execution_count": null,
      "outputs": [
        {
          "output_type": "execute_result",
          "data": {
            "text/plain": [
              "2"
            ]
          },
          "metadata": {},
          "execution_count": 51
        }
      ]
    },
    {
      "cell_type": "code",
      "source": [
        "n = int(input())\n",
        "cnt = 0\n",
        "while n >=0:\n",
        "  if n % 5 ==0:\n",
        "    cnt += (n//5)      \n",
        "    print(cnt)\n",
        "    break\n",
        "  n -= 3\n",
        "  cnt += 1\n",
        "else:\n",
        "  print(-1)"
      ],
      "metadata": {
        "colab": {
          "base_uri": "https://localhost:8080/"
        },
        "id": "-74gU-isv0-h",
        "outputId": "ab390cb3-8e32-4dde-8ab8-0cc356639d65"
      },
      "execution_count": null,
      "outputs": [
        {
          "output_type": "stream",
          "name": "stdout",
          "text": [
            "11\n",
            "3\n"
          ]
        }
      ]
    },
    {
      "cell_type": "markdown",
      "source": [
        "# 10757"
      ],
      "metadata": {
        "id": "LSdsW3rL28Ej"
      }
    },
    {
      "cell_type": "code",
      "source": [
        "a,b = map(int, input().split())\n",
        "print(a+b)"
      ],
      "metadata": {
        "colab": {
          "base_uri": "https://localhost:8080/"
        },
        "id": "DbMj336z2-Q1",
        "outputId": "7841ceda-c067-4890-d135-95771b1657a5"
      },
      "execution_count": null,
      "outputs": [
        {
          "output_type": "stream",
          "name": "stdout",
          "text": [
            "9223372036854775807 9223372036854775808\n",
            "18446744073709551615\n"
          ]
        }
      ]
    },
    {
      "cell_type": "markdown",
      "source": [
        "#1011"
      ],
      "metadata": {
        "id": "3UamkXA53pHx"
      }
    },
    {
      "cell_type": "code",
      "source": [
        "a = int(input())\n",
        "x, y = map(int, input().split())\n",
        "z = y-x-1\n",
        "k = 0\n",
        "cnt = 0\n",
        "for _ in range(a):\n",
        "  while True:\n",
        "    cnt +=1\n",
        "    if k == z:\n",
        "      print(cnt+1)\n",
        "    elif k < z:\n",
        "      k += cnt\n",
        "    else:\n",
        "      k -= i - 1\n",
        "      for i in range(z - k):\n",
        "        if z == k:"
      ],
      "metadata": {
        "id": "fwMLCHHC3Rmh"
      },
      "execution_count": null,
      "outputs": []
    },
    {
      "cell_type": "code",
      "source": [
        "a = int(input())\n",
        "x, y = map(int, input().split())\n",
        "z = y-x-1\n",
        "\n",
        "# 나중에 다시 풀어보기"
      ],
      "metadata": {
        "id": "ZHyTcLEz8HsM"
      },
      "execution_count": null,
      "outputs": []
    },
    {
      "cell_type": "markdown",
      "source": [
        "# 1978"
      ],
      "metadata": {
        "id": "V5XR_Ori5ZVe"
      }
    },
    {
      "cell_type": "code",
      "source": [
        "a = input()\n",
        "x =  map(int, input().split())\n",
        "r = 0\n",
        "for i in x:\n",
        "  cnt = 0\n",
        "  if i > 1:  \n",
        "    for z in range(2, i):\n",
        "      if i % z == 0:\n",
        "        cnt +=1\n",
        "    if cnt == 0:\n",
        "      r += 1\n",
        "print(r)"
      ],
      "metadata": {
        "colab": {
          "base_uri": "https://localhost:8080/"
        },
        "id": "7ut3UP7a5XwO",
        "outputId": "24ea0ce0-f108-40cc-ff82-5402e9558860"
      },
      "execution_count": null,
      "outputs": [
        {
          "output_type": "stream",
          "name": "stdout",
          "text": [
            "4\n",
            "1 3 5 7\n",
            "3\n"
          ]
        }
      ]
    },
    {
      "cell_type": "markdown",
      "source": [
        "#2581"
      ],
      "metadata": {
        "id": "nFavuShkFQSg"
      }
    },
    {
      "cell_type": "code",
      "source": [
        "a = int(input())\n",
        "b = int(input())\n",
        "l = []\n",
        "for i in range(a, b+1):\n",
        "  cnt = 0\n",
        "  if i > 1:\n",
        "    for k in range(2, i):\n",
        "      if i % k == 0:\n",
        "        cnt +=1\n",
        "        break\n",
        "    if cnt == 0:\n",
        "      l.append(i)\n",
        "if sum(l) == 0:\n",
        "  print(-1)\n",
        "else:\n",
        "  print(sum(l))\n",
        "  print(min(l))"
      ],
      "metadata": {
        "colab": {
          "base_uri": "https://localhost:8080/"
        },
        "id": "9TAVVhXgFPvO",
        "outputId": "0cc0f980-8f35-471c-b5f6-f448c68b3f29"
      },
      "execution_count": null,
      "outputs": [
        {
          "output_type": "stream",
          "name": "stdout",
          "text": [
            "64\n",
            "65\n",
            "-1\n"
          ]
        }
      ]
    },
    {
      "cell_type": "markdown",
      "source": [
        "#11653"
      ],
      "metadata": {
        "id": "xSNee2lZHqjq"
      }
    },
    {
      "cell_type": "code",
      "source": [
        "a = int(input())\n",
        "if a == 1:\n",
        "  print('')\n",
        "else:\n",
        "  for i in range(2,a+1):\n",
        "    if a % i == 0:\n",
        "      while a % i ==0:\n",
        "        print(i)\n",
        "        a = a / i"
      ],
      "metadata": {
        "colab": {
          "base_uri": "https://localhost:8080/"
        },
        "id": "SA_IeazvG0v4",
        "outputId": "5327be8e-25d2-4eb2-a7c8-76f86993e158"
      },
      "execution_count": null,
      "outputs": [
        {
          "output_type": "stream",
          "name": "stdout",
          "text": [
            "72\n",
            "2\n",
            "2\n",
            "2\n",
            "3\n",
            "3\n"
          ]
        }
      ]
    },
    {
      "cell_type": "markdown",
      "source": [
        "#1929"
      ],
      "metadata": {
        "id": "ISIYv3Dqa2UG"
      }
    },
    {
      "cell_type": "code",
      "source": [
        "f, l = map(int, input().split())\n",
        "\n",
        "for i in range(f, l+1):\n",
        "  cnt = 0\n",
        "  if i > 1:\n",
        "    for k in range(2, int(i**0.5)+1):\n",
        "      if i % k == 0:\n",
        "        cnt += 1\n",
        "        break\n",
        "    if cnt == 0:\n",
        "      print(i)  \n"
      ],
      "metadata": {
        "colab": {
          "base_uri": "https://localhost:8080/"
        },
        "id": "AKLbtG67Qufn",
        "outputId": "855b9c7c-08fb-4585-d176-9619386fe635"
      },
      "execution_count": null,
      "outputs": [
        {
          "output_type": "stream",
          "name": "stdout",
          "text": [
            "3 16\n",
            "3\n",
            "5\n",
            "7\n",
            "11\n",
            "13\n"
          ]
        }
      ]
    },
    {
      "cell_type": "code",
      "source": [
        "int(3**0.5)+1"
      ],
      "metadata": {
        "colab": {
          "base_uri": "https://localhost:8080/"
        },
        "id": "EOG7285haImp",
        "outputId": "6eba6f6d-8bef-41cc-f417-cb3a3e89fcd2"
      },
      "execution_count": null,
      "outputs": [
        {
          "output_type": "execute_result",
          "data": {
            "text/plain": [
              "2"
            ]
          },
          "metadata": {},
          "execution_count": 18
        }
      ]
    },
    {
      "cell_type": "markdown",
      "source": [
        "# 4948"
      ],
      "metadata": {
        "id": "i60U0UGWfD-2"
      }
    },
    {
      "cell_type": "code",
      "source": [
        "while True:\n",
        "  n = int(input())\n",
        "  if n == 0:\n",
        "    break\n",
        "  elif 1<= n <=123456:\n",
        "    r = 0\n",
        "    for i in range(n+1, 2*n+1):\n",
        "      cnt = 0\n",
        "      if i > 1:\n",
        "        for k in range(2, int(i**0.5)+1):\n",
        "          if i % k == 0:\n",
        "            cnt += 1\n",
        "            break\n",
        "        if cnt == 0:\n",
        "          r+=1\n",
        "    print(r)"
      ],
      "metadata": {
        "id": "nBpYQrTbtD1n",
        "colab": {
          "base_uri": "https://localhost:8080/"
        },
        "outputId": "8e96dac2-f155-44b8-b1c9-a08d0a84fc88"
      },
      "execution_count": null,
      "outputs": [
        {
          "name": "stdout",
          "output_type": "stream",
          "text": [
            "123456\n",
            "10186\n",
            "123457\n",
            "0\n"
          ]
        }
      ]
    },
    {
      "cell_type": "code",
      "source": [
        "def sosu(n):\n",
        "  if n == 0:\n",
        "    return False\n",
        "  for i in range(2, int(n**0.5)+1):\n",
        "    if n % i == 0:\n",
        "      return False\n",
        "  return True\n",
        "\n",
        "al = list(range(2, 246912))\n",
        "sl = []\n",
        "\n",
        "for i in al:\n",
        "  if sosu(i):\n",
        "    sl.append(i)\n",
        "\n",
        "while True:\n",
        "  n = int(input())\n",
        "  cnt = 0\n",
        "  if n == 0 :\n",
        "    break\n",
        "  for i in sl:\n",
        "    if n < i <= 2*n:\n",
        "      cnt +=1\n",
        "  print(cnt)\n"
      ],
      "metadata": {
        "colab": {
          "base_uri": "https://localhost:8080/"
        },
        "id": "vP5-VjYVU-3F",
        "outputId": "d41bd86d-0b20-4838-ed85-6ec39983a111"
      },
      "execution_count": null,
      "outputs": [
        {
          "name": "stdout",
          "output_type": "stream",
          "text": [
            "1\n",
            "1\n",
            "10\n",
            "4\n",
            "13\n",
            "3\n",
            "100\n",
            "21\n",
            "10000\n",
            "1033\n",
            "100000\n",
            "8392\n",
            "0\n"
          ]
        }
      ]
    },
    {
      "cell_type": "markdown",
      "source": [
        "# 9020"
      ],
      "metadata": {
        "id": "VF-E1s4Ocly4"
      }
    },
    {
      "cell_type": "code",
      "source": [
        "def sosu(n):\n",
        "  if n == 0:\n",
        "    return False\n",
        "  for i in range(2, int(n**0.5)+1):\n",
        "    if n % i == 0:\n",
        "      return False\n",
        "  return True\n",
        "\n",
        "al = list(range(2, 10000))\n",
        "sl = []\n",
        "\n",
        "for i in al:\n",
        "  if sosu(i):\n",
        "    sl.append(i)\n",
        "\n",
        "n = int(input())\n",
        "for _ in range(n):\n",
        "  m = int(input())\n",
        "  tb = True\n",
        "  nl = list(range(2, m))\n",
        "  snl = list(set(sl)&set(nl))\n",
        "  if len(snl) % 2 == 0:\n",
        "    for i in range(len(snl)//2,0,-1):\n",
        "      for k in range(len(snl)//2, len(snl)):\n",
        "        if snl[i]+snl[k] == m:\n",
        "          snli = snl[i]\n",
        "          snlk = snl[k]\n",
        "          tb = False\n",
        "          break\n",
        "      if tb == False:\n",
        "        break\n",
        "    print(f\"{snli} {snlk}\")\n",
        "          \n",
        "  else:\n",
        "    for i in range(len(snl)//2+1,0,-1):\n",
        "      for k in range(len(snl)//2+1, len(snl)):\n",
        "        if snl[i]+snl[k] == m:\n",
        "          snli = snl[i]\n",
        "          snlk = snl[k]\n",
        "          tb = False\n",
        "          break\n",
        "      if tb == False:\n",
        "        break\n",
        "    print(f\"{snli} {snlk}\")\n",
        "          "
      ],
      "metadata": {
        "colab": {
          "base_uri": "https://localhost:8080/"
        },
        "id": "B_8AtkrLb-1e",
        "outputId": "160a7754-30d4-4e5e-b0f9-8ae31754fa3c"
      },
      "execution_count": 1,
      "outputs": [
        {
          "output_type": "stream",
          "name": "stdout",
          "text": [
            "3\n",
            "8\n",
            "3 5\n",
            "10\n",
            "5 5\n",
            "16\n",
            "5 11\n"
          ]
        }
      ]
    },
    {
      "cell_type": "code",
      "source": [
        "def sosu(n):\n",
        "  if n == 0:\n",
        "    return False\n",
        "  for i in range(2, int(n**0.5)+1):\n",
        "    if n % i == 0:\n",
        "      return False\n",
        "  return True\n",
        "\n",
        "al = list(range(2, 10000))\n",
        "sl = []\n",
        "\n",
        "for i in al:\n",
        "  if sosu(i):\n",
        "    sl.append(i)\n",
        "\n",
        "n = int(input())\n",
        "for _ in range(n):\n",
        "  m = int(input())\n",
        "  a = m//2\n",
        "  b = m//2\n",
        "  while True:\n",
        "    if a + b == m:\n",
        "      if sosu(a) and sosu(b):\n",
        "        print(a, b)\n",
        "        break\n",
        "      else:\n",
        "        a -=1\n",
        "        b +=1"
      ],
      "metadata": {
        "id": "266HlrGvJhD6",
        "colab": {
          "base_uri": "https://localhost:8080/"
        },
        "outputId": "12fa7f6e-9a29-4334-c2fd-13adbc3e4ce0"
      },
      "execution_count": 15,
      "outputs": [
        {
          "output_type": "stream",
          "name": "stdout",
          "text": [
            "3\n",
            "8\n",
            "3 5\n",
            "10\n",
            "5 5\n",
            "16\n",
            "5 11\n"
          ]
        }
      ]
    },
    {
      "cell_type": "code",
      "source": [
        "sosu(3) and sosu(5)"
      ],
      "metadata": {
        "colab": {
          "base_uri": "https://localhost:8080/"
        },
        "id": "wiyaUf_T_4GK",
        "outputId": "678f9355-0972-4278-e3e7-bd7a31b76954"
      },
      "execution_count": 13,
      "outputs": [
        {
          "output_type": "execute_result",
          "data": {
            "text/plain": [
              "True"
            ]
          },
          "metadata": {},
          "execution_count": 13
        }
      ]
    },
    {
      "cell_type": "code",
      "source": [
        "0 & 1 in a"
      ],
      "metadata": {
        "colab": {
          "base_uri": "https://localhost:8080/"
        },
        "id": "qQuo3F8z__jO",
        "outputId": "a21c16cf-69a2-48dd-9b90-98abe3d52e10"
      },
      "execution_count": 7,
      "outputs": [
        {
          "output_type": "execute_result",
          "data": {
            "text/plain": [
              "True"
            ]
          },
          "metadata": {},
          "execution_count": 7
        }
      ]
    },
    {
      "cell_type": "code",
      "source": [
        "def sosu(n):\n",
        "  if n == 0:\n",
        "    return False\n",
        "  for i in range(2, int(n**0.5)+1):\n",
        "    if n % i == 0:\n",
        "      return False\n",
        "  return True\n",
        "\n",
        "n = int(input())\n",
        "for _ in range(n):\n",
        "  m = int(input())\n",
        "  a = m//2\n",
        "  b = m//2\n",
        "  while True:\n",
        "    if a + b == m:\n",
        "      if sosu(a) and sosu(b):\n",
        "        print(f\"{a} {b}\")\n",
        "        break\n",
        "      else:\n",
        "        a -=1\n",
        "        b +=1"
      ],
      "metadata": {
        "id": "KgM95tDzCMCV"
      },
      "execution_count": null,
      "outputs": []
    },
    {
      "cell_type": "markdown",
      "source": [
        "#1085"
      ],
      "metadata": {
        "id": "iJReKQioBRnS"
      }
    },
    {
      "cell_type": "code",
      "source": [
        "x, y, w, h = map(int, input().split())\n",
        "print(min(x, y, w-x, h-y))"
      ],
      "metadata": {
        "colab": {
          "base_uri": "https://localhost:8080/"
        },
        "id": "pPeOeJpeAC-_",
        "outputId": "7d113316-564b-4167-d3e4-bb93277b7a79"
      },
      "execution_count": 24,
      "outputs": [
        {
          "output_type": "stream",
          "name": "stdout",
          "text": [
            "653 375 1000 1000\n",
            "347\n"
          ]
        }
      ]
    },
    {
      "cell_type": "code",
      "source": [
        "a, d = map(int, input().split())\n",
        "b, e = map(int, input().split())\n",
        "c, f = map(int, input().split())\n",
        "\n",
        "if a == b:\n",
        "  x = c\n",
        "elif a == c:\n",
        "  x = b\n",
        "else:\n",
        "  x = a\n",
        "if d == e:\n",
        "  y = f\n",
        "elif d == f:\n",
        "  y = e\n",
        "else:\n",
        "  y = d\n",
        "\n",
        "print(x, y)"
      ],
      "metadata": {
        "colab": {
          "base_uri": "https://localhost:8080/"
        },
        "id": "sS-wJGH-EsjY",
        "outputId": "951f54c0-6692-4428-d85d-2351833ae9d1"
      },
      "execution_count": 25,
      "outputs": [
        {
          "output_type": "stream",
          "name": "stdout",
          "text": [
            "5 5\n",
            "5 7\n",
            "7 5\n",
            "7 7\n"
          ]
        }
      ]
    },
    {
      "cell_type": "markdown",
      "source": [
        "#4153"
      ],
      "metadata": {
        "id": "lQrhYtL_M17L"
      }
    },
    {
      "cell_type": "code",
      "source": [
        "while True:\n",
        "  a, b, c = map(int, input().split())\n",
        "  if a == 0 & b == 0 & c == 0:\n",
        "    break\n",
        "  x = [a,b,c]\n",
        "  x.sort(reverse=True)\n",
        "  if x[0]**2 == x[1]**2+x[2]**2:\n",
        "    print(\"right\")\n",
        "  else:\n",
        "    print('wrong')"
      ],
      "metadata": {
        "colab": {
          "base_uri": "https://localhost:8080/"
        },
        "id": "zXvix9CrIp43",
        "outputId": "41499c15-130c-4766-f862-694f363334e3"
      },
      "execution_count": 38,
      "outputs": [
        {
          "name": "stdout",
          "output_type": "stream",
          "text": [
            "6 8 10\n",
            "right\n",
            "25 52 60\n",
            "wrong\n",
            "5 12 13\n",
            "right\n",
            "0 0 0\n"
          ]
        }
      ]
    },
    {
      "cell_type": "code",
      "source": [
        "5a = [1,2,3]\n",
        "a"
      ],
      "metadata": {
        "colab": {
          "base_uri": "https://localhost:8080/"
        },
        "id": "D3yy0eMqMS-0",
        "outputId": "41356db9-f529-4d82-b06b-9388e8c534c6"
      },
      "execution_count": 26,
      "outputs": [
        {
          "output_type": "execute_result",
          "data": {
            "text/plain": [
              "[1, 2, 3]"
            ]
          },
          "metadata": {},
          "execution_count": 26
        }
      ]
    },
    {
      "cell_type": "code",
      "source": [
        "a.sort(reverse=True)\n",
        "a"
      ],
      "metadata": {
        "colab": {
          "base_uri": "https://localhost:8080/"
        },
        "id": "wOSlfmX1MUpL",
        "outputId": "1b53fbbb-47f6-4f81-ee8b-8840fda722a4"
      },
      "execution_count": 28,
      "outputs": [
        {
          "output_type": "execute_result",
          "data": {
            "text/plain": [
              "[3, 2, 1]"
            ]
          },
          "metadata": {},
          "execution_count": 28
        }
      ]
    },
    {
      "cell_type": "code",
      "source": [
        "while True:\n",
        "  a, b, c = map(int, input().split())\n",
        "  if a == 0 & b == 0 & c == 0:\n",
        "    break"
      ],
      "metadata": {
        "colab": {
          "base_uri": "https://localhost:8080/"
        },
        "id": "j2RaAMHuMi-h",
        "outputId": "a5952712-923e-415f-bbde-21d3c6405dca"
      },
      "execution_count": 37,
      "outputs": [
        {
          "name": "stdout",
          "output_type": "stream",
          "text": [
            "0 0 0\n"
          ]
        }
      ]
    },
    {
      "cell_type": "markdown",
      "source": [
        "#3053"
      ],
      "metadata": {
        "id": "6YUlARlZgosi"
      }
    },
    {
      "cell_type": "code",
      "source": [
        "a = int(input())\n",
        "\n"
      ],
      "metadata": {
        "id": "NsUj96g2NPpw"
      },
      "execution_count": null,
      "outputs": []
    },
    {
      "cell_type": "code",
      "source": [
        "import math\n",
        "a = int(input())\n",
        "print(a*a*math.pi)\n",
        "print(2*a*a)"
      ],
      "metadata": {
        "colab": {
          "base_uri": "https://localhost:8080/"
        },
        "id": "8Opu0ymaiUgE",
        "outputId": "872a496f-c2b7-4153-e526-45d9fcc8fb21"
      },
      "execution_count": 44,
      "outputs": [
        {
          "output_type": "stream",
          "name": "stdout",
          "text": [
            "21\n",
            "1385.4423602330987\n",
            "882\n"
          ]
        }
      ]
    },
    {
      "cell_type": "markdown",
      "source": [
        "# [1002](https://pacific-ocean.tistory.com/106)"
      ],
      "metadata": {
        "id": "nl5-YKqZjxN-"
      }
    },
    {
      "cell_type": "code",
      "source": [
        "t = int(input())\n",
        "for i in range(t):\n",
        "    x1, y1, r1, x2, y2, r2 = map(int, input().split())\n",
        "    d = ((x2 - x1) ** 2 + (y2 - y1) ** 2) ** 0.5\n",
        "    rs = r1 + r2\n",
        "    rm = abs(r1 - r2)\n",
        "    if d == 0:\n",
        "        if r1 == r2:\n",
        "            print(-1)\n",
        "        else:\n",
        "            print(0)\n",
        "    else:\n",
        "        if d == rs or d == rm:\n",
        "            print(1)\n",
        "        elif d < rs and d > rm:\n",
        "            print(2)\n",
        "        else:\n",
        "            print(0)"
      ],
      "metadata": {
        "id": "3aFmG_m_ovvL"
      },
      "execution_count": null,
      "outputs": []
    },
    {
      "cell_type": "markdown",
      "source": [
        "# 10872"
      ],
      "metadata": {
        "id": "U6Au6YQorX8B"
      }
    },
    {
      "cell_type": "code",
      "source": [
        "def factorial(n):\n",
        "  result = 1\n",
        "  if n > 0:\n",
        "    result = n * factorial(n-1)\n",
        "  return result\n",
        "n = int(input())\n",
        "print(factorial(n))"
      ],
      "metadata": {
        "colab": {
          "base_uri": "https://localhost:8080/"
        },
        "id": "fDBXuvJyrZU1",
        "outputId": "c58912a5-9da3-4bb7-ce4c-15b566103cd2"
      },
      "execution_count": 66,
      "outputs": [
        {
          "output_type": "stream",
          "name": "stdout",
          "text": [
            "10\n",
            "3628800\n"
          ]
        }
      ]
    },
    {
      "cell_type": "markdown",
      "source": [
        "# 10870"
      ],
      "metadata": {
        "id": "QMV7_BVut3ot"
      }
    },
    {
      "cell_type": "code",
      "source": [
        "def x(n):\n",
        "  if n <= 1:\n",
        "    return n\n",
        "  return x(n-1) + x(n-2)\n",
        "\n",
        "n = int(input())\n",
        "print(x(n))"
      ],
      "metadata": {
        "id": "ROiZERugrhbR"
      },
      "execution_count": null,
      "outputs": []
    },
    {
      "cell_type": "markdown",
      "source": [
        "# 11729"
      ],
      "metadata": {
        "id": "sH8QijUX2MOv"
      }
    },
    {
      "cell_type": "code",
      "source": [
        "def hanoi_tower(n, start, end) :\n",
        "    if n == 1 :\n",
        "        print(start, end)\n",
        "        return\n",
        "       \n",
        "    hanoi_tower(n-1, start, 6-start-end) # 1단계\n",
        "    print(start, end) # 2단계\n",
        "    hanoi_tower(n-1, 6-start-end, end) # 3단계\n",
        "    \n",
        "n = int(input())\n",
        "print(2**n-1)\n",
        "hanoi_tower(n, 1, 3)"
      ],
      "metadata": {
        "colab": {
          "base_uri": "https://localhost:8080/"
        },
        "id": "tGkXUgO4uemR",
        "outputId": "8d9f7e7d-32b7-4672-e893-f6cdc44e806d"
      },
      "execution_count": 75,
      "outputs": [
        {
          "output_type": "stream",
          "name": "stdout",
          "text": [
            "3\n",
            "7\n",
            "1 3\n",
            "1 2\n",
            "3 2\n",
            "1 3\n",
            "2 1\n",
            "2 3\n",
            "1 3\n"
          ]
        }
      ]
    },
    {
      "cell_type": "markdown",
      "source": [
        "# 2798"
      ],
      "metadata": {
        "id": "UD3rk5u8-rfC"
      }
    },
    {
      "cell_type": "code",
      "source": [
        "n, m = map(int, input().split())\n",
        "l = list(map(int, input().split()))\n",
        "l.sort()\n",
        "result = 0\n",
        "for i in range(n-2):\n",
        "  for j in range(i+1, n-1):\n",
        "    for k in range(j+1, n):\n",
        "      if l[i]+l[j]+l[k] > m:\n",
        "        continue\n",
        "      else:\n",
        "        result = max(result, l[i]+l[j]+l[k])\n",
        "print(result)\n"
      ],
      "metadata": {
        "colab": {
          "base_uri": "https://localhost:8080/"
        },
        "id": "xZ9GscJX6BCp",
        "outputId": "6bed425a-9f0b-4c93-bd56-c8f4f42cf20d"
      },
      "execution_count": 79,
      "outputs": [
        {
          "output_type": "stream",
          "name": "stdout",
          "text": [
            "10 500\n",
            "93 181 245 214 315 36 185 138 216 295\n",
            "497\n"
          ]
        }
      ]
    },
    {
      "cell_type": "code",
      "source": [
        ""
      ],
      "metadata": {
        "id": "029k9kZ6-5wv"
      },
      "execution_count": null,
      "outputs": []
    }
  ]
}