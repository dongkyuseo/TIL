{
  "nbformat": 4,
  "nbformat_minor": 0,
  "metadata": {
    "colab": {
      "name": "DFS, BFS.ipynb",
      "provenance": [],
      "collapsed_sections": []
    },
    "kernelspec": {
      "name": "python3",
      "display_name": "Python 3"
    },
    "language_info": {
      "name": "python"
    }
  },
  "cells": [
    {
      "cell_type": "markdown",
      "source": [
        "# [그래프 탐색 알고리즘](https://www.youtube.com/watch?v=7C9RgOcvkvo)\n",
        "\n",
        "탐색이란 많은양의 데이터중 원하는 데이터를 찾는 과정.\n",
        "\n",
        "대표적인 그래프 탐색 알고리즘은 DFS, BFS가 있음.\n",
        "\n",
        "1. 스택 자료구조\n",
        "\n",
        "- 선입 후출의 자료구조형(먼저 입력된 데이터가 나중에 나가는 형식)\n",
        "- 입구와 출구가 동일한 형태"
      ],
      "metadata": {
        "id": "KIUGUwFJP0wM"
      }
    },
    {
      "cell_type": "code",
      "source": [
        "# 스택 예제\n",
        "stack = [] # 스택은 리스트로 구현 가능\n",
        "\n",
        "stack.append(1) # append 자료 추가\n",
        "stack.pop() # 가장 최근에 추가된 자료를 꺼내면서 출력\n",
        "\n",
        "print(stack[::-1]) # 최상단 원소부터 출력\n",
        "print(stack) # 최 하단 원소부터 출력"
      ],
      "metadata": {
        "id": "BTmr11fyR5zN"
      },
      "execution_count": null,
      "outputs": []
    },
    {
      "cell_type": "markdown",
      "source": [
        "2. 큐 자료구조\n",
        "\n",
        "- 선입 선출 자료구조형(먼저 들어온 데이터가 먼저 나가는 형식)\n",
        "- 입구와 출구가 모두 뚫려있는 터널과 같은 형태"
      ],
      "metadata": {
        "id": "ubC4cIU3R-Tn"
      }
    },
    {
      "cell_type": "code",
      "execution_count": null,
      "metadata": {
        "id": "ZVs6aJ8OPw8W"
      },
      "outputs": [],
      "source": [
        "# 큐 구현 예제\n",
        "from collections import deque # 시간복잡도를 줄이기 위해 디큐를 사용\n",
        "\n",
        "queue = deque() #큐를 디큐로 선언\n",
        "\n",
        "queue.append(1) # 순서대로 자료 입력\n",
        "queue.popleft() # 선입 선출 방식\n",
        "\n",
        "print(queue) # 먼저 들어온 순서대로 출력\n",
        "queue.reverse() # 역순으로 바꾸기\n",
        "print(queue) # 나중에 들어온 원소부터 출력하기\n"
      ]
    },
    {
      "cell_type": "markdown",
      "source": [
        "3. 재귀함수 (Recursive Function)\n",
        "\n",
        "- 자기자신을 다시 호출하는 함수"
      ],
      "metadata": {
        "id": "43wImC7sTTo8"
      }
    },
    {
      "cell_type": "code",
      "source": [
        "def recursive_function():\n",
        "  print('재귀함수 호출')\n",
        "  recursive_function()\n",
        "\n",
        "recursive_function()\n",
        "# 파이썬은 자체 재귀 깊이가 있어 해당 코드 실행시 오류 발생"
      ],
      "metadata": {
        "id": "sw2HlfW5RnQ4"
      },
      "execution_count": null,
      "outputs": []
    },
    {
      "cell_type": "code",
      "source": [
        "# 재귀함수의 종료 조건 / 문제 풀이에서 사용할 때는 반드시 명시해야 함\n",
        "\n",
        "def recursive_function(i):\n",
        "  if i == 100:\n",
        "    return\n",
        "  print(i, '번째 재귀함수에서', i+1, '번째 재귀함수를 호출합니다')\n",
        "  recursive_function(i + 1)\n",
        "  print(i, '번째 재귀함수를 종료합니다')\n",
        "\n",
        "recursive_function(1)"
      ],
      "metadata": {
        "colab": {
          "base_uri": "https://localhost:8080/"
        },
        "id": "Bxw0p9JoUCNm",
        "outputId": "0efdf686-20f4-45eb-ea81-806216cc5a2c"
      },
      "execution_count": 3,
      "outputs": [
        {
          "output_type": "stream",
          "name": "stdout",
          "text": [
            "1 번째 재귀함수에서 2 번째 재귀함수를 호출합니다\n",
            "2 번째 재귀함수에서 3 번째 재귀함수를 호출합니다\n",
            "3 번째 재귀함수에서 4 번째 재귀함수를 호출합니다\n",
            "4 번째 재귀함수에서 5 번째 재귀함수를 호출합니다\n",
            "5 번째 재귀함수에서 6 번째 재귀함수를 호출합니다\n",
            "6 번째 재귀함수에서 7 번째 재귀함수를 호출합니다\n",
            "7 번째 재귀함수에서 8 번째 재귀함수를 호출합니다\n",
            "8 번째 재귀함수에서 9 번째 재귀함수를 호출합니다\n",
            "9 번째 재귀함수에서 10 번째 재귀함수를 호출합니다\n",
            "10 번째 재귀함수에서 11 번째 재귀함수를 호출합니다\n",
            "11 번째 재귀함수에서 12 번째 재귀함수를 호출합니다\n",
            "12 번째 재귀함수에서 13 번째 재귀함수를 호출합니다\n",
            "13 번째 재귀함수에서 14 번째 재귀함수를 호출합니다\n",
            "14 번째 재귀함수에서 15 번째 재귀함수를 호출합니다\n",
            "15 번째 재귀함수에서 16 번째 재귀함수를 호출합니다\n",
            "16 번째 재귀함수에서 17 번째 재귀함수를 호출합니다\n",
            "17 번째 재귀함수에서 18 번째 재귀함수를 호출합니다\n",
            "18 번째 재귀함수에서 19 번째 재귀함수를 호출합니다\n",
            "19 번째 재귀함수에서 20 번째 재귀함수를 호출합니다\n",
            "20 번째 재귀함수에서 21 번째 재귀함수를 호출합니다\n",
            "21 번째 재귀함수에서 22 번째 재귀함수를 호출합니다\n",
            "22 번째 재귀함수에서 23 번째 재귀함수를 호출합니다\n",
            "23 번째 재귀함수에서 24 번째 재귀함수를 호출합니다\n",
            "24 번째 재귀함수에서 25 번째 재귀함수를 호출합니다\n",
            "25 번째 재귀함수에서 26 번째 재귀함수를 호출합니다\n",
            "26 번째 재귀함수에서 27 번째 재귀함수를 호출합니다\n",
            "27 번째 재귀함수에서 28 번째 재귀함수를 호출합니다\n",
            "28 번째 재귀함수에서 29 번째 재귀함수를 호출합니다\n",
            "29 번째 재귀함수에서 30 번째 재귀함수를 호출합니다\n",
            "30 번째 재귀함수에서 31 번째 재귀함수를 호출합니다\n",
            "31 번째 재귀함수에서 32 번째 재귀함수를 호출합니다\n",
            "32 번째 재귀함수에서 33 번째 재귀함수를 호출합니다\n",
            "33 번째 재귀함수에서 34 번째 재귀함수를 호출합니다\n",
            "34 번째 재귀함수에서 35 번째 재귀함수를 호출합니다\n",
            "35 번째 재귀함수에서 36 번째 재귀함수를 호출합니다\n",
            "36 번째 재귀함수에서 37 번째 재귀함수를 호출합니다\n",
            "37 번째 재귀함수에서 38 번째 재귀함수를 호출합니다\n",
            "38 번째 재귀함수에서 39 번째 재귀함수를 호출합니다\n",
            "39 번째 재귀함수에서 40 번째 재귀함수를 호출합니다\n",
            "40 번째 재귀함수에서 41 번째 재귀함수를 호출합니다\n",
            "41 번째 재귀함수에서 42 번째 재귀함수를 호출합니다\n",
            "42 번째 재귀함수에서 43 번째 재귀함수를 호출합니다\n",
            "43 번째 재귀함수에서 44 번째 재귀함수를 호출합니다\n",
            "44 번째 재귀함수에서 45 번째 재귀함수를 호출합니다\n",
            "45 번째 재귀함수에서 46 번째 재귀함수를 호출합니다\n",
            "46 번째 재귀함수에서 47 번째 재귀함수를 호출합니다\n",
            "47 번째 재귀함수에서 48 번째 재귀함수를 호출합니다\n",
            "48 번째 재귀함수에서 49 번째 재귀함수를 호출합니다\n",
            "49 번째 재귀함수에서 50 번째 재귀함수를 호출합니다\n",
            "50 번째 재귀함수에서 51 번째 재귀함수를 호출합니다\n",
            "51 번째 재귀함수에서 52 번째 재귀함수를 호출합니다\n",
            "52 번째 재귀함수에서 53 번째 재귀함수를 호출합니다\n",
            "53 번째 재귀함수에서 54 번째 재귀함수를 호출합니다\n",
            "54 번째 재귀함수에서 55 번째 재귀함수를 호출합니다\n",
            "55 번째 재귀함수에서 56 번째 재귀함수를 호출합니다\n",
            "56 번째 재귀함수에서 57 번째 재귀함수를 호출합니다\n",
            "57 번째 재귀함수에서 58 번째 재귀함수를 호출합니다\n",
            "58 번째 재귀함수에서 59 번째 재귀함수를 호출합니다\n",
            "59 번째 재귀함수에서 60 번째 재귀함수를 호출합니다\n",
            "60 번째 재귀함수에서 61 번째 재귀함수를 호출합니다\n",
            "61 번째 재귀함수에서 62 번째 재귀함수를 호출합니다\n",
            "62 번째 재귀함수에서 63 번째 재귀함수를 호출합니다\n",
            "63 번째 재귀함수에서 64 번째 재귀함수를 호출합니다\n",
            "64 번째 재귀함수에서 65 번째 재귀함수를 호출합니다\n",
            "65 번째 재귀함수에서 66 번째 재귀함수를 호출합니다\n",
            "66 번째 재귀함수에서 67 번째 재귀함수를 호출합니다\n",
            "67 번째 재귀함수에서 68 번째 재귀함수를 호출합니다\n",
            "68 번째 재귀함수에서 69 번째 재귀함수를 호출합니다\n",
            "69 번째 재귀함수에서 70 번째 재귀함수를 호출합니다\n",
            "70 번째 재귀함수에서 71 번째 재귀함수를 호출합니다\n",
            "71 번째 재귀함수에서 72 번째 재귀함수를 호출합니다\n",
            "72 번째 재귀함수에서 73 번째 재귀함수를 호출합니다\n",
            "73 번째 재귀함수에서 74 번째 재귀함수를 호출합니다\n",
            "74 번째 재귀함수에서 75 번째 재귀함수를 호출합니다\n",
            "75 번째 재귀함수에서 76 번째 재귀함수를 호출합니다\n",
            "76 번째 재귀함수에서 77 번째 재귀함수를 호출합니다\n",
            "77 번째 재귀함수에서 78 번째 재귀함수를 호출합니다\n",
            "78 번째 재귀함수에서 79 번째 재귀함수를 호출합니다\n",
            "79 번째 재귀함수에서 80 번째 재귀함수를 호출합니다\n",
            "80 번째 재귀함수에서 81 번째 재귀함수를 호출합니다\n",
            "81 번째 재귀함수에서 82 번째 재귀함수를 호출합니다\n",
            "82 번째 재귀함수에서 83 번째 재귀함수를 호출합니다\n",
            "83 번째 재귀함수에서 84 번째 재귀함수를 호출합니다\n",
            "84 번째 재귀함수에서 85 번째 재귀함수를 호출합니다\n",
            "85 번째 재귀함수에서 86 번째 재귀함수를 호출합니다\n",
            "86 번째 재귀함수에서 87 번째 재귀함수를 호출합니다\n",
            "87 번째 재귀함수에서 88 번째 재귀함수를 호출합니다\n",
            "88 번째 재귀함수에서 89 번째 재귀함수를 호출합니다\n",
            "89 번째 재귀함수에서 90 번째 재귀함수를 호출합니다\n",
            "90 번째 재귀함수에서 91 번째 재귀함수를 호출합니다\n",
            "91 번째 재귀함수에서 92 번째 재귀함수를 호출합니다\n",
            "92 번째 재귀함수에서 93 번째 재귀함수를 호출합니다\n",
            "93 번째 재귀함수에서 94 번째 재귀함수를 호출합니다\n",
            "94 번째 재귀함수에서 95 번째 재귀함수를 호출합니다\n",
            "95 번째 재귀함수에서 96 번째 재귀함수를 호출합니다\n",
            "96 번째 재귀함수에서 97 번째 재귀함수를 호출합니다\n",
            "97 번째 재귀함수에서 98 번째 재귀함수를 호출합니다\n",
            "98 번째 재귀함수에서 99 번째 재귀함수를 호출합니다\n",
            "99 번째 재귀함수에서 100 번째 재귀함수를 호출합니다\n",
            "99 번째 재귀함수를 종료합니다\n",
            "98 번째 재귀함수를 종료합니다\n",
            "97 번째 재귀함수를 종료합니다\n",
            "96 번째 재귀함수를 종료합니다\n",
            "95 번째 재귀함수를 종료합니다\n",
            "94 번째 재귀함수를 종료합니다\n",
            "93 번째 재귀함수를 종료합니다\n",
            "92 번째 재귀함수를 종료합니다\n",
            "91 번째 재귀함수를 종료합니다\n",
            "90 번째 재귀함수를 종료합니다\n",
            "89 번째 재귀함수를 종료합니다\n",
            "88 번째 재귀함수를 종료합니다\n",
            "87 번째 재귀함수를 종료합니다\n",
            "86 번째 재귀함수를 종료합니다\n",
            "85 번째 재귀함수를 종료합니다\n",
            "84 번째 재귀함수를 종료합니다\n",
            "83 번째 재귀함수를 종료합니다\n",
            "82 번째 재귀함수를 종료합니다\n",
            "81 번째 재귀함수를 종료합니다\n",
            "80 번째 재귀함수를 종료합니다\n",
            "79 번째 재귀함수를 종료합니다\n",
            "78 번째 재귀함수를 종료합니다\n",
            "77 번째 재귀함수를 종료합니다\n",
            "76 번째 재귀함수를 종료합니다\n",
            "75 번째 재귀함수를 종료합니다\n",
            "74 번째 재귀함수를 종료합니다\n",
            "73 번째 재귀함수를 종료합니다\n",
            "72 번째 재귀함수를 종료합니다\n",
            "71 번째 재귀함수를 종료합니다\n",
            "70 번째 재귀함수를 종료합니다\n",
            "69 번째 재귀함수를 종료합니다\n",
            "68 번째 재귀함수를 종료합니다\n",
            "67 번째 재귀함수를 종료합니다\n",
            "66 번째 재귀함수를 종료합니다\n",
            "65 번째 재귀함수를 종료합니다\n",
            "64 번째 재귀함수를 종료합니다\n",
            "63 번째 재귀함수를 종료합니다\n",
            "62 번째 재귀함수를 종료합니다\n",
            "61 번째 재귀함수를 종료합니다\n",
            "60 번째 재귀함수를 종료합니다\n",
            "59 번째 재귀함수를 종료합니다\n",
            "58 번째 재귀함수를 종료합니다\n",
            "57 번째 재귀함수를 종료합니다\n",
            "56 번째 재귀함수를 종료합니다\n",
            "55 번째 재귀함수를 종료합니다\n",
            "54 번째 재귀함수를 종료합니다\n",
            "53 번째 재귀함수를 종료합니다\n",
            "52 번째 재귀함수를 종료합니다\n",
            "51 번째 재귀함수를 종료합니다\n",
            "50 번째 재귀함수를 종료합니다\n",
            "49 번째 재귀함수를 종료합니다\n",
            "48 번째 재귀함수를 종료합니다\n",
            "47 번째 재귀함수를 종료합니다\n",
            "46 번째 재귀함수를 종료합니다\n",
            "45 번째 재귀함수를 종료합니다\n",
            "44 번째 재귀함수를 종료합니다\n",
            "43 번째 재귀함수를 종료합니다\n",
            "42 번째 재귀함수를 종료합니다\n",
            "41 번째 재귀함수를 종료합니다\n",
            "40 번째 재귀함수를 종료합니다\n",
            "39 번째 재귀함수를 종료합니다\n",
            "38 번째 재귀함수를 종료합니다\n",
            "37 번째 재귀함수를 종료합니다\n",
            "36 번째 재귀함수를 종료합니다\n",
            "35 번째 재귀함수를 종료합니다\n",
            "34 번째 재귀함수를 종료합니다\n",
            "33 번째 재귀함수를 종료합니다\n",
            "32 번째 재귀함수를 종료합니다\n",
            "31 번째 재귀함수를 종료합니다\n",
            "30 번째 재귀함수를 종료합니다\n",
            "29 번째 재귀함수를 종료합니다\n",
            "28 번째 재귀함수를 종료합니다\n",
            "27 번째 재귀함수를 종료합니다\n",
            "26 번째 재귀함수를 종료합니다\n",
            "25 번째 재귀함수를 종료합니다\n",
            "24 번째 재귀함수를 종료합니다\n",
            "23 번째 재귀함수를 종료합니다\n",
            "22 번째 재귀함수를 종료합니다\n",
            "21 번째 재귀함수를 종료합니다\n",
            "20 번째 재귀함수를 종료합니다\n",
            "19 번째 재귀함수를 종료합니다\n",
            "18 번째 재귀함수를 종료합니다\n",
            "17 번째 재귀함수를 종료합니다\n",
            "16 번째 재귀함수를 종료합니다\n",
            "15 번째 재귀함수를 종료합니다\n",
            "14 번째 재귀함수를 종료합니다\n",
            "13 번째 재귀함수를 종료합니다\n",
            "12 번째 재귀함수를 종료합니다\n",
            "11 번째 재귀함수를 종료합니다\n",
            "10 번째 재귀함수를 종료합니다\n",
            "9 번째 재귀함수를 종료합니다\n",
            "8 번째 재귀함수를 종료합니다\n",
            "7 번째 재귀함수를 종료합니다\n",
            "6 번째 재귀함수를 종료합니다\n",
            "5 번째 재귀함수를 종료합니다\n",
            "4 번째 재귀함수를 종료합니다\n",
            "3 번째 재귀함수를 종료합니다\n",
            "2 번째 재귀함수를 종료합니다\n",
            "1 번째 재귀함수를 종료합니다\n"
          ]
        }
      ]
    },
    {
      "cell_type": "markdown",
      "source": [
        "# 팩토리얼 구현 예제\n",
        "\n",
        "- n! = 1*2*3* --- * (n-1) * n\n",
        "- 수학적으로 0! 과 1!의 값은 1\n",
        "\n"
      ],
      "metadata": {
        "id": "sjf9C32GahlW"
      }
    },
    {
      "cell_type": "code",
      "source": [
        "# 반복적으로 구현한 n!\n",
        "\n",
        "def factorial_iterative(n):\n",
        "  result = 1\n",
        "  # 1부터 n까지의 수를 차례대로 곱하기\n",
        "  for i in range(1, n+1):\n",
        "    result *= i\n",
        "  return result\n",
        "\n",
        "print(factorial_iterative(5))"
      ],
      "metadata": {
        "colab": {
          "base_uri": "https://localhost:8080/"
        },
        "id": "i5xKhejDZvdc",
        "outputId": "075ae42a-4be7-4ea6-f6a1-3c1c93fd925d"
      },
      "execution_count": 5,
      "outputs": [
        {
          "output_type": "stream",
          "name": "stdout",
          "text": [
            "120\n"
          ]
        }
      ]
    },
    {
      "cell_type": "code",
      "source": [
        "# 재귀적으로 구현한 n!\n",
        "\n",
        "def factorial_recursive(n):\n",
        "  if n  <= 1: #n이 1 이하인 경우 1을 반환\n",
        "    return 1\n",
        "  return n * factorial_recursive(n-1)\n",
        "\n",
        "print(factorial_recursive(5))"
      ],
      "metadata": {
        "colab": {
          "base_uri": "https://localhost:8080/"
        },
        "id": "KYLUYoiWaz1W",
        "outputId": "6d139f13-836c-4cf1-f950-f7c957b12bce"
      },
      "execution_count": 8,
      "outputs": [
        {
          "output_type": "stream",
          "name": "stdout",
          "text": [
            "120\n"
          ]
        }
      ]
    },
    {
      "cell_type": "markdown",
      "source": [
        "# 유클리드 호제법 \n",
        "\n",
        "- 두자연수에 대한 최대 공약수를 구하는 대표적인 알고리즘\n",
        "- 유클리드 호제법\n",
        " - 두 자연수 A, B에 대하여 (A > B) A를  B로 나눈 나머지 R 일때,\n",
        " - 이때 A와 B의 최대 공약수는 B와 R 의 최대 공약수와 같음\n",
        "- 유클리드 호제법의 아이디어를 그대로 재귀 함수로 작성 가능"
      ],
      "metadata": {
        "id": "0RinMj1VdO3E"
      }
    },
    {
      "cell_type": "code",
      "source": [
        "# 유클리드 호제법\n",
        "\n",
        "def gcd(a, b):\n",
        "  if a % b == 0:\n",
        "    return b\n",
        "  else:\n",
        "    return gcd(b, a % b)\n",
        "\n",
        "print(gcd(192, 162))"
      ],
      "metadata": {
        "colab": {
          "base_uri": "https://localhost:8080/"
        },
        "id": "VmY87dN3d2vv",
        "outputId": "516a8c11-6fcd-48a6-b506-d21dd05e2158"
      },
      "execution_count": 9,
      "outputs": [
        {
          "output_type": "stream",
          "name": "stdout",
          "text": [
            "6\n"
          ]
        }
      ]
    },
    {
      "cell_type": "markdown",
      "source": [
        "## 재귀함수 사용의 유의 사항\n",
        "- 재귀 함수를 잘 활용하면 복잡한 알고리즘을 간결하게 작성할 수 있음\n",
        " - 단, 오히려 다른 사람이 이해하기 어려운 형태의 코드가 될 수 있음\n",
        "- 모든 재귀함수는 반복문을 이용하여 동일한 기능을 구현할 수 있음\n",
        "- 재귀 함수가 반복문보다 유리한 경우도 있고 불리한 경우도 있음\n",
        "- 컴퓨터가 함수를 연속적으로 호출하면 컴퓨터 메모리 내부의 스택 프레임에 쌓임\n",
        "  - 그래서 스택을 사용해야 할 때 구현상 스택 라이브러리 대신 재귀함수를 이용하는 경우가 많음"
      ],
      "metadata": {
        "id": "od-izcrveftx"
      }
    },
    {
      "cell_type": "markdown",
      "source": [
        "# DFS ( Depth - First Search)\n",
        "\n",
        "- DFS는 깊이 우선 탐색이라고 부르며 그래프에서 깊은 부분을 우선적으로 탐색하는 알고리즘\n",
        "- DFS는 스택 자료구조(혹은 재귀함수)를 이용하며, 구체적인 동작은 다음과 같음\n",
        "  1. 탐색 시작 노드를 스택에 삽입하고 방문 처리를 함\n",
        "  2. 스택의 최상단 노드에 방문하지 않은 인접한 노드가 하나라도 있으면 그 노드를 스택에 넣고 방문처리함, 방문하지 않은 인접노드가 없으면 스택에서 최상단 노드를 꺼냄\n",
        "  3. 더 이상 2번의 과정을 수행할 수 없을 때까지 반복함"
      ],
      "metadata": {
        "id": "0SZkqLtlgPBq"
      }
    },
    {
      "cell_type": "code",
      "source": [
        "# DFS 소스코드 예제\n",
        "\n",
        "def dfs(graph, v, visited):\n",
        "  # 현재 노드를 방문 처리\n",
        "  visited[v] = True\n",
        "  print(v, end=' ')\n",
        "  # 현재 노드와 연결된 다른 노드를 재귀적으로 방문\n",
        "  for i in graph[v]:\n",
        "    if not visited[i]:\n",
        "      dfs(graph, i, visited)\n",
        "\n",
        "# 각 노드가 연결된 정보를 표현(2차원 리스트) 노드간 간선 연결 여부\n",
        "# 인덱스 순서로 직관적으로 하기위해 0번 인덱스는 사용하지 않음 \n",
        "graph = [\n",
        "         [], # 0\n",
        "         [2,3,8], # 1\n",
        "         [1,7], # 2\n",
        "         [1,4,5], # 3\n",
        "         [3,5], # 4\n",
        "         [3,4], # 5\n",
        "         [7], # 6\n",
        "         [2,6,8], # 7\n",
        "         [1,7] # 8\n",
        "]\n",
        "\n",
        "# 각 노드가 방문된 정보를 표현(1차원 리스트) 방문 여부 체크\n",
        "visited = [False] * 9\n",
        "\n",
        "# 정의된 DFS 호출\n",
        "dfs(graph, 1, visited)"
      ],
      "metadata": {
        "colab": {
          "base_uri": "https://localhost:8080/"
        },
        "id": "autfL4sleQsI",
        "outputId": "cb1fc52d-0054-48b9-c829-912afcf9d73f"
      },
      "execution_count": 10,
      "outputs": [
        {
          "output_type": "stream",
          "name": "stdout",
          "text": [
            "1 2 7 6 8 3 4 5 "
          ]
        }
      ]
    },
    {
      "cell_type": "markdown",
      "source": [
        "# BFS (Breadth-First Search)\n",
        "\n",
        "- BFS는 너비 우선 탐색이라고 하며, 그래프에서 가까운 노드부터 우선적으로 탐색하는 알고리즘\n",
        "- BFS는 큐 자료구조를 이용하며, 구체적인 동작 과정은 다음과 같음\n",
        "  1. 탐색 시작 노드를 큐에 삽입하고 방문 처리를 함\n",
        "  2. 큐에서 노드를 꺼낸 뒤에 해당 노드의 인접 노드중 방문하지 않은 노드를 모두 큐에 삽입하고 방문처리\n",
        "  3. 더 이상 2번의 과정을 수행할 수 없을때까지 반복"
      ],
      "metadata": {
        "id": "PEp-LY98lX3p"
      }
    },
    {
      "cell_type": "code",
      "source": [
        "# BFS 소스코드 예제\n",
        "\n",
        "from collections import deque\n",
        "\n",
        "# BFS 메서드 정의\n",
        "def bfs(graph, start, visited):\n",
        "  # 큐(Queue) 구현을 위해 dequeue 라이브러리 사용\n",
        "  queue = deque([start])\n",
        "  visited[start] = True\n",
        "  # 큐가 빌때까지 반복\n",
        "  while queue:\n",
        "    # 큐에서 하나의 원소를 뽑아 출력\n",
        "    v = queue.popleft()\n",
        "    print(v, end='')\n",
        "    # 아직 방문하지 않은 인접한 원소들을 큐에 삽입\n",
        "    for i in graph[v]:\n",
        "      if not visited[i]:\n",
        "        queue.append(i)\n",
        "        visited[i] = True\n",
        "\n",
        "# 각 노드가 연결된 정보를 표현(2차원 리스트)\n",
        "graph = [\n",
        "         [], # 0\n",
        "         [2,3,8], # 1\n",
        "         [1,7], # 2\n",
        "         [1,4,5], # 3\n",
        "         [3,5], # 4\n",
        "         [3,4], # 5\n",
        "         [7], # 6\n",
        "         [2,6,8], # 7\n",
        "         [1,7] # 8\n",
        "]\n",
        "\n",
        "# 각 노드가 방문된 정보를 표현(1차원 리스트) 방문 여부 체크\n",
        "visited = [False] * 9\n",
        "\n",
        "# 정의된 DFS 호출\n",
        "bfs(graph, 1, visited)"
      ],
      "metadata": {
        "colab": {
          "base_uri": "https://localhost:8080/"
        },
        "id": "En4M2kV0lGNR",
        "outputId": "62376c67-91d5-4381-a524-2a3648f574e9"
      },
      "execution_count": 14,
      "outputs": [
        {
          "output_type": "stream",
          "name": "stdout",
          "text": [
            "12387456"
          ]
        }
      ]
    },
    {
      "cell_type": "markdown",
      "source": [
        "# 0 묶음 세기"
      ],
      "metadata": {
        "id": "d_uaIxP5xkWS"
      }
    },
    {
      "cell_type": "code",
      "source": [
        " def dfs(x, y):\n",
        "   if x <= -1 or x >= n or  y <= -1 or y >= m:\n",
        "     return False\n",
        "   if graph[x][y] == 0:\n",
        "     graph[x][y] = 1\n",
        "     dfs(x - 1, y)\n",
        "     dfs(x, y - 1)\n",
        "     dfs(x + 1, y)\n",
        "     dfs(x, y + 1)\n",
        "     return True\n",
        "   return False\n"
      ],
      "metadata": {
        "id": "ugz2O-j1nwoY"
      },
      "execution_count": 15,
      "outputs": []
    },
    {
      "cell_type": "code",
      "source": [
        "n, m = map(int, input().split())\n",
        "graph=[]\n",
        "for i in range(n):\n",
        "  graph.append(list(map(int, input())))"
      ],
      "metadata": {
        "colab": {
          "base_uri": "https://localhost:8080/"
        },
        "id": "Cam20s8AuKWd",
        "outputId": "29891057-e658-4cd9-de53-1dd3ed7d290e"
      },
      "execution_count": 17,
      "outputs": [
        {
          "name": "stdout",
          "output_type": "stream",
          "text": [
            "4 5\n",
            "00110\n",
            "00011\n",
            "11111\n",
            "00000\n"
          ]
        }
      ]
    },
    {
      "cell_type": "code",
      "source": [
        "graph"
      ],
      "metadata": {
        "colab": {
          "base_uri": "https://localhost:8080/"
        },
        "id": "etcJ2AYbu9jE",
        "outputId": "b5dc601c-a0de-4dad-9f06-c3e0bfdce83b"
      },
      "execution_count": 18,
      "outputs": [
        {
          "output_type": "execute_result",
          "data": {
            "text/plain": [
              "[[0, 0, 1, 1, 0], [0, 0, 0, 1, 1], [1, 1, 1, 1, 1], [0, 0, 0, 0, 0]]"
            ]
          },
          "metadata": {},
          "execution_count": 18
        }
      ]
    },
    {
      "cell_type": "code",
      "source": [
        "result = 0\n",
        "for i in range(n):\n",
        "  for j in range(m):\n",
        "    if dfs(i, j) == True:\n",
        "      result += 1\n",
        "print(result)"
      ],
      "metadata": {
        "colab": {
          "base_uri": "https://localhost:8080/"
        },
        "id": "IArVMGVauXrm",
        "outputId": "1e697403-437e-4f0b-e3b9-231e7c2ae74f"
      },
      "execution_count": 19,
      "outputs": [
        {
          "output_type": "stream",
          "name": "stdout",
          "text": [
            "3\n"
          ]
        }
      ]
    },
    {
      "cell_type": "markdown",
      "source": [
        "# 미로 탈출 최단거리"
      ],
      "metadata": {
        "id": "HKH0ADvWxmRI"
      }
    },
    {
      "cell_type": "code",
      "source": [
        "def bfs(x, y):\n",
        "    # 큐 구현을 위해 deque 라이브러리 이용\n",
        "    queue = deque()\n",
        "    queue.append((x, y))\n",
        "    # 큐가 빌때까지 반복\n",
        "    while queue:\n",
        "      x, y = queue.popleft()\n",
        "      # 현재 위치에서 4가지 방향으로의 위치 확인\n",
        "      for i in range(4):\n",
        "        nx = x + dx[i]\n",
        "        ny = y + dy[i]\n",
        "        # 미로 찾기 공간을 벗어난 경우 무시\n",
        "        if nx < 0 or nx >= n or ny < 0 or ny >= m:\n",
        "          continue\n",
        "        # 벽인 경우 무시\n",
        "        if graph[nx][ny] == 0:\n",
        "          continue\n",
        "        # 해당 노드를 처음 방문하는 경우에만 최단거리 기록\n",
        "        if graph[nx][ny] == 1:\n",
        "          graph[nx][ny] = graph[x][y] + 1\n",
        "          queue.append((nx, ny))\n",
        "    # 가장 오른쪽 아래까지의 최단 거리 반환\n",
        "    # return graph[n - 1][m - 1]\n",
        "    return min(graph[-1])"
      ],
      "metadata": {
        "id": "J7nhCzjQxsnd"
      },
      "execution_count": 42,
      "outputs": []
    },
    {
      "cell_type": "code",
      "source": [
        "from collections import deque\n",
        "\n",
        "# n, m을 공백을 기준으로 구분하여 입력받기\n",
        "n, m = map(int, input().split())\n",
        "# 2차원 리스트의 맵 정보 입력 받기\n",
        "graph=[]\n",
        "for i in range(n):\n",
        "  graph.append(list(map(int, input())))"
      ],
      "metadata": {
        "colab": {
          "base_uri": "https://localhost:8080/"
        },
        "id": "S1XCl-ffwxwV",
        "outputId": "64340e2f-4a61-418e-9489-fe58fe0e41c3"
      },
      "execution_count": 33,
      "outputs": [
        {
          "name": "stdout",
          "output_type": "stream",
          "text": [
            "5 6\n",
            "101010\n",
            "111111\n",
            "000001\n",
            "111111\n",
            "111111\n"
          ]
        }
      ]
    },
    {
      "cell_type": "code",
      "source": [
        "# 이동할 상 하 좌 우 방향 정의\n",
        "dx = [-1, 1, 0, 0]\n",
        "dy = [0, 0, -1, 1]\n",
        "\n",
        "# bfs 수행 결과 출력\n",
        "print(bfs(0, 0))"
      ],
      "metadata": {
        "colab": {
          "base_uri": "https://localhost:8080/"
        },
        "id": "1TZDlqtZxtYE",
        "outputId": "549603c2-5924-4430-fa9d-f51daaf85b3b"
      },
      "execution_count": 43,
      "outputs": [
        {
          "output_type": "stream",
          "name": "stdout",
          "text": [
            "10\n"
          ]
        }
      ]
    },
    {
      "cell_type": "code",
      "source": [
        ""
      ],
      "metadata": {
        "id": "c3a8kbIO3jS8"
      },
      "execution_count": null,
      "outputs": []
    }
  ]
}