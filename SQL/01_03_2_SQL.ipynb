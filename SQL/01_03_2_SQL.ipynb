{
  "nbformat": 4,
  "nbformat_minor": 0,
  "metadata": {
    "colab": {
      "name": "01_03.2_SQL.ipynb",
      "provenance": [],
      "collapsed_sections": []
    },
    "kernelspec": {
      "name": "python3",
      "display_name": "Python 3"
    },
    "language_info": {
      "name": "python"
    }
  },
  "cells": [
    {
      "cell_type": "markdown",
      "source": [
        "# 01-1. 데이터베이스 알아보기\n",
        "\n",
        "- 데이터베이스(DB) : 데이터의 집합\n",
        "- DBMS : 데이터베이스를 운영하고 관리하는 소프트웨어, 대용량의 데이터베이스를 다수의 사용자가 동시에 수정관리 가능\n",
        "\n",
        "## DMBS의 종류\n",
        "- MySQL, MaraiDB, Oracle 등\n",
        "\n",
        "## DMBS의 발전 과정\n",
        "1. 종이에 펜으로 기록\n",
        "2. 컴퓨터에 파일로 저장\n",
        "3. 대량의 데이터를 효율적으로 관리하기 위한 DBMS 등장\n",
        "\n",
        "## RDBMS 관계형 DMBS\n",
        "- 관계형 DBMS는 현재 많이 사용됨\n",
        "- Relational DBMS는 줄여서 RDBMS라고 부름\n",
        "- 관계형 DBMS의 가장 기본단위는 테이블\n",
        "- 테이블은 하나이상의 열과 행으로 이루어져 있음\n",
        "\n",
        "## DBMS에서 사용되는언어 : SQL\n",
        "- SQL은 관계형 데이터베이스에서 사용되는 언어로, '에스큐엘' 또는 '시퀄'로 읽음\n",
        "- 표준 SQL을 지정해서 언어의 통일성을 갖춤"
      ],
      "metadata": {
        "id": "2T2gqbyZ0wtt"
      }
    },
    {
      "cell_type": "markdown",
      "source": [
        "# 02-1. 데이터베이스 모델링\n",
        "- 데이터베이스 모델링 : 설계도를 그리는 과정과 같음\n",
        "\n",
        "## 프로젝트 진행단계\n",
        "- 프로젝트 : 현실세계에 일어나는 업무를 컴퓨터 시스템으로 옮겨놓는 과정, 소프트웨어를 작성하는 전체적인 과정\n",
        "\n",
        "## 데이터베이스 모델링\n",
        "- 시스템설계부분으로, 우리가 살고있는 세상에 사용되는 사물을 데이터베이스에 넣는 과정을 의미\n",
        "\n",
        "## 전체 데이터 베이스 구성\n",
        "- 기본키(PK) : 열지정, 중복불가, Null 불가(빈값이 될 수 없음)\n"
      ],
      "metadata": {
        "id": "RnUKVkYliWEX"
      }
    },
    {
      "cell_type": "markdown",
      "source": [
        "# 02-2. 데이터베이스 시작부터 끝까지\n",
        "- 데이터베이스 구축 절차\n",
        "  - 데이터베이스 만들기 -> 테이블만들기 -> 데이터입력/수정/삭제하기 -> 데이터 조회/활용하기\n",
        "\n",
        "- 데이터베이스 만들기\n",
        "  - schemas = 데이터베이스 : 같은의미"
      ],
      "metadata": {
        "id": "52H0rm3SxNoi"
      }
    },
    {
      "cell_type": "markdown",
      "source": [
        "# 02-03. 데이터베이스 개체\n",
        "- 데이터베이스 개체란 데이터베이스 안에 들어있는 오브젝트들을 의미 (뷰, 인덱스, 스토어드 프로시저, 트리거 등)\n",
        "- 인덱스(index) : 데이터 조회시 빠르게 조회하도록 도와주는 개념\n",
        "- 뷰(view) : 가상의 테이블을 의미\n",
        "\n",
        "## 스토어드 프로시저\n",
        "- 명령어 저장해서 단축어 만들기."
      ],
      "metadata": {
        "id": "e7RugNCV6HOi"
      }
    },
    {
      "cell_type": "markdown",
      "source": [
        "# 03. SQL 기본문법\n",
        "# 03-1. 기본 중에 기본, SELECT ~ FROM ~ WHERE\n",
        "- SELECT 문은 테이블에서 데이터를 추출하는 기능\n",
        "\n",
        "## 실습용 데이터베이스 구축\n",
        "- -- 주석내용 : 주석 작성\n",
        "- DROP DATABASE : 데이터베이스 삭제\n",
        "- CREATE DATABASE name; : 데이터베이스 이름 생성\n",
        "- USE DATABASENAME ; : 사용할 데이터베이스 지정\n",
        "- CREATE TABLE member : 데이터베이스 안에 테이블 이름 지정하여 생성\n",
        "- CHAR(개수) : 문자열로 지정(개수)가 있는 경우 해당 갯수만큼 작성 가능\n",
        "- NOT NULL : 빈값 비허용\n",
        "- PRIMARY KEY : 고유값 유일한값 지정\n",
        "- VARCHAR(10) : 문자열로 지정(개수)가 있는경우 해당 갯수만큼 작성 가능\n",
        "- INT : 정수 자료형태\n",
        "- SMALLINT : 작은 정수?\n",
        "- DATE : 날짜 자료형태\n",
        "\n",
        "## USE문\n",
        "- 데이터베이스가 많을때 데이터베이스를 지정하는 명령어\n"
      ],
      "metadata": {
        "id": "xopb8gyJ_DvG"
      }
    },
    {
      "cell_type": "code",
      "source": [
        "# - SELCET 절의 형식\n",
        "\n",
        "# SELECT 열_이름<BR>\n",
        "#       FROM 테이블_이름<BR>\n",
        "#       WHERE 조건식<BR>\n",
        "#       GROUP BY 열_이름<BR>\n",
        "#       HAVING 조건식<BR>\n",
        "#       ORDER BY 열_이름<BR>\n",
        "#       LIMIT 숫자\n"
      ],
      "metadata": {
        "id": "hlIKWUXGLWnc"
      },
      "execution_count": 1,
      "outputs": []
    },
    {
      "cell_type": "markdown",
      "source": [
        "## 03-2. 좀 더 깊게 알아보는 SELECT 문\n",
        "- ORDER BY 절 : 결과를 정렬해서 보여줌, 차례가 바뀜, 기본값은 오름차순(ASC), 내림차순은 DESC 를 적어줘야 함\n",
        "  - ORDER BY 열_이름 DESC; : 내림차순\n",
        "- LIMIT : 출력물의 개수 제한\n",
        "  - LIMIT 개수 : 개수만 큼 해당되는 결과 값 출력\n",
        "  - LIMIT 숫자부터, 개수만큼 : 숫자에 해당하는 순서부터 개수만큼 결과값 출력\n",
        "  - EX) LIMIT 3, 2 : 3번째 행부터 5번 행까지 출력\n",
        "- DISTINCT : 중복되는 자료는 1번만 출력, SET와 비슷\n",
        "<BR><BR>\n",
        "- GROUP BY 절 : 그룹으로 서로 묶어주는 것을 의미함, 집계함수\n",
        "- 열이름에 열끼리 수식을 사용하여 계산가능 \n",
        "- EX) SUM(price*amount) : 가격 곱하기 개수\n",
        "  - SUM(열이름) : 합계를 구함\n",
        "  - AVG(열이름) : 평균을 구함\n",
        "  - MIN(열이름) : 최소값을 구함\n",
        "  - MAX(열이름) : 최대값을 구함\n",
        "  - COUNT(열이름) : 행의 개수를 셈\n",
        "  - COUNT(DISTINCT) : 행의 개수를 셈(중복은 1개만 인정)\n"
      ],
      "metadata": {
        "id": "n-4onLoHKtVL"
      }
    },
    {
      "cell_type": "code",
      "source": [
        ""
      ],
      "metadata": {
        "id": "n0JpZocmxNMZ"
      },
      "execution_count": null,
      "outputs": []
    }
  ]
}