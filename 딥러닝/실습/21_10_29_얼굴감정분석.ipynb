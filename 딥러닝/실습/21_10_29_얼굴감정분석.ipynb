{
  "nbformat": 4,
  "nbformat_minor": 0,
  "metadata": {
    "colab": {
      "name": "21.10.29_얼굴감정분석.ipynb",
      "provenance": [],
      "collapsed_sections": [],
      "machine_shape": "hm"
    },
    "kernelspec": {
      "name": "python3",
      "display_name": "Python 3"
    },
    "language_info": {
      "name": "python"
    },
    "accelerator": "TPU"
  },
  "cells": [
    {
      "cell_type": "code",
      "metadata": {
        "id": "BIWfeg5U25yI"
      },
      "source": [
        "# 라이브러리 불러오기\n",
        "import tensorflow as tf\n",
        "import numpy as np\n",
        "import pandas as pd\n",
        "import matplotlib.pyplot as plt\n",
        "\n",
        "from tensorflow.keras.layers import Dense, Flatten, BatchNormalization\n",
        "from tensorflow.keras.models import Sequential\n",
        "from tensorflow.keras.optimizers import Adam\n",
        "\n",
        "%matplotlib inline"
      ],
      "execution_count": 4,
      "outputs": []
    },
    {
      "cell_type": "code",
      "metadata": {
        "id": "Fyl792yE3Bga"
      },
      "source": [
        "import pandas as pd"
      ],
      "execution_count": 5,
      "outputs": []
    },
    {
      "cell_type": "markdown",
      "metadata": {
        "id": "cMmv3I1X5ek7"
      },
      "source": [
        "참조 : https://jaaamj.tistory.com/141"
      ]
    },
    {
      "cell_type": "code",
      "metadata": {
        "id": "7gFcZncS4y5c"
      },
      "source": [
        "# 캐글에서 json 파일 받기\n",
        "!pip install kaggle\n",
        "from google.colab import files\n",
        "files.upload()\n",
        "# json 파일 업로드"
      ],
      "execution_count": null,
      "outputs": []
    },
    {
      "cell_type": "code",
      "metadata": {
        "colab": {
          "base_uri": "https://localhost:8080/"
        },
        "id": "Yo7As5tK46xL",
        "outputId": "68e9256c-b31d-4ead-e8b3-7f56d8776aeb"
      },
      "source": [
        "# json 파일 업로드 확인\n",
        "ls -1ha kaggle.json"
      ],
      "execution_count": 11,
      "outputs": [
        {
          "output_type": "stream",
          "name": "stdout",
          "text": [
            "kaggle.json\n"
          ]
        }
      ]
    },
    {
      "cell_type": "code",
      "metadata": {
        "colab": {
          "base_uri": "https://localhost:8080/"
        },
        "id": "l-Dln7AP49ke",
        "outputId": "36b99a71-80e4-422e-e042-8e5df0713510"
      },
      "source": [
        "# json 파일 사용을 위한 작업\n",
        "!mkdir -p ~/.kaggle\n",
        "!cp kaggle.json ~/.kaggle/\n",
        "# Permission Warning이 발생하지 않도록 해줍니다.\n",
        "!chmod 600 ~/.kaggle/kaggle.json\n",
        "# 내가 참가한 대회 리스트 확인\n",
        "!kaggle competitions list"
      ],
      "execution_count": 12,
      "outputs": [
        {
          "output_type": "stream",
          "name": "stdout",
          "text": [
            "Warning: Looks like you're using an outdated API Version, please consider updating (server 1.5.12 / client 1.5.4)\n",
            "ref                                            deadline             category            reward  teamCount  userHasEntered  \n",
            "---------------------------------------------  -------------------  ---------------  ---------  ---------  --------------  \n",
            "contradictory-my-dear-watson                   2030-07-01 23:59:00  Getting Started     Prizes         60           False  \n",
            "gan-getting-started                            2030-07-01 23:59:00  Getting Started     Prizes         88           False  \n",
            "store-sales-time-series-forecasting            2030-06-30 23:59:00  Getting Started  Knowledge        397           False  \n",
            "tpu-getting-started                            2030-06-03 23:59:00  Getting Started  Knowledge        162           False  \n",
            "digit-recognizer                               2030-01-01 00:00:00  Getting Started  Knowledge       1451           False  \n",
            "titanic                                        2030-01-01 00:00:00  Getting Started  Knowledge      15268           False  \n",
            "house-prices-advanced-regression-techniques    2030-01-01 00:00:00  Getting Started  Knowledge       4429           False  \n",
            "connectx                                       2030-01-01 00:00:00  Getting Started  Knowledge        280           False  \n",
            "nlp-getting-started                            2030-01-01 00:00:00  Getting Started  Knowledge       1312           False  \n",
            "competitive-data-science-predict-future-sales  2022-12-31 23:59:00  Playground           Kudos      12747           False  \n",
            "petfinder-pawpularity-score                    2022-01-13 23:59:00  Research           $25,000       1431           False  \n",
            "optiver-realized-volatility-prediction         2022-01-10 23:59:00  Featured          $100,000       3852           False  \n",
            "nfl-big-data-bowl-2022                         2022-01-06 23:59:00  Analytics         $100,000          0           False  \n",
            "sartorius-cell-instance-segmentation           2021-12-30 23:59:00  Featured           $75,000        344           False  \n",
            "wikipedia-image-caption                        2021-12-09 11:59:00  Playground            Swag         68           False  \n",
            "lux-ai-2021                                    2021-12-06 23:59:00  Featured           $10,000        891           False  \n",
            "kaggle-survey-2021                             2021-11-28 23:59:00  Analytics          $30,000          0           False  \n",
            "chaii-hindi-and-tamil-question-answering       2021-11-15 23:59:00  Research           $10,000        763           False  \n",
            "ventilator-pressure-prediction                 2021-11-03 23:59:00  Research            $7,500       2498           False  \n",
            "nfl-health-and-safety-helmet-assignment        2021-11-02 23:59:00  Featured          $100,000        796           False  \n"
          ]
        }
      ]
    },
    {
      "cell_type": "code",
      "metadata": {
        "colab": {
          "base_uri": "https://localhost:8080/"
        },
        "id": "UDpbHvBK5L5o",
        "outputId": "fb6204a7-0bbf-4631-e54b-1e0ab0cd28e1"
      },
      "source": [
        "# 원하는 캐글 데이터 api 불러오기 실행\n",
        "!kaggle competitions download -c challenges-in-representation-learning-facial-expression-recognition-challenge"
      ],
      "execution_count": 13,
      "outputs": [
        {
          "output_type": "stream",
          "name": "stdout",
          "text": [
            "Warning: Looks like you're using an outdated API Version, please consider updating (server 1.5.12 / client 1.5.4)\n",
            "Downloading fer2013.tar.gz to /content\n",
            " 88% 81.0M/92.0M [00:00<00:00, 71.4MB/s]\n",
            "100% 92.0M/92.0M [00:00<00:00, 111MB/s] \n",
            "Downloading icml_face_data.csv.zip to /content\n",
            " 98% 95.0M/96.6M [00:00<00:00, 117MB/s]\n",
            "100% 96.6M/96.6M [00:00<00:00, 132MB/s]\n",
            "Downloading example_submission.csv to /content\n",
            "  0% 0.00/7.01k [00:00<?, ?B/s]\n",
            "100% 7.01k/7.01k [00:00<00:00, 7.11MB/s]\n",
            "Downloading test.csv.zip to /content\n",
            " 93% 18.0M/19.3M [00:00<00:00, 79.4MB/s]\n",
            "100% 19.3M/19.3M [00:00<00:00, 94.5MB/s]\n",
            "Downloading train.csv.zip to /content\n",
            " 80% 62.0M/77.3M [00:00<00:00, 59.8MB/s]\n",
            "100% 77.3M/77.3M [00:00<00:00, 99.3MB/s]\n"
          ]
        }
      ]
    },
    {
      "cell_type": "code",
      "metadata": {
        "colab": {
          "base_uri": "https://localhost:8080/"
        },
        "id": "MWWXKdtY5ys3",
        "outputId": "a44f2030-0bbc-40b4-ee5e-08a2bb4d34f7"
      },
      "source": [
        "!ls"
      ],
      "execution_count": 14,
      "outputs": [
        {
          "output_type": "stream",
          "name": "stdout",
          "text": [
            "example_submission.csv\ticml_face_data.csv.zip\tsample_data   train.csv.zip\n",
            "fer2013.tar.gz\t\tkaggle.json\t\ttest.csv.zip\n"
          ]
        }
      ]
    },
    {
      "cell_type": "code",
      "metadata": {
        "colab": {
          "base_uri": "https://localhost:8080/"
        },
        "id": "bmK--XJQ51wG",
        "outputId": "0605e0a4-4246-429a-dbab-6860a0a2b680"
      },
      "source": [
        "!unzip icml_face_data.csv.zip"
      ],
      "execution_count": 16,
      "outputs": [
        {
          "output_type": "stream",
          "name": "stdout",
          "text": [
            "Archive:  icml_face_data.csv.zip\n",
            "  inflating: icml_face_data.csv      \n"
          ]
        }
      ]
    },
    {
      "cell_type": "code",
      "metadata": {
        "colab": {
          "base_uri": "https://localhost:8080/"
        },
        "id": "jY3eVA4_6BfT",
        "outputId": "1444a897-d64a-4765-b847-c0cd7d57f5f5"
      },
      "source": [
        "!unzip test.csv.zip\n",
        "!unzip train.csv.zip"
      ],
      "execution_count": 17,
      "outputs": [
        {
          "output_type": "stream",
          "name": "stdout",
          "text": [
            "Archive:  test.csv.zip\n",
            "  inflating: test.csv                \n",
            "Archive:  train.csv.zip\n",
            "  inflating: train.csv               \n"
          ]
        }
      ]
    },
    {
      "cell_type": "code",
      "metadata": {
        "id": "LxhReOa43PX_"
      },
      "source": [
        "# 데이터 불러오기\n",
        "train = pd.read_csv(\"train.csv\")\n",
        "test = pd.read_csv(\"test.csv\")\n",
        "data = pd.read_csv('icml_face_data.csv')\n",
        "# icml_face_data 파일에 훈련용, 검증용, 테스트용 데이터가 포함됨"
      ],
      "execution_count": 18,
      "outputs": []
    },
    {
      "cell_type": "code",
      "metadata": {
        "colab": {
          "base_uri": "https://localhost:8080/"
        },
        "id": "z4n_XMPv6MIY",
        "outputId": "fe70b18e-e930-4987-a46e-05789fd919e5"
      },
      "source": [
        "train.shape, test.shape, data.shape"
      ],
      "execution_count": 19,
      "outputs": [
        {
          "output_type": "execute_result",
          "data": {
            "text/plain": [
              "((28709, 2), (7178, 1), (35887, 3))"
            ]
          },
          "metadata": {},
          "execution_count": 19
        }
      ]
    },
    {
      "cell_type": "code",
      "metadata": {
        "colab": {
          "base_uri": "https://localhost:8080/",
          "height": 204
        },
        "id": "5CnBTmDW6NGa",
        "outputId": "d2977b6e-c3c0-4941-e5cd-ecc54c4260df"
      },
      "source": [
        "\n",
        "data.head()"
      ],
      "execution_count": 20,
      "outputs": [
        {
          "output_type": "execute_result",
          "data": {
            "text/html": [
              "<div>\n",
              "<style scoped>\n",
              "    .dataframe tbody tr th:only-of-type {\n",
              "        vertical-align: middle;\n",
              "    }\n",
              "\n",
              "    .dataframe tbody tr th {\n",
              "        vertical-align: top;\n",
              "    }\n",
              "\n",
              "    .dataframe thead th {\n",
              "        text-align: right;\n",
              "    }\n",
              "</style>\n",
              "<table border=\"1\" class=\"dataframe\">\n",
              "  <thead>\n",
              "    <tr style=\"text-align: right;\">\n",
              "      <th></th>\n",
              "      <th>emotion</th>\n",
              "      <th>Usage</th>\n",
              "      <th>pixels</th>\n",
              "    </tr>\n",
              "  </thead>\n",
              "  <tbody>\n",
              "    <tr>\n",
              "      <th>0</th>\n",
              "      <td>0</td>\n",
              "      <td>Training</td>\n",
              "      <td>70 80 82 72 58 58 60 63 54 58 60 48 89 115 121...</td>\n",
              "    </tr>\n",
              "    <tr>\n",
              "      <th>1</th>\n",
              "      <td>0</td>\n",
              "      <td>Training</td>\n",
              "      <td>151 150 147 155 148 133 111 140 170 174 182 15...</td>\n",
              "    </tr>\n",
              "    <tr>\n",
              "      <th>2</th>\n",
              "      <td>2</td>\n",
              "      <td>Training</td>\n",
              "      <td>231 212 156 164 174 138 161 173 182 200 106 38...</td>\n",
              "    </tr>\n",
              "    <tr>\n",
              "      <th>3</th>\n",
              "      <td>4</td>\n",
              "      <td>Training</td>\n",
              "      <td>24 32 36 30 32 23 19 20 30 41 21 22 32 34 21 1...</td>\n",
              "    </tr>\n",
              "    <tr>\n",
              "      <th>4</th>\n",
              "      <td>6</td>\n",
              "      <td>Training</td>\n",
              "      <td>4 0 0 0 0 0 0 0 0 0 0 0 3 15 23 28 48 50 58 84...</td>\n",
              "    </tr>\n",
              "  </tbody>\n",
              "</table>\n",
              "</div>"
            ],
            "text/plain": [
              "   emotion     Usage                                             pixels\n",
              "0        0  Training  70 80 82 72 58 58 60 63 54 58 60 48 89 115 121...\n",
              "1        0  Training  151 150 147 155 148 133 111 140 170 174 182 15...\n",
              "2        2  Training  231 212 156 164 174 138 161 173 182 200 106 38...\n",
              "3        4  Training  24 32 36 30 32 23 19 20 30 41 21 22 32 34 21 1...\n",
              "4        6  Training  4 0 0 0 0 0 0 0 0 0 0 0 3 15 23 28 48 50 58 84..."
            ]
          },
          "metadata": {},
          "execution_count": 20
        }
      ]
    },
    {
      "cell_type": "code",
      "metadata": {
        "colab": {
          "base_uri": "https://localhost:8080/"
        },
        "id": "DcbvCCL-6OLY",
        "outputId": "24f03483-75e2-4850-94db-08e00f73bfde"
      },
      "source": [
        "# 데이터 종류\n",
        "data[' Usage'].value_counts()"
      ],
      "execution_count": 21,
      "outputs": [
        {
          "output_type": "execute_result",
          "data": {
            "text/plain": [
              "Training       28709\n",
              "PrivateTest     3589\n",
              "PublicTest      3589\n",
              "Name:  Usage, dtype: int64"
            ]
          },
          "metadata": {},
          "execution_count": 21
        }
      ]
    },
    {
      "cell_type": "code",
      "metadata": {
        "colab": {
          "base_uri": "https://localhost:8080/"
        },
        "id": "Q5n3FQtE6Qlc",
        "outputId": "d620585c-ad28-46ac-c23e-d0803fac9560"
      },
      "source": [
        "# 0: 'Angry', 1: 'Disgust', 2: 'Fear', 3: 'Happy', 4: 'Sad', 5: 'Surprise', 6: 'Neutral'\n",
        "data['emotion'].value_counts().sort_index()"
      ],
      "execution_count": 25,
      "outputs": [
        {
          "output_type": "execute_result",
          "data": {
            "text/plain": [
              "0    4953\n",
              "1     547\n",
              "2    5121\n",
              "3    8989\n",
              "4    6077\n",
              "5    4002\n",
              "6    6198\n",
              "Name: emotion, dtype: int64"
            ]
          },
          "metadata": {},
          "execution_count": 25
        }
      ]
    },
    {
      "cell_type": "code",
      "metadata": {
        "colab": {
          "base_uri": "https://localhost:8080/",
          "height": 283
        },
        "id": "ffNX9Nx36S-7",
        "outputId": "9ffd06df-3661-400b-8a11-ecd741af932c"
      },
      "source": [
        "data['emotion'].value_counts().sort_index().plot(kind='barh', figsize=(8, 4))"
      ],
      "execution_count": 27,
      "outputs": [
        {
          "output_type": "execute_result",
          "data": {
            "text/plain": [
              "<matplotlib.axes._subplots.AxesSubplot at 0x7fe1dfebd690>"
            ]
          },
          "metadata": {},
          "execution_count": 27
        },
        {
          "output_type": "display_data",
          "data": {
            "image/png": "[encoded data removed]",
            "text/plain": [
              "<Figure size 576x288 with 1 Axes>"
            ]
          },
          "metadata": {
            "needs_background": "light"
          }
        }
      ]
    },
    {
      "cell_type": "code",
      "metadata": {
        "colab": {
          "base_uri": "https://localhost:8080/",
          "height": 143
        },
        "id": "AC8QUG4-6lLd",
        "outputId": "efb384d0-28fd-4cd0-9850-d50782d481fd"
      },
      "source": [
        "\n",
        "# 첫 번째 데이터\n",
        "data[' pixels'][0]"
      ],
      "execution_count": 28,
      "outputs": [
        {
          "output_type": "execute_result",
          "data": {
            "application/vnd.google.colaboratory.intrinsic+json": {
              "type": "string"
            },
            "text/plain": [
              "'70 80 82 72 58 58 60 63 54 58 60 48 89 115 121 119 115 110 98 91 84 84 90 99 110 126 143 153 158 171 169 172 169 165 129 110 113 107 95 79 66 62 56 57 61 52 43 41 65 61 58 57 56 69 75 70 65 56 54 105 146 154 151 151 155 155 150 147 147 148 152 158 164 172 177 182 186 189 188 190 188 180 167 116 95 103 97 77 72 62 55 58 54 56 52 44 50 43 54 64 63 71 68 64 52 66 119 156 161 164 163 164 167 168 170 174 175 176 178 179 183 187 190 195 197 198 197 198 195 191 190 145 86 100 90 65 57 60 54 51 41 49 56 47 38 44 63 55 46 52 54 55 83 138 157 158 165 168 172 171 173 176 179 179 180 182 185 187 189 189 192 197 200 199 196 198 200 198 197 177 91 87 96 58 58 59 51 42 37 41 47 45 37 35 36 30 41 47 59 94 141 159 161 161 164 170 171 172 176 178 179 182 183 183 187 189 192 192 194 195 200 200 199 199 200 201 197 193 111 71 108 69 55 61 51 42 43 56 54 44 24 29 31 45 61 72 100 136 150 159 163 162 163 170 172 171 174 177 177 180 187 186 187 189 192 192 194 195 196 197 199 200 201 200 197 201 137 58 98 92 57 62 53 47 41 40 51 43 24 35 52 63 75 104 129 143 149 158 162 164 166 171 173 172 174 178 178 179 187 188 188 191 193 194 195 198 199 199 197 198 197 197 197 201 164 52 78 87 69 58 56 50 54 39 44 42 26 31 49 65 91 119 134 145 147 152 159 163 167 171 170 169 174 178 178 179 187 187 185 187 190 188 187 191 197 201 199 199 200 197 196 197 182 58 62 77 61 60 55 49 59 52 54 44 22 30 47 68 102 123 136 144 148 150 153 157 167 172 173 170 171 177 179 178 186 190 186 189 196 193 191 194 190 190 192 197 201 203 199 194 189 69 48 74 56 60 57 50 59 59 51 41 20 34 47 79 111 132 139 143 145 147 150 151 160 169 172 171 167 171 177 177 174 180 182 181 192 196 189 192 198 195 194 196 198 201 202 195 189 70 39 69 61 61 61 53 59 59 45 40 26 40 61 93 124 135 138 142 144 146 151 152 158 165 168 168 165 161 164 173 172 167 172 167 180 198 198 193 199 195 194 198 200 198 197 195 190 65 35 68 59 59 62 57 60 59 50 44 32 54 90 115 132 137 138 140 144 146 146 156 165 168 174 176 176 175 168 168 169 171 175 171 172 192 194 184 198 205 201 194 195 193 195 192 186 57 38 72 65 57 62 58 57 60 54 49 47 79 116 130 138 141 141 139 141 143 145 157 164 164 166 173 174 176 179 179 176 181 189 188 173 180 175 160 182 189 198 192 189 190 190 188 172 46 44 64 66 59 62 57 56 62 53 50 66 103 133 137 141 143 141 136 132 131 136 127 118 111 107 108 123 131 143 154 158 166 177 181 175 170 159 148 171 161 176 185 192 194 188 190 162 53 49 58 63 61 61 55 56 61 51 50 81 116 139 142 142 146 144 136 128 119 112 97 85 90 91 88 92 90 80 81 84 106 122 132 144 145 144 147 163 147 163 173 181 190 187 191 167 61 48 53 61 61 58 54 56 61 51 53 89 123 140 144 145 146 147 136 122 107 99 95 92 90 87 83 76 67 52 46 52 63 69 83 96 119 132 148 159 136 137 143 138 143 152 156 156 70 48 50 59 61 57 54 54 61 52 56 93 124 135 140 144 148 150 140 125 114 101 80 54 56 54 41 41 33 40 39 35 49 60 63 74 107 129 147 147 116 111 100 77 76 86 108 111 73 49 50 60 62 60 57 55 63 59 56 89 121 134 139 146 151 152 150 141 127 111 96 77 85 70 32 31 37 91 65 50 48 59 73 83 112 136 155 130 60 46 38 40 43 81 116 91 72 52 48 58 62 62 59 53 61 59 52 85 114 134 140 147 154 159 158 153 145 143 150 126 121 125 68 45 89 137 95 70 78 75 95 109 131 153 171 94 23 16 32 82 82 65 113 77 71 54 48 56 62 62 60 53 60 56 52 75 108 133 141 149 158 166 169 167 163 156 155 146 112 119 134 127 142 140 121 117 129 114 120 129 146 174 191 98 46 33 33 109 147 98 109 67 73 55 50 56 64 64 61 58 61 53 54 64 106 129 140 148 159 169 175 176 174 165 159 156 145 120 115 124 127 131 133 141 147 142 141 147 161 182 202 154 114 96 100 158 158 153 123 61 76 57 48 56 64 64 63 62 61 54 55 44 97 131 137 147 158 168 177 181 183 179 170 168 169 165 155 152 151 152 154 162 165 158 153 158 168 187 206 186 147 135 144 145 152 178 115 57 74 58 48 58 64 63 63 59 63 55 53 66 104 130 132 144 153 162 170 180 185 187 181 178 182 180 177 173 171 171 177 176 172 164 161 167 164 185 207 197 173 152 141 141 161 191 104 54 69 60 48 57 65 62 60 57 64 55 50 94 111 124 130 135 150 159 163 172 179 184 184 178 178 177 173 171 174 177 178 176 169 165 161 163 161 180 205 201 183 171 177 178 180 194 101 55 65 60 47 55 65 63 59 58 63 57 52 90 105 117 122 130 143 153 157 163 171 174 182 183 182 178 174 175 175 177 175 172 163 161 159 157 162 178 200 201 188 181 172 177 187 198 98 57 63 61 48 52 61 64 63 60 65 57 51 95 104 113 117 127 136 145 152 156 162 162 165 173 177 182 183 183 180 181 177 165 153 154 152 153 160 174 193 200 188 185 180 182 192 196 101 60 60 56 49 50 60 66 64 62 64 59 53 99 104 111 112 118 132 142 147 155 158 160 159 162 171 176 184 186 183 180 169 154 141 135 145 155 164 180 196 205 188 189 188 189 193 192 98 61 64 55 49 49 60 66 63 64 63 60 57 99 105 108 112 113 125 139 143 150 155 158 164 169 174 176 182 183 182 177 163 141 133 147 151 164 170 185 200 210 194 188 192 186 185 180 88 64 67 60 46 50 59 65 64 64 64 59 56 101 103 108 109 109 118 134 143 143 147 155 159 166 171 174 177 179 178 172 153 129 143 161 159 166 171 186 197 207 203 185 191 183 179 164 73 67 67 66 48 50 57 65 65 63 64 61 57 103 108 114 112 110 115 128 138 144 145 152 156 159 164 168 172 172 169 161 139 125 147 156 161 162 164 180 188 188 197 185 187 181 180 137 65 70 68 70 52 47 53 62 65 63 65 61 58 105 109 112 120 113 112 122 134 141 149 150 153 155 159 164 167 167 162 152 134 115 126 119 106 99 109 141 158 150 155 175 184 176 175 106 63 70 68 68 50 46 50 57 63 63 64 61 59 107 110 110 117 117 114 117 128 137 147 148 150 153 156 161 162 163 156 150 148 105 70 45 26 25 47 73 74 79 128 177 180 173 157 77 66 68 67 68 52 49 51 56 62 62 62 62 60 101 107 108 114 115 114 117 125 134 143 148 149 152 154 158 160 158 155 160 158 132 88 73 73 64 52 66 91 138 160 174 173 171 125 64 67 63 64 68 54 50 49 54 60 60 60 62 60 98 105 105 109 111 114 117 125 131 139 145 148 153 153 156 157 156 161 168 165 153 139 122 115 105 89 103 150 182 161 171 173 162 89 64 64 62 64 69 56 48 49 56 58 60 59 62 60 89 99 108 106 109 111 119 120 125 134 140 146 152 153 153 153 156 159 162 160 150 136 129 133 133 122 133 148 178 168 168 175 132 61 67 66 65 63 69 57 47 50 55 58 59 61 62 60 89 96 105 107 105 107 117 120 123 124 133 141 149 153 151 145 151 145 139 140 138 128 126 124 129 125 136 142 164 172 168 168 87 58 67 63 62 61 69 57 39 44 55 56 59 63 62 62 84 91 92 98 102 103 113 119 121 118 128 138 146 151 147 142 140 128 127 128 129 126 135 140 135 130 143 146 149 166 174 131 62 65 62 59 67 63 68 83 89 65 42 52 60 60 62 63 77 84 84 91 99 101 107 112 117 118 122 134 145 149 144 134 127 127 129 130 134 125 126 132 152 153 151 150 151 165 171 87 59 65 64 61 58 86 122 138 208 207 154 71 52 56 55 56 69 77 83 85 93 91 102 112 116 118 119 127 140 144 142 131 112 95 85 75 62 58 56 59 87 88 83 127 142 165 149 62 65 62 59 77 113 192 156 84 185 196 197 168 81 70 75 69 58 65 73 82 81 79 95 107 114 116 116 123 136 142 136 132 131 102 71 58 49 41 33 41 36 49 60 99 136 168 111 53 63 71 138 186 203 195 146 87 91 72 79 95 103 82 61 74 55 57 68 75 76 77 84 96 106 110 111 121 130 138 136 142 153 159 152 152 154 145 133 136 147 158 156 155 147 158 74 57 60 123 181 174 126 89 72 67 57 43 55 67 76 86 60 45 51 45 52 68 75 73 77 88 96 100 104 113 115 121 134 146 149 146 149 148 155 168 174 179 178 169 169 174 161 131 44 47 82 150 168 136 104 75 66 80 67 58 48 54 68 88 121 102 51 45 38 53 66 65 70 86 92 96 102 103 109 116 130 136 136 133 136 138 137 135 128 130 143 158 165 164 147 87 62 74 123 160 170 100 99 107 79 71 86 75 57 45 49 65 122 130 43 48 40 39 55 61 59 71 82 87 88 93 105 118 123 128 130 124 111 98 94 88 67 55 84 129 147 148 105 48 82 142 161 164 164 76 72 85 100 88 72 90 84 54 48 54 73 100 73 36 44 31 37 53 51 55 67 74 77 87 97 108 118 125 132 122 106 86 80 82 75 73 83 110 129 126 46 22 130 177 196 193 166 72 52 54 73 100 92 75 99 95 65 68 61 63 91 65 42 37 22 28 39 44 57 68 74 83 92 101 119 131 143 141 134 136 140 139 134 136 139 138 136 85 23 114 202 198 199 180 173 98 36 86 130 150 137 99 77 101 99 72 56 43 77 82 79 70 56 28 20 25 36 50 63 73 83 98 111 124 139 156 160 159 169 168 165 163 159 149 114 43 26 133 183 192 177 152 137 130 125 139 173 195 186 137 101 88 101 105 70 46 77 72 84 87 87 81 64 37 20 31 40 46 65 88 108 110 125 149 157 153 162 164 158 159 154 140 78 21 11 61 144 168 173 157 138 150 148 132 159 182 183 136 106 116 95 106 109 82'"
            ]
          },
          "metadata": {},
          "execution_count": 28
        }
      ]
    },
    {
      "cell_type": "code",
      "metadata": {
        "colab": {
          "base_uri": "https://localhost:8080/"
        },
        "id": "RiNx4lsG6q4s",
        "outputId": "33dd2c07-8af0-4369-da00-053e57e744c4"
      },
      "source": [
        "# 첫 번째 데이터 길이\n",
        "len(data[' pixels'][0])"
      ],
      "execution_count": 29,
      "outputs": [
        {
          "output_type": "execute_result",
          "data": {
            "text/plain": [
              "8287"
            ]
          },
          "metadata": {},
          "execution_count": 29
        }
      ]
    },
    {
      "cell_type": "code",
      "metadata": {
        "colab": {
          "base_uri": "https://localhost:8080/"
        },
        "id": "AbP-NT366sP4",
        "outputId": "8e3097fd-e0d4-40ce-812e-dc19163a6b13"
      },
      "source": [
        "# The data consists of 48x48 pixel grayscale images of faces. \n",
        "48*48"
      ],
      "execution_count": 30,
      "outputs": [
        {
          "output_type": "execute_result",
          "data": {
            "text/plain": [
              "2304"
            ]
          },
          "metadata": {},
          "execution_count": 30
        }
      ]
    },
    {
      "cell_type": "code",
      "metadata": {
        "colab": {
          "base_uri": "https://localhost:8080/"
        },
        "id": "uAKS3gGI6tDw",
        "outputId": "d3f79710-b870-4df1-992c-265fca7d6e98"
      },
      "source": [
        "# (np.fromstring 설명코드) 공백으로 구분된 데이터를 넘파이로 변경\n",
        "temp = np.fromstring(data[' pixels'][0], dtype=int, sep=' ')\n",
        "\n",
        "print(len(temp))"
      ],
      "execution_count": 31,
      "outputs": [
        {
          "output_type": "stream",
          "name": "stdout",
          "text": [
            "2304\n"
          ]
        }
      ]
    },
    {
      "cell_type": "code",
      "metadata": {
        "colab": {
          "base_uri": "https://localhost:8080/"
        },
        "id": "VzXc-w_M6xW7",
        "outputId": "7db3f9f2-3920-441a-8d24-9f5832698ad2"
      },
      "source": [
        "type(temp)"
      ],
      "execution_count": 32,
      "outputs": [
        {
          "output_type": "execute_result",
          "data": {
            "text/plain": [
              "numpy.ndarray"
            ]
          },
          "metadata": {},
          "execution_count": 32
        }
      ]
    },
    {
      "cell_type": "code",
      "metadata": {
        "id": "IpFjvgKC6yjX"
      },
      "source": [
        "# 데이터 전처리 함수\n",
        "def preprocessing(data):\n",
        "    image = np.zeros(shape=(len(data), 48, 48)) # 빈 넘파이형태 (48*48)\n",
        "    label = np.array(list(map(int, data['emotion']))) \n",
        "    for i, row in enumerate(data.index):\n",
        "        df = np.fromstring(data[' pixels'][row], dtype=int, sep=' ') # 공백으로 구분된 데이터를 넘파이로 변경\n",
        "        df = np.reshape(df, (48, 48)) \n",
        "        image[i] = df\n",
        "    return image, label"
      ],
      "execution_count": 33,
      "outputs": []
    },
    {
      "cell_type": "code",
      "metadata": {
        "id": "ap5n12gf6zu9"
      },
      "source": [
        "# Train, Validation, Test 데이터 구분\n",
        "x_train, y_train = preprocessing(data[data[' Usage']=='Training'])\n",
        "x_val, y_val = preprocessing(data[data[' Usage']=='PrivateTest'])\n",
        "x_test, y_test = preprocessing(data[data[' Usage']=='PublicTest'])"
      ],
      "execution_count": 34,
      "outputs": []
    },
    {
      "cell_type": "code",
      "metadata": {
        "colab": {
          "base_uri": "https://localhost:8080/"
        },
        "id": "ufNec1eR7K-A",
        "outputId": "fb38431a-012d-4cc9-d040-88abc4b1ca69"
      },
      "source": [
        "x_train.shape, x_val.shape, x_test.shape"
      ],
      "execution_count": 35,
      "outputs": [
        {
          "output_type": "execute_result",
          "data": {
            "text/plain": [
              "((28709, 48, 48), (3589, 48, 48), (3589, 48, 48))"
            ]
          },
          "metadata": {},
          "execution_count": 35
        }
      ]
    },
    {
      "cell_type": "code",
      "metadata": {
        "colab": {
          "base_uri": "https://localhost:8080/",
          "height": 285
        },
        "id": "tbRkvaKL7Mh4",
        "outputId": "52fd4142-b337-4056-e19c-68437cf57ea3"
      },
      "source": [
        "plt.imshow(x_train[0], cmap='gray')\n",
        "print(\"lable:\",y_train[0])"
      ],
      "execution_count": 36,
      "outputs": [
        {
          "output_type": "stream",
          "name": "stdout",
          "text": [
            "lable: 0\n"
          ]
        },
        {
          "output_type": "display_data",
          "data": {
            "image/png": "[encoded data removed]",
            "text/plain": [
              "<Figure size 432x288 with 1 Axes>"
            ]
          },
          "metadata": {
            "needs_background": "light"
          }
        }
      ]
    },
    {
      "cell_type": "code",
      "metadata": {
        "colab": {
          "base_uri": "https://localhost:8080/",
          "height": 285
        },
        "id": "o1iRoTt27Nka",
        "outputId": "693a12d2-b8b2-4375-e40a-d455f034eca6"
      },
      "source": [
        "plt.imshow(x_train[100], cmap='gray')\n",
        "print(\"lable:\",y_train[100])"
      ],
      "execution_count": 37,
      "outputs": [
        {
          "output_type": "stream",
          "name": "stdout",
          "text": [
            "lable: 3\n"
          ]
        },
        {
          "output_type": "display_data",
          "data": {
            "image/png": "[encoded data removed]",
            "text/plain": [
              "<Figure size 432x288 with 1 Axes>"
            ]
          },
          "metadata": {
            "needs_background": "light"
          }
        }
      ]
    },
    {
      "cell_type": "markdown",
      "metadata": {
        "id": "8UvRkjcV7Pez"
      },
      "source": [
        "# 베이스라인 모델"
      ]
    },
    {
      "cell_type": "code",
      "metadata": {
        "colab": {
          "base_uri": "https://localhost:8080/"
        },
        "id": "6GKKfFFm7O5c",
        "outputId": "d86f7104-91e7-4ce7-8c66-d03e35dfbf5d"
      },
      "source": [
        "# 모델1\n",
        "model = Sequential([\n",
        "                    Flatten(input_shape=(48,48)),\n",
        "                    Dense(128, activation='relu'),\n",
        "                    Dense(7, activation='softmax')\n",
        "])\n",
        "# 모델 컴파일\n",
        "model.compile(optimizer='adam',\n",
        "              loss='sparse_categorical_crossentropy',\n",
        "              metrics=['accuracy'])\n",
        "\n",
        "# 훈련(학습)\n",
        "history = model.fit(x_train, y_train,  validation_data=(x_val, y_val), epochs=5, batch_size=64)"
      ],
      "execution_count": 38,
      "outputs": [
        {
          "output_type": "stream",
          "name": "stdout",
          "text": [
            "Epoch 1/5\n",
            "449/449 [==============================] - 2s 3ms/step - loss: 24.8770 - accuracy: 0.2290 - val_loss: 1.8883 - val_accuracy: 0.2449\n",
            "Epoch 2/5\n",
            "449/449 [==============================] - 1s 3ms/step - loss: 1.8642 - accuracy: 0.2513 - val_loss: 1.8511 - val_accuracy: 0.2449\n",
            "Epoch 3/5\n",
            "449/449 [==============================] - 1s 3ms/step - loss: 1.8370 - accuracy: 0.2515 - val_loss: 1.8348 - val_accuracy: 0.2449\n",
            "Epoch 4/5\n",
            "449/449 [==============================] - 1s 3ms/step - loss: 1.8258 - accuracy: 0.2515 - val_loss: 1.8269 - val_accuracy: 0.2449\n",
            "Epoch 5/5\n",
            "449/449 [==============================] - 1s 3ms/step - loss: 1.8189 - accuracy: 0.2515 - val_loss: 1.8222 - val_accuracy: 0.2449\n"
          ]
        }
      ]
    },
    {
      "cell_type": "code",
      "metadata": {
        "colab": {
          "base_uri": "https://localhost:8080/"
        },
        "id": "iQU9T-Ki7RqU",
        "outputId": "46d3d9b8-6b7b-4302-ea61-2dff40e11998"
      },
      "source": [
        "# 모델2\n",
        "model = Sequential([\n",
        "                    Flatten(input_shape=(48,48)),\n",
        "                    BatchNormalization(),\n",
        "                    Dense(128, activation='relu'),\n",
        "                    BatchNormalization(),\n",
        "                    Dense(7, activation='softmax')\n",
        "])\n",
        "# 모델 컴파일\n",
        "model.compile(optimizer='adam',\n",
        "              loss='sparse_categorical_crossentropy',\n",
        "              metrics=['accuracy'])\n",
        "\n",
        "# 훈련(학습)\n",
        "history = model.fit(x_train, y_train,  validation_data=(x_val, y_val), epochs=5, batch_size=64)"
      ],
      "execution_count": 39,
      "outputs": [
        {
          "output_type": "stream",
          "name": "stdout",
          "text": [
            "Epoch 1/5\n",
            "449/449 [==============================] - 3s 6ms/step - loss: 1.7142 - accuracy: 0.3434 - val_loss: 1.6127 - val_accuracy: 0.3711\n",
            "Epoch 2/5\n",
            "449/449 [==============================] - 2s 5ms/step - loss: 1.5714 - accuracy: 0.3924 - val_loss: 1.5727 - val_accuracy: 0.3879\n",
            "Epoch 3/5\n",
            "449/449 [==============================] - 2s 5ms/step - loss: 1.5149 - accuracy: 0.4148 - val_loss: 1.5625 - val_accuracy: 0.3920\n",
            "Epoch 4/5\n",
            "449/449 [==============================] - 2s 5ms/step - loss: 1.4751 - accuracy: 0.4309 - val_loss: 1.5571 - val_accuracy: 0.3918\n",
            "Epoch 5/5\n",
            "449/449 [==============================] - 2s 5ms/step - loss: 1.4417 - accuracy: 0.4470 - val_loss: 1.5547 - val_accuracy: 0.3909\n"
          ]
        }
      ]
    },
    {
      "cell_type": "code",
      "metadata": {
        "colab": {
          "base_uri": "https://localhost:8080/"
        },
        "id": "3f3IEuP07V3q",
        "outputId": "a0f38211-b64b-4214-dbb8-21649f972b1c"
      },
      "source": [
        "loss, acc = model.evaluate(x_test, y_test)\n",
        "print('test정확도:', acc)"
      ],
      "execution_count": 40,
      "outputs": [
        {
          "output_type": "stream",
          "name": "stdout",
          "text": [
            "113/113 [==============================] - 0s 1ms/step - loss: 1.5650 - accuracy: 0.4046\n",
            "test정확도: 0.40456950664520264\n"
          ]
        }
      ]
    },
    {
      "cell_type": "code",
      "metadata": {
        "colab": {
          "base_uri": "https://localhost:8080/",
          "height": 297
        },
        "id": "E_8-On5E7ZNA",
        "outputId": "11a849ab-2b0c-4740-882b-3f95bbc66ae6"
      },
      "source": [
        "plt.plot(history.history['accuracy'])\n",
        "plt.plot(history.history['val_accuracy'])\n",
        "plt.xlabel('epoch')\n",
        "plt.ylabel('accuracy')\n",
        "plt.legend(['training', 'validation'])"
      ],
      "execution_count": 41,
      "outputs": [
        {
          "output_type": "execute_result",
          "data": {
            "text/plain": [
              "<matplotlib.legend.Legend at 0x7fe006df7ad0>"
            ]
          },
          "metadata": {},
          "execution_count": 41
        },
        {
          "output_type": "display_data",
          "data": {
            "image/png": "[encoded data removed]",
            "text/plain": [
              "<Figure size 432x288 with 1 Axes>"
            ]
          },
          "metadata": {
            "needs_background": "light"
          }
        }
      ]
    },
    {
      "cell_type": "code",
      "metadata": {
        "colab": {
          "base_uri": "https://localhost:8080/",
          "height": 297
        },
        "id": "Yc7hlbjE7bNG",
        "outputId": "c1eeb774-70b6-4f30-f7c0-f084a07e4eea"
      },
      "source": [
        "plt.plot(history.history['loss'])\n",
        "plt.plot(history.history['val_loss'])\n",
        "plt.xlabel('epoch')\n",
        "plt.ylabel('loss')\n",
        "plt.legend(['training', 'validation'])"
      ],
      "execution_count": 42,
      "outputs": [
        {
          "output_type": "execute_result",
          "data": {
            "text/plain": [
              "<matplotlib.legend.Legend at 0x7fe006e67590>"
            ]
          },
          "metadata": {},
          "execution_count": 42
        },
        {
          "output_type": "display_data",
          "data": {
            "image/png": "[encoded data removed]",
            "text/plain": [
              "<Figure size 432x288 with 1 Axes>"
            ]
          },
          "metadata": {
            "needs_background": "light"
          }
        }
      ]
    },
    {
      "cell_type": "markdown",
      "metadata": {
        "id": "iBL22nIT7daP"
      },
      "source": [
        "# CNN 적용"
      ]
    },
    {
      "cell_type": "code",
      "metadata": {
        "id": "_Q71h_sx7cw-"
      },
      "source": [
        "\n",
        "from tensorflow.keras.layers import Conv2D, MaxPooling2D\n",
        "from tensorflow.keras.callbacks import EarlyStopping"
      ],
      "execution_count": 43,
      "outputs": []
    },
    {
      "cell_type": "code",
      "metadata": {
        "colab": {
          "base_uri": "https://localhost:8080/"
        },
        "id": "b5hCyUev7fgo",
        "outputId": "aeb41846-1c03-464c-b7fd-9a4e0120a168"
      },
      "source": [
        "# 데이터 전처리(shape 변경)\n",
        "print(x_train.shape, x_val.shape, x_test.shape)\n",
        "x_train = x_train.reshape((x_train.shape[0], 48, 48, 1))\n",
        "x_val = x_val.reshape((x_val.shape[0], 48, 48, 1))\n",
        "x_test = x_test.reshape((x_test.shape[0], 48, 48, 1))\n",
        "print(x_train.shape, x_val.shape, x_test.shape)"
      ],
      "execution_count": 44,
      "outputs": [
        {
          "output_type": "stream",
          "name": "stdout",
          "text": [
            "(28709, 48, 48) (3589, 48, 48) (3589, 48, 48)\n",
            "(28709, 48, 48, 1) (3589, 48, 48, 1) (3589, 48, 48, 1)\n"
          ]
        }
      ]
    },
    {
      "cell_type": "code",
      "metadata": {
        "id": "5mTFRwsN7giq"
      },
      "source": [
        "x_train = x_train.astype('float32')/x_train.max()\n",
        "x_val = x_val.astype('float32')/x_val.max()\n",
        "x_test = x_test.astype('float32')/x_test.max()"
      ],
      "execution_count": 45,
      "outputs": []
    },
    {
      "cell_type": "code",
      "metadata": {
        "colab": {
          "base_uri": "https://localhost:8080/"
        },
        "id": "XTGQtdRq7iAY",
        "outputId": "3ee34c43-f2d8-4aff-e216-283587ca79a3"
      },
      "source": [
        "# 모델3 CNN 적용\n",
        "model = Sequential([\n",
        "                    Conv2D(64, (3, 3), activation='relu', input_shape=(48, 48, 1)),\n",
        "                    MaxPooling2D((2, 2)),\n",
        "                    Conv2D(64, (3, 3), activation='relu'),\n",
        "                    MaxPooling2D((2, 2)),\n",
        "                    Flatten(),\n",
        "                    Dense(128, activation='relu'),\n",
        "                    Dense(7, activation='softmax')\n",
        "])\n",
        "# 모델 컴파일\n",
        "model.compile(optimizer='adam',\n",
        "              loss='sparse_categorical_crossentropy',\n",
        "              metrics=['accuracy'])\n",
        "\n",
        "early_stopping = EarlyStopping(monitor='val_accuracy', patience=3) \n",
        "\n",
        "# 훈련(학습)\n",
        "history = model.fit(x_train, y_train,  validation_data=(x_val, y_val), epochs=30, batch_size=64, callbacks=[early_stopping])"
      ],
      "execution_count": 46,
      "outputs": [
        {
          "output_type": "stream",
          "name": "stdout",
          "text": [
            "Epoch 1/30\n",
            "449/449 [==============================] - 18s 39ms/step - loss: 1.6185 - accuracy: 0.3695 - val_loss: 1.4391 - val_accuracy: 0.4441\n",
            "Epoch 2/30\n",
            "449/449 [==============================] - 19s 43ms/step - loss: 1.3787 - accuracy: 0.4755 - val_loss: 1.3319 - val_accuracy: 0.4823\n",
            "Epoch 3/30\n",
            "449/449 [==============================] - 20s 44ms/step - loss: 1.2688 - accuracy: 0.5200 - val_loss: 1.2820 - val_accuracy: 0.5015\n",
            "Epoch 4/30\n",
            "449/449 [==============================] - 21s 46ms/step - loss: 1.1855 - accuracy: 0.5552 - val_loss: 1.2440 - val_accuracy: 0.5199\n",
            "Epoch 5/30\n",
            "449/449 [==============================] - 21s 47ms/step - loss: 1.1008 - accuracy: 0.5889 - val_loss: 1.2556 - val_accuracy: 0.5177\n",
            "Epoch 6/30\n",
            "449/449 [==============================] - 21s 48ms/step - loss: 1.0213 - accuracy: 0.6211 - val_loss: 1.2158 - val_accuracy: 0.5492\n",
            "Epoch 7/30\n",
            "449/449 [==============================] - 20s 45ms/step - loss: 0.9377 - accuracy: 0.6552 - val_loss: 1.2470 - val_accuracy: 0.5403\n",
            "Epoch 8/30\n",
            "449/449 [==============================] - 19s 42ms/step - loss: 0.8505 - accuracy: 0.6909 - val_loss: 1.2800 - val_accuracy: 0.5380\n",
            "Epoch 9/30\n",
            "449/449 [==============================] - 19s 43ms/step - loss: 0.7669 - accuracy: 0.7217 - val_loss: 1.3385 - val_accuracy: 0.5366\n"
          ]
        }
      ]
    },
    {
      "cell_type": "code",
      "metadata": {
        "colab": {
          "base_uri": "https://localhost:8080/",
          "height": 297
        },
        "id": "uNfInId27nXO",
        "outputId": "06492872-938c-458d-a3e1-0b01a345e34d"
      },
      "source": [
        "plt.plot(history.history['accuracy'])\n",
        "plt.plot(history.history['val_accuracy'])\n",
        "plt.xlabel('epoch')\n",
        "plt.ylabel('accuracy')\n",
        "plt.legend(['training', 'validation'])"
      ],
      "execution_count": 47,
      "outputs": [
        {
          "output_type": "execute_result",
          "data": {
            "text/plain": [
              "<matplotlib.legend.Legend at 0x7fe006dc3d50>"
            ]
          },
          "metadata": {},
          "execution_count": 47
        },
        {
          "output_type": "display_data",
          "data": {
            "image/png": "[encoded data removed]",
            "text/plain": [
              "<Figure size 432x288 with 1 Axes>"
            ]
          },
          "metadata": {
            "needs_background": "light"
          }
        }
      ]
    },
    {
      "cell_type": "code",
      "metadata": {
        "colab": {
          "base_uri": "https://localhost:8080/",
          "height": 297
        },
        "id": "Bq022yb57ti8",
        "outputId": "332fa5fa-e6d2-4d59-e33d-fa0dbfdcc2cc"
      },
      "source": [
        "plt.plot(history.history['loss'])\n",
        "plt.plot(history.history['val_loss'])\n",
        "plt.xlabel('epoch')\n",
        "plt.ylabel('loss')\n",
        "plt.legend(['training', 'validation'])"
      ],
      "execution_count": 48,
      "outputs": [
        {
          "output_type": "execute_result",
          "data": {
            "text/plain": [
              "<matplotlib.legend.Legend at 0x7fe006da1fd0>"
            ]
          },
          "metadata": {},
          "execution_count": 48
        },
        {
          "output_type": "display_data",
          "data": {
            "image/png": "[encoded data removed]",
            "text/plain": [
              "<Figure size 432x288 with 1 Axes>"
            ]
          },
          "metadata": {
            "needs_background": "light"
          }
        }
      ]
    },
    {
      "cell_type": "code",
      "metadata": {
        "colab": {
          "base_uri": "https://localhost:8080/"
        },
        "id": "wbOCJgVB7u0l",
        "outputId": "c8e60f3d-c735-4118-8f77-6180da252c89"
      },
      "source": [
        "loss, acc = model.evaluate(x_test, y_test)\n",
        "print('test정확도:', acc)"
      ],
      "execution_count": 49,
      "outputs": [
        {
          "output_type": "stream",
          "name": "stdout",
          "text": [
            "113/113 [==============================] - 1s 8ms/step - loss: 1.3727 - accuracy: 0.5311\n",
            "test정확도: 0.5310671329498291\n"
          ]
        }
      ]
    }
  ]
}